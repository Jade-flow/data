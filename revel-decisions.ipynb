{
  "nbformat": 4,
  "nbformat_minor": 0,
  "metadata": {
    "colab": {
      "provenance": [],
      "authorship_tag": "ABX9TyMILPS92BuuxnfN5joAG5BD",
      "include_colab_link": true
    },
    "kernelspec": {
      "name": "python3",
      "display_name": "Python 3"
    },
    "language_info": {
      "name": "python"
    }
  },
  "cells": [
    {
      "cell_type": "markdown",
      "metadata": {
        "id": "view-in-github",
        "colab_type": "text"
      },
      "source": [
        "<a href=\"https://colab.research.google.com/github/remjw/data/blob/master/revel-decisions.ipynb\" target=\"_parent\"><img src=\"https://colab.research.google.com/assets/colab-badge.svg\" alt=\"Open In Colab\"/></a>"
      ]
    },
    {
      "cell_type": "markdown",
      "source": [
        "### Text Highlight Example\n",
        "\n",
        "Kathryn teaches a science class and her students are required to take three tests. She wants to write a program that her students can use to calculate their average test score. She also wants the program to congratulate the student enthusiastically if the average is greater than 95. Here is the algorithm in pseudocode:\n",
        "\n",
        "\n",
        "1.   Get the first test score\n",
        "1. Get the second test score\n",
        "1. Get the third test score\n",
        "1. Calculate the average\n",
        "1. Display the average\n",
        "1. If the average is greater than 95: Congratulate the user"
      ],
      "metadata": {
        "id": "C1Qab7NIrC_N"
      }
    },
    {
      "cell_type": "code",
      "execution_count": 5,
      "metadata": {
        "id": "hh6JXFnSqoYi",
        "outputId": "a0c399d8-9811-4f09-e021-91f0b2217a81",
        "colab": {
          "base_uri": "https://localhost:8080/"
        }
      },
      "outputs": [
        {
          "output_type": "execute_result",
          "data": {
            "text/plain": [
              "False"
            ]
          },
          "metadata": {},
          "execution_count": 5
        }
      ],
      "source": [
        "# walrus operator\n"
      ]
    },
    {
      "cell_type": "markdown",
      "source": [
        "### Auto-grading\n",
        "\n",
        "The colors red, blue, and yellow are known as the primary colors because they cannot be made by mixing\n",
        "other colors. When you mix two primary colors, you get a secondary color:\n",
        "\n",
        "1. When you mix red and blue, you get purple.\n",
        "1. When you mix red and yellow, you get orange.\n",
        "1. When you mix blue and yellow, you get green.\n",
        "\n",
        "Write a program that \n",
        "\n",
        "- prompts the user to enter the names of two primary colors, one at a time. \n",
        "- If the user enters anything other than \"red,\" \"blue,\" or \"yellow,\" the program should print \"You didn't input two\n",
        "primary colors.\" \n",
        "- Otherwise, it should print a message in the following format: \"When you mix red and blue,\n",
        "you get purple.\" (Assuming the user entered \"red\" and \"blue”.)\n",
        "\n",
        "Look carefully at the following sample runs of the program. In particular, notice the wording of the messages and the placement of spaces, colons, and punctuation. Your program's output must match this.\n",
        "\n"
      ],
      "metadata": {
        "id": "p7csTJdizEjG"
      }
    }
  ]
}