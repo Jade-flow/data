{
  "nbformat": 4,
  "nbformat_minor": 0,
  "metadata": {
    "colab": {
      "provenance": [],
      "authorship_tag": "ABX9TyN1bxRsoPp8YBeZXGDcWjr9",
      "include_colab_link": true
    },
    "kernelspec": {
      "name": "python3",
      "display_name": "Python 3"
    },
    "language_info": {
      "name": "python"
    }
  },
  "cells": [
    {
      "cell_type": "markdown",
      "metadata": {
        "id": "view-in-github",
        "colab_type": "text"
      },
      "source": [
        "<a href=\"https://colab.research.google.com/github/remjw/data/blob/master/morse_encoderByList_module_template.ipynb\" target=\"_parent\"><img src=\"https://colab.research.google.com/assets/colab-badge.svg\" alt=\"Open In Colab\"/></a>"
      ]
    },
    {
      "cell_type": "markdown",
      "source": [
        "[PYP 121 Morse Encoder](https://cisjw.sitehost.iu.edu/pyp/prog_hw_py2/morse-code-string.html)\n"
      ],
      "metadata": {
        "id": "FTL9eyLfr7eJ"
      }
    },
    {
      "cell_type": "code",
      "execution_count": null,
      "metadata": {
        "id": "HXsUAX2ucdez"
      },
      "outputs": [],
      "source": [
        "!wget https://raw.githubusercontent.com/remjw/data/master/py_programming_data/morse_code.txt"
      ]
    },
    {
      "cell_type": "code",
      "source": [
        "def read_code(file='morse_code.txt', sep='\\t'):\n",
        "  Lookup = list()\n",
        "  with open(file, 'r') as f:\n",
        "    for line in f:\n",
        "      t = tuple(line.strip().split(sep))\n",
        "      Lookup.append(t)\n",
        "  return Lookup\n",
        "\n",
        "# test\n",
        "print(read_code())"
      ],
      "metadata": {
        "id": "aECg9xrlcxl-",
        "colab": {
          "base_uri": "https://localhost:8080/"
        },
        "outputId": "c4fbb325-e908-4968-895e-0bfd69c45899"
      },
      "execution_count": null,
      "outputs": [
        {
          "output_type": "stream",
          "name": "stdout",
          "text": [
            "[('A', '.-'), ('B', '-...'), ('C', '-.-.'), ('D', '-..'), ('E', '.'), ('F', '..-.'), ('G', '--.'), ('H', '....'), ('I', '..'), ('J', '.---'), ('K', '-.-'), ('L', '.-..'), ('M', '--'), ('N', '-.'), ('O', '---'), ('P', '.--.'), ('Q', '--.-'), ('R', '.-.'), ('S', '...'), ('T', '-'), ('U', '..-'), ('V', '...-'), ('W', '.--'), ('X', '-..-'), ('Y', '-.--'), ('Z', '--..'), ('0', '-----'), ('1', '.----'), ('2', '..---'), ('3', '...--'), ('4', '....-'), ('5', '.....'), ('6', '-....'), ('7', '--...'), ('8', '---..'), ('9', '----.'), ('.', '.-.-.-'), (',', '--..--'), ('?', '..--..'), ('-', '-....-'), ('/', '-..-.'), (':', '---...'), (\"'\", '.----.'), ('-', '-....-'), (')', '-.--.-'), (';', '-.-.-'), ('(', '-.--.'), ('=', '-...-'), ('@', '.--.-.')]\n"
          ]
        }
      ]
    },
    {
      "cell_type": "code",
      "source": [
        "def migrate(table):\n",
        "  first = [ pair[0] for pair in table ]\n",
        "  second = [ pair[1] for pair in table ]\n",
        "  return (first, second)\n",
        "\n",
        "# test\n",
        "[ print(x) for x in migrate(read_code()) ]"
      ],
      "metadata": {
        "id": "aVtIKKBrdAwV",
        "colab": {
          "base_uri": "https://localhost:8080/"
        },
        "outputId": "3c0e4c19-4323-4d94-f2ec-6cc8dccec142"
      },
      "execution_count": null,
      "outputs": [
        {
          "output_type": "stream",
          "name": "stdout",
          "text": [
            "['A', 'B', 'C', 'D', 'E', 'F', 'G', 'H', 'I', 'J', 'K', 'L', 'M', 'N', 'O', 'P', 'Q', 'R', 'S', 'T', 'U', 'V', 'W', 'X', 'Y', 'Z', '0', '1', '2', '3', '4', '5', '6', '7', '8', '9', '.', ',', '?', '-', '/', ':', \"'\", '-', ')', ';', '(', '=', '@']\n",
            "['.-', '-...', '-.-.', '-..', '.', '..-.', '--.', '....', '..', '.---', '-.-', '.-..', '--', '-.', '---', '.--.', '--.-', '.-.', '...', '-', '..-', '...-', '.--', '-..-', '-.--', '--..', '-----', '.----', '..---', '...--', '....-', '.....', '-....', '--...', '---..', '----.', '.-.-.-', '--..--', '..--..', '-....-', '-..-.', '---...', '.----.', '-....-', '-.--.-', '-.-.-', '-.--.', '-...-', '.--.-.']\n"
          ]
        },
        {
          "output_type": "execute_result",
          "data": {
            "text/plain": [
              "[None, None]"
            ]
          },
          "metadata": {},
          "execution_count": 14
        }
      ]
    },
    {
      "cell_type": "code",
      "source": [
        "def encode_01(text, Lookup):\n",
        "  cipher = NotImplemented\n",
        "  ...\n",
        "  return cipher\n",
        "\n",
        "# test\n",
        "print(encode_01(\"Morse Code\", read_code()))\n",
        "print(encode_01(\"$Morse$Code$\", read_code()))"
      ],
      "metadata": {
        "id": "pqrR4CxVdBDt"
      },
      "execution_count": null,
      "outputs": []
    },
    {
      "cell_type": "code",
      "source": [
        "def encode_02(text, keys, codes):\n",
        "  cipher = NotImplemented\n",
        "  ...\n",
        "  return cipher"
      ],
      "metadata": {
        "id": "9Ljp5-ZDdBOH"
      },
      "execution_count": null,
      "outputs": []
    },
    {
      "cell_type": "code",
      "source": [
        "def tester():\n",
        "  # load Morse code from morse_code.txt\n",
        "  lookup = read_code()\n",
        "  # convert to two lists\n",
        "  keys, codes = migrate(lookup)\n",
        "  # test\n",
        "  data = [\"Morse code translator\", \"$Morse/code/translator$\"]\n",
        "  for d in data:\n",
        "    print(d)\n",
        "    print(encode_01(d, lookup))\n",
        "    print(encode_02(d, keys, codes))\n",
        "\n",
        "if __name__ == '__main__':\n",
        "  tester()"
      ],
      "metadata": {
        "id": "zeva9Agmc-8C"
      },
      "execution_count": null,
      "outputs": []
    }
  ]
}