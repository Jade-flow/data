{
  "nbformat": 4,
  "nbformat_minor": 0,
  "metadata": {
    "colab": {
      "provenance": [],
      "name": "ch7_programming_Colab_notebook.ipynb",
      "include_colab_link": true
    },
    "kernelspec": {
      "name": "python3",
      "display_name": "Python 3"
    },
    "language_info": {
      "name": "python"
    }
  },
  "cells": [
    {
      "cell_type": "markdown",
      "metadata": {
        "id": "view-in-github",
        "colab_type": "text"
      },
      "source": [
        "<a href=\"https://colab.research.google.com/github/remjw/data/blob/master/ch7_programming_Colab_notebook.ipynb\" target=\"_parent\"><img src=\"https://colab.research.google.com/assets/colab-badge.svg\" alt=\"Open In Colab\"/></a>"
      ]
    },
    {
      "cell_type": "markdown",
      "source": [
        "## Chapter 7 Programming Homework"
      ],
      "metadata": {
        "id": "xwJC3oQaNM9B"
      }
    },
    {
      "cell_type": "markdown",
      "source": [
        "### First, execute Cell 1 to load dependencies, download data and create user-defined functions"
      ],
      "metadata": {
        "id": "ty0Ru0a6NV5p"
      }
    },
    {
      "cell_type": "code",
      "source": [
        "# cell 1\n",
        "import csv\n",
        "import pandas as pd\n",
        "from urllib.request import urlopen\n",
        "\n",
        "def download_to_file(url, to_file):\n",
        "    '''download file by url,save file'''\n",
        "    # Download from URL\n",
        "    with urlopen(url) as f:\n",
        "        content = f.read().decode()\n",
        "    # Save to file\n",
        "    with open(to_file, 'w') as download:\n",
        "        download.write(content)\n",
        "    return f'You can find download in {to_file}.'\n",
        "\n",
        "def tupleList_to_df(data, cols):\n",
        "    '''convert tuple list to pandas.dataframe\n",
        "    '''\n",
        "    df = pd.DataFrame(data, columns = cols)\n",
        "    return df\n",
        "\n",
        "def analyze_pandas_api(df):\n",
        "    # use pandas api to answer the questions\n",
        "    report = f'Using Pandas.DateFrame API'\n",
        "\n",
        "    #summary_report = df.describe()\n",
        "    #any_null = df.isnull().any()\n",
        "\n",
        "    avg_num_comments = df[\"comms_num\"].mean()\n",
        "    avg_score = df[\"score\"].mean()\n",
        "\n",
        "    # highest score\n",
        "    max_score = df[\"score\"].max()\n",
        "    top_post_by_score = df[df.score==max_score]\n",
        "    top_post_title_by_score = top_post_by_score['title'].values[0]\n",
        "    \n",
        "    # lowest score\n",
        "    min_score = df[\"score\"].min()\n",
        "    last_post_by_score = df[df.score==min_score]\n",
        "    last_post_title_by_score = last_post_by_score['title'].values[0]\n",
        "\n",
        "    # most commented\n",
        "    max_comms = df[\"comms_num\"].max()\n",
        "    most_commented_post = df[df.comms_num==max_comms]\n",
        "    most_commented_post_title = most_commented_post['title'].values[0]\n",
        "\n",
        "    #report += f'\\nSummary (numerical columns):\\n{summary_report}'\n",
        "    #report += f'\\nAny missing values:\\n{df.isnull().any()}'\n",
        "    # Specify comma separator,a minimum field width 20 characters long, and 3 decimal places\n",
        "    report += f'\\n\\nAverage number of comments: {df[\"comms_num\"].mean():15,.3f}'\n",
        "    report += f'\\nAverage score of post: {df[\"score\"].mean():15,.3f}'\n",
        "    report += f'\\nTop Post title (score {max_score:.3f}): {top_post_title_by_score}'\n",
        "    report += f'\\nLast Post title (score {min_score:.3f}): {last_post_title_by_score}'\n",
        "    report += f'\\nMost Commented title ({max_comms} comments): {most_commented_post_title}' \n",
        "    return report\n",
        "\n"
      ],
      "metadata": {
        "id": "TCIgbRDg7wt_"
      },
      "execution_count": 3,
      "outputs": []
    },
    {
      "cell_type": "markdown",
      "source": [
        "### Then, execute cell 2 to see the result your submission should print."
      ],
      "metadata": {
        "id": "zM3bLyLgNeqY"
      }
    },
    {
      "cell_type": "code",
      "source": [
        "# Use Pandas API to display the expected result\n",
        "\n",
        "def analysis_sample():\n",
        "    # download data, then save to csv file\n",
        "    url = \"https://raw.githubusercontent.com/remjw/data/master/py_programming_data/reddit_vm.csv\"\n",
        "    print(download_to_file(url, \"reddit_vm.csv\"))\n",
        "\n",
        "    # read csv into a tuple list\n",
        "    with open(\"reddit_vm.csv\", \"r\", encoding='UTF-8', errors=\"ignore\") as f:\n",
        "        # read data into a list of tuples\n",
        "        entries = [\n",
        "            (e['id'], int(e['score']), int(e['comms_num']), e['title']) \n",
        "            for e in csv.DictReader(f)\n",
        "        ] \n",
        "    # print(entries)\n",
        "\n",
        "    # write tuple list to dataframe\n",
        "    cols = ['id', 'score', 'comms_num', 'title']\n",
        "    df = tupleList_to_df(entries, cols)\n",
        "\n",
        "    # write dataframe to csv file\n",
        "    with open('entries.csv', \"w\", encoding=\"utf-8\" ) as f:\n",
        "        df.to_csv(f, index=False, line_terminator='\\n')\n",
        "    \n",
        "    # with pandas api\n",
        "    print(analyze_pandas_api(df))\n",
        "\n",
        "# run analysis\n",
        "analysis_sample()"
      ],
      "metadata": {
        "colab": {
          "base_uri": "https://localhost:8080/"
        },
        "id": "zEptIApPNJZP",
        "outputId": "b9064b52-7468-49e0-910b-f7d230e16d92"
      },
      "execution_count": 4,
      "outputs": [
        {
          "output_type": "stream",
          "name": "stdout",
          "text": [
            "You can find download in reddit_vm.csv.\n",
            "Using Pandas.DateFrame API\n",
            "\n",
            "Average number of comments:           1.895\n",
            "Average score of post:           3.743\n",
            "Top Post title (score 1189.000): I would rage if this was handed to me...\n",
            "Last Post title (score -12.000): Comment\n",
            "Most Commented title (596 comments): I would rage if this was handed to me...\n"
          ]
        }
      ]
    },
    {
      "cell_type": "markdown",
      "source": [
        "### You do work in this cell.\n",
        "\n",
        "Complete `analyze_base_python(entries)`\n",
        "\n",
        "- Only use Python Base in the function `analyze_base_python` to perform the same analysis and display the same analysis result.\n",
        "\n",
        "The cell should display the same result as Cell 2."
      ],
      "metadata": {
        "id": "V07onf7qNv4M"
      }
    },
    {
      "cell_type": "code",
      "source": [
        "def analyze_base_python(entries): \n",
        "    '''to-be-completed, only use Python base library\n",
        "    analyze entries to answer the questions'''\n",
        "\n",
        "    print(f'first entry: {entries[0]}')\n",
        "    \n",
        "    report = f'Using Python Base library:'\n",
        "\n",
        "    report += '\\nPlease complete this function.'\n",
        "    return report\n",
        "\n",
        "\n",
        "def main():\n",
        "    # download data, then save to csv file\n",
        "    url = \"https://raw.githubusercontent.com/remjw/data/master/py_programming_data/reddit_vm.csv\"\n",
        "    print(download_to_file(url, \"reddit_vm.csv\"))\n",
        "\n",
        "    # read csv into a tuple list\n",
        "    with open(\"reddit_vm.csv\", \"r\", encoding='UTF-8', errors=\"ignore\") as f:\n",
        "        # read data into a list of tuples\n",
        "        entries = [\n",
        "            (e['id'], int(e['score']), int(e['comms_num']), e['title']) \n",
        "            for e in csv.DictReader(f)\n",
        "        ] \n",
        "    # print(entries)\n",
        "\n",
        "    # write tuple list to dataframe\n",
        "    cols = ['id', 'score', 'comms_num', 'title']\n",
        "    df = tupleList_to_df(entries, cols)\n",
        "\n",
        "    print(analyze_base_python(entries))\n",
        "\n",
        "main()"
      ],
      "metadata": {
        "colab": {
          "base_uri": "https://localhost:8080/"
        },
        "id": "yBDde-qu7zEt",
        "outputId": "239a0fc2-c763-4a22-d8c1-4d79fe6baa92"
      },
      "execution_count": 5,
      "outputs": [
        {
          "output_type": "stream",
          "name": "stdout",
          "text": [
            "You can find download in reddit_vm.csv.\n",
            "first entry: ('lt74vw', 7, 0, 'Health Canada approves AstraZeneca COVID-19 vaccine')\n",
            "Using Python Base library:\n",
            "Please complete this function.\n"
          ]
        }
      ]
    }
  ]
}