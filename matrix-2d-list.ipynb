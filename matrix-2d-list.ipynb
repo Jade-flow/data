{
  "nbformat": 4,
  "nbformat_minor": 0,
  "metadata": {
    "colab": {
      "provenance": [],
      "authorship_tag": "ABX9TyP9Io8cgWSmkOVnFg4kYJKM",
      "include_colab_link": true
    },
    "kernelspec": {
      "name": "python3",
      "display_name": "Python 3"
    },
    "language_info": {
      "name": "python"
    }
  },
  "cells": [
    {
      "cell_type": "markdown",
      "metadata": {
        "id": "view-in-github",
        "colab_type": "text"
      },
      "source": [
        "<a href=\"https://colab.research.google.com/github/remjw/data/blob/master/matrix-2d-list.ipynb\" target=\"_parent\"><img src=\"https://colab.research.google.com/assets/colab-badge.svg\" alt=\"Open In Colab\"/></a>"
      ]
    },
    {
      "cell_type": "markdown",
      "source": [
        "# Magic Square\n",
        "\n",
        "A Magic Square is a grid with 3 rows and 3 columns with the following properties:\n",
        "\n",
        "The grid contains every number from 1 to 9.\n",
        "The sum of each row, each column, and each diagonal all add up to the same number.\n",
        "This is an example of a Magic Square:\n",
        "\n",
        "```\n",
        "4 9 2\n",
        "3 5 7\n",
        "8 1 6\n",
        "```\n",
        "For a normal magic square of order n that is, a magic square which contains the numbers 1, 2, ..., $n^2$, the magic constant is\n",
        "\n",
        "$M = \\frac{n \\times (n^2 + 1)}{2} $\n",
        "\n",
        "In Python, you can simulate a 3x3 grid using a two-dimensional list. For example, the list corresponding to the grid above would be:\n",
        "\n",
        "`[[4, 9, 2], [3, 5, 7], [8, 1, 6]]`\n",
        "\n",
        "Write the definition of a function named is_magic_square that accepts a two-dimensional list as an argument and returns either True or False to indicate whether the list is a Magic Square. (Submit only the function definition, not a complete program.)"
      ],
      "metadata": {
        "id": "GRkZm5XYBYDr"
      }
    },
    {
      "cell_type": "code",
      "source": [
        "def is_magic_square(grid):\n",
        "  n = len(grid)\n",
        "  M = n * (n^2 + 1)/2\n",
        "  # loop over row sum\n",
        "  # if any row sum is not M, return False\n",
        "  # else continue\n",
        "  ...\n",
        "\n",
        "  # loop over col sum\n",
        "  # if any col sum is not M, return False\n",
        "  # else continue\n",
        "  ...\n",
        "\n",
        "  # loop over two diagonal sums\n",
        "  # if any diagonal sum is not M, return False\n",
        "  # else continue\n",
        "  ...\n",
        "\n",
        "  return True\n",
        "\n",
        "def main():\n",
        "  g1 = [[4, 9, 2], [3, 5, 7], [8, 1, 6]]\n",
        "  print(is_magic_square(g1))\n",
        "  g2 = [[8, 3, 4], [1, 5, 9], [6, 7, 2]]\n",
        "  print(is_magic_square(g2))\n",
        "  g3 = [[6, 1, 8], [7, 5, 3], [2, 9, 4]]\n",
        "  print(is_magic_square(g3))\n",
        "\n",
        "main()\n"
      ],
      "metadata": {
        "id": "ZU1QBCJcBnA8",
        "outputId": "c4c41235-eac7-47ab-d79c-9ab0aa9ecb7f",
        "colab": {
          "base_uri": "https://localhost:8080/"
        }
      },
      "execution_count": null,
      "outputs": [
        {
          "output_type": "stream",
          "name": "stdout",
          "text": [
            "False\n"
          ]
        }
      ]
    },
    {
      "cell_type": "markdown",
      "metadata": {
        "id": "G_hMrzGdT277"
      },
      "source": [
        "# 2D Data\n",
        "A lot of userful datasets are structured in two dimensions, similar to a table. The common names are:\n",
        "\n",
        "- 2D matrix\n",
        "- 2D list\n",
        "- 2D array\n",
        "- 2D series\n",
        "- DataFrame\n",
        "\n",
        "FYI:\n",
        "**Pandas** is a software library written for the Python programming language for data manipulation and analysis. In particular, it offers data structures and operations for manipulating `numerical tables` and `time series`. pandas is free software released under the three-clause BSD license.\n",
        "\n",
        "The name is derived from the term `Panel data`, an econometrics term for multidimensional structured data sets.\n",
        "\n",
        "`Pandas` provides basic data structures that allow fast and efficient data manipulation. Pandas is built around `numpy`, however instead of providing data access through `sequential indexing`, pandas provides a `dictionary-like` access. `pandas` provides extensive set to functions for data manipulation. Thus it allows to build complex data analysis pipelines in python without need for external languages.\n",
        "\n",
        "`Pandas.Dataframe` provides `pandas.Series` for 1D data and **Pandas.Dataframe** for 2D data.\n",
        "\n",
        "We will first discuss the basic **2D List** from `Python base` library.\n",
        "\n"
      ]
    },
    {
      "cell_type": "markdown",
      "metadata": {
        "id": "B2YYIpZePjSl"
      },
      "source": [
        "# 1. Two-dimensional list\n",
        "\n",
        "A two-dimensional list in Python Base is an object (data store) that contains multiple 1D lists as its elements, either row-wise or column-wise. By default, a 2D list object is row-oriented. Thus, a Python 2D list is a collection of horizontal rows.\n",
        "\n",
        "An element must be accessed by using two integer indexes; the first integer for row index and another for column index.\n",
        "\n",
        "1. : create, access, aggregate data, shuffle\n",
        "2. : Three cases\n",
        "    - grade multiple-choice questions\n",
        "    - solve closest-pair problem\n",
        "    - check a Sudoku solution"
      ]
    },
    {
      "cell_type": "markdown",
      "metadata": {
        "id": "639fPXq0cWOR"
      },
      "source": [
        "# Creation & Print 2D List (Matrix)\n"
      ]
    },
    {
      "cell_type": "code",
      "metadata": {
        "id": "JTLAJZ45RmE-"
      },
      "source": [
        "# 1. Creation & Print 2D List (Matrix)\n",
        "# Insert an integer sequence 0 to LAST into a matrix of M columns\n",
        "LAST = 9\n",
        "values = list(range(LAST))\n",
        "matrix = []\n",
        "M = 3 # fix column count to 3\n",
        "N = int(LAST/M) if LAST % M == 0 else int(LAST/M)+1 # how many rows?\n",
        "\n",
        "for row_idx in range(N):\n",
        "  new_row = values[row_idx * M : (row_idx + 1) * M]\n",
        "  matrix.append(new_row) #append new_row to matrix\n",
        "\n",
        "  # alternative\n",
        "  #matrix.append([]) #add empty new row first\n",
        "  #matrix[row_index] = new_row #then do assignment\n",
        "\n",
        "import pprint #pretty print module\n",
        "pprint.pprint(matrix)\n"
      ],
      "execution_count": null,
      "outputs": []
    },
    {
      "cell_type": "markdown",
      "metadata": {
        "id": "AVJHY1XlfhCO"
      },
      "source": [
        "# Create an ALL-ZERO matrix\n"
      ]
    },
    {
      "cell_type": "code",
      "metadata": {
        "id": "lZPsx9IUfdgI"
      },
      "source": [
        "row_dim, col_dim = 5, 5\n",
        "zeros = [ [0 for column in range(col_dim)] for row in range(row_dim) ]\n",
        "pprint.pprint(zeros)"
      ],
      "execution_count": null,
      "outputs": []
    },
    {
      "cell_type": "markdown",
      "metadata": {
        "id": "JG_hC4KykgA5"
      },
      "source": [
        "# Aggregate Functions with 2D List"
      ]
    },
    {
      "cell_type": "code",
      "metadata": {
        "id": "Z_OVflmrgxSJ"
      },
      "source": [
        "# len, max, min functions\n",
        "print(len(matrix)) # read row count\n",
        "#\n",
        "print(max(matrix)) # find maximum per column, column-wise\n",
        "print(max(max(matrix))) # double max for maximum of the entire matrix\n",
        "#\n",
        "print(min(matrix))\n",
        "print(min(min(matrix)))"
      ],
      "execution_count": null,
      "outputs": []
    },
    {
      "cell_type": "markdown",
      "source": [
        "# Sum per Row"
      ],
      "metadata": {
        "id": "siY3f-r0Hdn8"
      }
    },
    {
      "cell_type": "code",
      "source": [
        "# sum row-wise\n",
        "print([ sum(row) for row in matrix])"
      ],
      "metadata": {
        "id": "j1sePYF8HcrX",
        "outputId": "23d2ae46-b0b9-4442-b7c8-caf147a3005a",
        "colab": {
          "base_uri": "https://localhost:8080/"
        }
      },
      "execution_count": null,
      "outputs": [
        {
          "output_type": "stream",
          "name": "stdout",
          "text": [
            "[3, 12, 21]\n"
          ]
        }
      ]
    },
    {
      "cell_type": "markdown",
      "source": [
        "# Sum per Column"
      ],
      "metadata": {
        "id": "BxF_aqmFI6Nc"
      }
    },
    {
      "cell_type": "code",
      "source": [
        "# sum column-wise\n",
        "row_cnt = len(matrix)\n",
        "# sum column 1\n",
        "c0 =  [ matrix[r][0] for r in range(row_cnt) ]\n",
        "print(c0, sum(c0))\n",
        "# sum column 2\n",
        "c1 =  [ matrix[r][1] for r in range(row_cnt) ]\n",
        "print(c1, sum(c1))\n",
        "# sum column 3\n",
        "c2 =  [ matrix[r][2] for r in range(row_cnt) ]\n",
        "print(c2, sum(c2))"
      ],
      "metadata": {
        "id": "KDox5iuvI_Rw"
      },
      "execution_count": null,
      "outputs": []
    },
    {
      "cell_type": "code",
      "source": [
        "# Combine in loop\n",
        "row_cnt = len(matrix)\n",
        "col_cnt = len(matrix[0])\n",
        "col_sum = []\n",
        "for c in range(col_cnt):\n",
        "  col_sum.append(sum([ matrix[r][c] for r in range(row_cnt)]))\n",
        "print(col_sum)"
      ],
      "metadata": {
        "id": "A23oTI9OJD1E"
      },
      "execution_count": null,
      "outputs": []
    },
    {
      "cell_type": "markdown",
      "metadata": {
        "id": "3mRb-oIBkjVq"
      },
      "source": [
        "# Read & Slice row-wise"
      ]
    },
    {
      "cell_type": "code",
      "metadata": {
        "id": "-guBkJb6jYF8"
      },
      "source": [
        "# Get an element by two integer indexes\n",
        "print(matrix[0][0]) # read element at row 1 and col 1\n",
        "print(matrix[-1][-1]) # last row,  last value\n",
        "\n",
        "# Get a row\n",
        "print(matrix[0]) # the first row\n",
        "print(matrix[-1]) # the last row\n",
        "print(matrix[2:]) # get 3rd row to last row\n",
        "pprint.pprint(matrix[:-2]) # get rows from 1st to last third row."
      ],
      "execution_count": null,
      "outputs": []
    },
    {
      "cell_type": "markdown",
      "metadata": {
        "id": "TCVv-6MAl799"
      },
      "source": [
        "# Scan (Loop) Matrix By index"
      ]
    },
    {
      "cell_type": "code",
      "metadata": {
        "id": "ax3JH5hjgNMk"
      },
      "source": [
        "# Scan By index\n",
        "# Scan elements row-wise\n",
        "# repeat same operation per element\n",
        "col_cnt = len(matrix[0])\n",
        "row_cnt = len(matrix)\n",
        "for row in range(row_cnt):\n",
        "  for column in range(col_cnt):\n",
        "    # print the value at position (row,column)\n",
        "    print(f\"matrix[{row}][{column}] = {matrix[row][column]}\")"
      ],
      "execution_count": null,
      "outputs": []
    },
    {
      "cell_type": "markdown",
      "source": [
        "# Scan Matrix by value"
      ],
      "metadata": {
        "id": "UGAifbjC-Ezn"
      }
    },
    {
      "cell_type": "code",
      "metadata": {
        "id": "S1caxd93oVem"
      },
      "source": [
        "# Scan by value\n",
        "for row in matrix:\n",
        "  for element in row:\n",
        "    print(f\"{element}\", end=',')"
      ],
      "execution_count": null,
      "outputs": []
    },
    {
      "cell_type": "markdown",
      "metadata": {
        "id": "QvxBRVqb1toP"
      },
      "source": [
        "# Shuffle Matrix\n"
      ]
    },
    {
      "cell_type": "code",
      "metadata": {
        "id": "3tujMIPp1-fK"
      },
      "source": [
        "# Shuffle values in matrix\n",
        "# Alternative: using numpy module\n",
        "import numpy as np\n",
        "\n",
        "array = np.array(matrix) # convert a 2D list to a numpy array object\n",
        "flat = array.flatten() # flatten 2D to 1D array\n",
        "np.random.shuffle(flat) # by default, in-place shuffle\n",
        "print(f\"After random shuffle: {flat}\")\n",
        "\n",
        "# transform 1-d flat to 2-d matrix of 5 cols,\n",
        "# argument: a list of two ints to determine the dimension\n",
        "# 2nd int: (2nd dimension) col count\n",
        "# 1st int: -1 (row count (1st dim) is inferred from array length and another dimension.)\n",
        "flat.reshape([-1, 5]) # identical to [10,10]\n"
      ],
      "execution_count": null,
      "outputs": []
    },
    {
      "cell_type": "markdown",
      "metadata": {
        "id": "IF9q-HMX-IyI"
      },
      "source": [
        "## Case 1\n",
        "\n",
        "Text page 367: Study the case `Grading a multiple-choice test`\n",
        "\n",
        "The following script is an alternative script.\n",
        "\n",
        "Based on the case, do **Text page 382 11.4**.\n",
        "\n"
      ]
    },
    {
      "cell_type": "code",
      "metadata": {
        "colab": {
          "base_uri": "https://localhost:8080/"
        },
        "id": "bPU4Igpq_d6g",
        "outputId": "c6de38e6-a5ad-4136-baa0-a8f7b9385ad9"
      },
      "source": [
        "# 7\n",
        "\"\"\"1. Data source\n",
        "\"\"\"\n",
        "import numpy as np\n",
        "keys = ['D','B','D','C','C','D','A','E','A','D']\n",
        "letters = list('ABCDE') #generate five letters in a list\n",
        "# randomly generate a sample of 80 answers for 8 students and 10 questions\n",
        "# specify the probabilities of each candidate letter in the sample\n",
        "# reshape to 2D array of 8 rows by 10 columns,; convert to 2D list.\n",
        "sample = np.random.choice(letters, 80).reshape([8,10])\n",
        "answers = sample.tolist()\n",
        "print(f\"answers: {answers}\")\n",
        "\"\"\"2. Grading\n",
        "\"\"\"\n",
        "grades = []\n",
        "for student in answers:\n",
        "  scores = [ 1 if s == k else 0 for s, k in zip(student, keys) ]\n",
        "  print(scores)\n",
        "  grades.append(sum(scores))\n",
        "\n",
        "print(f\"Grades: {grades}\")\n"
      ],
      "execution_count": null,
      "outputs": [
        {
          "output_type": "stream",
          "name": "stdout",
          "text": [
            "answers: [['C', 'D', 'E', 'D', 'C', 'E', 'B', 'C', 'D', 'C'], ['C', 'C', 'A', 'B', 'A', 'D', 'E', 'B', 'C', 'C'], ['E', 'B', 'B', 'A', 'B', 'A', 'A', 'C', 'E', 'D'], ['D', 'C', 'D', 'E', 'A', 'C', 'B', 'E', 'C', 'E'], ['E', 'E', 'E', 'B', 'A', 'C', 'D', 'B', 'A', 'E'], ['A', 'E', 'B', 'C', 'D', 'D', 'A', 'B', 'C', 'E'], ['E', 'D', 'C', 'E', 'C', 'C', 'A', 'E', 'A', 'C'], ['E', 'D', 'E', 'E', 'E', 'E', 'C', 'C', 'D', 'A']]\n",
            "[0, 0, 0, 0, 1, 0, 0, 0, 0, 0]\n",
            "[0, 0, 0, 0, 0, 1, 0, 0, 0, 0]\n",
            "[0, 1, 0, 0, 0, 0, 1, 0, 0, 1]\n",
            "[1, 0, 1, 0, 0, 0, 0, 1, 0, 0]\n",
            "[0, 0, 0, 0, 0, 0, 0, 0, 1, 0]\n",
            "[0, 0, 0, 1, 0, 1, 1, 0, 0, 0]\n",
            "[0, 0, 0, 0, 1, 0, 1, 1, 1, 0]\n",
            "[0, 0, 0, 0, 0, 0, 0, 0, 0, 0]\n",
            "Grades: [1, 1, 3, 3, 1, 3, 4, 0]\n"
          ]
        }
      ]
    },
    {
      "cell_type": "markdown",
      "metadata": {
        "id": "hhiQO4ej9pVs"
      },
      "source": [
        "# Exercises\n",
        "\n",
        "1. **Create a list for two-dimensional set of data with three rows and four columns with values $0$**\n",
        "\n",
        "2. Page 381 11.1 Sum elements column by column.\n",
        "\n",
        "3. **Page 382 11.4 (Refer to Case 1 script)**\n",
        "\n",
        "4. Page 382 11.6 Multiply two matrices."
      ]
    }
  ]
}