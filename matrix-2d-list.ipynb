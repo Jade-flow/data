{
  "nbformat": 4,
  "nbformat_minor": 0,
  "metadata": {
    "colab": {
      "provenance": [],
      "authorship_tag": "ABX9TyNrtl6rPYwZrr0Sj3wXSLr/",
      "include_colab_link": true
    },
    "kernelspec": {
      "name": "python3",
      "display_name": "Python 3"
    },
    "language_info": {
      "name": "python"
    }
  },
  "cells": [
    {
      "cell_type": "markdown",
      "metadata": {
        "id": "view-in-github",
        "colab_type": "text"
      },
      "source": [
        "<a href=\"https://colab.research.google.com/github/remjw/data/blob/master/matrix-2d-list.ipynb\" target=\"_parent\"><img src=\"https://colab.research.google.com/assets/colab-badge.svg\" alt=\"Open In Colab\"/></a>"
      ]
    },
    {
      "cell_type": "markdown",
      "metadata": {
        "id": "G_hMrzGdT277"
      },
      "source": [
        "# 2D Data\n",
        "A lot of userful datasets are structured in two dimensions, similar to a table. The common names are:\n",
        "\n",
        "- 2D matrix\n",
        "- 2D list\n",
        "- 2D array\n",
        "- 2D series\n",
        "- DataFrame\n",
        "\n",
        "FYI:\n",
        "**Pandas** is a software library written for the Python programming language for data manipulation and analysis. In particular, it offers data structures and operations for manipulating `numerical tables` and `time series`. pandas is free software released under the three-clause BSD license.\n",
        "\n",
        "The name is derived from the term `Panel data`, an econometrics term for multidimensional structured data sets.\n",
        "\n",
        "`Pandas` provides basic data structures that allow fast and efficient data manipulation. Pandas is built around `numpy`, however instead of providing data access through `sequential indexing`, pandas provides a `dictionary-like` access. `pandas` provides extensive set to functions for data manipulation. Thus it allows to build complex data analysis pipelines in python without need for external languages.\n",
        "\n",
        "`Pandas.Dataframe` provides `pandas.Series` for 1D data and **Pandas.Dataframe** for 2D data.\n",
        "\n",
        "We will first discuss the basic **2D List** from `Python base` library.\n",
        "\n"
      ]
    },
    {
      "cell_type": "markdown",
      "metadata": {
        "id": "B2YYIpZePjSl"
      },
      "source": [
        "# 1. Two-dimensional list\n",
        "\n",
        "A two-dimensional list in Python Base is an object (data store) that contains multiple 1D lists as its elements, either row-wise or column-wise. By default, a 2D list object is row-oriented. Thus, a Python 2D list is a collection of horizontal rows.\n",
        "\n",
        "An element must be accessed by using two integer indexes; the first integer for row index and another for column index.\n",
        "\n",
        "1. : create, access, aggregate data, shuffle\n",
        "2. : Three cases\n",
        "    - grade multiple-choice questions\n",
        "    - solve closest-pair problem\n",
        "    - check a Sudoku solution"
      ]
    },
    {
      "cell_type": "markdown",
      "metadata": {
        "id": "639fPXq0cWOR"
      },
      "source": [
        "# Creation & Print 2D List (Matrix)\n"
      ]
    },
    {
      "cell_type": "code",
      "metadata": {
        "colab": {
          "base_uri": "https://localhost:8080/"
        },
        "id": "JTLAJZ45RmE-",
        "outputId": "2973be17-ac57-43bc-b46c-781f1f95bb7a"
      },
      "source": [
        "# 1. Creation & Print 2D List (Matrix)\n",
        "# Insert an integer sequence 0 to LAST into a matrix of M columns\n",
        "LAST = 20\n",
        "values = list(range(LAST))\n",
        "matrix = []\n",
        "M = 5 # fix column count to 5\n",
        "N = int(LAST/M) if LAST % M == 0 else int(LAST/M)+1 # how many rows?\n",
        "\n",
        "for row_idx in range(N):\n",
        "  new_row = values[row_idx * M : (row_idx + 1) * M]\n",
        "  matrix.append(new_row) #append new_row to matrix\n",
        "\n",
        "  # alternative\n",
        "  #matrix.append([]) #add empty new row first\n",
        "  #matrix[row_index] = new_row #then do assignment\n",
        "\n",
        "import pprint #pretty print module\n",
        "pprint.pprint(matrix)\n"
      ],
      "execution_count": 16,
      "outputs": [
        {
          "output_type": "stream",
          "name": "stdout",
          "text": [
            "[[0, 1, 2, 3, 4], [5, 6, 7, 8, 9], [10, 11, 12, 13, 14], [15, 16, 17, 18, 19]]\n"
          ]
        }
      ]
    },
    {
      "cell_type": "markdown",
      "metadata": {
        "id": "AVJHY1XlfhCO"
      },
      "source": [
        "# Create an ALL-ZERO matrix\n"
      ]
    },
    {
      "cell_type": "code",
      "metadata": {
        "id": "lZPsx9IUfdgI"
      },
      "source": [
        "row_dim, col_dim = 5, 5\n",
        "zeros = [ [0 for column in range(col_dim)] for row in range(row_dim) ]\n",
        "pprint.pprint(zeros)"
      ],
      "execution_count": null,
      "outputs": []
    },
    {
      "cell_type": "markdown",
      "metadata": {
        "id": "JG_hC4KykgA5"
      },
      "source": [
        "# Aggregate Functions with 2D List"
      ]
    },
    {
      "cell_type": "code",
      "metadata": {
        "colab": {
          "base_uri": "https://localhost:8080/"
        },
        "id": "Z_OVflmrgxSJ",
        "outputId": "2a6d9e63-3fce-4a76-b00c-bef98b781885"
      },
      "source": [
        "# len, max, min functions\n",
        "print(len(matrix)) # read row count\n",
        "#\n",
        "print(max(matrix)) # find maximum per column, column-wise\n",
        "print(max(max(matrix))) # double max for maximum of the entire matrix\n",
        "#\n",
        "print(min(matrix))\n",
        "print(min(min(matrix)))"
      ],
      "execution_count": 17,
      "outputs": [
        {
          "output_type": "stream",
          "name": "stdout",
          "text": [
            "4\n",
            "[15, 16, 17, 18, 19]\n",
            "19\n",
            "[0, 1, 2, 3, 4]\n",
            "0\n"
          ]
        }
      ]
    },
    {
      "cell_type": "markdown",
      "metadata": {
        "id": "3mRb-oIBkjVq"
      },
      "source": [
        "# Read & Slice row-wise"
      ]
    },
    {
      "cell_type": "code",
      "metadata": {
        "colab": {
          "base_uri": "https://localhost:8080/"
        },
        "id": "-guBkJb6jYF8",
        "outputId": "5d658102-e4ce-47a7-acf1-e35f273dcf88"
      },
      "source": [
        "# Get an element by two integer indexes\n",
        "print(matrix[0][0]) # read element at row 1 and col 1\n",
        "print(matrix[-1][-1]) # last row,  last value\n",
        "\n",
        "# Get a row\n",
        "print(matrix[0]) # the first row\n",
        "print(matrix[-1]) # the last row\n",
        "print(matrix[2:]) # get 3rd row to last row\n",
        "pprint.pprint(matrix[:-2]) # get rows from 1st to last third row."
      ],
      "execution_count": 25,
      "outputs": [
        {
          "output_type": "stream",
          "name": "stdout",
          "text": [
            "0\n",
            "19\n",
            "[0, 1, 2, 3, 4]\n",
            "[15, 16, 17, 18, 19]\n",
            "[[10, 11, 12, 13, 14], [15, 16, 17, 18, 19]]\n",
            "[[0, 1, 2, 3, 4], [5, 6, 7, 8, 9]]\n"
          ]
        }
      ]
    },
    {
      "cell_type": "markdown",
      "metadata": {
        "id": "TCVv-6MAl799"
      },
      "source": [
        "# Scan (Loop) Matrix By index"
      ]
    },
    {
      "cell_type": "code",
      "metadata": {
        "colab": {
          "base_uri": "https://localhost:8080/"
        },
        "id": "ax3JH5hjgNMk",
        "outputId": "034ed851-99d8-48e3-c808-854cd654a1a8"
      },
      "source": [
        "# Scan By index\n",
        "# Scan elements row-wise\n",
        "# repeat same operation per element\n",
        "col_cnt = len(matrix[0])\n",
        "row_cnt = len(matrix)\n",
        "for row in range(row_cnt):\n",
        "  for column in range(col_cnt):\n",
        "    # print the value at position (row,column)\n",
        "    print(f\"matrix[{row}][{column}] = {matrix[row][column]}\")"
      ],
      "execution_count": 26,
      "outputs": [
        {
          "output_type": "stream",
          "name": "stdout",
          "text": [
            "matrix[0][0] = 0\n",
            "matrix[0][1] = 1\n",
            "matrix[0][2] = 2\n",
            "matrix[0][3] = 3\n",
            "matrix[0][4] = 4\n",
            "matrix[1][0] = 5\n",
            "matrix[1][1] = 6\n",
            "matrix[1][2] = 7\n",
            "matrix[1][3] = 8\n",
            "matrix[1][4] = 9\n",
            "matrix[2][0] = 10\n",
            "matrix[2][1] = 11\n",
            "matrix[2][2] = 12\n",
            "matrix[2][3] = 13\n",
            "matrix[2][4] = 14\n",
            "matrix[3][0] = 15\n",
            "matrix[3][1] = 16\n",
            "matrix[3][2] = 17\n",
            "matrix[3][3] = 18\n",
            "matrix[3][4] = 19\n"
          ]
        }
      ]
    },
    {
      "cell_type": "markdown",
      "source": [
        "# Scan Matrix by value"
      ],
      "metadata": {
        "id": "UGAifbjC-Ezn"
      }
    },
    {
      "cell_type": "code",
      "metadata": {
        "colab": {
          "base_uri": "https://localhost:8080/"
        },
        "id": "S1caxd93oVem",
        "outputId": "65ed5dfe-0fb4-4e7c-8246-6aad15d308ec"
      },
      "source": [
        "# Scan by value\n",
        "for row in matrix:\n",
        "  for element in row:\n",
        "    print(f\"{element}\", end=',')"
      ],
      "execution_count": 27,
      "outputs": [
        {
          "output_type": "stream",
          "name": "stdout",
          "text": [
            "0,1,2,3,4,5,6,7,8,9,10,11,12,13,14,15,16,17,18,19,"
          ]
        }
      ]
    },
    {
      "cell_type": "markdown",
      "metadata": {
        "id": "QvxBRVqb1toP"
      },
      "source": [
        "### Shuffle Matrix\n"
      ]
    },
    {
      "cell_type": "code",
      "metadata": {
        "colab": {
          "base_uri": "https://localhost:8080/"
        },
        "id": "3tujMIPp1-fK",
        "outputId": "1543a3e3-3a79-4851-b2b2-920d8ac391e6"
      },
      "source": [
        "# Shuffle values in matrix\n",
        "# Alternative: using numpy module\n",
        "import numpy as np\n",
        "\n",
        "array = np.array(matrix) # convert a 2D list to a numpy array object\n",
        "flat = array.flatten() # flatten 2D to 1D array\n",
        "np.random.shuffle(flat) # by default, in-place shuffle\n",
        "print(f\"After random shuffle: {flat}\")\n",
        "\n",
        "# transform 1-d flat to 2-d matrix of 5 cols,\n",
        "# argument: a list of two ints to determine the dimension\n",
        "# 2nd int: (2nd dimension) col count\n",
        "# 1st int: -1 (row count (1st dim) is inferred from array length and another dimension.)\n",
        "flat.reshape([-1, 5]) # identical to [10,10]\n"
      ],
      "execution_count": 28,
      "outputs": [
        {
          "output_type": "stream",
          "name": "stdout",
          "text": [
            "After random shuffle: [ 8  4  7 15  9 17 14  2  1 16 12  3  5 11  6  0 13 10 18 19]\n"
          ]
        },
        {
          "output_type": "execute_result",
          "data": {
            "text/plain": [
              "array([[ 8,  4,  7, 15,  9],\n",
              "       [17, 14,  2,  1, 16],\n",
              "       [12,  3,  5, 11,  6],\n",
              "       [ 0, 13, 10, 18, 19]])"
            ]
          },
          "metadata": {},
          "execution_count": 28
        }
      ]
    },
    {
      "cell_type": "markdown",
      "metadata": {
        "id": "IF9q-HMX-IyI"
      },
      "source": [
        "## Case 1\n",
        "\n",
        "Text page 367: Study the case `Grading a multiple-choice test`\n",
        "\n",
        "The following script is an alternative script.\n",
        "\n",
        "Based on the case, do **Text page 382 11.4**.\n",
        "\n"
      ]
    },
    {
      "cell_type": "code",
      "metadata": {
        "colab": {
          "base_uri": "https://localhost:8080/"
        },
        "id": "bPU4Igpq_d6g",
        "outputId": "c6de38e6-a5ad-4136-baa0-a8f7b9385ad9"
      },
      "source": [
        "# 7\n",
        "\"\"\"1. Data source\n",
        "\"\"\"\n",
        "import numpy as np\n",
        "keys = ['D','B','D','C','C','D','A','E','A','D']\n",
        "letters = list('ABCDE') #generate five letters in a list\n",
        "# randomly generate a sample of 80 answers for 8 students and 10 questions\n",
        "# specify the probabilities of each candidate letter in the sample\n",
        "# reshape to 2D array of 8 rows by 10 columns,; convert to 2D list.\n",
        "sample = np.random.choice(letters, 80).reshape([8,10])\n",
        "answers = sample.tolist()\n",
        "print(f\"answers: {answers}\")\n",
        "\"\"\"2. Grading\n",
        "\"\"\"\n",
        "grades = []\n",
        "for student in answers:\n",
        "  scores = [ 1 if s == k else 0 for s, k in zip(student, keys) ]\n",
        "  print(scores)\n",
        "  grades.append(sum(scores))\n",
        "\n",
        "print(f\"Grades: {grades}\")\n"
      ],
      "execution_count": null,
      "outputs": [
        {
          "output_type": "stream",
          "name": "stdout",
          "text": [
            "answers: [['C', 'D', 'E', 'D', 'C', 'E', 'B', 'C', 'D', 'C'], ['C', 'C', 'A', 'B', 'A', 'D', 'E', 'B', 'C', 'C'], ['E', 'B', 'B', 'A', 'B', 'A', 'A', 'C', 'E', 'D'], ['D', 'C', 'D', 'E', 'A', 'C', 'B', 'E', 'C', 'E'], ['E', 'E', 'E', 'B', 'A', 'C', 'D', 'B', 'A', 'E'], ['A', 'E', 'B', 'C', 'D', 'D', 'A', 'B', 'C', 'E'], ['E', 'D', 'C', 'E', 'C', 'C', 'A', 'E', 'A', 'C'], ['E', 'D', 'E', 'E', 'E', 'E', 'C', 'C', 'D', 'A']]\n",
            "[0, 0, 0, 0, 1, 0, 0, 0, 0, 0]\n",
            "[0, 0, 0, 0, 0, 1, 0, 0, 0, 0]\n",
            "[0, 1, 0, 0, 0, 0, 1, 0, 0, 1]\n",
            "[1, 0, 1, 0, 0, 0, 0, 1, 0, 0]\n",
            "[0, 0, 0, 0, 0, 0, 0, 0, 1, 0]\n",
            "[0, 0, 0, 1, 0, 1, 1, 0, 0, 0]\n",
            "[0, 0, 0, 0, 1, 0, 1, 1, 1, 0]\n",
            "[0, 0, 0, 0, 0, 0, 0, 0, 0, 0]\n",
            "Grades: [1, 1, 3, 3, 1, 3, 4, 0]\n"
          ]
        }
      ]
    },
    {
      "cell_type": "markdown",
      "metadata": {
        "id": "hhiQO4ej9pVs"
      },
      "source": [
        "# Exercises\n",
        "\n",
        "1. **Create a list for two-dimensional set of data with three rows and four columns with values $0$**\n",
        "\n",
        "2. Page 381 11.1 Sum elements column by column.\n",
        "\n",
        "3. **Page 382 11.4 (Refer to Case 1 script)**\n",
        "\n",
        "4. Page 382 11.6 Multiply two matrices."
      ]
    }
  ]
}