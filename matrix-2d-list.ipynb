{
  "nbformat": 4,
  "nbformat_minor": 0,
  "metadata": {
    "colab": {
      "provenance": [],
      "authorship_tag": "ABX9TyNPsMv6nBj4gbFilT4YXvxB",
      "include_colab_link": true
    },
    "kernelspec": {
      "name": "python3",
      "display_name": "Python 3"
    },
    "language_info": {
      "name": "python"
    }
  },
  "cells": [
    {
      "cell_type": "markdown",
      "metadata": {
        "id": "view-in-github",
        "colab_type": "text"
      },
      "source": [
        "<a href=\"https://colab.research.google.com/github/remjw/data/blob/master/matrix-2d-list.ipynb\" target=\"_parent\"><img src=\"https://colab.research.google.com/assets/colab-badge.svg\" alt=\"Open In Colab\"/></a>"
      ]
    },
    {
      "cell_type": "markdown",
      "metadata": {
        "id": "G_hMrzGdT277"
      },
      "source": [
        "## _Prefix_\n",
        "A lot of userful datasets are structured in two dimensions, similar to a table. The common names are:\n",
        "\n",
        "- 2D matrix\n",
        "- 2D list\n",
        "- 2D array\n",
        "- 2D series\n",
        "- DataFrame\n",
        "\n",
        "FYI:\n",
        "**Pandas** is a software library written for the Python programming language for data manipulation and analysis. In particular, it offers data structures and operations for manipulating `numerical tables` and `time series`. pandas is free software released under the three-clause BSD license.\n",
        "\n",
        "The name is derived from the term `Panel data`, an econometrics term for multidimensional structured data sets.\n",
        "\n",
        "`Pandas` provides basic data structures that allow fast and efficient data manipulation. Pandas is built around `numpy`, however instead of providing data access through `sequential indexing`, pandas provides a `dictionary-like` access. `pandas` provides extensive set to functions for data manipulation. Thus it allows to build complex data analysis pipelines in python without need for external languages.\n",
        "\n",
        "`Pandas.Dataframe` provides `pandas.Series` for 1D data and **Pandas.Dataframe** for 2D data.\n",
        "\n",
        "We will first discuss the basic **2D List** from `Python base` library.\n",
        "\n"
      ]
    },
    {
      "cell_type": "markdown",
      "metadata": {
        "id": "B2YYIpZePjSl"
      },
      "source": [
        "# 1. Two-dimensional list\n",
        "\n",
        "A two-dimensional list in Python Base is an object (data store) that contains multiple 1D lists as its elements, either row-wise or column-wise. By default, a 2D list object is row-oriented. Thus, a Python 2D list is a collection of horizontal rows.\n",
        "\n",
        "An element must be accessed by using two integer indexes; the first integer for row index and another for column index.\n",
        "\n",
        "1. : create, access, aggregate data, shuffle\n",
        "2. : Three cases\n",
        "    - grade multiple-choice questions\n",
        "    - solve closest-pair problem\n",
        "    - check a Sudoku solution"
      ]
    },
    {
      "cell_type": "markdown",
      "metadata": {
        "id": "639fPXq0cWOR"
      },
      "source": [
        "# Script Set 1\n",
        "\n",
        "Study the following script set which applies the functions in 11.2.\n"
      ]
    },
    {
      "cell_type": "markdown",
      "metadata": {
        "id": "NbfZuc7tkS5l"
      },
      "source": [
        "### Creation & Print"
      ]
    },
    {
      "cell_type": "code",
      "metadata": {
        "colab": {
          "base_uri": "https://localhost:8080/"
        },
        "id": "JTLAJZ45RmE-",
        "outputId": "b2e6771c-a488-4d62-cd24-0c8c04d888d8"
      },
      "source": [
        "# 1\n",
        "# create an empty 2D list, matrix\n",
        "# Insert a sequence of 100 integers 0-99 into a matrix of 10 rows by 10 columns\n",
        "N = 100\n",
        "values = list(range(N))\n",
        "matrix = []\n",
        "column_count = 10 # ten values per row\n",
        "row_count = int(N/10) if N % 10 == 0 else int(N/10) + 1 #how many rows?\n",
        "\n",
        "for row_index in range(row_count):\n",
        "  new_row = values[row_index * column_count : (row_index + 1) * column_count]\n",
        "  matrix.append(new_row) #append a list as a new row\n",
        "\n",
        "  # alternatively\n",
        "  #matrix.append([]) #add empty new row first\n",
        "  #matrix[row_index] = new_row #then do assignment\n",
        "\n",
        "import pprint #pretty print module\n",
        "pprint.pprint(matrix)\n"
      ],
      "execution_count": null,
      "outputs": [
        {
          "output_type": "stream",
          "name": "stdout",
          "text": [
            "[[0, 1, 2, 3, 4, 5, 6, 7, 8, 9],\n",
            " [10, 11, 12, 13, 14, 15, 16, 17, 18, 19],\n",
            " [20, 21, 22, 23, 24, 25, 26, 27, 28, 29],\n",
            " [30, 31, 32, 33, 34, 35, 36, 37, 38, 39],\n",
            " [40, 41, 42, 43, 44, 45, 46, 47, 48, 49],\n",
            " [50, 51, 52, 53, 54, 55, 56, 57, 58, 59],\n",
            " [60, 61, 62, 63, 64, 65, 66, 67, 68, 69],\n",
            " [70, 71, 72, 73, 74, 75, 76, 77, 78, 79],\n",
            " [80, 81, 82, 83, 84, 85, 86, 87, 88, 89],\n",
            " [90, 91, 92, 93, 94, 95, 96, 97, 98, 99]]\n"
          ]
        }
      ]
    },
    {
      "cell_type": "markdown",
      "metadata": {
        "id": "AVJHY1XlfhCO"
      },
      "source": [
        "#### Initalize a matrix with all zeros\n"
      ]
    },
    {
      "cell_type": "code",
      "metadata": {
        "colab": {
          "base_uri": "https://localhost:8080/"
        },
        "id": "lZPsx9IUfdgI",
        "outputId": "911d3103-a29b-47cb-e96c-4570e22d5725"
      },
      "source": [
        "##\n",
        "row_dim, col_dim = 5,5\n",
        "zeros = [ [0 for column in range(col_dim)] for row in range(row_dim) ]\n",
        "pprint.pprint(zeros)"
      ],
      "execution_count": null,
      "outputs": [
        {
          "output_type": "stream",
          "name": "stdout",
          "text": [
            "[[0, 0, 0, 0, 0],\n",
            " [0, 0, 0, 0, 0],\n",
            " [0, 0, 0, 0, 0],\n",
            " [0, 0, 0, 0, 0],\n",
            " [0, 0, 0, 0, 0]]\n"
          ]
        }
      ]
    },
    {
      "cell_type": "markdown",
      "metadata": {
        "id": "JG_hC4KykgA5"
      },
      "source": [
        "### Aggregate functions"
      ]
    },
    {
      "cell_type": "code",
      "metadata": {
        "colab": {
          "base_uri": "https://localhost:8080/"
        },
        "id": "Z_OVflmrgxSJ",
        "outputId": "5fc682c0-e525-4c20-840e-239f2039da33"
      },
      "source": [
        "# 2. len, max, min functions\n",
        "# Using the 2d list `matrix` from the cell above.\n",
        "print(len(matrix)) # read row count\n",
        "print(max(matrix)) # find maximum per column, column-wise\n",
        "print(max(max(matrix))) # double max for maximum of the entire matrix\n",
        "print(min(matrix))\n",
        "print(min(min(matrix)))"
      ],
      "execution_count": null,
      "outputs": [
        {
          "output_type": "stream",
          "name": "stdout",
          "text": [
            "10\n",
            "[90, 91, 92, 93, 94, 95, 96, 97, 98, 99]\n",
            "99\n",
            "[0, 1, 2, 3, 4, 5, 6, 7, 8, 9]\n",
            "0\n"
          ]
        }
      ]
    },
    {
      "cell_type": "markdown",
      "metadata": {
        "id": "3mRb-oIBkjVq"
      },
      "source": [
        "### Read & Slice by Row"
      ]
    },
    {
      "cell_type": "code",
      "metadata": {
        "colab": {
          "base_uri": "https://localhost:8080/"
        },
        "id": "-guBkJb6jYF8",
        "outputId": "d8659bd6-4d61-4bee-dc96-942ac49115bf"
      },
      "source": [
        "# 3. Reading and Slicing\n",
        "# Read an element by two integer indexes\n",
        "print(matrix[0][0]) # read the first element at first row\n",
        "print(matrix[-1][5]) # last row, 6th value from left\n",
        "# Read a row by row index\n",
        "print(matrix[0]) # pull the first row\n",
        "print(matrix[-1]) # pull the last row\n",
        "print(matrix[2:4]) # pull a slice of two rows with index 2 and 3\n",
        "pprint.pprint(matrix[:5]) # pull the first five rows"
      ],
      "execution_count": null,
      "outputs": [
        {
          "output_type": "stream",
          "name": "stdout",
          "text": [
            "0\n",
            "95\n",
            "[0, 1, 2, 3, 4, 5, 6, 7, 8, 9]\n",
            "[90, 91, 92, 93, 94, 95, 96, 97, 98, 99]\n",
            "[[20, 21, 22, 23, 24, 25, 26, 27, 28, 29], [30, 31, 32, 33, 34, 35, 36, 37, 38, 39]]\n",
            "[[0, 1, 2, 3, 4, 5, 6, 7, 8, 9],\n",
            " [10, 11, 12, 13, 14, 15, 16, 17, 18, 19],\n",
            " [20, 21, 22, 23, 24, 25, 26, 27, 28, 29],\n",
            " [30, 31, 32, 33, 34, 35, 36, 37, 38, 39],\n",
            " [40, 41, 42, 43, 44, 45, 46, 47, 48, 49]]\n"
          ]
        }
      ]
    },
    {
      "cell_type": "markdown",
      "metadata": {
        "id": "TCVv-6MAl799"
      },
      "source": [
        "### Scan the matrix By index & By value"
      ]
    },
    {
      "cell_type": "code",
      "metadata": {
        "colab": {
          "base_uri": "https://localhost:8080/"
        },
        "id": "ax3JH5hjgNMk",
        "outputId": "8eced3bc-fb31-48a8-e22c-51c1eac59332"
      },
      "source": [
        "# 4. Scan By index\n",
        "# Scan elements in a matrix row-wise; repeat the same operation for each element\n",
        "column_count = len(matrix[0])\n",
        "row_count = len(matrix)\n",
        "for row in range(row_count):\n",
        "  for column in range(column_count):\n",
        "    # print the value at position (row,column)\n",
        "    print(f\"matrix[{row}][{column}] = {matrix[row][column]}\")"
      ],
      "execution_count": null,
      "outputs": [
        {
          "output_type": "stream",
          "name": "stdout",
          "text": [
            "matrix[0][0] = 0\n",
            "matrix[0][1] = 1\n",
            "matrix[0][2] = 2\n",
            "matrix[0][3] = 3\n",
            "matrix[0][4] = 4\n",
            "matrix[0][5] = 5\n",
            "matrix[0][6] = 6\n",
            "matrix[0][7] = 7\n",
            "matrix[0][8] = 8\n",
            "matrix[0][9] = 9\n",
            "matrix[1][0] = 10\n",
            "matrix[1][1] = 11\n",
            "matrix[1][2] = 12\n",
            "matrix[1][3] = 13\n",
            "matrix[1][4] = 14\n",
            "matrix[1][5] = 15\n",
            "matrix[1][6] = 16\n",
            "matrix[1][7] = 17\n",
            "matrix[1][8] = 18\n",
            "matrix[1][9] = 19\n",
            "matrix[2][0] = 20\n",
            "matrix[2][1] = 21\n",
            "matrix[2][2] = 22\n",
            "matrix[2][3] = 23\n",
            "matrix[2][4] = 24\n",
            "matrix[2][5] = 25\n",
            "matrix[2][6] = 26\n",
            "matrix[2][7] = 27\n",
            "matrix[2][8] = 28\n",
            "matrix[2][9] = 29\n",
            "matrix[3][0] = 30\n",
            "matrix[3][1] = 31\n",
            "matrix[3][2] = 32\n",
            "matrix[3][3] = 33\n",
            "matrix[3][4] = 34\n",
            "matrix[3][5] = 35\n",
            "matrix[3][6] = 36\n",
            "matrix[3][7] = 37\n",
            "matrix[3][8] = 38\n",
            "matrix[3][9] = 39\n",
            "matrix[4][0] = 40\n",
            "matrix[4][1] = 41\n",
            "matrix[4][2] = 42\n",
            "matrix[4][3] = 43\n",
            "matrix[4][4] = 44\n",
            "matrix[4][5] = 45\n",
            "matrix[4][6] = 46\n",
            "matrix[4][7] = 47\n",
            "matrix[4][8] = 48\n",
            "matrix[4][9] = 49\n",
            "matrix[5][0] = 50\n",
            "matrix[5][1] = 51\n",
            "matrix[5][2] = 52\n",
            "matrix[5][3] = 53\n",
            "matrix[5][4] = 54\n",
            "matrix[5][5] = 55\n",
            "matrix[5][6] = 56\n",
            "matrix[5][7] = 57\n",
            "matrix[5][8] = 58\n",
            "matrix[5][9] = 59\n",
            "matrix[6][0] = 60\n",
            "matrix[6][1] = 61\n",
            "matrix[6][2] = 62\n",
            "matrix[6][3] = 63\n",
            "matrix[6][4] = 64\n",
            "matrix[6][5] = 65\n",
            "matrix[6][6] = 66\n",
            "matrix[6][7] = 67\n",
            "matrix[6][8] = 68\n",
            "matrix[6][9] = 69\n",
            "matrix[7][0] = 70\n",
            "matrix[7][1] = 71\n",
            "matrix[7][2] = 72\n",
            "matrix[7][3] = 73\n",
            "matrix[7][4] = 74\n",
            "matrix[7][5] = 75\n",
            "matrix[7][6] = 76\n",
            "matrix[7][7] = 77\n",
            "matrix[7][8] = 78\n",
            "matrix[7][9] = 79\n",
            "matrix[8][0] = 80\n",
            "matrix[8][1] = 81\n",
            "matrix[8][2] = 82\n",
            "matrix[8][3] = 83\n",
            "matrix[8][4] = 84\n",
            "matrix[8][5] = 85\n",
            "matrix[8][6] = 86\n",
            "matrix[8][7] = 87\n",
            "matrix[8][8] = 88\n",
            "matrix[8][9] = 89\n",
            "matrix[9][0] = 90\n",
            "matrix[9][1] = 91\n",
            "matrix[9][2] = 92\n",
            "matrix[9][3] = 93\n",
            "matrix[9][4] = 94\n",
            "matrix[9][5] = 95\n",
            "matrix[9][6] = 96\n",
            "matrix[9][7] = 97\n",
            "matrix[9][8] = 98\n",
            "matrix[9][9] = 99\n"
          ]
        }
      ]
    },
    {
      "cell_type": "code",
      "metadata": {
        "colab": {
          "base_uri": "https://localhost:8080/"
        },
        "id": "S1caxd93oVem",
        "outputId": "5232d18b-9b17-4aeb-a176-b712f1ae9d89"
      },
      "source": [
        "# 5.\n",
        "# Scan by value\n",
        "for row in matrix:\n",
        "  for element in row:\n",
        "    print(f\"{element}\", end=',')"
      ],
      "execution_count": null,
      "outputs": [
        {
          "output_type": "stream",
          "name": "stdout",
          "text": [
            "0,1,2,3,4,5,6,7,8,9,10,11,12,13,14,15,16,17,18,19,20,21,22,23,24,25,26,27,28,29,30,31,32,33,34,35,36,37,38,39,40,41,42,43,44,45,46,47,48,49,50,51,52,53,54,55,56,57,58,59,60,61,62,63,64,65,66,67,68,69,70,71,72,73,74,75,76,77,78,79,80,81,82,83,84,85,86,87,88,89,90,91,92,93,94,95,96,97,98,99,"
          ]
        }
      ]
    },
    {
      "cell_type": "markdown",
      "metadata": {
        "id": "QvxBRVqb1toP"
      },
      "source": [
        "### Shuffle\n"
      ]
    },
    {
      "cell_type": "code",
      "metadata": {
        "colab": {
          "base_uri": "https://localhost:8080/"
        },
        "id": "3tujMIPp1-fK",
        "outputId": "3ed997f2-0d2f-4562-9aa5-fdc7b1bbc7d1"
      },
      "source": [
        "# 6. text 11.2.7 page 364\n",
        "# Shuffling elements in matrix\n",
        "# Alternative: using numpy module\n",
        "import numpy as np\n",
        "\n",
        "array = np.array(matrix) # convert a 2D list to a numpy array object\n",
        "flat = array.flatten() # flatten 2D to 1D array\n",
        "np.random.shuffle(flat) # by default, in-place shuffle\n",
        "print(f\"After random shuffle: {flat}\")\n",
        "\n",
        "# build 1d flat back to 10 by 10 matrix\n",
        "# arg: shape is determined in a list of two integers\n",
        "# 2nd integer: (2nd dim) column count is 10\n",
        "# 1st integer: -1 (The row (1st dim) count is inferred from array's length and another dimension.)\n",
        "flat.reshape([-1, 10]) # identical to [10,10]\n"
      ],
      "execution_count": null,
      "outputs": [
        {
          "output_type": "stream",
          "name": "stdout",
          "text": [
            "After random shuffle: [99  5 38 11 89 17 57 61 73 91 19 86 81 92 21 60 62 16 56 22 93 42 24 77\n",
            " 47 78  9 25 28 58 64 65 43 20 26 45 67 14 27 33 88 59  3 49  6 50 63  2\n",
            " 94 79 41 95 40 32 54 72 29 53 31 84 46 39 51 13 97 69 36  8 85 82 66 96\n",
            " 75  1 44 35 80 12 37 71 52  7 23 98 30 48 55 74 18 90 87 83 70 15 68  4\n",
            " 76 34 10  0]\n"
          ]
        },
        {
          "output_type": "execute_result",
          "data": {
            "text/plain": [
              "array([[99,  5, 38, 11, 89, 17, 57, 61, 73, 91],\n",
              "       [19, 86, 81, 92, 21, 60, 62, 16, 56, 22],\n",
              "       [93, 42, 24, 77, 47, 78,  9, 25, 28, 58],\n",
              "       [64, 65, 43, 20, 26, 45, 67, 14, 27, 33],\n",
              "       [88, 59,  3, 49,  6, 50, 63,  2, 94, 79],\n",
              "       [41, 95, 40, 32, 54, 72, 29, 53, 31, 84],\n",
              "       [46, 39, 51, 13, 97, 69, 36,  8, 85, 82],\n",
              "       [66, 96, 75,  1, 44, 35, 80, 12, 37, 71],\n",
              "       [52,  7, 23, 98, 30, 48, 55, 74, 18, 90],\n",
              "       [87, 83, 70, 15, 68,  4, 76, 34, 10,  0]])"
            ]
          },
          "metadata": {},
          "execution_count": 7
        }
      ]
    },
    {
      "cell_type": "markdown",
      "metadata": {
        "id": "IF9q-HMX-IyI"
      },
      "source": [
        "## Case 1\n",
        "\n",
        "Text page 367: Study the case `Grading a multiple-choice test`\n",
        "\n",
        "The following script is an alternative script.\n",
        "\n",
        "Based on the case, do **Text page 382 11.4**.\n",
        "\n"
      ]
    },
    {
      "cell_type": "code",
      "metadata": {
        "colab": {
          "base_uri": "https://localhost:8080/"
        },
        "id": "bPU4Igpq_d6g",
        "outputId": "c6de38e6-a5ad-4136-baa0-a8f7b9385ad9"
      },
      "source": [
        "# 7\n",
        "\"\"\"1. Data source\n",
        "\"\"\"\n",
        "import numpy as np\n",
        "keys = ['D','B','D','C','C','D','A','E','A','D']\n",
        "letters = list('ABCDE') #generate five letters in a list\n",
        "# randomly generate a sample of 80 answers for 8 students and 10 questions\n",
        "# specify the probabilities of each candidate letter in the sample\n",
        "# reshape to 2D array of 8 rows by 10 columns,; convert to 2D list.\n",
        "sample = np.random.choice(letters, 80).reshape([8,10])\n",
        "answers = sample.tolist()\n",
        "print(f\"answers: {answers}\")\n",
        "\"\"\"2. Grading\n",
        "\"\"\"\n",
        "grades = []\n",
        "for student in answers:\n",
        "  scores = [ 1 if s == k else 0 for s,k in zip(student, keys) ]\n",
        "  print(scores)\n",
        "  grades.append(sum(scores))\n",
        "\n",
        "print(f\"Grades: {grades}\")\n"
      ],
      "execution_count": null,
      "outputs": [
        {
          "output_type": "stream",
          "name": "stdout",
          "text": [
            "answers: [['C', 'D', 'E', 'D', 'C', 'E', 'B', 'C', 'D', 'C'], ['C', 'C', 'A', 'B', 'A', 'D', 'E', 'B', 'C', 'C'], ['E', 'B', 'B', 'A', 'B', 'A', 'A', 'C', 'E', 'D'], ['D', 'C', 'D', 'E', 'A', 'C', 'B', 'E', 'C', 'E'], ['E', 'E', 'E', 'B', 'A', 'C', 'D', 'B', 'A', 'E'], ['A', 'E', 'B', 'C', 'D', 'D', 'A', 'B', 'C', 'E'], ['E', 'D', 'C', 'E', 'C', 'C', 'A', 'E', 'A', 'C'], ['E', 'D', 'E', 'E', 'E', 'E', 'C', 'C', 'D', 'A']]\n",
            "[0, 0, 0, 0, 1, 0, 0, 0, 0, 0]\n",
            "[0, 0, 0, 0, 0, 1, 0, 0, 0, 0]\n",
            "[0, 1, 0, 0, 0, 0, 1, 0, 0, 1]\n",
            "[1, 0, 1, 0, 0, 0, 0, 1, 0, 0]\n",
            "[0, 0, 0, 0, 0, 0, 0, 0, 1, 0]\n",
            "[0, 0, 0, 1, 0, 1, 1, 0, 0, 0]\n",
            "[0, 0, 0, 0, 1, 0, 1, 1, 1, 0]\n",
            "[0, 0, 0, 0, 0, 0, 0, 0, 0, 0]\n",
            "Grades: [1, 1, 3, 3, 1, 3, 4, 0]\n"
          ]
        }
      ]
    },
    {
      "cell_type": "markdown",
      "metadata": {
        "id": "hhiQO4ej9pVs"
      },
      "source": [
        "# Exercises\n",
        "\n",
        "1. **Create a list for two-dimensional set of data with three rows and four columns with values $0$**\n",
        "\n",
        "2. Page 381 11.1 Sum elements column by column.\n",
        "\n",
        "3. **Page 382 11.4 (Refer to Case 1 script)**\n",
        "\n",
        "4. Page 382 11.6 Multiply two matrices."
      ]
    }
  ]
}