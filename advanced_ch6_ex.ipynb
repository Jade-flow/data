{
  "nbformat": 4,
  "nbformat_minor": 0,
  "metadata": {
    "colab": {
      "provenance": [],
      "authorship_tag": "ABX9TyPjg76AouVOU+3zatgClswL",
      "include_colab_link": true
    },
    "kernelspec": {
      "name": "python3",
      "display_name": "Python 3"
    },
    "language_info": {
      "name": "python"
    }
  },
  "cells": [
    {
      "cell_type": "markdown",
      "metadata": {
        "id": "view-in-github",
        "colab_type": "text"
      },
      "source": [
        "<a href=\"https://colab.research.google.com/github/remjw/data/blob/master/advanced_ch6_ex.ipynb\" target=\"_parent\"><img src=\"https://colab.research.google.com/assets/colab-badge.svg\" alt=\"Open In Colab\"/></a>"
      ]
    },
    {
      "cell_type": "markdown",
      "source": [
        "## Dictionary"
      ],
      "metadata": {
        "id": "s_cLS6nf9gkv"
      }
    },
    {
      "cell_type": "code",
      "execution_count": 5,
      "metadata": {
        "colab": {
          "base_uri": "https://localhost:8080/"
        },
        "id": "Ud6jY9oXtfIW",
        "outputId": "17b52323-a4ac-446a-cc00-c358819ba5c8"
      },
      "outputs": [
        {
          "output_type": "stream",
          "name": "stdout",
          "text": [
            "and         2\n",
            "colab       3\n",
            "in          2\n",
            "notebooks   4\n",
            "or          2\n",
            "them        2\n",
            "to          2\n",
            "with        2\n",
            "you         3\n",
            "your        4\n"
          ]
        }
      ],
      "source": [
        "# count duplicate words (or unique words)\n",
        "# use dictionary to determine and print number of duplicate words in a sentense.\n",
        "# treat uppercase and lowercase letters the same. \n",
        "# exclude punctuations \n",
        "import string\n",
        "text = ('Colab notebooks allow you to combine executable code and rich text '\n",
        "'in a single document, along with images, HTML, LaTeX and more.'\n",
        "'When you create your own Colab notebooks, '\n",
        "'they are stored in your Google Drive account. '\n",
        "'You can easily share your Colab notebooks with co-workers or friends, ' \n",
        "'allowing them to comment on your notebooks or even edit them. ')\n",
        "exclude = set(string.punctuation)\n",
        "text = ''.join(c.lower() for c in text if c not in exclude)\n",
        "\n",
        "word_counts = {}\n",
        "for word in text.split():\n",
        "  if word in word_counts:\n",
        "    word_counts[word] += 1\n",
        "  else:\n",
        "    word_counts[word] = 1\n",
        "# convert dict to list of tuples, sort by key\n",
        "word_counts_sorted = sorted(word_counts.items()) #list of tuples\n",
        "# select duplicate words\n",
        "duplicates = { w:c for w, c in word_counts_sorted if c > 1 }\n",
        "for w, c in duplicates.items():\n",
        "  print(f'{w:<12}{c}')"
      ]
    },
    {
      "cell_type": "code",
      "source": [
        "# duplicate word removal\n",
        "# write a function that takes a list of words,\n",
        "# then display in alphabetical order only distinct words\n",
        "# letter-case-insensitive\n",
        "# use set to get unique values from a list\n",
        "def get_distinct_words(words):\n",
        "  return sorted(set(words)) \n",
        "\n",
        "import string\n",
        "text = ('Colab notebooks allow you to combine executable code and rich text '\n",
        "'in a single document, along with images, HTML, LaTeX and more.'\n",
        "'When you create your own Colab notebooks, '\n",
        "'they are stored in your Google Drive account. '\n",
        "'You can easily share your Colab notebooks with co-workers or friends, ' \n",
        "'allowing them to comment on your notebooks or even edit them. ')\n",
        "exclude = set(string.punctuation)\n",
        "text = ''.join(c.lower() for c in text if c not in exclude)\n",
        "\n",
        "distincts = get_distinct_words(text.split())\n",
        "for p in range(0, len(distincts), 5):\n",
        "  print(distincts[p:p+5])\n"
      ],
      "metadata": {
        "id": "cnMCN7Cd5ATd",
        "outputId": "a08e8090-44e2-432c-f0c0-c8e9091b7e7a",
        "colab": {
          "base_uri": "https://localhost:8080/"
        }
      },
      "execution_count": 11,
      "outputs": [
        {
          "output_type": "stream",
          "name": "stdout",
          "text": [
            "['a', 'account', 'allow', 'allowing', 'along']\n",
            "['and', 'are', 'can', 'code', 'colab']\n",
            "['combine', 'comment', 'coworkers', 'create', 'document']\n",
            "['drive', 'easily', 'edit', 'even', 'executable']\n",
            "['friends', 'google', 'html', 'images', 'in']\n",
            "['latex', 'morewhen', 'notebooks', 'on', 'or']\n",
            "['own', 'rich', 'share', 'single', 'stored']\n",
            "['text', 'them', 'they', 'to', 'with']\n",
            "['you', 'your']\n"
          ]
        }
      ]
    },
    {
      "cell_type": "code",
      "source": [
        "# Character counts\n",
        "'''A string is a sequence of characters. \n",
        "input a sentence from user, use dict to summarize occurrences of each letter.\n",
        "ignore letter case, punctuations, blanks\n",
        "sort letter key in dict\n",
        "display each key-value pair in two-column\n",
        "challenge: find letters not appearing in the sentence\n",
        "'''\n",
        "import string\n",
        "text = ('Colab notebooks allow you to combine executable code and rich text '\n",
        "'in a single document, along with images, HTML, LaTeX and more.')\n",
        "exclude = set(string.punctuation)\n",
        "exclude.add(' ')\n",
        "letter_seq = ''.join(c.lower() for c in text if c not in exclude)\n",
        "#print(letter_seq)\n",
        "# summarize occurring letters\n",
        "summary = {}\n",
        "for letter in letter_seq:\n",
        "  if letter in summary:\n",
        "    summary[letter] += 1\n",
        "  else:\n",
        "    summary[letter] = 1\n",
        "# sort by key\n",
        "summary_sorted = sorted(summary.items())\n",
        "for w, c in summary_sorted:\n",
        "  print(f'{w:<5}{c}')\n",
        "\n",
        "# find letters not included\n",
        "alphabet = set(string.ascii_lowercase)\n",
        "letters = set(summary.keys())\n",
        "print(f'Letters not appearing: {alphabet ^ letters}')\n"
      ],
      "metadata": {
        "id": "JYFJ6Zl19LMb",
        "outputId": "09f9a76f-8b8b-4b12-c202-56d668e26151",
        "colab": {
          "base_uri": "https://localhost:8080/"
        }
      },
      "execution_count": 27,
      "outputs": [
        {
          "output_type": "stream",
          "name": "stdout",
          "text": [
            "a    9\n",
            "b    4\n",
            "c    6\n",
            "d    4\n",
            "e    12\n",
            "g    3\n",
            "h    3\n",
            "i    6\n",
            "k    1\n",
            "l    8\n",
            "m    5\n",
            "n    8\n",
            "o    12\n",
            "r    2\n",
            "s    3\n",
            "t    9\n",
            "u    3\n",
            "w    2\n",
            "x    3\n",
            "y    1\n",
            "Letters not appearing: {'p', 'f', 'v', 'q', 'z', 'j'}\n"
          ]
        }
      ]
    },
    {
      "cell_type": "markdown",
      "source": [
        "## Set"
      ],
      "metadata": {
        "id": "_q6f1zVr9eEY"
      }
    },
    {
      "cell_type": "code",
      "source": [
        "# Dict manipulations\n",
        "tlds = {'Canada': 'ca', 'United States': 'us', 'Mexico': 'mx'}\n",
        "# contains the key 'Canada'?\n",
        "'Canada' in tlds\n",
        "# contains key 'France'?\n",
        "'France' in tlds\n",
        "# loop key-value pairs, display them in two-column format\n",
        "for k, v in tlds.items():\n",
        "  print(f'{k:<12}{v}')\n",
        "# add new pair 'Sweden':'sw' (incorrect)\n",
        "tlds['Sweden'] = 'sw'\n",
        "# update value of 'Sweden' to 'se'\n",
        "tlds['Sweden'] = 'se'\n",
        "print(tlds)\n",
        "# use dict comprehension to reverse keys and values\n",
        "tlds_swap = { v:k for k, v in tlds.items() }\n",
        "# In the reversed dict, convert country names to all uppercase letters\n"
      ],
      "metadata": {
        "colab": {
          "base_uri": "https://localhost:8080/"
        },
        "id": "jEalITLjxl1h",
        "outputId": "7799af19-e96c-48a9-da41-964629bc1f90"
      },
      "execution_count": null,
      "outputs": [
        {
          "output_type": "stream",
          "name": "stdout",
          "text": [
            "Canada      ca\n",
            "United Statesus\n",
            "Mexico      mx\n",
            "{'Canada': 'ca', 'United States': 'us', 'Mexico': 'mx', 'Sweden': 'se'}\n"
          ]
        },
        {
          "output_type": "execute_result",
          "data": {
            "text/plain": [
              "{'ca': 'Canada', 'us': 'United States', 'mx': 'Mexico', 'se': 'Sweden'}"
            ]
          },
          "metadata": {},
          "execution_count": 25
        }
      ]
    },
    {
      "cell_type": "code",
      "source": [
        "# \n",
        "x, y = {'red', 'green', 'blue'}, {'cyan', 'green', 'blue', 'magenta', 'red'}\n",
        "'''comparisonn ops\n",
        "'''\n",
        "print(x == y, x != y, x < y, x > y, x <= y, x >= y)\n",
        "print(x.issubset(y), x.issuperset(y))\n",
        "print(y.issubset(x), y.issuperset(x))\n",
        "'''math ops\n",
        "'''\n",
        "print(x.union(y), x | y)\n",
        "print(x.intersection(y), x & y)\n",
        "print(x.difference(y), x - y)\n",
        "print(y.difference(x), y - x)\n",
        "\n",
        "print(x.symmetric_difference(y), x ^ y)"
      ],
      "metadata": {
        "colab": {
          "base_uri": "https://localhost:8080/"
        },
        "id": "0Nxj47SZ1vGQ",
        "outputId": "18d47ec0-516e-4500-e348-9f8f32e80f2b"
      },
      "execution_count": 3,
      "outputs": [
        {
          "output_type": "stream",
          "name": "stdout",
          "text": [
            "False True True False True False\n",
            "True False\n",
            "False True\n",
            "{'green', 'red', 'blue', 'cyan', 'magenta'} {'green', 'red', 'blue', 'cyan', 'magenta'}\n",
            "{'green', 'blue', 'red'} {'green', 'blue', 'red'}\n",
            "set() set()\n",
            "{'magenta', 'cyan'} {'magenta', 'cyan'}\n",
            "{'magenta', 'cyan'} {'magenta', 'cyan'}\n"
          ]
        }
      ]
    }
  ]
}