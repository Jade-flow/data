{
  "nbformat": 4,
  "nbformat_minor": 0,
  "metadata": {
    "colab": {
      "provenance": [],
      "authorship_tag": "ABX9TyO92XN48zH6X88+1tg+hCk2",
      "include_colab_link": true
    },
    "kernelspec": {
      "name": "python3",
      "display_name": "Python 3"
    },
    "language_info": {
      "name": "python"
    }
  },
  "cells": [
    {
      "cell_type": "markdown",
      "metadata": {
        "id": "view-in-github",
        "colab_type": "text"
      },
      "source": [
        "<a href=\"https://colab.research.google.com/github/remjw/data/blob/master/advanced_ch6_ex.ipynb\" target=\"_parent\"><img src=\"https://colab.research.google.com/assets/colab-badge.svg\" alt=\"Open In Colab\"/></a>"
      ]
    },
    {
      "cell_type": "code",
      "execution_count": 16,
      "metadata": {
        "colab": {
          "base_uri": "https://localhost:8080/"
        },
        "id": "Ud6jY9oXtfIW",
        "outputId": "2633e4f0-54c6-45e0-cf47-14475093d721"
      },
      "outputs": [
        {
          "output_type": "stream",
          "name": "stdout",
          "text": [
            "and         2\n",
            "colab       3\n",
            "in          2\n",
            "notebooks   4\n",
            "or          2\n",
            "them        2\n",
            "to          2\n",
            "with        2\n",
            "you         3\n",
            "your        4\n"
          ]
        }
      ],
      "source": [
        "# count duplicate words (or unique words)\n",
        "# use dictionary to determine and print number of duplicate words in a sentense.\n",
        "# treat uppercase and lowercase letters the same. \n",
        "# exclude punctuations \n",
        "import string\n",
        "text = ('Colab notebooks allow you to combine executable code and rich text '\n",
        "'in a single document, along with images, HTML, LaTeX and more.'\n",
        "'When you create your own Colab notebooks, '\n",
        "'they are stored in your Google Drive account. '\n",
        "'You can easily share your Colab notebooks with co-workers or friends, ' \n",
        "'allowing them to comment on your notebooks or even edit them. ')\n",
        "exclude = set(string.punctuation)\n",
        "text = ''.join(c for c in text if c not in exclude)\n",
        "\n",
        "word_counts = {}\n",
        "for word in text.split():\n",
        "  w = word.lower()\n",
        "  if w in word_counts:\n",
        "    word_counts[w] += 1\n",
        "  else:\n",
        "    word_counts[w] = 1\n",
        "\n",
        "word_counts_sorted = sorted(word_counts.items()) #list of tuples\n",
        "\n",
        "duplicates = { w:c for w, c in word_counts_sorted if c > 1 }\n",
        "for w, c in duplicates.items():\n",
        "  print(f'{w:<12}{c}')"
      ]
    },
    {
      "cell_type": "code",
      "source": [
        "# Dict manipulations\n",
        "tlds = {'Canada': 'ca', 'United States': 'us', 'Mexico': 'mx'}\n",
        "# contains the key 'Canada'?\n",
        "'Canada' in tlds\n",
        "# contains key 'France'?\n",
        "'France' in tlds\n",
        "# loop key-value pairs, display them in two-column format\n",
        "for k, v in tlds.items():\n",
        "  print(f'{k:<12}{v}')\n",
        "# add new pair 'Sweden':'sw' (incorrect)\n",
        "tlds['Sweden'] = 'sw'\n",
        "# update value of 'Sweden' to 'se'\n",
        "tlds['Sweden'] = 'se'\n",
        "print(tlds)\n",
        "# use dict comprehension to reverse keys and values\n",
        "tlds_swap = { v:k for k, v in tlds.items() }\n",
        "# In the reversed dict, convert country names to all uppercase letters\n"
      ],
      "metadata": {
        "colab": {
          "base_uri": "https://localhost:8080/"
        },
        "id": "jEalITLjxl1h",
        "outputId": "7799af19-e96c-48a9-da41-964629bc1f90"
      },
      "execution_count": 25,
      "outputs": [
        {
          "output_type": "stream",
          "name": "stdout",
          "text": [
            "Canada      ca\n",
            "United Statesus\n",
            "Mexico      mx\n",
            "{'Canada': 'ca', 'United States': 'us', 'Mexico': 'mx', 'Sweden': 'se'}\n"
          ]
        },
        {
          "output_type": "execute_result",
          "data": {
            "text/plain": [
              "{'ca': 'Canada', 'us': 'United States', 'mx': 'Mexico', 'se': 'Sweden'}"
            ]
          },
          "metadata": {},
          "execution_count": 25
        }
      ]
    },
    {
      "cell_type": "code",
      "source": [
        "# \n",
        "x, y = {'red', 'green', 'blue'}, {'cyan', 'green', 'blue', 'magenta', 'red'}\n",
        "'''comparisonn ops\n",
        "'''\n",
        "print(x == y, x != y, x < y, x > y, x <= y, x >= y)\n",
        "print(x.issubset(y), x.issuperset(y))\n",
        "print(y.issubset(x), y.issuperset(x))\n",
        "'''math ops\n",
        "'''\n",
        "print(x.union(y), x | y)\n",
        "print(x.intersection(y), x & y)\n",
        "print(x.difference(y), x - y)\n",
        "print(x.symmetric_difference(y), x ^ y)"
      ],
      "metadata": {
        "colab": {
          "base_uri": "https://localhost:8080/"
        },
        "id": "0Nxj47SZ1vGQ",
        "outputId": "8d5f259b-e298-47a2-dc33-91881371091b"
      },
      "execution_count": 30,
      "outputs": [
        {
          "output_type": "stream",
          "name": "stdout",
          "text": [
            "False True True False True False\n",
            "True False\n",
            "False True\n",
            "{'magenta', 'green', 'red', 'blue', 'cyan'} {'magenta', 'green', 'red', 'blue', 'cyan'}\n",
            "{'green', 'red', 'blue'} {'green', 'red', 'blue'}\n",
            "set() set()\n",
            "{'magenta', 'cyan'} {'magenta', 'cyan'}\n"
          ]
        }
      ]
    }
  ]
}