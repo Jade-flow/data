{
  "nbformat": 4,
  "nbformat_minor": 0,
  "metadata": {
    "colab": {
      "provenance": [],
      "authorship_tag": "ABX9TyNZDFUXJdLESetFk4E2OhAh",
      "include_colab_link": true
    },
    "kernelspec": {
      "name": "python3",
      "display_name": "Python 3"
    },
    "language_info": {
      "name": "python"
    }
  },
  "cells": [
    {
      "cell_type": "markdown",
      "metadata": {
        "id": "view-in-github",
        "colab_type": "text"
      },
      "source": [
        "<a href=\"https://colab.research.google.com/github/remjw/data/blob/master/exceptions-revel.ipynb\" target=\"_parent\"><img src=\"https://colab.research.google.com/assets/colab-badge.svg\" alt=\"Open In Colab\"/></a>"
      ]
    },
    {
      "cell_type": "markdown",
      "source": [
        "# Exceptions"
      ],
      "metadata": {
        "id": "o6Gn-xI91bcy"
      }
    },
    {
      "cell_type": "markdown",
      "source": [
        "Two variables, x and y, supposedly hold strings of digits. Write code that converts these to integers and assigns a variable z the sum of these two integers. Make sure that if either x or y has bad data (that is, not a string of digits), z will be assigned the value of -1."
      ],
      "metadata": {
        "id": "Z5xgY3xW1e0A"
      }
    },
    {
      "cell_type": "code",
      "execution_count": 10,
      "metadata": {
        "colab": {
          "base_uri": "https://localhost:8080/"
        },
        "id": "s16bxGPS1azf",
        "outputId": "58cd7710-7c1c-4336-cdcd-e04fda77d2f5"
      },
      "outputs": [
        {
          "output_type": "stream",
          "name": "stdout",
          "text": [
            "-1\n"
          ]
        }
      ],
      "source": [
        "x, y = \"123456\", \"a\"\n",
        "\n",
        "try:\n",
        "  z = int(x) + int(y)\n",
        "except Exception as e:\n",
        "  z = -1\n",
        "finally:\n",
        "  print(z)"
      ]
    },
    {
      "cell_type": "markdown",
      "source": [
        "Two variables, num_dogs and num_cats, hold the number of dogs and cats that have registered for a pet daycare. The budget variable holds the number of dollars that have been allocated to the daycare for the year.\n",
        "Write code that displays the per-pet budget (dollar spent per pet), rounded to two decimal places. If a division by zero error takes place, just print out the word \"unavailable\"."
      ],
      "metadata": {
        "id": "MzlTR9fY2qTi"
      }
    },
    {
      "cell_type": "code",
      "source": [
        "num_dogs, num_cats, budget = 0, 0, 100.99\n",
        "\n",
        "try:\n",
        "  result = f'{budget / (num_dogs + num_cats):.2f}'\n",
        "except Exception as e:\n",
        "  result = \"unavailable\"\n",
        "finally:\n",
        "  print(result)"
      ],
      "metadata": {
        "colab": {
          "base_uri": "https://localhost:8080/"
        },
        "id": "KLvT1yQs2rg3",
        "outputId": "835f0118-8d6a-4355-9d0a-e771603f7907"
      },
      "execution_count": 5,
      "outputs": [
        {
          "output_type": "stream",
          "name": "stdout",
          "text": [
            "unavailable\n"
          ]
        }
      ]
    },
    {
      "cell_type": "markdown",
      "source": [
        "**Difficult** Three variables, x, y, and z, supposedly hold strings of digits, suitable for converting to integers. Write code that converts these three variables to integers and print the sum of these three integers. However, if any variable has a value that cannot be converted to an integer, display the string \"bad value(s) in: \" followed by the names of the variables that have bad values (separated by spaces, in alphabetically ascending order).\n",
        "\n",
        "For example, if the values of x, y, and z were respectively \"3\", \"9\", and \"2\" then the number 14 would be displayed; but if the values were \"abc\", \"15\", and \"boo\" then the output would be:\n",
        "\n",
        "`bad value(s) in: x z`"
      ],
      "metadata": {
        "id": "Yjpz4n_c3_Fz"
      }
    },
    {
      "cell_type": "code",
      "source": [
        "x, y, z = \"abc\", \"345\", \"abc\"\n",
        "\n",
        "try: \n",
        "  result = int(x) + int(y) + int(z)\n",
        "except:\n",
        "  result = \"bad value(s)\"\n",
        "finally:\n",
        "  print(result)"
      ],
      "metadata": {
        "colab": {
          "base_uri": "https://localhost:8080/"
        },
        "id": "5_R1Z0FG4CSO",
        "outputId": "cbe55e35-fbfc-44c7-b7bf-437287d6cb16"
      },
      "execution_count": 13,
      "outputs": [
        {
          "output_type": "stream",
          "name": "stdout",
          "text": [
            "bad value(s)\n"
          ]
        }
      ]
    },
    {
      "cell_type": "code",
      "source": [
        "x, y, z = \"abc\", \"345\", \"abc\"\n",
        "#x, y, z = \"1\", \"345\", \"1\"\n",
        "\n",
        "result, errmsg = 0, 'bad value(s) in: '\n",
        "base = len(errmsg)\n",
        "\n",
        "a, b, c = None, None, None\n",
        "\n",
        "try: \n",
        "  a = int(x)\n",
        "except Exception:\n",
        "  errmsg += 'x '\n",
        "\n",
        "try: \n",
        "  b = int(y)\n",
        "except Exception:\n",
        "  errmsg += 'y '\n",
        "\n",
        "try: \n",
        "  c = int(z)\n",
        "except Exception:\n",
        "  errmsg += 'z '\n",
        "else:\n",
        "  print(f'{a+b+c}')\n",
        "finally:\n",
        "  if len(errmsg) > base:\n",
        "    print(errmsg)"
      ],
      "metadata": {
        "colab": {
          "base_uri": "https://localhost:8080/"
        },
        "id": "ZQfTLFRV5BLB",
        "outputId": "4718960e-0924-4a95-82cd-59aa46a2e2b1"
      },
      "execution_count": 22,
      "outputs": [
        {
          "output_type": "stream",
          "name": "stdout",
          "text": [
            "347\n"
          ]
        }
      ]
    }
  ]
}