{
  "cells": [
    {
      "cell_type": "markdown",
      "metadata": {
        "id": "view-in-github",
        "colab_type": "text"
      },
      "source": [
        "<a href=\"https://colab.research.google.com/github/remjw/data/blob/master/notebook/revel-encrypt-decrypt-student-work.ipynb\" target=\"_parent\"><img src=\"https://colab.research.google.com/assets/colab-badge.svg\" alt=\"Open In Colab\"/></a>"
      ]
    },
    {
      "cell_type": "markdown",
      "source": [
        "## Ch9 Encoding Program Students' Work\n",
        "\n",
        "2023 spring\n"
      ],
      "metadata": {
        "id": "drD5DGbTaBIP"
      },
      "id": "drD5DGbTaBIP"
    },
    {
      "cell_type": "markdown",
      "source": [
        "### Assume three filenames for original data, output from encryption and decryption, respectively.\n",
        "\n",
        "- Original data: raw.txt\n",
        "- encrypt: from raw.txt to encrypted.txt\n",
        "- decrypt: from encrypted.txt to decrypted.txt"
      ],
      "metadata": {
        "id": "3vYShhkeDDe3"
      },
      "id": "3vYShhkeDDe3"
    },
    {
      "cell_type": "code",
      "source": [
        "# Create test data in raw.txt\n",
        "raw = 'raw.txt'\n",
        "encrypted_file = 'encrypted.txt'\n",
        "decrypted_file = 'decrypted.txt'\n",
        "\n",
        "# generate raw.txt in python\n",
        "with open(raw, 'w') as f: \n",
        "  f.write(\"AB CDD CA 123\")\n",
        "\n",
        "# read raw.txt\n",
        "with open(raw, 'r') as f: \n",
        "  print(f.read())"
      ],
      "metadata": {
        "id": "o2IZJZwF6wib",
        "outputId": "6a7ff198-866a-480e-a7c6-6993608d14b5",
        "colab": {
          "base_uri": "https://localhost:8080/"
        }
      },
      "id": "o2IZJZwF6wib",
      "execution_count": null,
      "outputs": [
        {
          "output_type": "stream",
          "name": "stdout",
          "text": [
            "AB CDD CA 123\n"
          ]
        }
      ]
    },
    {
      "cell_type": "markdown",
      "source": [
        "## V1 Straightforward, consistent with the chapter text"
      ],
      "metadata": {
        "id": "_C15nbh0DBkB"
      },
      "id": "_C15nbh0DBkB"
    },
    {
      "cell_type": "code",
      "source": [
        "# v1: straightforward, consistent with the chapter text\n",
        "\n",
        "# v1: encryption\n",
        "raw = 'raw.txt'\n",
        "encrypted_file = 'encrypted.txt'\n",
        "decrypted_file = 'decrypted.txt'\n",
        "\n",
        "CODES = {\n",
        "    'A': '%', 'B': '@', 'C': '#', 'D': '$', 'E': '^', 'F': '&',\n",
        "    'G': '*', 'H': '(', 'I': ')', 'J': '-', 'K': '+', 'L': '=',\n",
        "    'M': '[', 'N': ']', 'O': '{', 'P': '}', 'Q': '|', 'R': '/',\n",
        "    'S': ';', 'T': ':', 'U': '<', 'V': '>', 'W': ',', 'X': '.',\n",
        "    'Y': '?', 'Z': '!'\n",
        "}\n",
        "with open(raw, 'r') as file:\n",
        "    contents = file.read()\n",
        "\n",
        "encrypted_contents = ''\n",
        "\n",
        "for character in contents:\n",
        "    if character in CODES:\n",
        "        encrypted_contents += CODES[character]\n",
        "    else:\n",
        "        encrypted_contents += character\n",
        "        \n",
        "with open(encrypted_file, 'w') as file:\n",
        "    file.write(encrypted_contents)\n",
        "\n",
        "# read encrypted_file\n",
        "with open(encrypted_file, 'r') as f: \n",
        "  print(f.read())\n"
      ],
      "metadata": {
        "id": "SO8qwgq6B-nh",
        "outputId": "61bd12e8-03c9-4715-cd10-9e0d894f78a4",
        "colab": {
          "base_uri": "https://localhost:8080/"
        }
      },
      "id": "SO8qwgq6B-nh",
      "execution_count": null,
      "outputs": [
        {
          "output_type": "stream",
          "name": "stdout",
          "text": [
            "%@ #$\n",
            "$ #%\n",
            "123\n"
          ]
        }
      ]
    },
    {
      "cell_type": "code",
      "source": [
        "# v1: decryption \n",
        "# Create DECODES from CODES\n",
        "CODES = {\n",
        "    'A': '%', 'B': '@', 'C': '#', 'D': '$', 'E': '^', 'F': '&',\n",
        "    'G': '*', 'H': '(', 'I': ')', 'J': '-', 'K': '+', 'L': '=',\n",
        "    'M': '[', 'N': ']', 'O': '{', 'P': '}', 'Q': '|', 'R': '/',\n",
        "    'S': ';', 'T': ':', 'U': '<', 'V': '>', 'W': ',', 'X': '.',\n",
        "    'Y': '?', 'Z': '!'\n",
        "}\n",
        "# swap keys and values in CODES\n",
        "keys = list(CODES.values())\n",
        "values = list(CODES.keys())\n",
        "DECODES = dict(zip(values, keys))\n",
        "\n",
        "# Alternatively, comprehension\n",
        "DECODES = {value:key for key, value in CODES.items()}\n",
        "\n",
        "# open file\n",
        "with open(encrypted_file, 'r') as file:\n",
        "    contents = file.read()\n",
        "# decrypt\n",
        "decrypted_contents = ''\n",
        "for character in contents:\n",
        "    if character in DECODES:\n",
        "        decrypted_contents += DECODES[character]\n",
        "    else:\n",
        "        decrypted_contents += character\n",
        "\n",
        "with open(decrypted_file, 'w') as file:\n",
        "    file.write(decrypted_contents)\n",
        "\n",
        "# read dcrypted_file\n",
        "with open(decrypted_file, 'r') as f: \n",
        "  print(f.read())"
      ],
      "metadata": {
        "id": "xpIHI9dOCQC3",
        "outputId": "0e0fe786-1ebf-47e2-f075-04e25a0e8d7f",
        "colab": {
          "base_uri": "https://localhost:8080/"
        }
      },
      "id": "xpIHI9dOCQC3",
      "execution_count": null,
      "outputs": [
        {
          "output_type": "stream",
          "name": "stdout",
          "text": [
            "AB CD\n",
            "D CA\n",
            "123\n"
          ]
        }
      ]
    },
    {
      "cell_type": "markdown",
      "source": [
        "## V2: A Creatitive use case: translation between English and Japanese"
      ],
      "metadata": {
        "id": "8oqM32aReSfH"
      },
      "id": "8oqM32aReSfH"
    },
    {
      "cell_type": "code",
      "source": [
        "# write contents to file\n",
        "contents = \"Sudachi\\nOrange\\nBanana\"\n",
        "with open('contents.txt', 'w') as f:\n",
        "    f.write(contents)\n",
        "codes = {'A': 'あ', 'a': 'ア', 'B': 'い', 'b': 'イ', 'C': 'う', 'c': 'ウ',\n",
        "         'D': 'え', 'd': 'エ', 'E': 'お', 'e': 'オ', 'F': 'か', 'f': 'カ',\n",
        "         'G': 'き', 'g': 'キ', 'H': 'く', 'h': 'ク', 'I': 'け', 'i': 'ケ',\n",
        "         'J': 'こ', 'j': 'コ', 'K': 'さ', 'k': 'サ', 'L': 'し', 'l': 'シ',\n",
        "         'M': 'す', 'm': 'ス', 'N': 'せ', 'n': 'セ', 'O': 'そ', 'o': 'ソ',\n",
        "         'P': 'た', 'p': 'タ', 'Q': 'ち', 'q': 'チ', 'R': 'つ', 'r': 'ツ',\n",
        "         'S': 'て', 's': 'テ', 'T': 'と', 't': 'ト', 'U': 'な', 'u': 'ナ',\n",
        "         'V': 'に', 'v': 'ニ', 'W': 'ぬ', 'w': 'ヌ', 'X': 'ね', 'x': 'ネ',\n",
        "         'Y': 'の', 'y': 'ノ', 'Z': 'は', 'z': 'ハ'\n",
        "         }\n",
        "filename = 'contents.txt'\n",
        "encrypted = ''\n",
        "# open file\n",
        "with open(filename, 'r') as f:\n",
        "    # get first character\n",
        "    next_char = f.read(1)\n",
        "    while next_char != \"\":\n",
        "        code = codes[next_char] if next_char in codes else next_char\n",
        "        encrypted += code\n",
        "        print(f'Read {next_char} encoded to {code}')\n",
        "        # get next character\n",
        "        next_char = f.read(1)\n",
        "print(encrypted)\n",
        "# write encrpyted to file\n",
        "with open('encrypted.txt', 'w') as f:\n",
        "    f.write(encrypted)"
      ],
      "metadata": {
        "id": "EdAAQ-QHeRIR",
        "outputId": "9136ed87-5973-4245-df8b-18283c86bd30",
        "colab": {
          "base_uri": "https://localhost:8080/"
        }
      },
      "id": "EdAAQ-QHeRIR",
      "execution_count": null,
      "outputs": [
        {
          "output_type": "stream",
          "name": "stdout",
          "text": [
            "Read S encoded to て\n",
            "Read u encoded to ナ\n",
            "Read d encoded to エ\n",
            "Read a encoded to ア\n",
            "Read c encoded to ウ\n",
            "Read h encoded to ク\n",
            "Read i encoded to ケ\n",
            "Read \n",
            " encoded to \n",
            "\n",
            "Read O encoded to そ\n",
            "Read r encoded to ツ\n",
            "Read a encoded to ア\n",
            "Read n encoded to セ\n",
            "Read g encoded to キ\n",
            "Read e encoded to オ\n",
            "Read \n",
            " encoded to \n",
            "\n",
            "Read B encoded to い\n",
            "Read a encoded to ア\n",
            "Read n encoded to セ\n",
            "Read a encoded to ア\n",
            "Read n encoded to セ\n",
            "Read a encoded to ア\n",
            "てナエアウクケ\n",
            "そツアセキオ\n",
            "いアセアセア\n"
          ]
        }
      ]
    },
    {
      "cell_type": "markdown",
      "source": [
        "## V3: While-loop"
      ],
      "metadata": {
        "id": "tmuzFOzyhM0r"
      },
      "id": "tmuzFOzyhM0r"
    },
    {
      "cell_type": "code",
      "source": [
        "# Decrypt with while-loop\n",
        "with open('encrypted.txt', 'w') as f:\n",
        "  f.write('''[<+58=] ~/C''')\n",
        "with open('encrypted.txt', 'r') as f:\n",
        "  print(f.read())  \n",
        "\n",
        "codes = {'A':'%', 'a':'9', 'B':'@', 'b':'#', 'C':'$', 'c':'`', 'D':'3', 'd':'^',\n",
        "         'E':'1', 'e':'&', 'F':'*', 'f':'~', 'G':'a', 'g':'b', 'H':'7', 'h':'(',\n",
        "         'I':'-','i':'z', 'J':'_', 'j':'/', 'K':'l', 'k':'2', 'L':'6', 'l':'\"', \n",
        "'M':'=', 'm':'}', 'N':'C','n':'D', 'O':'>', 'o':'5', 'P':'0', 'p':';', 'Q':')',\n",
        "'q':']', \n",
        "'R':'|', 'r':'B', 'S': 'd', 's':'4', 'T':'?', 't':'c', 'U':'<', 'u':'{', \n",
        "'V':'8', 'v':'p', 'W':'g', 'w':'h', 'X':'i', 'x':'j', 'Y':'[', 'y':'+',\n",
        " 'Z': 'k', 'z':'A'}\n",
        "decoders = {v:k for k, v in codes.items()}\n",
        "\n",
        "with open ('decrypted.txt','w') as outfile, open('encrypted.txt', 'r') as infile:\n",
        "    while True:\n",
        "        line = infile.readline().rstrip()\n",
        "        if not line:\n",
        "            break\n",
        "        new_line=''\n",
        "        for c in line:\n",
        "            if c in decoders:\n",
        "                new_line += decoders[c]\n",
        "            else:\n",
        "                new_line += c\n",
        "        #print(new_line)\n",
        "        outfile.write(f'{new_line}')\n",
        "\n",
        "\n",
        "with open('decrypted.txt', 'r') as f:\n",
        "  print(f.read())         "
      ],
      "metadata": {
        "id": "2OuHdLvJhMUt",
        "outputId": "29c82e24-cb68-4a7d-9cb2-3c758539b48f",
        "colab": {
          "base_uri": "https://localhost:8080/"
        }
      },
      "id": "2OuHdLvJhMUt",
      "execution_count": null,
      "outputs": [
        {
          "output_type": "stream",
          "name": "stdout",
          "text": [
            "[<+58=] ~/C\n",
            "YUyoVMq fjN\n"
          ]
        }
      ]
    },
    {
      "cell_type": "markdown",
      "source": [
        "## V4 : Augmented functions besides the basic requirements\n",
        "\n",
        "- Allow user to select input file and specify filename for output during execution time\n",
        "- Modular programming\n",
        "- Nicely commented code for others"
      ],
      "metadata": {
        "id": "d3omE-PZDXlt"
      },
      "id": "d3omE-PZDXlt"
    },
    {
      "cell_type": "code",
      "source": [
        "# Define coding set for encryption\n",
        "CODES = {'A': '1', 'B': '2', 'C': '3', 'D': '4', 'E': '5', 'F': '6', 'G': '7',\n",
        "         'H': '8', 'I': '9', 'J': '!', 'K': '@', 'L': '#', 'M': '$', 'N': '%',\n",
        "         'O': '^', 'P': '&', 'Q': '*', 'R': '(', 'S': ')', 'T': '-', 'U': '_',\n",
        "         'V': '+', 'W': '=', 'X': '[', 'Y': ']', 'Z': '{', 'a': '}', 'b': '|',\n",
        "         'c': ':', 'd': ';', 'e': '<', 'f': '>', 'g': ',', 'h': '.', 'i': '/',\n",
        "         'j': '?', 'k': 'A', 'l': 'B', 'm': 'C', 'n': 'D', 'o': 'E', 'p': 'F',\n",
        "         'q': 'G', 'r': 'H', 's': 'I', 't': 'J', 'u': 'K', 'v': 'L', 'w': 'M',\n",
        "         'x': 'N', 'y': 'O', 'z': 'P', '0': 'Q', '1': 'R', '2': 'S', '3': 'T',\n",
        "         '4': 'U', '5': 'V', '6': 'W', '7': 'X', '8': 'Y', '9': 'Z', ' ': '`',\n",
        "         '!': 'a', '@': 'b', '#': 'c', '$': 'd', '%': 'e', '^': 'f', '&': 'g',\n",
        "         '*': 'h', '(': 'i', ')': 'j', '-': 'k', '_': 'l', '+': 'm', '=': 'n',\n",
        "         '[': 'o', ']': 'p', '{': 'q', '}': 'r', '|': 's', ':': 't', ';': 'u',\n",
        "         '<': 'v', '>': 'w', ',': 'x', '.': 'y', '/': 'z', '?': '0'}\n",
        "# Swap key and value to create coding set for decryption\n",
        "DECODES = { v : k for k, v in CODES.items() }\n",
        "\n",
        "# Writes the message to a file\n",
        "def write_file(msg):\n",
        "    # Gathers the filename from the user\n",
        "    filename = input(\"Enter a filename to save the encrypted message: \")\n",
        "    with open(filename, 'w') as f:\n",
        "        f.write(msg)\n",
        "\n",
        "# Function to encrypt a message\n",
        "def encrypt(msg):\n",
        "    # Declares a new variable setting it to an empty string\n",
        "    encrypted_message = \"\"\n",
        "    # Looks at each letter in the message and assigns the value\n",
        "    # that matches the key in CODES dictionary to the new string\n",
        "    # declared above otherwise assigns the character to the new string\n",
        "    for letter in msg:\n",
        "        if letter in CODES:\n",
        "            encrypted_message += CODES[letter]\n",
        "        else:\n",
        "            encrypted_message += letter\n",
        "    # Displays the encrypted message\n",
        "    print(f'This is the encrypted message: \\n{encrypted_message}')\n",
        "    # Calls the write file function\n",
        "    write_file(encrypted_message)\n",
        "\n",
        "# Function to decrypt a message\n",
        "def decrypt(msg):\n",
        "    # Assigns a new variable to an empty string\n",
        "    decrypted_message = \"\"\n",
        "    # Looks at each char in the message and compares to the keys in\n",
        "    # the DECODES dictionary assigned respective values to the new\n",
        "    # string created above otherwise assigns the char to the string\n",
        "    for char in msg:\n",
        "        if char in DECODES:\n",
        "            decrypted_message += DECODES[char]\n",
        "        else:\n",
        "            decrypted_message += char\n",
        "    # Displays the decrypted message\n",
        "    print(f'This is the message after decryption: \\n{decrypted_message}')\n",
        "    # Calls the write file function\n",
        "    write_file(decrypted_message)\n",
        "\n",
        "def main_en():\n",
        "    # Ask the user for a filename to encrypt\n",
        "    filename = input(\"Enter the filename to encrypt: \")\n",
        "    # Read the encrypted message from the file\n",
        "    with open(filename, 'r') as f:\n",
        "        message = f.read()\n",
        "    # Displays the message from the file to be encrypted\n",
        "    print(f'This is the message to be encrypted: \\n{message}')\n",
        "    # Calls the encrypt function passing the message\n",
        "    encrypt(message)\n",
        "\n",
        "def main_de():\n",
        "    # Ask the user for a filename to decrypt\n",
        "    filename = input(\"Enter the filename to decrypt: \")\n",
        "    # Read the encrypted message from the file\n",
        "    with open(filename, 'r') as f:\n",
        "        encrypted_message = f.read()\n",
        "    # Displays the encrypted message to be decrypted\n",
        "    print(f'\\nThis is the message to be decrypted: \\n {encrypted_message}')\n",
        "    # Calls the decrypt function\n",
        "    decrypt(encrypted_message)\n",
        "\n",
        "# Calls main\n",
        "if __name__ == '__main__':\n",
        "  with open('raw.txt', 'w') as f:\n",
        "    f.write(\"AB CD\")\n",
        "  main_en()\n",
        "  main_de()"
      ],
      "metadata": {
        "id": "GzNDpBp9-6U7",
        "outputId": "1678bb56-a90f-4b72-9522-3404038deaae",
        "colab": {
          "base_uri": "https://localhost:8080/"
        }
      },
      "id": "GzNDpBp9-6U7",
      "execution_count": null,
      "outputs": [
        {
          "name": "stdout",
          "output_type": "stream",
          "text": [
            "Enter the filename to encrypt: raw.txt\n",
            "This is the message to be encrypted: \n",
            "AB CD\n",
            "This is the encrypted message: \n",
            "12`34\n",
            "Enter a filename to save the encrypted message: encrypted.txt\n",
            "Enter the filename to decrypt: encrypted.txt\n",
            "\n",
            "This is the message to be decrypted: \n",
            " 12`34\n",
            "This is the message after decryption: \n",
            "AB CD\n",
            "Enter a filename to save the encrypted message: encrypted.txt\n"
          ]
        }
      ]
    },
    {
      "cell_type": "markdown",
      "source": [
        "## V5 : Use one Coding Dictionary for both directions"
      ],
      "metadata": {
        "id": "x8Qrkm6GIt5q"
      },
      "id": "x8Qrkm6GIt5q"
    },
    {
      "cell_type": "code",
      "execution_count": null,
      "id": "2a8bb8c1",
      "metadata": {
        "id": "2a8bb8c1"
      },
      "outputs": [],
      "source": [
        "#  v3 : \n",
        "def encrypt(file):\n",
        "    crypto_dict = {'A':'☞','B':'♣','C':'וּ','D':'♠','E':'€','F':'§','G':'∝','H':'♥','I':'∴','J':'≅','K':'❀','L':'↑','M':'∞','N':'⇔','O':'↔','P':'≈','Q':'≠','R':'♦','S':'⊗','T':'∑','U':'¿','V':'}','W':'Ψ','X':'Π','Y':'Ω','Z':'»','a':'├','b':'╝','c':'╗','d':'©','e':'¥','f':'╬','g':'þ','h':'Þ','i':'¶','j':'■','k':'ð','l':'▓','m':'®','n':'º','o':'Ü','p':'«','q':'Ø','r':'$','s':'@','t':'#','u':'%','v':'*','w':'+','x':'+','y':'?','z':'¤'}\n",
        "    alphabet_list = ['A','B','C','D','E','F','G','H','I','J','K','L','M','N','O','P','Q','R','S','T','U','V','W','X','Y','Z','a','b','c','d','e','f','g','h','i','j','k','l','m','n','o','p','q','r','s','t','u','v','w','x','y','z']\n",
        "    alphabet = set(alphabet_list)\n",
        "    string = ''\n",
        "    with open(file,'r',encoding='UTF-8') as data:\n",
        "        new_data = data.read()\n",
        "        for i in new_data:\n",
        "            if i in alphabet:\n",
        "                string += crypto_dict[i]\n",
        "            else:\n",
        "                string += i\n",
        "    with open('encrypted.txt','w',encoding=\"utf-8\") as data:\n",
        "        data.write(string)\n",
        "\n",
        "def decrypt(file):\n",
        "    crypto_dict = {'A':'☞','B':'♣','C':'וּ','D':'♠','E':'€','F':'§','G':'∝','H':'♥','I':'∴','J':'≅','K':'❀','L':'↑','M':'∞','N':'⇔','O':'↔','P':'≈','Q':'≠','R':'♦','S':'⊗','T':'∑','U':'¿','V':'}','W':'Ψ','X':'Π','Y':'Ω','Z':'»','a':'├','b':'╝','c':'╗','d':'©','e':'¥','f':'╬','g':'þ','h':'Þ','i':'¶','j':'■','k':'ð','l':'▓','m':'®','n':'º','o':'Ü','p':'«','q':'Ø','r':'$','s':'@','t':'#','u':'%','v':'*','w':'+','x':'+','y':'?','z':'¤'}\n",
        "    symbol_list = ['☞','♣','וּ','♠','€','§','∝','♥','∴','≅','❀','↑','∞','⇔','↔','≈','≠','♦','⊗','∑','¿','}','Ψ','Π','Ω','»','├','╝','╗','©','¥','╬','þ','Þ','¶','■','ð','▓','®','º','Ü','«','Ø','$','@','#','%','*','+','+','?','¤']\n",
        "    symbols = set(symbol_list)\n",
        "    text = ''\n",
        "    with open(file,'r',encoding='UTF-8') as data:\n",
        "        new_data = data.read()\n",
        "        for i in new_data:\n",
        "            if i in symbols:\n",
        "                val_pos = list(crypto_dict.values()).index(i)\n",
        "                key = list(crypto_dict.keys())[val_pos]\n",
        "                text += key\n",
        "            else:\n",
        "                text += i    \n",
        "    with open('decrypted.txt','w',encoding=\"utf-8\") as data:\n",
        "        data.write(text)\n",
        "\n",
        "\n",
        "with open('raw.txt', 'w') as f:\n",
        "  f.write(\"AB CD\")\n",
        "\n",
        "encrypt('raw.txt')\n",
        "decrypt('encrypted.txt')\n"
      ]
    },
    {
      "cell_type": "markdown",
      "source": [
        "## V6: The One Inclusive to Most Features!\n",
        "\n",
        "- Chain two file `open` commands in one `with statement`\n",
        "\n",
        "- From comments, names to white space, almost everything in the program complies with Python's rules and conventions.\n",
        "\n",
        "- Exceptional handling by try-except statement\n",
        "\n",
        "- Allow user to choose coding type, encode or decode"
      ],
      "metadata": {
        "id": "qRzhbwLSOapv"
      },
      "id": "qRzhbwLSOapv"
    },
    {
      "cell_type": "code",
      "source": [
        "# V5: \n",
        "# Global variable for codes\n",
        "codes = {'A' : '%', 'a' : '9', 'B' : '@', 'b' : '#', 'C': '[', 'c': '♣', 'D': '~', 'd': '7', \n",
        "         'E': '>', 'e': '/', 'F': '♠', 'f': '5', 'G': '≡', 'g': '¶', 'H': '6', 'h': '©', \n",
        "         'I': '¥', 'i': '♪', 'J': '_', 'j': '=', 'K': '&', 'k': '€', 'L': '-', 'l': '1', \n",
        "         'M': '.', 'm': '`', 'N': '¢', 'n': ';', 'O': '3', 'o': '♀', 'P': '£', 'p': 'ε', \n",
        "         'Q': '2', 'q': '+', 'R': ' ', 'r': 'Ω', 'S': ',', 's': '(', 'T': '±', 't': '♥', \n",
        "         'U': ')', 'u': '?', 'V': '8', 'v': '↔', 'W': '®', 'w': '∩', 'X': '!', 'x': '♂', \n",
        "         'Y': '¿', 'y': '}', 'Z': '{', 'z': '♦', ' ' : '$'\n",
        "}\n",
        "def encoder():\n",
        "    # Inputs name for start and output files\n",
        "    start_file = input('Name of input file: ') + '.txt'\n",
        "    output_file = input('Name of output file: ') + '.txt'\n",
        "   \n",
        "    # Exception handling for start file not exisitng\n",
        "    try:\n",
        "        # Prepares input and outpfiles\n",
        "        with open(start_file, 'r') as read_file, open(output_file, 'w') as write_file:\n",
        "            \n",
        "            # Retrieves data from input file\n",
        "            data = str(read_file.read())\n",
        "\n",
        "            # Creates a list of input data\n",
        "            output_data = list(data)\n",
        "\n",
        "            # Converts each character into code\n",
        "            for i in range(len(data)):\n",
        "                output_data[i] = codes[data[i]]\n",
        "            \n",
        "            # Rejoins the list of characters into a string\n",
        "            output_data = ''.join(output_data)\n",
        "\n",
        "            # Creates a file using chosen name\n",
        "            write_file.write(output_data)\n",
        "    except FileNotFoundError:\n",
        "        print(f'{start_file} does not exist')\n",
        "    except KeyError:\n",
        "        print(f'_{data[i]}_: not found in the coding table.')\n",
        "\n",
        "\n",
        "def decoder():\n",
        "    start_file = input('Name of input file: ') + '.txt'\n",
        "\n",
        "    # Creates a reverse dictionary for decoding\n",
        "    decodes = dict(zip(codes.values(),codes.keys()))\n",
        "    output_data = ''\n",
        "    try: \n",
        "        # Opens chosed file\n",
        "        with open(start_file, 'r') as read_file:\n",
        "            \n",
        "            # Retrieves data from input file\n",
        "            data = str(read_file.read())\n",
        "\n",
        "            # Creates a list of input data\n",
        "            output_data = list(data)\n",
        "\n",
        "            # Convers each character into original format\n",
        "            for i in range(len(data)):\n",
        "                output_data[i] = decodes[data[i]]\n",
        "            \n",
        "            # Rejoins the list of characters into a string\n",
        "            output_data = ''.join(output_data)\n",
        "\n",
        "        # Displays decoded string\n",
        "        print(f'Decoded message: {output_data}')\n",
        "    except FileNotFoundError:\n",
        "        print(f'{start_file} does not exist')\n",
        "    except KeyError:\n",
        "        print(f'_{data[i]}_: not found in the coding table.')\n",
        "\n",
        "def main():\n",
        "    # Allows user to decide encoding vs decoding\n",
        "    decision = input('Would you like to decode or encode: ').upper()\n",
        "    \n",
        "    # Checks input\n",
        "    while decision != 'DECODE' and decision != 'ENCODE':\n",
        "        decision = input('Would you like to decode or encode: ').upper()\n",
        "\n",
        "    # Decoding path\n",
        "    if decision.upper() == 'DECODE':\n",
        "        decoder()\n",
        "    # Encoding Path\n",
        "    else:\n",
        "        encoder()\n",
        "\n",
        "if __name__ == '__main__':\n",
        "    main()"
      ],
      "metadata": {
        "id": "upalE4y4OYNg",
        "outputId": "6b039111-54f9-4e27-acf0-cf014587ca37",
        "colab": {
          "base_uri": "https://localhost:8080/"
        }
      },
      "id": "upalE4y4OYNg",
      "execution_count": null,
      "outputs": [
        {
          "output_type": "stream",
          "name": "stdout",
          "text": [
            "Would you like to decode or encode: encode\n",
            "Name of input file: raw\n",
            "Name of output file: encrypted\n",
            "_1_: not found in the coding table.\n"
          ]
        }
      ]
    }
  ],
  "metadata": {
    "kernelspec": {
      "display_name": "Python 3 (ipykernel)",
      "language": "python",
      "name": "python3"
    },
    "language_info": {
      "codemirror_mode": {
        "name": "ipython",
        "version": 3
      },
      "file_extension": ".py",
      "mimetype": "text/x-python",
      "name": "python",
      "nbconvert_exporter": "python",
      "pygments_lexer": "ipython3",
      "version": "3.9.12"
    },
    "colab": {
      "provenance": [],
      "include_colab_link": true
    }
  },
  "nbformat": 4,
  "nbformat_minor": 5
}