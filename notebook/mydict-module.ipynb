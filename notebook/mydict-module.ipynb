{
  "nbformat": 4,
  "nbformat_minor": 0,
  "metadata": {
    "colab": {
      "provenance": [],
      "authorship_tag": "ABX9TyO9QzMab9SRclTWBD3SUkzS",
      "include_colab_link": true
    },
    "kernelspec": {
      "name": "python3",
      "display_name": "Python 3"
    },
    "language_info": {
      "name": "python"
    }
  },
  "cells": [
    {
      "cell_type": "markdown",
      "metadata": {
        "id": "view-in-github",
        "colab_type": "text"
      },
      "source": [
        "<a href=\"https://colab.research.google.com/github/remjw/data/blob/master/notebook/mydict-module.ipynb\" target=\"_parent\"><img src=\"https://colab.research.google.com/assets/colab-badge.svg\" alt=\"Open In Colab\"/></a>"
      ]
    },
    {
      "cell_type": "markdown",
      "source": [
        "Module: mydict.py\n",
        "\n",
        "[From Lists to Dict (Revisit Morse Code)](https://cisjw.sitehost.iu.edu/pyp/py2/dict-from-list.html)\n"
      ],
      "metadata": {
        "id": "FTL9eyLfr7eJ"
      }
    },
    {
      "cell_type": "code",
      "source": [
        "# To access user-defined module from your computer\n",
        "# Run the cell to upload mydict.py to colab\n",
        "from google.colab import files\n",
        "uploaded = files.upload()\n",
        "# Open Files on left bar. The module should be listed."
      ],
      "metadata": {
        "id": "tcTZmSr1diFu"
      },
      "execution_count": null,
      "outputs": []
    },
    {
      "cell_type": "code",
      "source": [
        "# import statement to include the module\n",
        "import mydict"
      ],
      "metadata": {
        "id": "QdVC03wTee_4"
      },
      "execution_count": null,
      "outputs": []
    },
    {
      "cell_type": "code",
      "source": [
        "A = mydict.keys\n",
        "B = mydict.codes"
      ],
      "metadata": {
        "id": "nGah3gIKe3gJ"
      },
      "execution_count": null,
      "outputs": []
    },
    {
      "cell_type": "code",
      "source": [
        "morse_dict = mydict.list_to_dict(A, B)\n",
        "print(morse_dict)"
      ],
      "metadata": {
        "id": "rzpJSXqChzN6"
      },
      "execution_count": null,
      "outputs": []
    },
    {
      "cell_type": "code",
      "source": [
        "out = mydict.dict_to_file(morse_dict, \"morse-code.txt\", [\"symbol\",\"morse\"])\n",
        "print(f'You can access data in: {out}')"
      ],
      "metadata": {
        "id": "RRtIKFpWh2YU"
      },
      "execution_count": null,
      "outputs": []
    }
  ]
}