{
  "nbformat": 4,
  "nbformat_minor": 0,
  "metadata": {
    "colab": {
      "provenance": [],
      "authorship_tag": "ABX9TyNeYjYZiIsN/PKJqApWXIMr",
      "include_colab_link": true
    },
    "kernelspec": {
      "name": "python3",
      "display_name": "Python 3"
    },
    "language_info": {
      "name": "python"
    }
  },
  "cells": [
    {
      "cell_type": "markdown",
      "metadata": {
        "id": "view-in-github",
        "colab_type": "text"
      },
      "source": [
        "<a href=\"https://colab.research.google.com/github/remjw/data/blob/master/notebook/tim-class-experiment.ipynb\" target=\"_parent\"><img src=\"https://colab.research.google.com/assets/colab-badge.svg\" alt=\"Open In Colab\"/></a>"
      ]
    },
    {
      "cell_type": "code",
      "execution_count": 37,
      "metadata": {
        "id": "u2rrCTI52MvK"
      },
      "outputs": [],
      "source": [
        "import json\n",
        "\n",
        "class CellPhone:\n",
        "    def __init__(self, manufact, model, retail_price):\n",
        "        self.__manufact = manufact\n",
        "        self.__model = model\n",
        "        self.__retail_price = retail_price\n",
        "    def set_manufact(self, manu):\n",
        "        self.__manufact = manu\n",
        "    def set_model(self, model):\n",
        "        self.__model = model\n",
        "    def set_retail_price(self, price):\n",
        "        self.__retail_price = price\n",
        "    def get_manufact(self):\n",
        "        return self.__manufact\n",
        "    def get_model(self):\n",
        "        return self.__model\n",
        "    def get_retail_price(self):\n",
        "        return self.__retail_price\n",
        "\n",
        "file1 = 'cellphones.txt'\n",
        "file2 = 'cellphones.json'\n",
        "\n",
        "def write_file():\n",
        "    again = 'y'\n",
        "    with open(file1,'w') as f1, open(file2, 'w') as f2:\n",
        "        while again.lower() == 'y':\n",
        "            man = input('Enter the manufacturer: ')\n",
        "            mod = input('Enter the model number: ')\n",
        "            retail = float(input(\"Enter the retail price: \"))\n",
        "            phone = CellPhone(man, mod, retail)\n",
        "            f1.write(f\"{phone.get_manufact()}, {phone.get_model()}, {phone.get_retail_price()}\\n\")\n",
        "            f2.write(f'{json.dumps(phone.__dict__)}\\n')\n",
        "            again = input(\"Enter more Data? (y/n): \")\n",
        "    print(f'The data was written to {file1} and {file2}')\n",
        "    return \n",
        "\n",
        "def read_file():\n",
        "    def display_data(phone):\n",
        "        print(f'Manufacturer: {phone.get_manufact()}')\n",
        "        print(f'Model Number: {phone.get_model()}')\n",
        "        print(f'Retail Price: ${phone.get_retail_price():,.2f}')\n",
        "        print()\n",
        "    with open(file1, 'r') as f1:\n",
        "        for line in f1:\n",
        "            man, mod, retail = [ token.strip() for token in line.strip().split(\",\") ]\n",
        "            phone = CellPhone(man, mod, float(retail))\n",
        "            display_data(phone)\n",
        "    return "
      ]
    },
    {
      "cell_type": "code",
      "source": [
        "write_file()"
      ],
      "metadata": {
        "id": "gz8YTfsb9BpL",
        "outputId": "33cca424-a95c-4e2d-ac84-9fed3dc403fe",
        "colab": {
          "base_uri": "https://localhost:8080/"
        }
      },
      "execution_count": 39,
      "outputs": [
        {
          "output_type": "stream",
          "name": "stdout",
          "text": [
            "Enter the manufacturer: w\n",
            "Enter the model number: 100\n",
            "Enter the retail price: 5.5\n",
            "Enter more Data? (y/n): y\n",
            "Enter the manufacturer: w\n",
            "Enter the model number: 00\n",
            "Enter the retail price: 9.5\n",
            "Enter more Data? (y/n): n\n",
            "The data was written to cellphones.txt and cellphones.json\n"
          ]
        }
      ]
    },
    {
      "cell_type": "code",
      "source": [
        "read_file()"
      ],
      "metadata": {
        "colab": {
          "base_uri": "https://localhost:8080/"
        },
        "id": "XyTe8QVW4y2e",
        "outputId": "d4df7e0e-2780-467e-8d74-070bdf443c4c"
      },
      "execution_count": 40,
      "outputs": [
        {
          "output_type": "stream",
          "name": "stdout",
          "text": [
            "Manufacturer: w\n",
            "Model Number: 100\n",
            "Retail Price: $5.50\n",
            "\n",
            "Manufacturer: w\n",
            "Model Number: 00\n",
            "Retail Price: $9.50\n",
            "\n"
          ]
        }
      ]
    },
    {
      "cell_type": "code",
      "source": [
        "def read_json(filename):\n",
        "  with open(filename, 'r') as f:\n",
        "    objs = f.read().strip().split(\"\\n\")\n",
        "  return objs"
      ],
      "metadata": {
        "id": "zkvnJT3A7Cqk"
      },
      "execution_count": 47,
      "outputs": []
    },
    {
      "cell_type": "code",
      "source": [
        "objs = read_json('cellphones.json')\n",
        "\n",
        "phones = list()\n",
        "\n",
        "for obj in objs:\n",
        "  phones.append(eval(obj))\n",
        "\n",
        "cnt = 0\n",
        "for phone in phones:\n",
        "  cnt += 1\n",
        "  print(f'phone {cnt}')\n",
        "  for k,v in phone.items():\n",
        "    print(f'{k} : {v}')"
      ],
      "metadata": {
        "id": "9qwpjTXS76jZ",
        "outputId": "2cef5127-2379-4613-d9df-bcfe8404091b",
        "colab": {
          "base_uri": "https://localhost:8080/"
        }
      },
      "execution_count": 59,
      "outputs": [
        {
          "output_type": "stream",
          "name": "stdout",
          "text": [
            "phone 1\n",
            "_CellPhone__manufact : w\n",
            "_CellPhone__model : 100\n",
            "_CellPhone__retail_price : 5.5\n",
            "phone 2\n",
            "_CellPhone__manufact : w\n",
            "_CellPhone__model : 00\n",
            "_CellPhone__retail_price : 9.5\n"
          ]
        }
      ]
    }
  ]
}