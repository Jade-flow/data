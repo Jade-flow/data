{
  "nbformat": 4,
  "nbformat_minor": 0,
  "metadata": {
    "colab": {
      "provenance": [],
      "authorship_tag": "ABX9TyMX/RYLUSnCncouWsfUUeta",
      "include_colab_link": true
    },
    "kernelspec": {
      "name": "python3",
      "display_name": "Python 3"
    },
    "language_info": {
      "name": "python"
    }
  },
  "cells": [
    {
      "cell_type": "markdown",
      "metadata": {
        "id": "view-in-github",
        "colab_type": "text"
      },
      "source": [
        "<a href=\"https://colab.research.google.com/github/remjw/data/blob/master/notebook/tim-class-experiment.ipynb\" target=\"_parent\"><img src=\"https://colab.research.google.com/assets/colab-badge.svg\" alt=\"Open In Colab\"/></a>"
      ]
    },
    {
      "cell_type": "code",
      "execution_count": 14,
      "metadata": {
        "id": "u2rrCTI52MvK"
      },
      "outputs": [],
      "source": [
        "class CellPhone:\n",
        "    def __init__(self, manufact, model, retail_price):\n",
        "        self.__manufact = manufact\n",
        "        self.__model = model\n",
        "        self.__retail_price = retail_price\n",
        "    def set_manufact(self, manu):\n",
        "        self.__manufact = manu\n",
        "    def set_model(self, model):\n",
        "        self.__model = model\n",
        "    def set_retail_price(self, price):\n",
        "        self.__retail_price = price\n",
        "    def get_manufact(self):\n",
        "        return self.__manufact\n",
        "    def get_model(self):\n",
        "        return self.__model\n",
        "    def get_retail_price(self):\n",
        "        return self.__retail_price\n",
        "\n",
        "file1 = 'cellphones.txt'\n",
        "file2 = 'cellphones.json'\n",
        "\n",
        "def write_file():\n",
        "    again = 'y'\n",
        "    with open(file1,'w') as f1, open(file2, 'w') as f2:\n",
        "        while again.lower() == 'y':\n",
        "            man = input('Enter the manufacturer: ')\n",
        "            mod = input('Enter the model number: ')\n",
        "            retail = float(input(\"Enter the retail price: \"))\n",
        "            phone = CellPhone(man, mod, retail)\n",
        "            f1.write(f\"{phone.get_manufact()}, {phone.get_model()}, {phone.get_retail_price()}\\n\")\n",
        "            f2.write(f'{phone.__dict__},')\n",
        "            again = input(\"Enter more Data? (y/n): \")\n",
        "    print(f'The data was written to {file1} and {file2}')\n",
        "    return \n",
        "\n",
        "def read_file():\n",
        "    def display_data(phone):\n",
        "        print(f'Manufacturer: {phone.get_manufact()}')\n",
        "        print(f'Model Number: {phone.get_model()}')\n",
        "        print(f'Retail Price: ${phone.get_retail_price():,.2f}')\n",
        "        print()\n",
        "    with open(file1, 'r') as f1:\n",
        "        for line in f1:\n",
        "            man, mod, retail = [ token.strip() for token in line.strip().split(\",\") ]\n",
        "            phone = CellPhone(man, mod, float(retail))\n",
        "            display_data(phone)\n",
        "    return "
      ]
    },
    {
      "cell_type": "code",
      "source": [
        "write_file()"
      ],
      "metadata": {
        "colab": {
          "base_uri": "https://localhost:8080/"
        },
        "id": "uXEzmmpv3DRO",
        "outputId": "7bbbedc2-543e-48e6-ac5e-3c7a88ea0df7"
      },
      "execution_count": 10,
      "outputs": [
        {
          "output_type": "stream",
          "name": "stdout",
          "text": [
            "Enter the manufacturer: w\n",
            "Enter the model number: 100\n",
            "Enter the retail price: 2\n",
            "Enter more Data? (y/n): y\n",
            "Enter the manufacturer: w\n",
            "Enter the model number: 200\n",
            "Enter the retail price: 5.6\n",
            "Enter more Data? (y/n): n\n",
            "The data was written to cellphones.txt and cellphones.json\n"
          ]
        }
      ]
    },
    {
      "cell_type": "code",
      "source": [
        "read_file()"
      ],
      "metadata": {
        "colab": {
          "base_uri": "https://localhost:8080/"
        },
        "id": "XyTe8QVW4y2e",
        "outputId": "d4843b19-64ec-4133-e919-0d69af023f4a"
      },
      "execution_count": 15,
      "outputs": [
        {
          "output_type": "stream",
          "name": "stdout",
          "text": [
            "Manufacturer: w\n",
            "Model Number: 100\n",
            "Retail Price: $2.00\n",
            "\n",
            "Manufacturer: w\n",
            "Model Number: 200\n",
            "Retail Price: $5.60\n",
            "\n"
          ]
        }
      ]
    }
  ]
}