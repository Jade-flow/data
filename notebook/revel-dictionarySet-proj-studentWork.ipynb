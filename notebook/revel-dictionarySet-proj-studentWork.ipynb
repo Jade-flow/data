{
  "cells": [
    {
      "cell_type": "markdown",
      "metadata": {
        "id": "view-in-github",
        "colab_type": "text"
      },
      "source": [
        "<a href=\"https://colab.research.google.com/github/remjw/data/blob/master/notebook/revel-dictionarySet-proj-studentWork.ipynb\" target=\"_parent\"><img src=\"https://colab.research.google.com/assets/colab-badge.svg\" alt=\"Open In Colab\"/></a>"
      ]
    },
    {
      "cell_type": "markdown",
      "source": [
        "## Ch 9 Revel Project 1 Student Work\n",
        "\n",
        "V1 - V7"
      ],
      "metadata": {
        "id": "drD5DGbTaBIP"
      },
      "id": "drD5DGbTaBIP"
    },
    {
      "cell_type": "code",
      "execution_count": null,
      "id": "2a8bb8c1",
      "metadata": {
        "id": "2a8bb8c1",
        "outputId": "5a596342-bfc7-44b4-9574-74a78cb055ba"
      },
      "outputs": [
        {
          "name": "stdout",
          "output_type": "stream",
          "text": [
            "class name:CS101\n",
            "Class: CS101\n",
            "Room: 3004\n",
            "Instructor: Haynes\n",
            "Time: 8:00am\n"
          ]
        }
      ],
      "source": [
        "# Project 1 - v1\n",
        "# highlight: straightforward, consistent\n",
        "\n",
        "ROOM = {'CS101':'3004','CS102':'4501','CS103':'6755','NT110':'1244','CM241':\n",
        "'1411'}\n",
        "INST = {'CS101':'Haynes','CS102':'Alvarado','CS103':'Rich','NT110':'Burke','CM241':'Lee'}\n",
        "TIME = {'CS101':'8:00am','CS102':'9:00am','CS103':'10:00am','NT110':'11:00am','CM241':'1:00pm'}\n",
        "c_n = input('Enter a class name:')\n",
        "print(f\"Class: {c_n}\")\n",
        "print(f\"Room: {ROOM[c_n]}\")\n",
        "print(f\"Instructor: {INST[c_n]}\")\n",
        "print(f\"Time: {TIME[c_n]}\")\n"
      ]
    },
    {
      "cell_type": "code",
      "source": [
        "# Project 1 - v2\n",
        "# highlight: dictionary's built-in GET method to handle KeyError\n",
        "\n",
        "room_numbers = {'CS101': '3004', 'CS102': '4501', 'CS103': '6755', 'NT110': '1244', 'CM241': \n",
        "'1411'}\n",
        "instructors = {'CS101': 'Haynes', 'CS102': 'Alvarado', 'CS103': 'Rich', 'NT110': 'Burke', 'CM241': \n",
        "'Lee'}\n",
        "meeting_times = {'CS101': '8:00am', 'CS102': '9:00am', 'CS103': '10:00am', 'NT110': '11:00am', \n",
        "'CM241': '1:00pm'}\n",
        "\n",
        "course_number = input('Enter a class name:')\n",
        "\n",
        "room_number = room_numbers.get(course_number)\n",
        "instructor = instructors.get(course_number)\n",
        "meeting_time = meeting_times.get(course_number)\n",
        "\n",
        "print('Class:', course_number)\n",
        "print('Room:', room_number)\n",
        "print('Instructor:', instructor)\n",
        "print('Time:', meeting_time)"
      ],
      "metadata": {
        "id": "C6oPbLGQaugR"
      },
      "id": "C6oPbLGQaugR",
      "execution_count": null,
      "outputs": []
    },
    {
      "cell_type": "code",
      "source": [
        "# Project 1 - v3\n",
        "# highlight: \n",
        "# use dict() constructor with zip(x,y) function to create a new dictionary from two objects x and y,\n",
        "# use first object x for keys, second object y for values.\n",
        "\n",
        "# Set information into coordinated lists\n",
        "course_num = ['CS101', 'CS102', 'CS103', 'NT110', 'CM241']\n",
        "room_num = ['3004', '4501', '6755', '1244', '1411']\n",
        "instructor = ['Haynes', 'Alvarado', 'Rich', 'Burke', 'Lee']\n",
        "mtg_time = ['8:00am', '9:00am', '10:00am', '11:00am', '1:00pm']\n",
        "\n",
        "# Create three dictionaries using course number as the key and room, instructor, time as values\n",
        "course_room = dict(zip(course_num, room_num))\n",
        "course_instructor = dict(zip(course_num, instructor))\n",
        "course_times = dict(zip(course_num, mtg_time))\n",
        "\n",
        "# Ask for class name\n",
        "user_input = input('Enter a class name:')\n",
        "# Print information based on inputted name using dictionaries created\n",
        "print(f'Class: {user_input}\\n'\n",
        "      f'Room: {course_room[user_input]}\\n'\n",
        "      f'Instructor: {course_instructor[user_input]}\\n'\n",
        "      f'Time: {course_times[user_input]}')"
      ],
      "metadata": {
        "id": "X8vlKydSvngB"
      },
      "id": "X8vlKydSvngB",
      "execution_count": null,
      "outputs": []
    },
    {
      "cell_type": "code",
      "source": [
        "# Project 1 - v4\n",
        "# highlight: high level of readibility\n",
        "\n",
        "def get_course_info(course):\n",
        "    \n",
        "    room_dict = {'CS101' : 3004,\n",
        "                 'CS102' : 4501,\n",
        "                 'CS103' : 6755,\n",
        "                 'NT110' : 1244,\n",
        "                 'CM241' : 1411\n",
        "    }\n",
        "    instr_dict = {'CS101' : 'Haynes',\n",
        "                  'CS102' : 'Alvarado',\n",
        "                  'CS103' : 'Rich',\n",
        "                  'NT110' : 'Burke',\n",
        "                  'CM241' : 'Lee'\n",
        "    }\n",
        "    time_dict = {'CS101' : '8:00am',\n",
        "                 'CS102' : '9:00am',\n",
        "                 'CS103' : '10:00am',\n",
        "                 'NT110' : '11:00am',\n",
        "                 'CM241' : '1:00pm'\n",
        "    }\n",
        "    # Checks input\n",
        "    while course not in room_dict:\n",
        "        course = input('Enter a valid class name:\\n').upper()\n",
        "    \n",
        "    # Gets values for room, instructo and time from dictionaries\n",
        "    room = room_dict[course]\n",
        "    instr = instr_dict[course]\n",
        "    time = time_dict[course]\n",
        "    return room, instr, time, course\n",
        "\n",
        "def main():\n",
        "    # Receive input\n",
        "    course = input('Enter a class name:\\n').upper()\n",
        "   \n",
        "    # Receives values for description of course\n",
        "    room, instr, time, course = get_course_info(course)\n",
        "   \n",
        "    # Displays values\n",
        "    print(f'Class: {course}')\n",
        "    print(f'Room: {room}')\n",
        "    print(f'Instructor: {instr}')\n",
        "    print(f'Time: {time}')\n",
        "\n",
        "if __name__ == '__main__':\n",
        "    main()"
      ],
      "metadata": {
        "id": "ttYlBh9nvFod"
      },
      "id": "ttYlBh9nvFod",
      "execution_count": null,
      "outputs": []
    },
    {
      "cell_type": "code",
      "source": [
        "# Project 1 - v5\n",
        "# highlight: merge three dictionaries in one dictionary `class_information`; \n",
        "# use class number for keys. \n",
        "# each value is a dictionary which groups each of three other class values in key-value pairs\n",
        "\n",
        "def chapter_9():\n",
        "    class_information = {\n",
        "        \"CS101\": {\n",
        "            \"room\": 3004,\n",
        "            \"instructor\": \"Haynes\",\n",
        "            \"time\": \"8:00am\"\n",
        "        },\n",
        "        \"CS102\": {\n",
        "            \"room\": 4501,\n",
        "            \"instructor\": \"Alvarado\",\n",
        "            \"time\": \"9:00am\"\n",
        "        },\n",
        "        \"CS103\": {\n",
        "            \"room\": 6755,\n",
        "            \"instructor\": \"Rich\",\n",
        "            \"time\": \"10:00am\"\n",
        "        },\n",
        "        \"NT110\": {\n",
        "            \"room\": 1244,\n",
        "            \"instructor\": \"Burke\",\n",
        "            \"time\": \"11:00am\"\n",
        "        },\n",
        "        \"CM241\": {\n",
        "            \"room\": 1411,\n",
        "            \"instructor\": \"Lee\",\n",
        "            \"time\": \"1:00pm\"\n",
        "        },\n",
        "    }\n",
        "    class_name = input(\"Enter a class name:\")\n",
        "    class_details = class_information.get(class_name)\n",
        "    if class_details:\n",
        "        print(f\"Class: {class_name}\")\n",
        "        print(f\"Room: {class_details.get('room')}\")\n",
        "        print(f\"Instructor: {class_details.get('instructor')}\")\n",
        "        print(f\"Time: {class_details.get('time')}\")\n",
        "    else:\n",
        "        print(f\"Unknown class name {class_name}.\")\n",
        "\n",
        "if __name__ == \"__main__\":\n",
        "    chapter_9()"
      ],
      "metadata": {
        "id": "e9WBcBxXsZbT"
      },
      "id": "e9WBcBxXsZbT",
      "execution_count": null,
      "outputs": []
    },
    {
      "cell_type": "code",
      "source": [
        "# project 1 - v6\n",
        "# highlight: friendly user-interface for searching one or more classes in a row.\n",
        "\n",
        "# Declare constant dictionaries\n",
        "ROOMS = {'CS101': 3004, 'CS102': 4501, 'CS103': 6755, 'NT110': 1244, 'CM241': 1411}\n",
        "INSTRUCTOR = {'CS101': 'Haynes', 'CS102': 'Alvarado', 'CS103': 'Rich', 'NT110': \n",
        "'Burke', 'CM241': 'Lee'}\n",
        "TIME = {'CS101': '8:00am', 'CS102': '9:00am', 'CS103': '10:00am', 'NT110': \n",
        "'11:00am', 'CM241': '1:00pm'}\n",
        "\n",
        "def main():\n",
        "    # Set the control variable for the while loop\n",
        "    again = 'y'\n",
        "    # This while loop allows the user to run the program multiple times\n",
        "    while again == 'y' or again == 'yes':\n",
        "        # Asks for the course number to look up\n",
        "        course = input('Enter a class name:')\n",
        "        # Checks if the course number is in one of the dictionaries\n",
        "        if course in ROOMS:\n",
        "            # Prints the results from each dictionary\n",
        "            print(f\"Class: {course}\")\n",
        "            print(f'Room: {ROOMS[course]}')\n",
        "            print(f'Instructor: {INSTRUCTOR[course]}')\n",
        "            print(f'Time: {TIME[course]}')\n",
        "        # If course number is not found displays this information\n",
        "        else:\n",
        "            print('No such course exists')\n",
        "        # Asks the user if they would like to look up another course\n",
        "        again = input('Look up another course? (yes or no):')\n",
        "        again = again.lower()\n",
        "        # Checks if this response was valid and loops until it is\n",
        "        while again not in ('yes', 'y', 'no', 'n'):\n",
        "            print('Response not recognized')\n",
        "            again = input('Look up another course? (yes or no):')\n",
        "            again = again.lower()\n",
        "\n",
        "# Calls main\n",
        "if __name__ == '__main__':\n",
        "    main()"
      ],
      "metadata": {
        "id": "-yUwW3AZZyDx"
      },
      "id": "-yUwW3AZZyDx",
      "execution_count": null,
      "outputs": []
    },
    {
      "cell_type": "code",
      "source": [
        "# Project 1 - v7\n",
        "'''highlight: \n",
        "1. friendly user-interface for searching one or more classes in a row.\n",
        "2. apply the modular programming paradigm\n",
        "3. handle KeyError by using the Dict.GET method\n",
        "4. include in the prompt a reminder for the required letter case in class names.\n",
        "'''\n",
        "\n",
        "def main():\n",
        "    find_info()\n",
        "    again()\n",
        "\n",
        "def find_info():\n",
        "    course_num = input(str('Enter a class name (in all capital letters, ex. CS101):'))\n",
        "    #dictionaries with the course numbers as the keys, and the room numbers,\n",
        "    #instructors, and class times as the values\n",
        "    room_num = {'CS101' : '3004', 'CS102' : '4501', 'CS103' : '6755', 'NT110' : \n",
        "'1244', 'CM241' : '1411'}\n",
        "    instructor = {'CS101' : 'Haynes', 'CS102' : 'Alvarado', 'CS103' : 'Rich', \n",
        "'NT110' : 'Burke', 'CM241' : 'Lee'}\n",
        "    time = {'CS101' : '8:00am', 'CS102' : '9:00am', 'CS103' : '10:00am', 'NT110' : \n",
        "'11:00am', 'CM241' : '1:00pm'}\n",
        "    Room = room_num.get(course_num, 'Not found')\n",
        "    Teacher = instructor.get(course_num, 'Not found')\n",
        "    Class_time = time.get(course_num, 'Not found')\n",
        "    print(f'Class: {course_num}')\n",
        "    print(f'Room: {Room}')\n",
        "    print(f'Instructor: {Teacher}')\n",
        "    print(f'Time: {Class_time}')\n",
        "    return\n",
        "    \n",
        "def again():\n",
        "    another = input(str('Would you like to look up another class? (y/n): ')).lower()\n",
        "    if another == 'y':\n",
        "        main()\n",
        "    else:\n",
        "        print('Good luck for the upcoming semester!')\n",
        "if __name__ == '__main__':\n",
        "    main()"
      ],
      "metadata": {
        "colab": {
          "base_uri": "https://localhost:8080/"
        },
        "id": "MaSgC9Ezczxa",
        "outputId": "0724463f-0cf6-4d78-f7cc-b813bb78bda4"
      },
      "id": "MaSgC9Ezczxa",
      "execution_count": null,
      "outputs": [
        {
          "output_type": "stream",
          "name": "stdout",
          "text": [
            "Enter a class name (in all capital letters, ex. CS101):CS101\n",
            "Class: CS101\n",
            "Room: 3004\n",
            "Instructor: Haynes\n",
            "Time: 8:00am\n",
            "Would you like to look up another class? (y/n): Y\n",
            "Enter a class name (in all capital letters, ex. CS101):CS\n",
            "Class: CS\n",
            "Room: Not found\n",
            "Instructor: Not found\n",
            "Time: Not found\n",
            "Would you like to look up another class? (y/n): n\n",
            "Good luck for the upcoming semester!\n"
          ]
        }
      ]
    },
    {
      "cell_type": "markdown",
      "source": [
        "### The Modular Programming Approach\n",
        "\n",
        "- Generalize code while maxmizing customization \n",
        "- Configure user-dependent data by function parameters\n",
        "- Minimalize modifications needed to make the program fit new cases\n",
        "- *Write once run anywhere/everywhere*"
      ],
      "metadata": {
        "id": "NiI7uY8mjXEl"
      },
      "id": "NiI7uY8mjXEl"
    },
    {
      "cell_type": "code",
      "source": [
        "# global variables & constants\n",
        "room = {'CS101' : '3004', 'CS102' : '4501', 'CS103' : '6755', 'NT110' : \n",
        "'1244', 'CM241' : '1411'}\n",
        "instructor = {'CS101' : 'Haynes', 'CS102' : 'Alvarado', 'CS103' : 'Rich', \n",
        "'NT110' : 'Burke', 'CM241' : 'Lee'}\n",
        "time = {'CS101' : '8:00am', 'CS102' : '9:00am', 'CS103' : '10:00am', 'NT110' : \n",
        "'11:00am', 'CM241' : '1:00pm'}\n",
        "\n",
        "class_keys = ['Class_Num', 'Room', 'Instructor', 'Time']\n",
        "\n",
        "not_found_msg = \"Not Found\"\n",
        "again_prompt = 'Would you like to look up another class? (y/n): '\n",
        "ending_remark = 'Good luck for the upcoming semester!'\n",
        "\n",
        "def main():\n",
        "    query = 'Enter a class name (in all capital letters, ex. CS101):'\n",
        "    report = search(query)\n",
        "    display(report)\n",
        "    again()\n",
        "\n",
        "def search(query):\n",
        "    course_num = input(query)\n",
        "    x = room.get(course_num, not_found_msg)\n",
        "    y = instructor.get(course_num, not_found_msg)\n",
        "    z = time.get(course_num, not_found_msg)\n",
        "    return dict(zip(class_keys,[course_num,x,y,z]))\n",
        "\n",
        "def display(report, title=\"The Class Info.\"):\n",
        "  print(title)\n",
        "  for k, v in report.items():\n",
        "    print(f'\\t{k} : {v}')\n",
        "\n",
        "def again(prompt=again_prompt):\n",
        "    another = input(again_prompt).lower()\n",
        "    if another == 'y':\n",
        "        main()\n",
        "    else:\n",
        "        print(ending_remark)\n",
        "\n",
        "if __name__ == '__main__':\n",
        "    main()"
      ],
      "metadata": {
        "id": "gn8gTjCkh7ao",
        "outputId": "75b25f96-d669-4b78-b175-241699348bc4",
        "colab": {
          "base_uri": "https://localhost:8080/"
        }
      },
      "id": "gn8gTjCkh7ao",
      "execution_count": 3,
      "outputs": [
        {
          "output_type": "stream",
          "name": "stdout",
          "text": [
            "Enter a class name (in all capital letters, ex. CS101):CS101\n",
            "The Class Info.\n",
            "\tClass_Num : CS101\n",
            "\tRoom : 3004\n",
            "\tInstructor : Haynes\n",
            "\tTime : 8:00am\n",
            "Would you like to look up another class? (y/n): n\n",
            "Good luck for the upcoming semester!\n"
          ]
        }
      ]
    },
    {
      "cell_type": "markdown",
      "source": [
        "## Ch 9 Revel Project 2 Student Work"
      ],
      "metadata": {
        "id": "FHq0tqn1aMU-"
      },
      "id": "FHq0tqn1aMU-"
    },
    {
      "cell_type": "code",
      "execution_count": null,
      "id": "93b7f556",
      "metadata": {
        "id": "93b7f556"
      },
      "outputs": [],
      "source": [
        "# v1 : straightforward, standard\n",
        "\n",
        "def count_vowels(string):\n",
        "    STR = ['a','e','i','o','u']\n",
        "    dic = {'a':0,'e':0,'i':0,'o':0,'u':0}\n",
        "    for i in string:\n",
        "        if i in set(STR):\n",
        "            dic[i.lower()] = dic[i.lower()] +  1\n",
        "    return dic\n",
        "\n",
        "# test\n",
        "print(count_vowels('Now is the time'))"
      ]
    },
    {
      "cell_type": "code",
      "source": [
        "# v2: /impressive coding skill/\n",
        "\n",
        "def count_vowels(strn): \n",
        "    strn = strn.casefold()\n",
        "    dic = {\n",
        "      ele:sum([1 for char in strn if char == ele]) \n",
        "      for ele in 'aeiou'\n",
        "      }\n",
        "    print(dic)\n",
        "\n",
        "# test\n",
        "strn = \"The sun rises in the east\"\n",
        "dic = {}\n",
        "count_vowels(strn)"
      ],
      "metadata": {
        "colab": {
          "base_uri": "https://localhost:8080/"
        },
        "id": "RmA4clcIXAU4",
        "outputId": "f32d2149-8837-41e4-c345-c903ad718952"
      },
      "id": "RmA4clcIXAU4",
      "execution_count": null,
      "outputs": [
        {
          "output_type": "stream",
          "name": "stdout",
          "text": [
            "{'a': 1, 'e': 4, 'i': 2, 'o': 0, 'u': 1}\n"
          ]
        }
      ]
    },
    {
      "cell_type": "code",
      "source": [
        "# v3 : crisp logic via if-elif-else\n",
        "\n",
        "def count_vowels(x):\n",
        "    a_count = 0\n",
        "    e_count = 0\n",
        "    i_count = 0\n",
        "    o_count = 0\n",
        "    u_count = 0\n",
        "    for letter in x:\n",
        "        if letter == 'a':\n",
        "            a_count += 1\n",
        "        elif letter == 'e':\n",
        "            e_count += 1\n",
        "        elif letter == 'i':\n",
        "            i_count += 1\n",
        "        elif letter == 'o':\n",
        "            o_count += 1\n",
        "        elif letter == 'u':\n",
        "            u_count += 1\n",
        "        else:\n",
        "            pass\n",
        "    return {'a': a_count, 'e': e_count, 'i': i_count, 'o': o_count, 'u': u_count}\n",
        "\n",
        "def main():\n",
        "    user_input = input('Please enter a string: ')\n",
        "    user_input = user_input.lower()\n",
        "    print(count_vowels(user_input))\n",
        "\n",
        "if __name__ == '__main__':\n",
        "    main()"
      ],
      "metadata": {
        "id": "fChBWDpzXXgM"
      },
      "id": "fChBWDpzXXgM",
      "execution_count": null,
      "outputs": []
    },
    {
      "cell_type": "code",
      "source": [
        "# v4 : formatted print of dictionary \n",
        "\n",
        "vowels = ('a','e','i','o','u')\n",
        "def count_vowels(test_string):\n",
        "    # Creates dictionary usign dict comprehension\n",
        "    vowel_count = {\n",
        "        v:0 for v in vowels\n",
        "    }\n",
        "    # Adds 1 for each occurence of a vowel\n",
        "    for x in test_string:\n",
        "        if x in vowels:\n",
        "            vowel_count[x] += 1\n",
        "    \n",
        "    return vowel_count\n",
        "def main():\n",
        "    # Allows user to input string\n",
        "    test_string = input('Enter string: ').lower()\n",
        "    # Counts the vowels and assigns values\n",
        "    vowel_count = count_vowels(test_string)\n",
        "    # Displays counted values\n",
        "    print('Vowel\\t\\tCount')\n",
        "    for c in vowel_count:  \n",
        "        print(f'\\'{c}\\'\\t:\\t{vowel_count[c]}')\n",
        "\n",
        "if __name__ == '__main__':\n",
        "    main()"
      ],
      "metadata": {
        "id": "1cOM9R1Mui_p"
      },
      "id": "1cOM9R1Mui_p",
      "execution_count": null,
      "outputs": []
    },
    {
      "cell_type": "code",
      "source": [
        "# v5 : formatted print of dictionary \n",
        "\n",
        "#1.Define Vowel keys\n",
        "VOWELS = ('a', 'e', 'i', 'o', 'u')\n",
        "\n",
        "#2. define function\n",
        "def count_vowels():\n",
        "    #user input\n",
        "    s = input(\"Enter a string: \")\n",
        "    vowel_cnt = {v: 0 for v in VOWELS}\n",
        "    for c in s:\n",
        "        #count both upper and lowercase vowels\n",
        "        if c.lower() in VOWELS:\n",
        "            vowel_cnt[c.lower()] += 1\n",
        "    # display        \n",
        "    for v, count in vowel_cnt.items():\n",
        "        print(f\"'{v}': {count}\") #\n",
        "    #return dict\n",
        "    return vowel_cnt\n",
        "\n",
        "if __name__ == '__main__':\n",
        "    vowel_counts = count_vowels()\n",
        "    #print vowel count\n",
        "    print(vowel_counts)"
      ],
      "metadata": {
        "id": "qGAMwCTbZWoA"
      },
      "id": "qGAMwCTbZWoA",
      "execution_count": null,
      "outputs": []
    },
    {
      "cell_type": "code",
      "source": [
        "# The fill-in-blank version\n",
        "\n",
        "VOWELS = ('a', 'e', 'i', 'o', 'u') # global constant\n",
        "\n",
        "def count_vowels(s):\n",
        "  # dict comprehension to add a key-value pair for each vowel\n",
        "  # set value as initial count to zero\n",
        "  vowel_cnt = {\n",
        "      v : 0 for v in VOWELS\n",
        "  }\n",
        "  # loop over chars in s\n",
        "  for c in s:\n",
        "    if c in VOWELS:\n",
        "      print(f'_{c}_')\n",
        "      vowel_cnt[c] += 1\n",
        "    else:\n",
        "      print('skip')\n",
        "  \n",
        "  return vowel_cnt\n",
        "\n",
        "if __name__ == '__main__':\n",
        "  test = \"Now is the time\"\n",
        "  print(count_vowels(test))"
      ],
      "metadata": {
        "id": "z8rmmsGpXer0"
      },
      "id": "z8rmmsGpXer0",
      "execution_count": null,
      "outputs": []
    },
    {
      "cell_type": "code",
      "source": [
        "# yet-another-one\n",
        "VOWELS = 'aeiou'\n",
        "\n",
        "def count_vowels(text):\n",
        "  cnts = dict(zip(VOWELS, [0]*len(VOWELS)))\n",
        "  for c in text:\n",
        "    if c.lower() in cnts:\n",
        "      cnts[c] += 1\n",
        "  return cnts\n",
        "\n",
        "if __name__ == '__main__':\n",
        "  test = \"Now is the time\"\n",
        "  print(count_vowels(test))"
      ],
      "metadata": {
        "id": "l_p4qNbvYzua"
      },
      "id": "l_p4qNbvYzua",
      "execution_count": null,
      "outputs": []
    }
  ],
  "metadata": {
    "kernelspec": {
      "display_name": "Python 3 (ipykernel)",
      "language": "python",
      "name": "python3"
    },
    "language_info": {
      "codemirror_mode": {
        "name": "ipython",
        "version": 3
      },
      "file_extension": ".py",
      "mimetype": "text/x-python",
      "name": "python",
      "nbconvert_exporter": "python",
      "pygments_lexer": "ipython3",
      "version": "3.9.12"
    },
    "colab": {
      "provenance": [],
      "include_colab_link": true
    }
  },
  "nbformat": 4,
  "nbformat_minor": 5
}