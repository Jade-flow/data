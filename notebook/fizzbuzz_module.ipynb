{
  "cells": [
    {
      "cell_type": "markdown",
      "metadata": {
        "id": "view-in-github",
        "colab_type": "text"
      },
      "source": [
        "<a href=\"https://colab.research.google.com/github/remjw/data/blob/master/notebook/fizzbuzz_module.ipynb\" target=\"_parent\"><img src=\"https://colab.research.google.com/assets/colab-badge.svg\" alt=\"Open In Colab\"/></a>"
      ]
    },
    {
      "cell_type": "code",
      "execution_count": null,
      "metadata": {
        "colab": {
          "base_uri": "https://localhost:8080/"
        },
        "id": "_akoh-HoFblI",
        "outputId": "6e0592cd-3b4e-4ae7-a3d1-ef830ecb45e5"
      },
      "outputs": [
        {
          "name": "stdout",
          "output_type": "stream",
          "text": [
            "1\n",
            "2\n",
            "Fizz\n",
            "Buzz\n",
            "5\n",
            "Fizz\n",
            "7\n",
            "Buzz\n",
            "Fizz\n",
            "10\n",
            "11\n",
            "_FizzBuzz_\n",
            "Total fuzz.buzz is 42.\n"
          ]
        }
      ],
      "source": [
        "def do_fizzbuzz(n2, n1=1, x=3, y=5, w='FizzBuzz', w1='Fizz', w2='Buzz'):\n",
        "    total = 0\n",
        "    if x > y:\n",
        "        x, y = y, x\n",
        "    for z in range(n1, n2+1):\n",
        "        if z % (x*y) == 0:\n",
        "            total += z\n",
        "            print(w)\n",
        "        elif z % y == 0:\n",
        "            total += z\n",
        "            print(w2)\n",
        "        elif z % x == 0:\n",
        "            total += z\n",
        "            print(w1)\n",
        "        else:\n",
        "            print(z)\n",
        "    return total\n",
        "\n",
        "# pass arguments by postion\n",
        "total = do_fizzbuzz(12, x=4, y=3, w='_FizzBuzz_')\n",
        "print(f'Total fuzz.buzz is {total}.')"
      ]
    },
    {
      "cell_type": "markdown",
      "metadata": {
        "id": "LVopPPvhGgTw"
      },
      "source": [
        "To further break down `do_fizzbuzz` to more functions, put each of the following in an individual function:\n",
        "\n",
        "- Each **distinct modulo testing**, \n",
        "- **sort two numbers in ascending order**, \n",
        "- **print the total**, "
      ]
    },
    {
      "cell_type": "code",
      "execution_count": null,
      "metadata": {
        "colab": {
          "base_uri": "https://localhost:8080/"
        },
        "id": "aXmOPVyDHBr9",
        "outputId": "71984dc3-533a-4de6-84f6-289203778f81"
      },
      "outputs": [
        {
          "name": "stdout",
          "output_type": "stream",
          "text": [
            "1\n",
            "2\n",
            "Fizz\n",
            "Buzz\n",
            "5\n",
            "Fizz\n",
            "7\n",
            "Buzz\n",
            "Fizz\n",
            "10\n",
            "11\n",
            "_FizzBuzz_\n",
            "Total fuzz.buzz is 42.\n"
          ]
        }
      ],
      "source": [
        "# if z % (x*y) == 0\n",
        "# elif z % y == 0 , elif z % x == 0:\n",
        "def is_divisible(a, b):\n",
        "  return a % b == 0\n",
        "\n",
        "def swap_if(x, y):\n",
        "  if x > y:\n",
        "    x, y = y, x\n",
        "  return x, y\n",
        "\n",
        "def do_fizzbuzz_new(n2, n1=1, x=3, y=5, w='FizzBuzz', w1='Fizz', w2='Buzz'):\n",
        "    total = 0\n",
        "    x, y = swap_if(x, y)\n",
        "    for z in range(n1, n2+1):\n",
        "        if is_divisible(z, x*y):\n",
        "            total += z\n",
        "            print(w)\n",
        "        elif is_divisible(z, y):\n",
        "            total += z\n",
        "            print(w2)\n",
        "        elif is_divisible(z, x):\n",
        "            total += z\n",
        "            print(w1)\n",
        "        else:\n",
        "            print(z)\n",
        "    return total\n",
        "\n",
        "def report(value, msg='Total fuzz.buzz is'):\n",
        "  print(f'{msg} {value}.')\n",
        "\n",
        "def main():\n",
        "  total = do_fizzbuzz_new(12, x=4, y=3, w='_FizzBuzz_')\n",
        "  report(total)\n",
        "  \n",
        "main()"
      ]
    },
    {
      "cell_type": "code",
      "execution_count": null,
      "metadata": {
        "colab": {
          "base_uri": "https://localhost:8080/"
        },
        "id": "hiewQH1qL1ut",
        "outputId": "591b8003-79bb-4478-d962-76caad6dfa31"
      },
      "outputs": [
        {
          "name": "stdout",
          "output_type": "stream",
          "text": [
            "1\n",
            "2\n",
            "Fizz\n",
            "Buzz\n",
            "5\n",
            "Fizz\n",
            "7\n",
            "Buzz\n",
            "Fizz\n",
            "10\n",
            "11\n",
            "_FizzBuzz_\n",
            "Total fuzz.buzz = 42\n"
          ]
        }
      ],
      "source": [
        "# save to a py script: fizzbuzz.py\n",
        "def is_divisible(a, b):\n",
        "  return a % b == 0\n",
        "\n",
        "def swap_if(x, y):\n",
        "  if x > y:\n",
        "    x, y = y, x\n",
        "  return x, y\n",
        "\n",
        "def do_fizzbuzz_new(n2, n1=1, x=3, y=5, w='FizzBuzz', w1='Fizz', w2='Buzz'):\n",
        "    total = 0\n",
        "    x, y = swap_if(x, y)\n",
        "    for z in range(n1, n2+1):\n",
        "        if is_divisible(z, x*y):\n",
        "            total += z\n",
        "            print(w)\n",
        "        elif is_divisible(z, y):\n",
        "            total += z\n",
        "            print(w2)\n",
        "        elif is_divisible(z, x):\n",
        "            total += z\n",
        "            print(w1)\n",
        "        else:\n",
        "            print(z)\n",
        "    return total\n",
        "\n",
        "def report(value, msg='Total fuzz.buzz', sep=' = '):\n",
        "  print(f'{msg}{sep}{value}')\n",
        "\n",
        "def main():\n",
        "  total = do_fizzbuzz_new(12, x=4, y=3, w='_FizzBuzz_')\n",
        "  report(total)\n",
        "\n",
        "if __name__ == \"__main__\": \n",
        "  main()"
      ]
    },
    {
      "cell_type": "code",
      "execution_count": null,
      "metadata": {
        "id": "MZAwZN2uMwAv"
      },
      "outputs": [],
      "source": [
        "# reuse:\n",
        "# edit a new Python program which imports fizzbuzz and call its functions\n",
        "import fizzbuzz\n",
        "total = fizzbuzz.do_fizzbuzz_new(12, x=4, y=3, w='_FizzBuzz_')\n",
        "fizzbuzz.report(total)"
      ]
    }
  ],
  "metadata": {
    "colab": {
      "provenance": [],
      "authorship_tag": "ABX9TyOqbkx3hNsp9RHXvt14syJl",
      "include_colab_link": true
    },
    "kernelspec": {
      "display_name": "Python 3",
      "name": "python3"
    },
    "language_info": {
      "name": "python"
    }
  },
  "nbformat": 4,
  "nbformat_minor": 0
}