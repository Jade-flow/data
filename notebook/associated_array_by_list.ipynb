{
  "nbformat": 4,
  "nbformat_minor": 0,
  "metadata": {
    "colab": {
      "provenance": [],
      "authorship_tag": "ABX9TyOo1wXDT1iL6V5l2ywwM0gE",
      "include_colab_link": true
    },
    "kernelspec": {
      "name": "python3",
      "display_name": "Python 3"
    },
    "language_info": {
      "name": "python"
    }
  },
  "cells": [
    {
      "cell_type": "markdown",
      "metadata": {
        "id": "view-in-github",
        "colab_type": "text"
      },
      "source": [
        "<a href=\"https://colab.research.google.com/github/remjw/data/blob/master/notebook/associated_array_by_list.ipynb\" target=\"_parent\"><img src=\"https://colab.research.google.com/assets/colab-badge.svg\" alt=\"Open In Colab\"/></a>"
      ]
    },
    {
      "cell_type": "code",
      "execution_count": null,
      "metadata": {
        "id": "y0fjOun45h2o"
      },
      "outputs": [],
      "source": [
        "# in associated array/list\n",
        "C = [0, 10, 20, 30, 40, 50]\n",
        "F = [32, 50, 68, 86, 104, 122] \n",
        "\n",
        "today = 20\n",
        "fahrenheit = F[C.index(today)]\n",
        "print(\"Temperature in Fahrenheit:\", fahrenheit)"
      ]
    }
  ]
}