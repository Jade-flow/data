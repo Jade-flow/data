{
  "nbformat": 4,
  "nbformat_minor": 0,
  "metadata": {
    "colab": {
      "provenance": [],
      "authorship_tag": "ABX9TyObbWSQ77DF452KKhP4tqEB",
      "include_colab_link": true
    },
    "kernelspec": {
      "name": "python3",
      "display_name": "Python 3"
    },
    "language_info": {
      "name": "python"
    }
  },
  "cells": [
    {
      "cell_type": "markdown",
      "metadata": {
        "id": "view-in-github",
        "colab_type": "text"
      },
      "source": [
        "<a href=\"https://colab.research.google.com/github/remjw/data/blob/master/notebook/associated_array_by_list.ipynb\" target=\"_parent\"><img src=\"https://colab.research.google.com/assets/colab-badge.svg\" alt=\"Open In Colab\"/></a>"
      ]
    },
    {
      "cell_type": "markdown",
      "source": [
        "## Associative Array\n",
        "\n",
        "In computer science, an associative array, map, symbol table, or dictionary is an abstract data type that stores a collection of (key, value) pairs, such that each possible key appears at most once in the collection."
      ],
      "metadata": {
        "id": "DJgMFe5S67hz"
      }
    },
    {
      "cell_type": "code",
      "execution_count": 1,
      "metadata": {
        "id": "y0fjOun45h2o",
        "outputId": "86143ab5-3c1e-428b-ff69-0f5d25a10da5",
        "colab": {
          "base_uri": "https://localhost:8080/"
        }
      },
      "outputs": [
        {
          "output_type": "stream",
          "name": "stdout",
          "text": [
            "Temperature in Fahrenheit: 68\n"
          ]
        }
      ],
      "source": [
        "# Use a pair of lists to implement associative array\n",
        "# for a temperature converter\n",
        "\n",
        "C = [0, 10, 20, 30, 40, 50]\n",
        "F = [32, 50, 68, 86, 104, 122] \n",
        "\n",
        "# look up the F  value for a given C (key) value\n",
        "today = 20\n",
        "fahrenheit = F[C.index(today)]\n",
        "print(\"Temperature in Fahrenheit:\", fahrenheit)"
      ]
    },
    {
      "cell_type": "markdown",
      "source": [
        "## Phone Number Translator\n",
        "\n",
        "From Revel Ch8"
      ],
      "metadata": {
        "id": "4UoIMAi-TiPy"
      }
    },
    {
      "cell_type": "code",
      "source": [
        "\"\"\"\n",
        "Revel Auto-graded Phone number translator\n",
        "### Associative Array\n",
        "Create two lists KEYS and CODES. \n",
        "KEYS stores all search keys.\n",
        "CODES stores their associated codes or values in the same order. \n",
        "\"\"\"\n",
        "\n",
        "'''\n",
        "A, B, C: 2\n",
        "D, E, F: 3\n",
        "G, H, I: 4\n",
        "J, K, L: 5\n",
        "M, N, O: 6\n",
        "P, Q, R, S: 7\n",
        "T, U, V: 8\n",
        "W, X, Y, Z: 9\n",
        "'''\n",
        "# constants\n",
        "KEYS = [ #alphabet uppercase\n",
        "    chr(codepoint)\n",
        "    for codepoint in range(65,91) \n",
        "    ]\n",
        "print(KEYS)\n",
        "# \n",
        "CODES = list() \n",
        "CODES.extend(3 * ['2'])\n",
        "CODES.extend(3 * ['3'])\n",
        "CODES.extend(3 * ['4'])\n",
        "CODES.extend(3 * ['5'])\n",
        "CODES.extend(3 * ['6'])\n",
        "CODES.extend(4 * ['7'])\n",
        "CODES.extend(3 * ['8'])\n",
        "CODES.extend(4 * ['9'])\n",
        "print(CODES)\n",
        "\n",
        "# function\n",
        "def replace(c):\n",
        "  # get index of key in KEYS, use index to look up its code in CODES\n",
        "  if c in KEYS:\n",
        "    ind = KEYS.index(c)\n",
        "    return CODES[ind]\n",
        "  else:\n",
        "    return c\n",
        "\n",
        "def main():\n",
        "  phone = input(\"Enter a phone number XXX-XXX-XXXX:\").upper() \n",
        "  translated = \"\"\n",
        "  for c in phone:\n",
        "    translated += replace(c)\n",
        "  print(translated)\n",
        "\n",
        "\n",
        "if __name__ == '__main__':\n",
        "  main()"
      ],
      "metadata": {
        "id": "oIc2OLBLTOOY",
        "outputId": "243e5d61-666d-4ab0-945d-9d2e2994a7fb",
        "colab": {
          "base_uri": "https://localhost:8080/"
        }
      },
      "execution_count": 2,
      "outputs": [
        {
          "output_type": "stream",
          "name": "stdout",
          "text": [
            "['A', 'B', 'C', 'D', 'E', 'F', 'G', 'H', 'I', 'J', 'K', 'L', 'M', 'N', 'O', 'P', 'Q', 'R', 'S', 'T', 'U', 'V', 'W', 'X', 'Y', 'Z']\n",
            "['2', '2', '2', '3', '3', '3', '4', '4', '4', '5', '5', '5', '6', '6', '6', '7', '7', '7', '7', '8', '8', '8', '9', '9', '9', '9']\n",
            "Enter a phone number XXX-XXX-XXXX:555-get-food\n",
            "555-438-3663\n"
          ]
        }
      ]
    },
    {
      "cell_type": "markdown",
      "source": [
        "## Morse Code Homework"
      ],
      "metadata": {
        "id": "YZ_QvwGLTbSH"
      }
    },
    {
      "cell_type": "code",
      "source": [
        "# Create Morse Lookup in a pair of lists\n",
        "# CHARS stores all char keys\n",
        "# MORSE_CODE stores their associated Morse code in the same order.\n",
        "\n",
        "CHARS = [' ', ',', '?', '.', 'A', 'B', 'C', 'D', 'E', 'F', 'G', 'H', 'I', 'J', 'K', 'L', 'M', 'N', 'O', 'P', 'Q', 'R', 'S', 'T', 'U', 'V', 'W', 'X', 'Y', 'Z', '1', '2', '3', '4', '5', '6', '7', '8', '9', '0']\n",
        "MORSE_CODE = [' ', '--..-','..--..','.-.-.-','.-', '-...', '-.-.', '-..', '.', '..-.', '--.', '....', '..', '.---', '-.-', '.-..', '--', '-.', '---', '.--.', '--.-', '.-.', '...', '-', '..-', '...-', '.--', '-..-', '-.--', '--..', '.----', '..---', '...--', '....-', '.....', '-....', '--...', '---..', '----.', '-----']\n"
      ],
      "metadata": {
        "id": "TxH2Z-7N7q47"
      },
      "execution_count": null,
      "outputs": []
    }
  ]
}