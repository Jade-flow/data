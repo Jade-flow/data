{
  "nbformat": 4,
  "nbformat_minor": 0,
  "metadata": {
    "colab": {
      "provenance": [],
      "authorship_tag": "ABX9TyPw5ZUaKwpOgDo0Rxgiuhms",
      "include_colab_link": true
    },
    "kernelspec": {
      "name": "python3",
      "display_name": "Python 3"
    },
    "language_info": {
      "name": "python"
    }
  },
  "cells": [
    {
      "cell_type": "markdown",
      "metadata": {
        "id": "view-in-github",
        "colab_type": "text"
      },
      "source": [
        "<a href=\"https://colab.research.google.com/github/remjw/data/blob/master/notebook/associated_array_by_list.ipynb\" target=\"_parent\"><img src=\"https://colab.research.google.com/assets/colab-badge.svg\" alt=\"Open In Colab\"/></a>"
      ]
    },
    {
      "cell_type": "markdown",
      "source": [
        "In computer science, an associative array, map, symbol table, or dictionary is an abstract data type that stores a collection of (key, value) pairs, such that each possible key appears at most once in the collection."
      ],
      "metadata": {
        "id": "DJgMFe5S67hz"
      }
    },
    {
      "cell_type": "code",
      "execution_count": null,
      "metadata": {
        "id": "y0fjOun45h2o"
      },
      "outputs": [],
      "source": [
        "# Use a pair of lists to implement associative array\n",
        "# for a temperature converter\n",
        "\n",
        "C = [0, 10, 20, 30, 40, 50]\n",
        "F = [32, 50, 68, 86, 104, 122] \n",
        "\n",
        "# look up the F value for a given C value\n",
        "today = 20\n",
        "fahrenheit = F[C.index(today)]\n",
        "print(\"Temperature in Fahrenheit:\", fahrenheit)"
      ]
    },
    {
      "cell_type": "code",
      "source": [
        "# Morse Lookup in a list pair\n",
        "# CHARS list stores all the characters\n",
        "# MORSE_CODE list stores their Morse code in the same order.\n",
        "\n",
        "CHARS = [' ', ',', '?', '.', 'A', 'B', 'C', 'D', 'E', 'F', 'G', 'H', 'I', 'J', 'K', 'L', 'M', 'N', 'O', 'P', 'Q', 'R', 'S', 'T', 'U', 'V', 'W', 'X', 'Y', 'Z', '1', '2', '3', '4', '5', '6', '7', '8', '9', '0']\n",
        "MORSE_CODE = [' ', '--..-','..--..','.-.-.-','.-', '-...', '-.-.', '-..', '.', '..-.', '--.', '....', '..', '.---', '-.-', '.-..', '--', '-.', '---', '.--.', '--.-', '.-.', '...', '-', '..-', '...-', '.--', '-..-', '-.--', '--..', '.----', '..---', '...--', '....-', '.....', '-....', '--...', '---..', '----.', '-----']\n"
      ],
      "metadata": {
        "id": "TxH2Z-7N7q47"
      },
      "execution_count": null,
      "outputs": []
    }
  ]
}