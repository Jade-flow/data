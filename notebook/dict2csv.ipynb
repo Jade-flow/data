{
  "nbformat": 4,
  "nbformat_minor": 0,
  "metadata": {
    "colab": {
      "provenance": [],
      "authorship_tag": "ABX9TyMvCxqL9wIp1Y10yq5oo236",
      "include_colab_link": true
    },
    "kernelspec": {
      "name": "python3",
      "display_name": "Python 3"
    },
    "language_info": {
      "name": "python"
    }
  },
  "cells": [
    {
      "cell_type": "markdown",
      "metadata": {
        "id": "view-in-github",
        "colab_type": "text"
      },
      "source": [
        "<a href=\"https://colab.research.google.com/github/remjw/data/blob/master/notebook/dict2csv.ipynb\" target=\"_parent\"><img src=\"https://colab.research.google.com/assets/colab-badge.svg\" alt=\"Open In Colab\"/></a>"
      ]
    },
    {
      "cell_type": "markdown",
      "source": [
        "## Dict to CSV"
      ],
      "metadata": {
        "id": "vMV05thxnI_t"
      }
    },
    {
      "cell_type": "code",
      "source": [
        "\n",
        "data = {\n",
        "  'cat' : ['book', 'book', 'grocery', 'entertainment', 'grocery']\n",
        ", 'total' : [90, 21, 6, 16, 50]\n",
        ", 'month' : ['January', 'January', 'March', 'May', 'February']\n",
        "      }\n"
      ],
      "metadata": {
        "id": "dIJNyPrF4aQL"
      },
      "execution_count": null,
      "outputs": []
    },
    {
      "cell_type": "code",
      "source": [
        "# write Dict `data` above to CSV shown on right\n",
        "with open('purchase_new.csv', 'w') as f:\n",
        "\n",
        "  f.write(','.join(list(data.keys()))) # element-wise\n",
        "  f.write('\\n') # linebreak\n",
        "\n",
        "  row_size = len(list(data.values())[0]) # number of record\n",
        "\n",
        "  for row in range(row_size): # loop over each record\n",
        "    # compose record line in a string\n",
        "    f.write(','.join(\n",
        "        # comprehension\n",
        "        str(vlist[row])\n",
        "        for vlist in data.values()\n",
        "    )); f.write('\\n') # linebreak"
      ],
      "metadata": {
        "id": "gF-vMFMgDQL6"
      },
      "execution_count": null,
      "outputs": []
    }
  ]
}