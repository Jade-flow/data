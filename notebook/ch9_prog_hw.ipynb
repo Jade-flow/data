{
  "nbformat": 4,
  "nbformat_minor": 0,
  "metadata": {
    "colab": {
      "provenance": [],
      "authorship_tag": "ABX9TyONiCbj9+FlKIqu36mnB+oS",
      "include_colab_link": true
    },
    "kernelspec": {
      "name": "python3",
      "display_name": "Python 3"
    },
    "language_info": {
      "name": "python"
    }
  },
  "cells": [
    {
      "cell_type": "markdown",
      "metadata": {
        "id": "view-in-github",
        "colab_type": "text"
      },
      "source": [
        "<a href=\"https://colab.research.google.com/github/remjw/data/blob/master/notebook/ch9_prog_hw.ipynb\" target=\"_parent\"><img src=\"https://colab.research.google.com/assets/colab-badge.svg\" alt=\"Open In Colab\"/></a>"
      ]
    },
    {
      "cell_type": "code",
      "source": [
        "# write contents to file\n",
        "contents = \"John Locke\\nDavid Hume\\nEdmund Burke\"\n",
        "with open('contents.txt', 'w') as f:\n",
        "  f.write(contents)"
      ],
      "metadata": {
        "id": "RE5G4x2eE8kH"
      },
      "execution_count": null,
      "outputs": []
    },
    {
      "cell_type": "code",
      "execution_count": null,
      "metadata": {
        "id": "A8T22pOWDmqR"
      },
      "outputs": [],
      "source": [
        "# encrypt contents from file, char-by-char\n",
        "import os\n",
        "\n",
        "codes = { 'A' : '%', 'a' : '9', 'B' : '@', 'b' : '#'}\n",
        "filename = 'contents.txt'\n",
        "encrypted = ''\n",
        "# open file\n",
        "with open(filename, 'r') as f:\n",
        "  # get first character\n",
        "  next_char = f.read(1)\n",
        "  while next_char != \"\": \n",
        "    code = codes[next_char] if next_char in codes else next_char\n",
        "    encrypted += code\n",
        "    print(f'Read {next_char} encoded to {code}')\n",
        "    # get next character\n",
        "    next_char = f.read(1)\n",
        "\n",
        "print(encrypted)"
      ]
    },
    {
      "cell_type": "code",
      "source": [
        "# write encrpyted to file\n",
        "with open('encrypted.txt', 'w') as f:\n",
        "  f.write(encrypted)"
      ],
      "metadata": {
        "id": "_cxBBn74D74-"
      },
      "execution_count": 5,
      "outputs": []
    }
  ]
}