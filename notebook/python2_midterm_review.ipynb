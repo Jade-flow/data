{
  "nbformat": 4,
  "nbformat_minor": 0,
  "metadata": {
    "colab": {
      "provenance": [],
      "authorship_tag": "ABX9TyOydnQd12mWtIzS3XlJzx+Z",
      "include_colab_link": true
    },
    "kernelspec": {
      "name": "python3",
      "display_name": "Python 3"
    },
    "language_info": {
      "name": "python"
    }
  },
  "cells": [
    {
      "cell_type": "markdown",
      "metadata": {
        "id": "view-in-github",
        "colab_type": "text"
      },
      "source": [
        "<a href=\"https://colab.research.google.com/github/remjw/data/blob/master/notebook/python2_midterm_review.ipynb\" target=\"_parent\"><img src=\"https://colab.research.google.com/assets/colab-badge.svg\" alt=\"Open In Colab\"/></a>"
      ]
    },
    {
      "cell_type": "markdown",
      "source": [
        "# Midterm Review\n"
      ],
      "metadata": {
        "id": "2fvVLTRBoQos"
      }
    },
    {
      "cell_type": "markdown",
      "source": [
        "# List\n",
        "\n",
        "- [PYP List Basics Page](https://cisjw.sitehost.iu.edu/pyp/py2/list-basics.html)\n",
        "\n",
        "- Canvas CH07-Practice\n",
        "\n",
        "- [filter function with list](https://cisjw.sitehost.iu.edu/pyp/py2/list-filter-function.html)\n",
        "\n",
        "- [Analyzing IRIS Data](https://cisjw.sitehost.iu.edu/pyp/py2/lab-analyze-iris.html)\n",
        "\n",
        "- [barchart by matplotlib library]((https://cisjw.sitehost.iu.edu/pyp/py2/lab-analyze-iris.html))"
      ],
      "metadata": {
        "id": "cuqZrGQLoUtb"
      }
    },
    {
      "cell_type": "code",
      "source": [
        "# Plot the graph of the squre function Y = X^2\n",
        "import matplotlib.pyplot as plt\n",
        "X = range(-10, 10)\n",
        "Y = [ x ** 2 for x in X ]\n",
        "_ = plt.plot(X, Y)"
      ],
      "metadata": {
        "id": "BI8d3QXGqgNX"
      },
      "execution_count": null,
      "outputs": []
    },
    {
      "cell_type": "markdown",
      "source": [
        "# Tuple\n",
        "\n",
        "- [PYP Tuple Page]()\n",
        "\n",
        "- Canvas CH07-Practice"
      ],
      "metadata": {
        "id": "U3YDASqipinC"
      }
    },
    {
      "cell_type": "markdown",
      "source": [
        "# String\n",
        "\n",
        "- [ch8_string_object Notebook](https://colab.research.google.com/github/remjw/data/blob/master/notebook/ch8_string_object.ipynb)\n",
        "\n",
        "\n",
        "- Canvas CH08-Practice"
      ],
      "metadata": {
        "id": "DSg1bREam0CX"
      }
    },
    {
      "cell_type": "code",
      "execution_count": null,
      "metadata": {
        "id": "ZVZnpxKKCYoX"
      },
      "outputs": [],
      "source": [
        "text = \"About Python's String object, and others.\"\n",
        "runs = ['type, len, isinstance functions'\n",
        ",'ordered, 0-based indexing'\n",
        ", 'iterable'\n",
        ", 'immutable'\n",
        ", 'repeat operator *'\n",
        ", 'concatenate + ops'\n",
        ", 'slice operator begin:end:step'\n",
        ", 'negative index -1 denotes end of string'\n",
        ", 'method-str.split:parse to parts by space default'\n",
        ", 'method-str.strip, lstrip, rstrip:whitespace removal from the ends'\n",
        ", 'method-str.find:determine whether a substring is present?'\n",
        ", 'method-str.endswith/startswith:substring is prefix or suffix'\n",
        ", 'method-str.upper/lower'\n",
        ", 'method-str.isalpha/isdigit/isalphanum'\n",
        ", 'method-str.replace((oldvalue, newvalue, count)'\n",
        ", 'method-str.count(value)'\n",
        "]"
      ]
    },
    {
      "cell_type": "code",
      "source": [
        "# Exclude certain content from analysis\n",
        "## Way 1: loop\n",
        "text = 'For instance, exclude space, comma, period from count.'\n",
        "exclude = [' ', ',', '.']\n",
        "text = ''.join([c for c in text if c not in exclude ])\n",
        "print(text)\n",
        "\n",
        "## Way 2: Use str.replace((oldvalue, newvalue, count)\n",
        "text = 'For instance, exclude space, comma, period from count.'\n",
        "outliers = [' ', ',', '.']\n",
        "text\n",
        "for outlier in outliers:\n",
        "  text = text.replace(outlier, '')\n",
        "print(text)"
      ],
      "metadata": {
        "colab": {
          "base_uri": "https://localhost:8080/"
        },
        "id": "l5J0S9TZcnwM",
        "outputId": "a03336f4-e77b-4b78-ccf0-aa3f4ca005d1"
      },
      "execution_count": null,
      "outputs": [
        {
          "output_type": "stream",
          "name": "stdout",
          "text": [
            "Forinstanceexcludespacecommaperiodfromcount\n",
            "Forinstanceexcludespacecommaperiodfromcount\n"
          ]
        }
      ]
    },
    {
      "cell_type": "markdown",
      "source": [
        "# Set\n",
        "\n",
        "- [PYP Set Page](https://cisjw.sitehost.iu.edu/pyp/py2/set.html)\n",
        "\n",
        "- CH09-Practice"
      ],
      "metadata": {
        "id": "1PIipu0jnFVF"
      }
    },
    {
      "cell_type": "code",
      "source": [
        "text = '''set.remove/discard: In terms of the KeyError exception,\n",
        "the remove method will raise an error if the specified item does not exist\n",
        "while the discard method will not.'''\n",
        "\n",
        "# Set from Str\n",
        "S = set(text.split())\n",
        "print(len(S), type(S))\n",
        "\n",
        "# sorted returns a sorted list from `converted S`\n",
        "sorted(list(S))"
      ],
      "metadata": {
        "colab": {
          "base_uri": "https://localhost:8080/"
        },
        "id": "nvZi7wMHk6-e",
        "outputId": "6bb03a75-5900-475d-bcaf-ade3df367dbd"
      },
      "execution_count": null,
      "outputs": [
        {
          "output_type": "stream",
          "name": "stdout",
          "text": [
            "22 <class 'set'>\n"
          ]
        },
        {
          "output_type": "execute_result",
          "data": {
            "text/plain": [
              "list"
            ]
          },
          "metadata": {},
          "execution_count": 12
        }
      ]
    },
    {
      "cell_type": "code",
      "source": [
        "colors = {'red', 'orange', 'yellow', 'green', 'red', 'blue'}\n",
        "colors"
      ],
      "metadata": {
        "colab": {
          "base_uri": "https://localhost:8080/"
        },
        "id": "ya4gA9AlFX7V",
        "outputId": "8e6dc1df-ca0c-467b-c1b7-af40edbf0143"
      },
      "execution_count": null,
      "outputs": [
        {
          "output_type": "execute_result",
          "data": {
            "text/plain": [
              "{'blue', 'green', 'orange', 'red', 'yellow'}"
            ]
          },
          "metadata": {},
          "execution_count": 69
        }
      ]
    },
    {
      "cell_type": "markdown",
      "source": [
        "# Dict\n",
        "\n",
        "- [PYP Dictionary Page](https://cisjw.sitehost.iu.edu/pyp/py2/dictionary.html)\n",
        "\n",
        "- Canvas CH09-Practice\n",
        "\n",
        "- [134.8 Summarize Dictionary Data](https://cisjw.sitehost.iu.edu/pyp/py2/dictionary.html)"
      ],
      "metadata": {
        "id": "4z4CdBqErODO"
      }
    },
    {
      "cell_type": "code",
      "source": [
        "## Merge Two or More Dict\n",
        "\n",
        "dict1 = {'x': 10, 'y': 8}\n",
        "dict2 = {'a': 6, 'b': 4, 'x': -10}\n",
        "dict3 = {'x': -100}\n",
        "merge = ( dict1 | dict2 | dict3 )\n",
        "# equivalent to dict1.update(dict2). Thus, duplicate keys always take the value from rightmost dict.\n",
        "print(merge)"
      ],
      "metadata": {
        "colab": {
          "base_uri": "https://localhost:8080/"
        },
        "id": "eAEFsmaEtPGJ",
        "outputId": "88ec0afe-6671-4d79-9653-120f6dc7b6f0"
      },
      "execution_count": null,
      "outputs": [
        {
          "output_type": "stream",
          "name": "stdout",
          "text": [
            "{'x': -100, 'y': 8, 'a': 6, 'b': 4}\n"
          ]
        }
      ]
    },
    {
      "cell_type": "markdown",
      "source": [
        "## Study: dict1 == dict2 ? dict !== dict2 ?"
      ],
      "metadata": {
        "id": "YRFR1jTRG42M"
      }
    },
    {
      "cell_type": "code",
      "source": [
        "# create dict1\n",
        "ascii_values = list(range(ord('a'), ord('f')))\n",
        "keys = [ chr(i) for i in ascii_values]\n",
        "dict1 = dict(zip(keys, ascii_values))\n",
        "print(dict1)\n",
        "\n",
        "# create dict2\n",
        "dict2 = { k:v for k,v in dict1.items()}\n",
        "print(dict2)\n",
        "\n",
        "# relational == operator\n",
        "equality = (dict1 == dict2)\n",
        "print(equality)\n",
        "\n",
        "# relational != operator\n",
        "inequality = (dict1 != dict2)\n",
        "print(inequality)"
      ],
      "metadata": {
        "colab": {
          "base_uri": "https://localhost:8080/"
        },
        "id": "l7OqsXnxFwGG",
        "outputId": "c278dc67-42ff-4352-e7f9-3601fed9700a"
      },
      "execution_count": null,
      "outputs": [
        {
          "output_type": "stream",
          "name": "stdout",
          "text": [
            "{'a': 97, 'b': 98, 'c': 99, 'd': 100, 'e': 101}\n",
            "{'a': 97, 'b': 98, 'c': 99, 'd': 100, 'e': 101}\n",
            "True\n",
            "False\n"
          ]
        }
      ]
    },
    {
      "cell_type": "markdown",
      "source": [
        "## Study: Extract unique words and counts from text to Dict(str:int)"
      ],
      "metadata": {
        "id": "SVLQXymaG130"
      }
    },
    {
      "cell_type": "code",
      "source": [
        "#\n",
        "# Extract unique and counts from text to Dict(str:int)\n",
        "#\n",
        "text = '''set.remove/discard: In terms of the KeyError exception,\n",
        "the remove method will raise an error if the specified item does not exist\n",
        "while the discard method will not.'''\n",
        "\n",
        "# replace each punc mark with a space\n",
        "delimitors = [',', '/', '.', ':']\n",
        "for delimitor in delimitors:\n",
        "    text = \" \".join(text.split(delimitor))\n",
        "\n",
        "# lowercase transform; parse text to work tokens\n",
        "words = text.lower().split() # str.split defaults to space delimiter\n",
        "\n",
        "# view\n",
        "for w in words:\n",
        "  print(w)"
      ],
      "metadata": {
        "id": "DNQEyp2ntjtr"
      },
      "execution_count": null,
      "outputs": []
    },
    {
      "cell_type": "code",
      "source": [
        "# Extract unique & counts to Dictionary U\n",
        "U = dict()\n",
        "for w in words:\n",
        "  U[w] = 1 + U.get(w, 0)\n",
        "\n",
        "# inspect U\n",
        "for u in U.items():\n",
        "  print(u)"
      ],
      "metadata": {
        "id": "mq3_-fnz8ZUw"
      },
      "execution_count": null,
      "outputs": []
    },
    {
      "cell_type": "code",
      "source": [
        "# Sort pairs by (alphabetical order of word) keys\n",
        "keys = list(U.keys())\n",
        "U_w = { k:U[k] for k in sorted(keys) }\n",
        "# Alternative\n",
        "U_w = dict(sorted(U.items()))\n",
        "#\n",
        "for u in U_w.items():\n",
        "  print(u)"
      ],
      "metadata": {
        "id": "r6YRae9B8ZgW"
      },
      "execution_count": null,
      "outputs": []
    },
    {
      "cell_type": "code",
      "source": [
        "# Sort by (count) values\n",
        "values = U.values()\n",
        "keys = list(U.keys())\n",
        "sorted_values = sorted(values) # sort values\n",
        "\n",
        "U_v = {}\n",
        "for i in sorted_values:  # for each i in sorted values\n",
        "    for k in keys: # loop U.keys to match value i\n",
        "      if U[k] == i:   # matching key found\n",
        "        U_v[k] = i # insert (k, i) to U_v (sorted U)\n",
        "        keys.remove(k) # exclude found-key for next iter.\n",
        "        break      # break out of inner-for\n",
        "        # end-if\n",
        "    # end-inner\n",
        "# end-outer\n",
        "\n",
        "for u in U_v.items():\n",
        "  print(u)"
      ],
      "metadata": {
        "id": "DQ-X3wpY8Zj-"
      },
      "execution_count": null,
      "outputs": []
    },
    {
      "cell_type": "markdown",
      "source": [
        "# Matrix in 2D-List\n",
        "\n",
        "[PYP 2D Comprehension Page](https://cisjw.sitehost.iu.edu/pyp/py2/matrix-ops.html):\n",
        "\n",
        "- Fill in a 3 by 3 matrix row by row, with the first 9, above-0 even integers.\n",
        "- Summary stats of `employees`\n",
        "\n",
        "[PYP Matrix Page](https://cisjw.sitehost.iu.edu/pyp/py2/matrix-ops.html)\n",
        "\n"
      ],
      "metadata": {
        "id": "6mTOQ7_wsdws"
      }
    },
    {
      "cell_type": "markdown",
      "source": [
        "# Practice: Gradebook\n",
        "\n",
        "Assume a gradebook file in the CSV format. Open the book: [gradebook.csv](https://raw.githubusercontent.com/remjw/data/master/py_programming_data/gradebook.csv)\n",
        "\n",
        "The first line is the table header, listing the fieldname for each column. Starting from line 2, each line contains data values for one student, student's name followed by four grades. If a student has missed an exam, the associated value in the gradebook is blank. The last two students have one missing grade in e3 and e4, respectively.\n",
        "\n",
        "```\n",
        "student_name,e1,e2,e3,e4\n",
        "Susan,92,85,100,80\n",
        "Eduardo,83,95,79,90\n",
        "Azizi,91,89,82,65\n",
        "Pantipa,97,91,,90\n",
        "Tamara,76,89,75,\n",
        "```"
      ],
      "metadata": {
        "id": "a6-VH2ZX8SVy"
      }
    },
    {
      "cell_type": "code",
      "source": [
        "# get gradebook.csv\n",
        "!wget 'https://raw.githubusercontent.com/remjw/data/master/py_programming_data/gradebook.csv''"
      ],
      "metadata": {
        "id": "0qkkasbBN8bW"
      },
      "execution_count": null,
      "outputs": []
    },
    {
      "cell_type": "markdown",
      "source": [
        "1. Write a function to read gradebook to Python Dictionary which maps each student's name as item key to a list of integers as item value, and return the dict.\n",
        "\n",
        "```\n",
        "grade_book = {\n",
        "     'Susan': [92, 85, 100, 80]\n",
        "     , 'Eduardo': [83, 95, 79, 90]\n",
        "     , 'Azizi': [91, 89, 82, 65]\n",
        "     , 'Pantipa': [97, 91, 0, 90]\n",
        "     , 'Tamara': [76, 89, 75, 0]\n",
        "}\n",
        "```\n",
        "\n",
        "2. Write the second function that takes a dict `grades` as returned from the first function specified above, calculates the average per student, and returns the result in a tuple list. The average grade of a student is calculated as the sum of all grades divided by the grade count.\n",
        "\n",
        "The values below are fictitious.\n",
        "\n",
        "```\n",
        "[\n",
        "  ('Susan', 87)\n",
        "  , ('Eduardo', 85)\n",
        "  , (Azizi', 80)\n",
        "  , ('Pantipa', 70)\n",
        "  , ('Tamara', 60)\n",
        "]\n",
        "```"
      ],
      "metadata": {
        "id": "iwthy6p4FXu3"
      }
    },
    {
      "cell_type": "markdown",
      "source": [
        "# Practice : Employees Data\n",
        "\n"
      ],
      "metadata": {
        "id": "N82W8XMN7hkc"
      }
    },
    {
      "cell_type": "markdown",
      "source": [
        "Assume the employees' data in the CSV format.\n",
        "Get a data sample [employees.csv](https://raw.githubusercontent.com/remjw/data/master/py_programming_data/employees.csv)"
      ],
      "metadata": {
        "id": "gxlW4ETgBpmc"
      }
    },
    {
      "cell_type": "code",
      "source": [
        "# get the file employees.csv\n",
        "!wget 'https://raw.githubusercontent.com/remjw/data/master/py_programming_data/employees.csv'"
      ],
      "metadata": {
        "id": "-CVcztG2Anvb"
      },
      "execution_count": null,
      "outputs": []
    },
    {
      "cell_type": "markdown",
      "source": [
        "\n",
        "\n",
        "The values in each line are\n",
        "employee_id, first_name, last_name, sex, hire_year and pay_rate, in order from left to right.\n",
        "\n",
        "\n",
        "Write a Python function `analyze(infile='employees.csv', outfile='report.txt')`, performing the following operations in order:\n",
        "\n",
        "1. read employees data from infile to Python\n",
        "2. calculate the stats for male and female group, respectively:\n",
        "    - headcount\n",
        "    - senior count ( is_senior if (2024 - hire_year) >= 40 )\n",
        "    - pay_rate average\n",
        "    - maximum pay_rate\n",
        "\n",
        "\n",
        "3. store the stats in a Dict of two pairs using `male` and `female` for keys. The associated value of each group key is a stats dict. The following gives an example of the structure in such nested dict:\n",
        "```\n",
        "stats = {\n",
        "    'male' : {\n",
        "        'headcount' : 2\n",
        "        , 'senior_cnt' : 2\n",
        "        , 'pay_rate_mean' : 30.00\n",
        "        , 'pay_rate_max': 40.00\n",
        "        }\n",
        "    ,\n",
        "    'female' : {\n",
        "        'headcount' : 4\n",
        "        , 'senior_cnt' : 2\n",
        "        , 'pay_rate_mean' : 26.67\n",
        "        , 'pay_rate_max': 35\n",
        "        }\n",
        "}\n",
        "```\n",
        "\n",
        "4. write the dict `stats` dict to `outfile` having one pair in one line; separating values by space.  \n",
        "```\n",
        "group headcount senior_cnt pay_rate_mean pay_rate_max\n",
        "male 2 2 30.00 40.00\n",
        "female 4 2 26.67 35\n",
        "```\n",
        "5. return the dict stats"
      ],
      "metadata": {
        "id": "Lr_n3LRoBf3l"
      }
    },
    {
      "cell_type": "markdown",
      "source": [
        "# Practice: Chracter Frequency\n",
        "\n",
        "\n",
        "1. Book Exercise-Most frequent character\n",
        "\n",
        "Write a function that accepts a text file and displays the character that appears most frequently in the file. Exclude whitespace characters and punctuation marks.\n",
        "\n",
        "2. [Letter frequency](https://cisjw.sitehost.iu.edu/pyp/py2/set.html#character-count)\n",
        "\n",
        "Write a function that takes a text file as input, then do the following:\n",
        "\n",
        "- Use set and dictionary to summarize in a Dict, the number of occurrences (counts) of each alphabetic letter.\n",
        "- Ignore case, ignore blanks and assume the user does not enter any punctuation.\n",
        "- Display a two-column table of 24 letters and their counts in ascending alphabetical order of the letters.\n",
        "- Plot the frequency in a histogram (matplotlib)\n",
        "- Return the frequency dict\n",
        "\n",
        "3. Test Run: Use the following two files to test both functions.\n",
        "\n",
        "- [GirlNames.txt](https://raw.githubusercontent.com/remjw/data/master/py_programming_data/GirlNames.txt)\n",
        "- [BoyNames.txt](https://raw.githubusercontent.com/remjw/data/master/py_programming_data/BoyNames.txt)\n"
      ],
      "metadata": {
        "id": "J7HmeebeIXtV"
      }
    }
  ]
}