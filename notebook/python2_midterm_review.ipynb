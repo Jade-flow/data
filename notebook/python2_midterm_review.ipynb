{
  "nbformat": 4,
  "nbformat_minor": 0,
  "metadata": {
    "colab": {
      "provenance": [],
      "authorship_tag": "ABX9TyNRlyS+uqD8kvJjT6OiXv76",
      "include_colab_link": true
    },
    "kernelspec": {
      "name": "python3",
      "display_name": "Python 3"
    },
    "language_info": {
      "name": "python"
    }
  },
  "cells": [
    {
      "cell_type": "markdown",
      "metadata": {
        "id": "view-in-github",
        "colab_type": "text"
      },
      "source": [
        "<a href=\"https://colab.research.google.com/github/remjw/data/blob/master/notebook/python2_midterm_review.ipynb\" target=\"_parent\"><img src=\"https://colab.research.google.com/assets/colab-badge.svg\" alt=\"Open In Colab\"/></a>"
      ]
    },
    {
      "cell_type": "markdown",
      "source": [
        "# Midterm Review\n"
      ],
      "metadata": {
        "id": "2fvVLTRBoQos"
      }
    },
    {
      "cell_type": "markdown",
      "source": [
        "# List\n",
        "\n",
        "- [PYP List Basics Page](https://cisjw.sitehost.iu.edu/pyp/py2/list-basics.html)\n",
        "\n",
        "- Canvas CH07-Practice\n",
        "\n",
        "- [filter function with list](https://cisjw.sitehost.iu.edu/pyp/py2/list-filter-function.html)\n",
        "\n",
        "- [Analyzing IRIS Data](https://cisjw.sitehost.iu.edu/pyp/py2/lab-analyze-iris.html)\n",
        "\n",
        "- [barchart by matplotlib library]((https://cisjw.sitehost.iu.edu/pyp/py2/lab-analyze-iris.html))"
      ],
      "metadata": {
        "id": "cuqZrGQLoUtb"
      }
    },
    {
      "cell_type": "code",
      "source": [
        "import matplotlib.pyplot as plt\n",
        "X = range(-5, 5)\n",
        "Y = [ x ** 2 for x in X ]\n",
        "plt.plot(X, Y)"
      ],
      "metadata": {
        "id": "BI8d3QXGqgNX"
      },
      "execution_count": null,
      "outputs": []
    },
    {
      "cell_type": "markdown",
      "source": [
        "# Tuple\n",
        "\n",
        "- [PYP Tuple Page]()\n",
        "\n",
        "- Canvas CH07-Practice"
      ],
      "metadata": {
        "id": "U3YDASqipinC"
      }
    },
    {
      "cell_type": "markdown",
      "source": [
        "# String\n",
        "\n",
        "- [ch8_string_object Notebook](https://colab.research.google.com/github/remjw/data/blob/master/notebook/ch8_string_object.ipynb)\n",
        "\n",
        "\n",
        "- Canvas CH08-Practice"
      ],
      "metadata": {
        "id": "DSg1bREam0CX"
      }
    },
    {
      "cell_type": "code",
      "execution_count": null,
      "metadata": {
        "id": "ZVZnpxKKCYoX"
      },
      "outputs": [],
      "source": [
        "text = \"About Python's String object, and others.\"\n",
        "runs = ['type, len, isinstance functions'\n",
        ",'ordered, int-indexed'\n",
        ", 'iterable'\n",
        ", 'immutable'\n",
        ", 'repeat operator *'\n",
        ", 'concatenate + ops'\n",
        ", 'slice operator begin:end:step'\n",
        ", 'negative index -1 denotes end of string'\n",
        ", 'method-str.split:parse to parts by space default'\n",
        ", 'method-str.strip, lstrip, rstrip:whitespace removal from the ends'\n",
        ", 'method-str.find:determine whether a substring is present?'\n",
        ", 'method-str.endswith/startswith:substring is prefix or suffix'\n",
        ", 'method-str.upper/lower'\n",
        ", 'method-str.isalpha/isdigit/isalphanum'\n",
        ", 'method-str.replace((oldvalue, newvalue, count)'\n",
        "]"
      ]
    },
    {
      "cell_type": "code",
      "source": [
        "# Exclude certain content from analysis\n",
        "## Way 1: loop\n",
        "text = 'For instance, exclude space, comma, period from count.'\n",
        "exclude = [' ', ',', '.']\n",
        "text = ''.join([c for c in text if c not in exclude ])\n",
        "print(text)\n",
        "\n",
        "## Way 2: Use str.replace((oldvalue, newvalue, count)\n",
        "text = 'For instance, exclude space, comma, period from count.'\n",
        "outliers = [' ', ',', '.']\n",
        "text\n",
        "for outlier in outliers:\n",
        "  text = text.replace(outlier, '')\n",
        "print(text)"
      ],
      "metadata": {
        "colab": {
          "base_uri": "https://localhost:8080/"
        },
        "id": "l5J0S9TZcnwM",
        "outputId": "a03336f4-e77b-4b78-ccf0-aa3f4ca005d1"
      },
      "execution_count": 85,
      "outputs": [
        {
          "output_type": "stream",
          "name": "stdout",
          "text": [
            "Forinstanceexcludespacecommaperiodfromcount\n",
            "Forinstanceexcludespacecommaperiodfromcount\n"
          ]
        }
      ]
    },
    {
      "cell_type": "markdown",
      "source": [
        "# Set\n",
        "\n",
        "- [PYP Set Page](https://cisjw.sitehost.iu.edu/pyp/py2/set.html)\n",
        "\n",
        "- CH09-Practice"
      ],
      "metadata": {
        "id": "1PIipu0jnFVF"
      }
    },
    {
      "cell_type": "code",
      "source": [
        "text = '''set.remove/discard: In terms of the KeyError exception,\n",
        "the remove method will raise an error if the specified item does not exist\n",
        "while the discard method will not.'''\n",
        "\n",
        "# Set from Str\n",
        "S = set(text.split())\n",
        "print(len(S), type(S))\n",
        "\n",
        "# sorted returns a sorted list from `converted S`\n",
        "sorted(list(S))"
      ],
      "metadata": {
        "colab": {
          "base_uri": "https://localhost:8080/"
        },
        "id": "nvZi7wMHk6-e",
        "outputId": "6bb03a75-5900-475d-bcaf-ade3df367dbd"
      },
      "execution_count": 12,
      "outputs": [
        {
          "output_type": "stream",
          "name": "stdout",
          "text": [
            "22 <class 'set'>\n"
          ]
        },
        {
          "output_type": "execute_result",
          "data": {
            "text/plain": [
              "list"
            ]
          },
          "metadata": {},
          "execution_count": 12
        }
      ]
    },
    {
      "cell_type": "code",
      "source": [
        "colors = {'red', 'orange', 'yellow', 'green', 'red', 'blue'}\n",
        "colors"
      ],
      "metadata": {
        "colab": {
          "base_uri": "https://localhost:8080/"
        },
        "id": "ya4gA9AlFX7V",
        "outputId": "8e6dc1df-ca0c-467b-c1b7-af40edbf0143"
      },
      "execution_count": 69,
      "outputs": [
        {
          "output_type": "execute_result",
          "data": {
            "text/plain": [
              "{'blue', 'green', 'orange', 'red', 'yellow'}"
            ]
          },
          "metadata": {},
          "execution_count": 69
        }
      ]
    },
    {
      "cell_type": "markdown",
      "source": [
        "# Dict\n",
        "\n",
        "- [PYP Dictionary Page](https://cisjw.sitehost.iu.edu/pyp/py2/dictionary.html)\n",
        "\n",
        "- Canvas CH09-Practice\n",
        "\n",
        "- [134.8 Summarize Dictionary Data](https://cisjw.sitehost.iu.edu/pyp/py2/dictionary.html)"
      ],
      "metadata": {
        "id": "4z4CdBqErODO"
      }
    },
    {
      "cell_type": "code",
      "source": [
        "## Merge Two or More Dict\n",
        "\n",
        "dict1 = {'x': 10, 'y': 8}\n",
        "dict2 = {'a': 6, 'b': 4, 'x': -10}\n",
        "dict3 = {'x': -100}\n",
        "merge = ( dict1 | dict2 | dict3 )\n",
        "# equivalent to dict1.update(dict2). Thus, duplicate keys always take the value from rightmost dict.\n",
        "print(merge)"
      ],
      "metadata": {
        "colab": {
          "base_uri": "https://localhost:8080/"
        },
        "id": "eAEFsmaEtPGJ",
        "outputId": "88ec0afe-6671-4d79-9653-120f6dc7b6f0"
      },
      "execution_count": 96,
      "outputs": [
        {
          "output_type": "stream",
          "name": "stdout",
          "text": [
            "{'x': -100, 'y': 8, 'a': 6, 'b': 4}\n"
          ]
        }
      ]
    },
    {
      "cell_type": "markdown",
      "source": [
        "## View: dict1 == dict2 ? dict !== dict2 ?"
      ],
      "metadata": {
        "id": "YRFR1jTRG42M"
      }
    },
    {
      "cell_type": "code",
      "source": [
        "# create dict1\n",
        "ascii_values = list(range(ord('a'), ord('f')))\n",
        "keys = [ chr(i) for i in ascii_values]\n",
        "dict1 = dict(zip(keys, ascii_values))\n",
        "print(dict1)\n",
        "\n",
        "# create dict2\n",
        "dict2 = { k:v for k,v in dict1.items()}\n",
        "print(dict2)\n",
        "\n",
        "# relational == operator\n",
        "equality = (dict1 == dict2)\n",
        "print(equality)\n",
        "\n",
        "# relational != operator\n",
        "inequality = (dict1 != dict2)\n",
        "print(inequality)"
      ],
      "metadata": {
        "colab": {
          "base_uri": "https://localhost:8080/"
        },
        "id": "l7OqsXnxFwGG",
        "outputId": "c278dc67-42ff-4352-e7f9-3601fed9700a"
      },
      "execution_count": 79,
      "outputs": [
        {
          "output_type": "stream",
          "name": "stdout",
          "text": [
            "{'a': 97, 'b': 98, 'c': 99, 'd': 100, 'e': 101}\n",
            "{'a': 97, 'b': 98, 'c': 99, 'd': 100, 'e': 101}\n",
            "True\n",
            "False\n"
          ]
        }
      ]
    },
    {
      "cell_type": "markdown",
      "source": [
        "## View: Extract unique words and counts from text to Dict(str:int)"
      ],
      "metadata": {
        "id": "SVLQXymaG130"
      }
    },
    {
      "cell_type": "code",
      "source": [
        "#\n",
        "# Extract unique and counts from text to Dict(str:int)\n",
        "#\n",
        "text = '''set.remove/discard: In terms of the KeyError exception,\n",
        "the remove method will raise an error if the specified item does not exist\n",
        "while the discard method will not.'''\n",
        "\n",
        "# parse text to words\n",
        "delimitors = [',', '/', '.', ':']\n",
        "for delimitor in delimitors:\n",
        "    text = \" \".join(text.split(delimitor))\n",
        "# -\n",
        "words = text.lower().split()\n",
        "\n",
        "# print\n",
        "for w in words:\n",
        "  print(w)\n"
      ],
      "metadata": {
        "id": "DNQEyp2ntjtr"
      },
      "execution_count": null,
      "outputs": []
    },
    {
      "cell_type": "code",
      "source": [
        "# Extract unique & counts to Dictionary U\n",
        "U = dict()\n",
        "for w in words:\n",
        "  U[w] = 1 + U.get(w, 0)\n",
        "\n",
        "# inspect U\n",
        "for u in U.items():\n",
        "  print(u)"
      ],
      "metadata": {
        "id": "mq3_-fnz8ZUw"
      },
      "execution_count": null,
      "outputs": []
    },
    {
      "cell_type": "code",
      "source": [
        "# Sort pairs by (alphabetical order of word) keys\n",
        "keys = list(U.keys())\n",
        "U_w = { k:U[k] for k in sorted(keys) }\n",
        "# Alternative\n",
        "U_w = dict(sorted(U.items()))\n",
        "#\n",
        "for u in U_w.items():\n",
        "  print(u)"
      ],
      "metadata": {
        "id": "r6YRae9B8ZgW"
      },
      "execution_count": null,
      "outputs": []
    },
    {
      "cell_type": "code",
      "source": [
        "# Sort by (count) values\n",
        "values = U.values()\n",
        "keys = list(U.keys())\n",
        "sorted_values = sorted(values) # sort values\n",
        "\n",
        "U_v = {}\n",
        "for i in sorted_values:  # for each i in sorted values\n",
        "    for k in keys: # loop U.keys to match value i\n",
        "      if U[k] == i:   # matching key found\n",
        "        U_v[k] = i # insert (k, i) to U_v (sorted U)\n",
        "        keys.remove(k) # exclude found-key for next iter.\n",
        "        break      # break out of inner-for\n",
        "        # end-if\n",
        "    # end-inner\n",
        "# end-outer\n",
        "\n",
        "for u in U_v.items():\n",
        "  print(u)"
      ],
      "metadata": {
        "id": "DQ-X3wpY8Zj-"
      },
      "execution_count": null,
      "outputs": []
    },
    {
      "cell_type": "markdown",
      "source": [
        "# Matrix in 2D-List\n",
        "\n",
        "[PYP 2D Comprehension Page](https://cisjw.sitehost.iu.edu/pyp/py2/matrix-ops.html):\n",
        "\n",
        "- Fill in a 3 by 3 matrix row by row, with the first 9, above-0 even integers.\n",
        "- Summary stats of `employees`\n",
        "\n",
        "[PYP Matrix Page](https://cisjw.sitehost.iu.edu/pyp/py2/matrix-ops.html)\n",
        "\n"
      ],
      "metadata": {
        "id": "6mTOQ7_wsdws"
      }
    }
  ]
}