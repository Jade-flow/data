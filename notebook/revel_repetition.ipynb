{
  "nbformat": 4,
  "nbformat_minor": 0,
  "metadata": {
    "colab": {
      "provenance": [],
      "include_colab_link": true
    },
    "kernelspec": {
      "name": "python3",
      "display_name": "Python 3"
    },
    "language_info": {
      "name": "python"
    }
  },
  "cells": [
    {
      "cell_type": "markdown",
      "metadata": {
        "id": "view-in-github",
        "colab_type": "text"
      },
      "source": [
        "<a href=\"https://colab.research.google.com/github/remjw/data/blob/master/notebook/revel_repetition.ipynb\" target=\"_parent\"><img src=\"https://colab.research.google.com/assets/colab-badge.svg\" alt=\"Open In Colab\"/></a>"
      ]
    },
    {
      "cell_type": "code",
      "source": [
        "num_hours = int(input('How many hours are you taking this semester? '))\n",
        "num_majors = int(input('How many of these courses are in your major? '))\n",
        "\n",
        "if num_hours >= 12:\n",
        "  if num_majors >= 3:\n",
        "    print('Course load is acceptable.')\n",
        "  else:\n",
        "    print('Double check major requirement')\n",
        "else:\n",
        "  print('See your advisor for register.')\n",
        "    "
      ],
      "metadata": {
        "id": "f2aYfaf_XKAi",
        "colab": {
          "base_uri": "https://localhost:8080/"
        },
        "outputId": "792869a2-c94a-4ce3-e056-3714287202b9"
      },
      "execution_count": 11,
      "outputs": [
        {
          "output_type": "stream",
          "name": "stdout",
          "text": [
            "How many hours are you taking this semester? 15\n",
            "How many of these courses are in your major? 1\n",
            "Double check major requirement\n"
          ]
        }
      ]
    },
    {
      "cell_type": "code",
      "source": [
        "# initializing\n",
        "num_hours = int(input('How many hours are you taking this semester?'))\n",
        "num_majors = int(input('How many of these courses are in your major?'))\n",
        "\n",
        "# decision\n",
        "if num_hours < 12:\n",
        "    print('Please see your advisor to register.')\n",
        "elif num_majors >= 3:\n",
        "        print('Your course load is acceptable.')\n",
        "else:\n",
        "    print('Double check the requirements for your major.')"
      ],
      "metadata": {
        "colab": {
          "base_uri": "https://localhost:8080/"
        },
        "id": "PHmfjpr2O76C",
        "outputId": "825e624c-0550-4400-f5ca-e4c1ca7a74d1"
      },
      "execution_count": 9,
      "outputs": [
        {
          "output_type": "stream",
          "name": "stdout",
          "text": [
            "How many hours are you taking this semester?15\n",
            "How many of these courses are in your major?1\n",
            "Double check the requirements for your major.\n"
          ]
        }
      ]
    },
    {
      "cell_type": "markdown",
      "source": [
        "### Ch4 Project 1\n",
        "\n",
        "At one college, the tuition for a full-time student is $8,000 per semester. It has been announced that the tuition will increase by 3 percent each year for the next 5 years. Write a program with a loop that displays the projected semester tuition amount for the next 5 years. Your program’s output must exactly match the output shown in the sample run below. Notice the wording of the messages and the placement of spaces and punctuation. Also, make sure that the tuition amounts are rounded to two decimal places.\n"
      ],
      "metadata": {
        "id": "SeSr7hyvbgMs"
      }
    },
    {
      "cell_type": "code",
      "source": [
        "tuition, rate, years = 8000, 0.03, 5\n",
        "for i in range(1, years + 1):\n",
        "  tuition *= 1 + rate\n",
        "  print(f'In {i} {\"years\" if i>1 else \"year\"}, the tuition will be ${tuition:.2f}.')"
      ],
      "metadata": {
        "colab": {
          "base_uri": "https://localhost:8080/"
        },
        "id": "v4G_WDbyYUqm",
        "outputId": "4d2f9d78-a83e-4186-9868-3ca61e497702"
      },
      "execution_count": 16,
      "outputs": [
        {
          "output_type": "stream",
          "name": "stdout",
          "text": [
            "In 1 year, the tuition will be $8240.00.\n",
            "In 2 years, the tuition will be $8487.20.\n",
            "In 3 years, the tuition will be $8741.82.\n",
            "In 4 years, the tuition will be $9004.07.\n",
            "In 5 years, the tuition will be $9274.19.\n"
          ]
        }
      ]
    },
    {
      "cell_type": "markdown",
      "source": [
        "### Ch4 Project 2:\n",
        "\n",
        "In mathematics, the notation $n!$ represents the factorial of the nonnegative integer n. The factorial of n is the product of all the nonnegative integers from1ton. For example:\n",
        "7! = 1 x 2 x 3 x 4 x 5 x 6 x 7 = 5,040\n",
        "\n",
        "Write a program that lets the user enter a nonnegative integer and then uses a loop to calculate the factorial of that number. Display the factorial.\n",
        "Look carefully at the following sample run of the program. In particular, notice the wording of the message and the placement of spaces and colons. Your program's output must match this."
      ],
      "metadata": {
        "id": "7TzC3ibgbN4t"
      }
    },
    {
      "cell_type": "code",
      "source": [],
      "metadata": {
        "id": "2CfOgxrcZm7q"
      },
      "execution_count": null,
      "outputs": []
    }
  ]
}