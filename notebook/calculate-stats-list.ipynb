{
  "nbformat": 4,
  "nbformat_minor": 0,
  "metadata": {
    "colab": {
      "provenance": [],
      "name": "ch7_programming_Colab_notebook.ipynb",
      "include_colab_link": true
    },
    "kernelspec": {
      "name": "python3",
      "display_name": "Python 3"
    },
    "language_info": {
      "name": "python"
    }
  },
  "cells": [
    {
      "cell_type": "markdown",
      "metadata": {
        "id": "view-in-github",
        "colab_type": "text"
      },
      "source": [
        "<a href=\"https://colab.research.google.com/github/remjw/data/blob/master/notebook/calculate-stats-list.ipynb\" target=\"_parent\"><img src=\"https://colab.research.google.com/assets/colab-badge.svg\" alt=\"Open In Colab\"/></a>"
      ]
    },
    {
      "cell_type": "markdown",
      "source": [
        "## Chapter 7 Programming Homework Starter Program"
      ],
      "metadata": {
        "id": "xwJC3oQaNM9B"
      }
    },
    {
      "cell_type": "code",
      "source": [
        "# for Colab only: run this cell to get data\n",
        "!wget https://raw.githubusercontent.com/remjw/data/master/py_programming_data/reddit_vm.csv\n",
        "# after run the cell, confirm reddit.csv in Files on left column bar\n",
        "# double click the name to view the data having 1531 records."
      ],
      "metadata": {
        "id": "TCIgbRDg7wt_"
      },
      "execution_count": null,
      "outputs": []
    },
    {
      "cell_type": "code",
      "source": [
        "# 0. load dependencies\n",
        "import os, csv\n",
        "# No need to install (pip install matlplotlib)\n",
        "import matplotlib.pyplot as plt"
      ],
      "metadata": {
        "id": "oHwthx-o19XE"
      },
      "execution_count": 2,
      "outputs": []
    },
    {
      "cell_type": "markdown",
      "source": [
        "### You work in this cell to\n",
        "\n",
        "- Complete `analyze_base_python(entries)`\n",
        "\n",
        "- Only use Python Base in the function `analyze_base_python` to perform the same analysis and display the expected output.\n",
        "\n",
        "- Run the cell to display the analysis result."
      ],
      "metadata": {
        "id": "V07onf7qNv4M"
      }
    },
    {
      "cell_type": "code",
      "source": [
        "# user-defined function\n",
        "def analyze_base_python(entries):\n",
        "    '''to-be-completed, only use Python base library\n",
        "    analyze entries to answer the questions'''\n",
        "\n",
        "    # inspect first tuple values in a record\n",
        "    print(f'first entry: {entries[0]}')\n",
        "\n",
        "    report = f'The program only uses Python Base.\\n'\n",
        "\n",
        "    avg_num_comments = 0\n",
        "    avg_score = 0\n",
        "    # highest score\n",
        "    max_score = 0\n",
        "    top_post_title_by_score = None\n",
        "    # lowest score\n",
        "    min_score = 0\n",
        "    last_post_title_by_score = None\n",
        "    # most commented\n",
        "    max_comms = 0\n",
        "    most_commented_post_title = None\n",
        "\n",
        "    # -------\n",
        "    # write code to calculate the values above\n",
        "    # --------\n",
        "    ...\n",
        "    ...\n",
        "\n",
        "    report += f'\\nAverage number of comments per post: {avg_num_comments:15,.3f}'\n",
        "    report += f'\\nAverage score per post: {avg_score:15,.3f}'\n",
        "    report += f'\\nTop Post title (score {max_score:.3f}): {top_post_title_by_score}'\n",
        "    report += f'\\nLast Post title (score {min_score:.3f}): {last_post_title_by_score}'\n",
        "    report += f'\\nMost Commented title ({max_comms} comments): {most_commented_post_title}'\n",
        "    return report\n",
        "\n",
        "\n",
        "def main():\n",
        "    # read csv into a tuple list\n",
        "    with open(\"reddit_vm.csv\", \"r\", encoding='UTF-8', errors=\"ignore\") as f:\n",
        "        # read data into a list of tuples\n",
        "        entries = [\n",
        "            (e['id'], int(e['score']), int(e['comms_num']), e['title'])\n",
        "            for e in csv.DictReader(f)\n",
        "        ]\n",
        "    # print(entries)\n",
        "\n",
        "    print(analyze_base_python(entries))\n",
        "\n",
        "main()"
      ],
      "metadata": {
        "colab": {
          "base_uri": "https://localhost:8080/"
        },
        "id": "yBDde-qu7zEt",
        "outputId": "bd98da61-2db1-4c79-e19a-9f951d5674a3"
      },
      "execution_count": 3,
      "outputs": [
        {
          "output_type": "stream",
          "name": "stdout",
          "text": [
            "first entry: ('lt74vw', 7, 0, 'Health Canada approves AstraZeneca COVID-19 vaccine')\n",
            "The program only uses Python Base.\n",
            "\n",
            "Average number of comments per post:           0.000\n",
            "Average score per post:           0.000\n",
            "Top Post title (score 0.000): None\n",
            "Last Post title (score 0.000): None\n",
            "Most Commented title (0 comments): None\n"
          ]
        }
      ]
    }
  ]
}