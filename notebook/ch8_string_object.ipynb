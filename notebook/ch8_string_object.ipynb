{
  "nbformat": 4,
  "nbformat_minor": 0,
  "metadata": {
    "colab": {
      "provenance": [],
      "authorship_tag": "ABX9TyNn6MCIYwUZB4RhXPfAytRQ",
      "include_colab_link": true
    },
    "kernelspec": {
      "name": "python3",
      "display_name": "Python 3"
    },
    "language_info": {
      "name": "python"
    }
  },
  "cells": [
    {
      "cell_type": "markdown",
      "metadata": {
        "id": "view-in-github",
        "colab_type": "text"
      },
      "source": [
        "<a href=\"https://colab.research.google.com/github/remjw/data/blob/master/notebook/ch8_string_object.ipynb\" target=\"_parent\"><img src=\"https://colab.research.google.com/assets/colab-badge.svg\" alt=\"Open In Colab\"/></a>"
      ]
    },
    {
      "cell_type": "code",
      "execution_count": 8,
      "metadata": {
        "colab": {
          "base_uri": "https://localhost:8080/"
        },
        "id": "L62zsrPlQG4a",
        "outputId": "0928a8c7-1fb3-43f8-fa96-75e29bd8f3dd"
      },
      "outputs": [
        {
          "output_type": "stream",
          "name": "stdout",
          "text": [
            "<class 'str'>\n",
            "5\n",
            "A\n",
            "Apple_\n",
            "Apple_\n",
            "Error: <class 'AttributeError'>\n",
            "old S1: Apple object ID of old S1 140630754583984\n",
            "new S1: Apple_ object ID of new S1: 140631167166512\n"
          ]
        }
      ],
      "source": [
        "S1 = 'Apple'\n",
        "S2 = '_'\n",
        "# type `str`\n",
        "print(type(S1))\n",
        "# finite \n",
        "print(len(S1))\n",
        "# ordered\n",
        "print(S1[0])\n",
        "\n",
        "# concatenate by + sign\n",
        "print(S1 + S2)\n",
        "# concatenate by f-string\n",
        "print(f'{S1}{S2}')\n",
        "\n",
        "# immutable (not support list.append method)\n",
        "try:\n",
        "  S1.append('_') # gives AttributeError\n",
        "except Exception as e:\n",
        "  print(f'Error: {e.__class__}')\n",
        "\n",
        "# But it seems I can modify S1 by + sign\n",
        "# Correct, we can. \n",
        "# But the new S1 gets a new object ID with the same identifier though.\n",
        "print(f'old S1: {S1} object ID of old S1 {id(S1)}')\n",
        "# append by + sign\n",
        "S1 = S1 + '_'\n",
        "print(f'new S1: {S1} object ID of new S1: {id(S1)}')\n",
        "\n"
      ]
    }
  ]
}