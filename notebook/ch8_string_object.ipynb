{
  "nbformat": 4,
  "nbformat_minor": 0,
  "metadata": {
    "colab": {
      "provenance": [],
      "authorship_tag": "ABX9TyNcmYf3/eWXTaUiAt95d0oZ",
      "include_colab_link": true
    },
    "kernelspec": {
      "name": "python3",
      "display_name": "Python 3"
    },
    "language_info": {
      "name": "python"
    }
  },
  "cells": [
    {
      "cell_type": "markdown",
      "metadata": {
        "id": "view-in-github",
        "colab_type": "text"
      },
      "source": [
        "<a href=\"https://colab.research.google.com/github/remjw/data/blob/master/notebook/ch8_string_object.ipynb\" target=\"_parent\"><img src=\"https://colab.research.google.com/assets/colab-badge.svg\" alt=\"Open In Colab\"/></a>"
      ]
    },
    {
      "cell_type": "markdown",
      "source": [
        "### String Object"
      ],
      "metadata": {
        "id": "-1XtjA5P2eTJ"
      }
    },
    {
      "cell_type": "code",
      "execution_count": null,
      "metadata": {
        "colab": {
          "base_uri": "https://localhost:8080/"
        },
        "id": "L62zsrPlQG4a",
        "outputId": "e8807f79-7d12-417a-8b5a-fb7afffe68c2"
      },
      "outputs": [
        {
          "output_type": "stream",
          "name": "stdout",
          "text": [
            "<class 'str'>\n",
            "5\n",
            "A\n",
            "Apple_\n",
            "Apple_\n"
          ]
        }
      ],
      "source": [
        "S1 = 'Apple'\n",
        "S2 = '_'\n",
        "# type `str`\n",
        "print(type(S1))\n",
        "# finite \n",
        "print(len(S1))\n",
        "# ordered\n",
        "print(S1[0])\n",
        "\n",
        "# concatenate by + sign\n",
        "print(S1 + S2)\n",
        "# concatenate by f-string\n",
        "print(f'{S1}{S2}')\n"
      ]
    },
    {
      "cell_type": "code",
      "source": [
        "s = '1234ism '\n",
        "s.endswith('ism')\n",
        "# slicing\n",
        "k = int(input(\"How many chars from the end of string: \"))\n",
        "s[-k:] # the last k=three"
      ],
      "metadata": {
        "id": "n8Eg5jmqK_P1",
        "outputId": "29c50bf9-48e9-4085-e202-cc09e2ae7a93",
        "colab": {
          "base_uri": "https://localhost:8080/",
          "height": 75
        }
      },
      "execution_count": null,
      "outputs": [
        {
          "name": "stdout",
          "output_type": "stream",
          "text": [
            "How many chars from the end of string: 3\n"
          ]
        },
        {
          "output_type": "execute_result",
          "data": {
            "text/plain": [
              "'sm '"
            ],
            "application/vnd.google.colaboratory.intrinsic+json": {
              "type": "string"
            }
          },
          "metadata": {},
          "execution_count": 2
        }
      ]
    },
    {
      "cell_type": "code",
      "source": [
        "first, last = 'alan', 'turing'\n",
        "# Turing,Alan\n",
        "full_name = last. capitalize() +',' + first.capitalize()\n",
        "full_name = last[0].upper() + last[1:] + ',' + first[0].upper() + first[1:]\n",
        "full_name\n"
      ],
      "metadata": {
        "id": "7XeKjQBoNde7",
        "outputId": "fc70ede9-068e-464a-96eb-12c1f841e25b",
        "colab": {
          "base_uri": "https://localhost:8080/",
          "height": 58
        }
      },
      "execution_count": null,
      "outputs": [
        {
          "output_type": "execute_result",
          "data": {
            "text/plain": [
              "'Turing,Alan'"
            ],
            "application/vnd.google.colaboratory.intrinsic+json": {
              "type": "string"
            }
          },
          "metadata": {},
          "execution_count": 3
        }
      ]
    },
    {
      "cell_type": "code",
      "source": [
        "# immutable (not support list.append method)\n",
        "try:\n",
        "  S1.append('_') # gives AttributeError\n",
        "except Exception as e:\n",
        "  print(f'Error: {e.__class__}')\n"
      ],
      "metadata": {
        "id": "rf6ZcTJdmuhq",
        "outputId": "fcfb52ac-86d9-477f-bd0c-428d5b19cffb",
        "colab": {
          "base_uri": "https://localhost:8080/"
        }
      },
      "execution_count": null,
      "outputs": [
        {
          "output_type": "stream",
          "name": "stdout",
          "text": [
            "Error: <class 'AttributeError'>\n"
          ]
        }
      ]
    },
    {
      "cell_type": "code",
      "source": [
        "# But it seems I can modify S1 by + sign\n",
        "# Correct, we can. \n",
        "# But the new S1 gets a new object ID with the same identifier though.\n",
        "print(f'old S1: {S1} object ID of old S1 {id(S1)}')\n",
        "# append by + sign\n",
        "S1 = S1 + '_'\n",
        "print(f'new S1: {S1} object ID of new S1: {id(S1)}')"
      ],
      "metadata": {
        "id": "8XmCmcOZnC7F",
        "outputId": "bf78c341-8a4f-43f3-e103-f50b602602d7",
        "colab": {
          "base_uri": "https://localhost:8080/"
        }
      },
      "execution_count": null,
      "outputs": [
        {
          "output_type": "stream",
          "name": "stdout",
          "text": [
            "old S1: Apple object ID of old S1 140259980869488\n",
            "new S1: Apple_ object ID of new S1: 140260509497712\n"
          ]
        }
      ]
    },
    {
      "cell_type": "code",
      "source": [
        "# try to update char by index\n",
        "try:\n",
        "  S1[0] = '_' # gives AttributeError\n",
        "except Exception as e:\n",
        "  print(f'Error: {e.__class__}')"
      ],
      "metadata": {
        "id": "xf4ea31Zmukn",
        "outputId": "dbb11a30-ce65-4905-ad3f-424f5e32dada",
        "colab": {
          "base_uri": "https://localhost:8080/"
        }
      },
      "execution_count": null,
      "outputs": [
        {
          "output_type": "stream",
          "name": "stdout",
          "text": [
            "Error: <class 'TypeError'>\n"
          ]
        }
      ]
    },
    {
      "cell_type": "markdown",
      "source": [
        "### Revel Auto-graded 1 ☎️ "
      ],
      "metadata": {
        "id": "48BxVSpWnHas"
      }
    },
    {
      "cell_type": "code",
      "source": [
        "'''\n",
        "A, B, C: 2\n",
        "D, E, F: 3\n",
        "G, H, I: 4\n",
        "J, K, L: 5\n",
        "M, N, O: 6\n",
        "P, Q, R, S: 7\n",
        "T, U, V: 8\n",
        "W, X, Y, Z: 9\n",
        "'''\n",
        "# Mapping/lookup table\n",
        "# by associative array \n",
        "# in two lists: KEYS and CODES\n",
        "\n",
        "KEYS = [ #alphabet uppercase\n",
        "    chr(codepoint).upper()\n",
        "    for codepoint in range(97,123) \n",
        "    ]\n",
        "#print(KEYS)\n",
        "# * \n",
        "CODES = list() \n",
        "CODES.extend(3 * ['2'])\n",
        "CODES.extend(3 * ['3'])\n",
        "CODES.extend(3 * ['4'])\n",
        "CODES.extend(3 * ['5'])\n",
        "CODES.extend(3 * ['6'])\n",
        "CODES.extend(4 * ['7'])\n",
        "CODES.extend(3 * ['8'])\n",
        "CODES.extend(4 * ['9'])\n",
        "#print(CODES)\n",
        "\n",
        "# function\n",
        "def replace(c):\n",
        "  if c in KEYS:\n",
        "    return CODES[KEYS.index(c)]\n",
        "  else:\n",
        "    return c\n",
        "\n",
        "def main():\n",
        "  phone = input(\"Enter a phone number XXX-XXX-XXXX:\").upper() # case-insensitive\n",
        "  translated = \"\"\n",
        "  for c in phone:\n",
        "    translated += replace(c)\n",
        "  \n",
        "  print(translated)\n",
        "\n",
        "\n",
        "if __name__ == '__main__':\n",
        "  main()\n"
      ],
      "metadata": {
        "id": "d403APUTR6bE",
        "outputId": "a4cae236-b092-44ef-c91a-11e0977348a2",
        "colab": {
          "base_uri": "https://localhost:8080/"
        }
      },
      "execution_count": 23,
      "outputs": [
        {
          "output_type": "stream",
          "name": "stdout",
          "text": [
            "Enter a phone number XXX-XXX-XXXX:555-get-food\n",
            "555-438-3663\n"
          ]
        }
      ]
    },
    {
      "cell_type": "markdown",
      "source": [
        "### Revel Auto-graded 2"
      ],
      "metadata": {
        "id": "Nb6nPZUSyhXr"
      }
    },
    {
      "cell_type": "code",
      "source": [
        "S = 'hello. my name. what is?'\n",
        "\n",
        "def transform(S):\n",
        "  sentences = list()\n",
        "  for delimitor in ['.']:\n",
        "    sentences.extend(S.split(delimitor))\n",
        "  output = []\n",
        "  for sentence in sentences:\n",
        "    s = sentence.strip().capitalize()\n",
        "    output.append(s)\n",
        "  return '. '.join(output)\n",
        "\n",
        "print(transform(S))\n"
      ],
      "metadata": {
        "id": "CbFgjZSWs1hW",
        "outputId": "ad067c5c-e34d-40e5-ecb8-9858e3ac3d1c",
        "colab": {
          "base_uri": "https://localhost:8080/"
        }
      },
      "execution_count": null,
      "outputs": [
        {
          "output_type": "stream",
          "name": "stdout",
          "text": [
            "Hello. My name. What is?\n"
          ]
        }
      ]
    },
    {
      "cell_type": "code",
      "source": [
        "# import re\n",
        "# re.split(r\"[.?!]\", text)"
      ],
      "metadata": {
        "id": "uA6FTdKrmKre"
      },
      "execution_count": null,
      "outputs": []
    },
    {
      "cell_type": "code",
      "source": [
        "S = \"    app.      \"\n",
        "S.strip()"
      ],
      "metadata": {
        "id": "lk7_mzDkv2Sx",
        "outputId": "178e2db3-16f2-4b84-ab25-bb27f203c23b",
        "colab": {
          "base_uri": "https://localhost:8080/",
          "height": 58
        }
      },
      "execution_count": null,
      "outputs": [
        {
          "output_type": "execute_result",
          "data": {
            "text/plain": [
              "'app.'"
            ],
            "application/vnd.google.colaboratory.intrinsic+json": {
              "type": "string"
            }
          },
          "metadata": {},
          "execution_count": 22
        }
      ]
    }
  ]
}