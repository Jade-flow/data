{
  "nbformat": 4,
  "nbformat_minor": 0,
  "metadata": {
    "colab": {
      "provenance": [],
      "authorship_tag": "ABX9TyMkoXurhqDwyE00EswAE39c",
      "include_colab_link": true
    },
    "kernelspec": {
      "name": "python3",
      "display_name": "Python 3"
    },
    "language_info": {
      "name": "python"
    }
  },
  "cells": [
    {
      "cell_type": "markdown",
      "metadata": {
        "id": "view-in-github",
        "colab_type": "text"
      },
      "source": [
        "<a href=\"https://colab.research.google.com/github/remjw/data/blob/master/notebook/ch8_string_object.ipynb\" target=\"_parent\"><img src=\"https://colab.research.google.com/assets/colab-badge.svg\" alt=\"Open In Colab\"/></a>"
      ]
    },
    {
      "cell_type": "code",
      "execution_count": 1,
      "metadata": {
        "colab": {
          "base_uri": "https://localhost:8080/"
        },
        "id": "L62zsrPlQG4a",
        "outputId": "95184522-0e53-4d36-d1c0-cda591037610"
      },
      "outputs": [
        {
          "output_type": "stream",
          "name": "stdout",
          "text": [
            "<class 'str'>\n",
            "5\n",
            "A\n",
            "Apple_\n",
            "Apple_\n"
          ]
        }
      ],
      "source": [
        "S1 = 'Apple'\n",
        "S2 = '_'\n",
        "# type `str`\n",
        "print(type(S1))\n",
        "# finite \n",
        "print(len(S1))\n",
        "# ordered\n",
        "print(S1[0])\n",
        "\n",
        "# concatenate by + sign\n",
        "print(S1 + S2)\n",
        "# concatenate by f-string\n",
        "print(f'{S1}{S2}')\n"
      ]
    },
    {
      "cell_type": "code",
      "source": [
        "# immutable (not support list.append method)\n",
        "try:\n",
        "  S1.append('_') # gives AttributeError\n",
        "except Exception as e:\n",
        "  print(f'Error: {e.__class__}')\n"
      ],
      "metadata": {
        "id": "rf6ZcTJdmuhq",
        "outputId": "46649d70-ac10-4317-b8f1-85956179ae11",
        "colab": {
          "base_uri": "https://localhost:8080/"
        }
      },
      "execution_count": 3,
      "outputs": [
        {
          "output_type": "stream",
          "name": "stdout",
          "text": [
            "Error: <class 'AttributeError'>\n",
            "old S1: Apple object ID of old S1 139739716746608\n",
            "new S1: Apple_ object ID of new S1: 139739716744112\n"
          ]
        }
      ]
    },
    {
      "cell_type": "code",
      "source": [
        "# But it seems I can modify S1 by + sign\n",
        "# Correct, we can. \n",
        "# But the new S1 gets a new object ID with the same identifier though.\n",
        "print(f'old S1: {S1} object ID of old S1 {id(S1)}')\n",
        "# append by + sign\n",
        "S1 = S1 + '_'\n",
        "print(f'new S1: {S1} object ID of new S1: {id(S1)}')"
      ],
      "metadata": {
        "id": "8XmCmcOZnC7F"
      },
      "execution_count": null,
      "outputs": []
    },
    {
      "cell_type": "code",
      "source": [
        "# try to update char by index\n",
        "try:\n",
        "  S1[0] = '_' # gives AttributeError\n",
        "except Exception as e:\n",
        "  print(f'Error: {e.__class__}')"
      ],
      "metadata": {
        "id": "xf4ea31Zmukn",
        "outputId": "506f4691-a5b6-4c6e-a3f1-671deb6a1f49",
        "colab": {
          "base_uri": "https://localhost:8080/"
        }
      },
      "execution_count": 2,
      "outputs": [
        {
          "output_type": "stream",
          "name": "stdout",
          "text": [
            "Error: <class 'TypeError'>\n"
          ]
        }
      ]
    },
    {
      "cell_type": "markdown",
      "source": [
        "### Revel"
      ],
      "metadata": {
        "id": "48BxVSpWnHas"
      }
    },
    {
      "cell_type": "code",
      "source": [
        "# associative array\n",
        "alphabet = [ chr(codepoint).upper() for codepoint in range(65,90) ]\n",
        "alphabet\n"
      ],
      "metadata": {
        "id": "s2iCL85OmG2T",
        "outputId": "70555920-668a-4c62-e486-3c1a1b6e91f0",
        "colab": {
          "base_uri": "https://localhost:8080/"
        }
      },
      "execution_count": 4,
      "outputs": [
        {
          "output_type": "execute_result",
          "data": {
            "text/plain": [
              "['A',\n",
              " 'B',\n",
              " 'C',\n",
              " 'D',\n",
              " 'E',\n",
              " 'F',\n",
              " 'G',\n",
              " 'H',\n",
              " 'I',\n",
              " 'J',\n",
              " 'K',\n",
              " 'L',\n",
              " 'M',\n",
              " 'N',\n",
              " 'O',\n",
              " 'P',\n",
              " 'Q',\n",
              " 'R',\n",
              " 'S',\n",
              " 'T',\n",
              " 'U',\n",
              " 'V',\n",
              " 'W',\n",
              " 'X',\n",
              " 'Y']"
            ]
          },
          "metadata": {},
          "execution_count": 4
        }
      ]
    },
    {
      "cell_type": "code",
      "source": [
        "# auto-graded 1"
      ],
      "metadata": {
        "id": "xyN-DfmmmSTY"
      },
      "execution_count": null,
      "outputs": []
    },
    {
      "cell_type": "code",
      "source": [
        "# auto-graded 2"
      ],
      "metadata": {
        "id": "tPBMi5X9mVel"
      },
      "execution_count": null,
      "outputs": []
    },
    {
      "cell_type": "code",
      "source": [
        "# import re\n",
        "# re.split(r\"[.?!]\", text)"
      ],
      "metadata": {
        "id": "uA6FTdKrmKre"
      },
      "execution_count": null,
      "outputs": []
    }
  ]
}