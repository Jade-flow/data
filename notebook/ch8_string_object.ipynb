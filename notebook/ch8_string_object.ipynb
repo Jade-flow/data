{
  "nbformat": 4,
  "nbformat_minor": 0,
  "metadata": {
    "colab": {
      "provenance": [],
      "authorship_tag": "ABX9TyO4wo7jV7nD3KEKmmuhn65T",
      "include_colab_link": true
    },
    "kernelspec": {
      "name": "python3",
      "display_name": "Python 3"
    },
    "language_info": {
      "name": "python"
    }
  },
  "cells": [
    {
      "cell_type": "markdown",
      "metadata": {
        "id": "view-in-github",
        "colab_type": "text"
      },
      "source": [
        "<a href=\"https://colab.research.google.com/github/remjw/data/blob/master/notebook/ch8_string_object.ipynb\" target=\"_parent\"><img src=\"https://colab.research.google.com/assets/colab-badge.svg\" alt=\"Open In Colab\"/></a>"
      ]
    },
    {
      "cell_type": "markdown",
      "source": [
        "### String Object"
      ],
      "metadata": {
        "id": "-1XtjA5P2eTJ"
      }
    },
    {
      "cell_type": "code",
      "execution_count": null,
      "metadata": {
        "colab": {
          "base_uri": "https://localhost:8080/"
        },
        "id": "L62zsrPlQG4a",
        "outputId": "e8807f79-7d12-417a-8b5a-fb7afffe68c2"
      },
      "outputs": [
        {
          "output_type": "stream",
          "name": "stdout",
          "text": [
            "<class 'str'>\n",
            "5\n",
            "A\n",
            "Apple_\n",
            "Apple_\n"
          ]
        }
      ],
      "source": [
        "S1 = 'Apple'\n",
        "S2 = '_'\n",
        "# type `str`\n",
        "print(type(S1))\n",
        "# finite \n",
        "print(len(S1))\n",
        "# ordered\n",
        "print(S1[0])\n",
        "\n",
        "# concatenate by + sign\n",
        "print(S1 + S2)\n",
        "# concatenate by f-string\n",
        "print(f'{S1}{S2}')\n"
      ]
    },
    {
      "cell_type": "code",
      "source": [
        "s = '1234ism '\n",
        "s.endswith('ism')\n",
        "# slicing\n",
        "k = int(input(\"How many chars taken starting at the end of string: \"))\n",
        "s[-k:] # the last k=three"
      ],
      "metadata": {
        "id": "n8Eg5jmqK_P1",
        "outputId": "29c50bf9-48e9-4085-e202-cc09e2ae7a93",
        "colab": {
          "base_uri": "https://localhost:8080/",
          "height": 75
        }
      },
      "execution_count": null,
      "outputs": [
        {
          "name": "stdout",
          "output_type": "stream",
          "text": [
            "How many chars from the end of string: 3\n"
          ]
        },
        {
          "output_type": "execute_result",
          "data": {
            "text/plain": [
              "'sm '"
            ],
            "application/vnd.google.colaboratory.intrinsic+json": {
              "type": "string"
            }
          },
          "metadata": {},
          "execution_count": 2
        }
      ]
    },
    {
      "cell_type": "code",
      "source": [
        "first, last = 'alan', 'turing'\n",
        "# Turing,Alan\n",
        "full_name = last. capitalize() +',' + first.capitalize()\n",
        "full_name = last[0].upper() + last[1:] + ',' + first[0].upper() + first[1:]\n",
        "full_name\n"
      ],
      "metadata": {
        "id": "7XeKjQBoNde7",
        "outputId": "fc70ede9-068e-464a-96eb-12c1f841e25b",
        "colab": {
          "base_uri": "https://localhost:8080/",
          "height": 58
        }
      },
      "execution_count": null,
      "outputs": [
        {
          "output_type": "execute_result",
          "data": {
            "text/plain": [
              "'Turing,Alan'"
            ],
            "application/vnd.google.colaboratory.intrinsic+json": {
              "type": "string"
            }
          },
          "metadata": {},
          "execution_count": 3
        }
      ]
    },
    {
      "cell_type": "code",
      "source": [
        "# immutable (not support list.append method)\n",
        "try:\n",
        "  S1.append('_') # gives AttributeError\n",
        "except Exception as e:\n",
        "  print(f'Error: {e.__class__}')\n"
      ],
      "metadata": {
        "id": "rf6ZcTJdmuhq",
        "outputId": "fcfb52ac-86d9-477f-bd0c-428d5b19cffb",
        "colab": {
          "base_uri": "https://localhost:8080/"
        }
      },
      "execution_count": null,
      "outputs": [
        {
          "output_type": "stream",
          "name": "stdout",
          "text": [
            "Error: <class 'AttributeError'>\n"
          ]
        }
      ]
    },
    {
      "cell_type": "code",
      "source": [
        "# But it seems I can modify S1 by + sign\n",
        "# Correct, we can. \n",
        "# But the new S1 gets a new object ID with the same identifier though.\n",
        "print(f'old S1: {S1} object ID of old S1 {id(S1)}')\n",
        "# append by + sign\n",
        "S1 = S1 + '_'\n",
        "print(f'new S1: {S1} object ID of new S1: {id(S1)}')"
      ],
      "metadata": {
        "id": "8XmCmcOZnC7F",
        "outputId": "bf78c341-8a4f-43f3-e103-f50b602602d7",
        "colab": {
          "base_uri": "https://localhost:8080/"
        }
      },
      "execution_count": null,
      "outputs": [
        {
          "output_type": "stream",
          "name": "stdout",
          "text": [
            "old S1: Apple object ID of old S1 140259980869488\n",
            "new S1: Apple_ object ID of new S1: 140260509497712\n"
          ]
        }
      ]
    },
    {
      "cell_type": "code",
      "source": [
        "# try to update char by index\n",
        "try:\n",
        "  S1[0] = '_' # gives AttributeError\n",
        "except Exception as e:\n",
        "  print(f'Error: {e.__class__}')"
      ],
      "metadata": {
        "id": "xf4ea31Zmukn",
        "outputId": "dbb11a30-ce65-4905-ad3f-424f5e32dada",
        "colab": {
          "base_uri": "https://localhost:8080/"
        }
      },
      "execution_count": null,
      "outputs": [
        {
          "output_type": "stream",
          "name": "stdout",
          "text": [
            "Error: <class 'TypeError'>\n"
          ]
        }
      ]
    },
    {
      "cell_type": "markdown",
      "source": [
        "## Revel Auto-graded 1 ☎️ "
      ],
      "metadata": {
        "id": "48BxVSpWnHas"
      }
    },
    {
      "cell_type": "markdown",
      "source": [
        "### Revel Answer"
      ],
      "metadata": {
        "id": "b80qekI63q3z"
      }
    },
    {
      "cell_type": "code",
      "source": [
        "def translate_phone_number(phone_number):\n",
        "    translated_number = \"\"\n",
        "    for char in phone_number:\n",
        "        if char.isdigit():\n",
        "            translated_number += char\n",
        "        else:\n",
        "            char = char.upper()\n",
        "            if char == 'A' or char == 'B' or char == 'C':\n",
        "                translated_number += '2'\n",
        "            elif char == 'D' or char == 'E' or char == 'F':\n",
        "                translated_number += '3'\n",
        "            elif char == 'G' or char == 'H' or char == 'I':\n",
        "                translated_number += '4'\n",
        "            elif char == 'J' or char == 'K' or char == 'L':\n",
        "                translated_number += '5'\n",
        "            elif char == 'M' or char == 'N' or char == 'O':\n",
        "                translated_number += '6'\n",
        "            elif char == 'P' or char == 'Q' or char == 'R' or char == 'S':\n",
        "                translated_number += '7'\n",
        "            elif char == 'T' or char == 'U' or char == 'V':\n",
        "                translated_number += '8'\n",
        "            elif char == 'W' or char == 'X' or char == 'Y' or char == 'Z':\n",
        "                translated_number += '9'\n",
        "    return translated_number\n",
        "\n",
        "phone_number = input(\"Enter a phone number to be translated:\")\n",
        "translated_number = translate_phone_number(phone_number)\n",
        "print(translated_number)\n"
      ],
      "metadata": {
        "id": "2fznWp3d3pBs"
      },
      "execution_count": null,
      "outputs": []
    },
    {
      "cell_type": "markdown",
      "source": [
        "### Associative Array\n",
        "\n",
        "Using Associative Array for mapping/lookup table\n",
        "\n",
        "Create two lists KEYS and CODES. \n",
        "\n",
        "One stores all search keys and the other stores their codes or values in the same order. \n",
        "\n"
      ],
      "metadata": {
        "id": "y9YdlC1S3wm0"
      }
    },
    {
      "cell_type": "code",
      "source": [
        "'''\n",
        "A, B, C: 2\n",
        "D, E, F: 3\n",
        "G, H, I: 4\n",
        "J, K, L: 5\n",
        "M, N, O: 6\n",
        "P, Q, R, S: 7\n",
        "T, U, V: 8\n",
        "W, X, Y, Z: 9\n",
        "'''\n",
        "\n",
        "KEYS = [ #alphabet uppercase\n",
        "    chr(codepoint)\n",
        "    for codepoint in range(65,91) \n",
        "    ]\n",
        "print(KEYS)\n",
        "# * \n",
        "CODES = list() \n",
        "CODES.extend(3 * ['2'])\n",
        "CODES.extend(3 * ['3'])\n",
        "CODES.extend(3 * ['4'])\n",
        "CODES.extend(3 * ['5'])\n",
        "CODES.extend(3 * ['6'])\n",
        "CODES.extend(4 * ['7'])\n",
        "CODES.extend(3 * ['8'])\n",
        "CODES.extend(4 * ['9'])\n",
        "print(CODES)\n",
        "\n",
        "# function\n",
        "def replace(c):\n",
        "  if c in KEYS:\n",
        "    return CODES[KEYS.index(c)]\n",
        "  else:\n",
        "    return c\n",
        "\n",
        "def main():\n",
        "  phone = input(\"Enter a phone number XXX-XXX-XXXX:\").upper() \n",
        "  \n",
        "  translated = \"\"\n",
        "  for c in phone:\n",
        "    translated += replace(c)\n",
        "  \n",
        "  print(translated)\n",
        "\n",
        "\n",
        "if __name__ == '__main__':\n",
        "  main()\n"
      ],
      "metadata": {
        "id": "d403APUTR6bE",
        "colab": {
          "base_uri": "https://localhost:8080/"
        },
        "outputId": "4612e4bc-5dda-463c-e5b2-56c295b052e8"
      },
      "execution_count": null,
      "outputs": [
        {
          "output_type": "stream",
          "name": "stdout",
          "text": [
            "['A', 'B', 'C', 'D', 'E', 'F', 'G', 'H', 'I', 'J', 'K', 'L', 'M', 'N', 'O', 'P', 'Q', 'R', 'S', 'T', 'U', 'V', 'W', 'X', 'Y', 'Z']\n",
            "['2', '2', '2', '3', '3', '3', '4', '4', '4', '5', '5', '5', '6', '6', '6', '7', '7', '7', '7', '8', '8', '8', '9', '9', '9', '9']\n",
            "Enter a phone number XXX-XXX-XXXX:555-get-tree\n",
            "555-438-8733\n"
          ]
        }
      ]
    },
    {
      "cell_type": "markdown",
      "source": [
        "## Revel Auto-graded 2 ⚧ \n",
        "\n",
        "Parse sentenses from given string. Capitalize each sentence."
      ],
      "metadata": {
        "id": "Nb6nPZUSyhXr"
      }
    },
    {
      "cell_type": "markdown",
      "source": [
        "Revel using Slicing operators without built-in methods"
      ],
      "metadata": {
        "id": "vUBFYmBq95un"
      }
    },
    {
      "cell_type": "code",
      "source": [
        "# Revel expects string Slicing operators\n",
        "\n",
        "def capitalize00(paper):\n",
        "  '''parse sentences by .,?, !\n",
        "  capitalize each sentence'''\n",
        "\n",
        "  delimits = ['.', '?', '!']\n",
        "  for i in range(len(paper)):\n",
        "    if i == 0: \n",
        "      paper = paper[0].upper() + paper[1:]\n",
        "    elif paper[i] in delimits and i != len(paper) - 1:\n",
        "      paper = paper[:i+2] + paper[i+2].upper() + paper[i+3:]\n",
        "\n",
        "  return paper\n",
        "    \n",
        "  \n",
        "def main():\n",
        "  paper = 'hello. my name is tree. what is your name?'\n",
        "  print(capitalize00(paper))\n",
        "\n",
        "if __name__ == '__main__':\n",
        "  main()"
      ],
      "metadata": {
        "id": "CbFgjZSWs1hW",
        "outputId": "46be9f62-ba6b-4495-b8be-f212a5f2ae57",
        "colab": {
          "base_uri": "https://localhost:8080/"
        }
      },
      "execution_count": null,
      "outputs": [
        {
          "output_type": "stream",
          "name": "stdout",
          "text": [
            "Hello. My name is tree. What is your name?\n"
          ]
        }
      ]
    },
    {
      "cell_type": "code",
      "source": [
        "def capitalize01(paper):\n",
        "  '''create a list from paper string, \n",
        "  loop chars by index\n",
        "  if char is a delimitor, set char at i+2 to uppercase\n",
        "  join all chars to string'''\n",
        "\n",
        "  delimits = ['.', '?', '!']\n",
        "  output = list(paper)\n",
        "\n",
        "  for i in range(len(paper)):\n",
        "    if i == 0: \n",
        "      output[0] = paper[0].upper() \n",
        "    elif paper[i] in delimits and i != len(paper) - 1:\n",
        "      output[i+2]= paper[i+2].upper()\n",
        "\n",
        "  return ''.join(output)\n",
        "\n",
        "def main():\n",
        "  paper = 'hello. my name is tree. what is your name?'\n",
        "  print(capitalize01(paper))\n",
        "\n",
        "if __name__ == '__main__':\n",
        "  main()"
      ],
      "metadata": {
        "id": "IMe0bhIBA38G",
        "outputId": "7b0c0530-2bf3-475c-ea86-4e6cb663564d",
        "colab": {
          "base_uri": "https://localhost:8080/"
        }
      },
      "execution_count": null,
      "outputs": [
        {
          "output_type": "stream",
          "name": "stdout",
          "text": [
            "Hello. My name is tree. What is your name?\n"
          ]
        }
      ]
    },
    {
      "cell_type": "markdown",
      "source": [
        "### Alternative: String methods with regular expression to match delimitors"
      ],
      "metadata": {
        "id": "p1GvCmZ_-ByI"
      }
    },
    {
      "cell_type": "code",
      "source": [
        "import re\n",
        "\n",
        "def transform(paper):\n",
        "  output = \"\"\n",
        "  for token in re.split(r'([.?!])', paper):\n",
        "    t = token.strip()\n",
        "    print(f'_token_: {\"_\"+ t +\"_\"}')\n",
        "    if t not in ['.', '?', '!', '']:\n",
        "      output += t[0].upper() + t[1:]\n",
        "    else:\n",
        "      output += t + ' '\n",
        "    #print(output)\n",
        "  return output\n",
        "\n",
        "def main():\n",
        "  paper = 'hello. my name is tree. what is your name?'\n",
        "  print(transform(paper))\n",
        "\n",
        "if __name__ == '__main__':\n",
        "  main()"
      ],
      "metadata": {
        "id": "89IgP47r8Twe",
        "outputId": "42db0d3b-1051-4988-d9b7-5771e3f30afc",
        "colab": {
          "base_uri": "https://localhost:8080/"
        }
      },
      "execution_count": null,
      "outputs": [
        {
          "output_type": "stream",
          "name": "stdout",
          "text": [
            "_token_: _hello_\n",
            "_token_: _._\n",
            "_token_: _my name is tree_\n",
            "_token_: _._\n",
            "_token_: _what is your name_\n",
            "_token_: _?_\n",
            "_token_: __\n",
            "Hello. My name is tree. What is your name?  \n"
          ]
        }
      ]
    }
  ]
}