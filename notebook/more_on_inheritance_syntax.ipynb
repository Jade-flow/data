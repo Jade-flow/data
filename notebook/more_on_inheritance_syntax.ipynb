{
  "nbformat": 4,
  "nbformat_minor": 0,
  "metadata": {
    "colab": {
      "provenance": [],
      "authorship_tag": "ABX9TyPi2evm5v22nRJaQxIfo4sf",
      "include_colab_link": true
    },
    "kernelspec": {
      "name": "python3",
      "display_name": "Python 3"
    },
    "language_info": {
      "name": "python"
    }
  },
  "cells": [
    {
      "cell_type": "markdown",
      "metadata": {
        "id": "view-in-github",
        "colab_type": "text"
      },
      "source": [
        "<a href=\"https://colab.research.google.com/github/remjw/data/blob/master/notebook/more_on_inheritance_syntax.ipynb\" target=\"_parent\"><img src=\"https://colab.research.google.com/assets/colab-badge.svg\" alt=\"Open In Colab\"/></a>"
      ]
    },
    {
      "cell_type": "markdown",
      "source": [
        "# **Empty Class Type & Empty Instance**\n",
        "\n",
        "Regarding the terms for two roles in an inheritance relationship, I prefer ***parent*** and ***child*** than *superclass* and *subclass* \n",
        "\n",
        "- **What an empty Python's class type has?**\n",
        "- **What an empty Python's class instance has?**\n",
        "\n",
        "See the code below the text cell for the following:\n",
        "\n",
        "- Define an empty class A. \n",
        "- Access its (hidden) **`__dict__ attribute`**. \n",
        "- It displays all the A's properties (both attributes and methods)\n",
        "\n",
        "Then,\n",
        "- create a new instance of A in b\n",
        "- Access its `__dict__ attribute`. \n",
        "- It displays all the b's **writable, changeable properties**.\n",
        "\n",
        "\n"
      ],
      "metadata": {
        "id": "we_vIVrkkpzr"
      }
    },
    {
      "cell_type": "code",
      "source": [
        "class A:\n",
        "  pass\n",
        "\n",
        "# What an empty Python's class type has?\n",
        "print(A.__dict__)\n",
        "\n",
        "# What an empty Python's class instance has?\n",
        "a = A()\n",
        "print(a.__dict__)"
      ],
      "metadata": {
        "colab": {
          "base_uri": "https://localhost:8080/"
        },
        "id": "1SabW8uMkiFe",
        "outputId": "97e687a5-6bd0-4292-d8f6-415e6e8db6aa"
      },
      "execution_count": 7,
      "outputs": [
        {
          "output_type": "stream",
          "name": "stdout",
          "text": [
            "{'__module__': '__main__', '__dict__': <attribute '__dict__' of 'A' objects>, '__weakref__': <attribute '__weakref__' of 'A' objects>, '__doc__': None}\n",
            "{}\n"
          ]
        }
      ]
    },
    {
      "cell_type": "markdown",
      "source": [
        "## **Class Attributes: Global & Writable**\n",
        "\n",
        "An instance's `__dict__` only includes all the **writable, changeable properties**."
      ],
      "metadata": {
        "id": "lkXHfZt_qg4l"
      }
    },
    {
      "cell_type": "code",
      "source": [
        "# redefine A to add a global attribute\n",
        "class A:\n",
        "  line = '\\n'\n",
        "  pass\n",
        "\n",
        "# A's instance __dict__ hides unchangeable properties.\n",
        "a = A()\n",
        "print(a.__dict__)"
      ],
      "metadata": {
        "colab": {
          "base_uri": "https://localhost:8080/"
        },
        "id": "ekZ9RTVloDkx",
        "outputId": "7dcb386d-1580-4a2c-d909-b0b1e78aa467"
      },
      "execution_count": 10,
      "outputs": [
        {
          "output_type": "stream",
          "name": "stdout",
          "text": [
            "{}\n"
          ]
        }
      ]
    },
    {
      "cell_type": "code",
      "source": [
        "# continue to add a constructor and initialize a required, public attribute\n",
        "class A:\n",
        "  line = '\\n'\n",
        "  def __init__(self):\n",
        "    self.comma = ','\n",
        "    return\n",
        "\n",
        "a = A()\n",
        "print(a.__dict__)\n",
        "# includes changeable, writable properties."
      ],
      "metadata": {
        "colab": {
          "base_uri": "https://localhost:8080/"
        },
        "id": "w3nvvXx4od0N",
        "outputId": "0527a3ea-838e-46e8-e963-5fa2d36be044"
      },
      "execution_count": 9,
      "outputs": [
        {
          "output_type": "stream",
          "name": "stdout",
          "text": [
            "{'comma': ','}\n"
          ]
        }
      ]
    },
    {
      "cell_type": "markdown",
      "source": [
        "# **More on OOP Concepts: Inheritance & Polymorphism**\n",
        "\n"
      ],
      "metadata": {
        "id": "JtNOQ5v7Q6Q6"
      }
    },
    {
      "cell_type": "markdown",
      "source": [
        "## In Python, **a child inherits everything from its parent.**\n",
        "\n",
        "**Everything means every attribute and every method.**\n",
        "\n",
        "See A and B defined in the cell below. \n",
        "- A and B are two types of model (entity, object, category, cookie cutter, template, blueprint, machine, device, and so on).\n",
        "- A has a public, global attribute `delimit`, line break character for print\n",
        "- A customizes (*overrides*) the Python's default contructor `__init__` and `__str__` method for a class object.\n",
        "- B inherits A. \n",
        "- B literally is ***empty***; it does not define anything itself. \n",
        "- In this case, B is simply a *replicate of A*."
      ],
      "metadata": {
        "id": "25-A_GdnN9iP"
      }
    },
    {
      "cell_type": "code",
      "source": [
        "from datetime import datetime\n",
        "\n",
        "# parent\n",
        "class A:\n",
        "  \n",
        "  line = '\\n' # global,unchangeable property\n",
        "\n",
        "  def __init__(self):\n",
        "    print(f'{self.line}{datetime.now()}: initializing a new instance of {self.__class__.__name__}')\n",
        "    return \n",
        "\n",
        "  def __str__(self): # return object in dict format\n",
        "    return f\"{self.line}{datetime.now()}: state {self.__dict__}\" \n",
        "\n",
        "# child\n",
        "class B(A):\n",
        "  pass\n",
        "\n",
        "# test A\n",
        "a = A()\n",
        "print(a)\n",
        "\n",
        "# test B\n",
        "b = B()\n",
        "print(b)"
      ],
      "metadata": {
        "colab": {
          "base_uri": "https://localhost:8080/"
        },
        "id": "LsFkG7TTN77h",
        "outputId": "2b5bbeba-75cf-415e-e3c5-b6071250d3ca"
      },
      "execution_count": 12,
      "outputs": [
        {
          "output_type": "stream",
          "name": "stdout",
          "text": [
            "\n",
            "2023-04-07 17:10:32.676894: initializing a new instance of A\n",
            "\n",
            "2023-04-07 17:10:32.679865: state {}\n",
            "\n",
            "2023-04-07 17:10:32.680539: initializing a new instance of B\n",
            "\n",
            "2023-04-07 17:10:32.681176: state {}\n"
          ]
        }
      ]
    },
    {
      "cell_type": "markdown",
      "source": [
        "`b.__dict__ ` will return an empty dictionary. **`A.line` is not included in the hidden `__dict__` attribute object of `A`.** The reason is the **`__dict__` attribute only includes the object's writable attribtues.** \n",
        "\n",
        "\n"
      ],
      "metadata": {
        "id": "swCYmTR7iQDf"
      }
    },
    {
      "cell_type": "markdown",
      "source": [
        "## Next, make B1.\n",
        "\n",
        "See the code cell below the text.\n",
        "\n",
        "- B1 inherits A.\n",
        "- B1 has its own three public attributes:\n",
        "    - `star`, `alpha` and `theta` are all initially set to null. This implies they are **optional attributes**.\n",
        "    - But star is required by the constructor in instantiating a new instance. This makes `star` **mandatory attribute**.\n",
        "    - So, the instance's `__dict__` (state) always include `star`. \n",
        "    - However, `alpha` and `theta` will not be included in the instance's state by `__dict__` until their values have been changed/set by calling `set_star_location` method.\n",
        "\n",
        "\n",
        "- B1 has its own peculiar method `set_star_location` as the setters for `alpha` and `theta`.\n",
        "\n",
        "- B1 extends its parent version of the constructor `__init__`, initialize the `star` attribute. This is referred to as method overloading or overriding, which implements *Polymorphism*.\n",
        "\n",
        "**Pay attention to the use of `super` function here:**\n",
        "\n",
        "> Using `super function` in method overriding to replicate the parent's version of the method.\n",
        "\n",
        "> In B1's constructor: to replicate A's constructor, use the expression \n",
        "\n",
        "`super().__init__()` \n",
        "\n",
        "to invoke A's constructor. After that, we can define attributes and write any special actions which should be done when initializing a new instance of B1.\n"
      ],
      "metadata": {
        "id": "O8I3IcNPWKTQ"
      }
    },
    {
      "cell_type": "code",
      "source": [
        "# child\n",
        "class B1(A):\n",
        "\n",
        "  star, alpha, theta = None, None, None # optional attributes\n",
        "  \n",
        "  def __init__(self, star):\n",
        "    super().__init__() # book uses A.__init__(self)\n",
        "    print(f'B1 has to do more for each new instance...')\n",
        "    self.star = star # mandatory attribute\n",
        "    return\n",
        "\n",
        "  def get_star_state(self):\n",
        "    # self.line inheritedn from parent A\n",
        "    return f'{self.line}state: {self.__str__()}'  \n",
        "  \n",
        "  def set_star_location(self): # setter\n",
        "    self.alpha, self.theta = [ \n",
        "        float(v) \n",
        "        for v in input(\"\\nEnter the location (separate two numbers by space): \").split() \n",
        "        ]\n",
        "    return\n",
        "\n",
        "# test B1: create an instance b1\n",
        "b1 = B1('the Sun')\n",
        "state0 = b1.get_star_state()\n",
        "print(state0) # only star included\n",
        "\n",
        "# change b's location\n",
        "b1.set_star_location()\n",
        "state1 = b1.get_star_state()\n",
        "# all the three attributes included\n",
        "print(state1)\n"
      ],
      "metadata": {
        "colab": {
          "base_uri": "https://localhost:8080/"
        },
        "id": "CugB6TIZTfhN",
        "outputId": "73c0db6b-3d6f-4b01-bd27-94154e680fc6"
      },
      "execution_count": 19,
      "outputs": [
        {
          "output_type": "stream",
          "name": "stdout",
          "text": [
            "\n",
            "2023-04-07 17:29:18.937794: initializing a new instance of B1\n",
            "B1 has to do more for each new instance...\n",
            "\n",
            "state: \n",
            "2023-04-07 17:29:18.937947: state {'star': 'the Sun'}\n",
            "\n",
            "Enter the location (separate two numbers by space):4 5\n",
            "\n",
            "state: \n",
            "2023-04-07 17:29:22.801296: state {'star': 'the Sun', 'alpha': 4.0, 'theta': 5.0}\n"
          ]
        }
      ]
    },
    {
      "cell_type": "markdown",
      "source": [
        "# **What did ChatGPT tell me this morning?**\n",
        "\n",
        "Polymorphism is the ability of **objects to take on different forms and behave in different ways based on the context in which they are used**. In object-oriented programming, polymorphism allows objects of different classes to be treated as if they were of the same class, allowing code to be written that can work with objects of multiple types without needing to know their specific type in advance.\n",
        "\n",
        "In Python, polymorphism can be achieved through the **use of inheritance** and **method overriding**. Method overriding allows a subclass to provide a different implementation of a method that is already defined in its superclass. This allows the same method name to be used for different classes, with each class providing its own implementation.\n",
        "\n",
        "Here is an example:"
      ],
      "metadata": {
        "id": "8hyUf8sM5qaY"
      }
    },
    {
      "cell_type": "code",
      "execution_count": 1,
      "metadata": {
        "colab": {
          "base_uri": "https://localhost:8080/"
        },
        "id": "KZjh47Dc5pOx",
        "outputId": "e3ba1001-91bf-4a4e-8e5b-e12e92e2003c"
      },
      "outputs": [
        {
          "output_type": "stream",
          "name": "stdout",
          "text": [
            "Woof!\n",
            "Meow!\n"
          ]
        }
      ],
      "source": [
        "# (is it ruby code?) (the same as python code)\n",
        "\n",
        "class Animal:\n",
        "    def make_sound(self):\n",
        "        pass\n",
        "\n",
        "class Dog(Animal):\n",
        "    def make_sound(self):\n",
        "        print(\"Woof!\")\n",
        "\n",
        "class Cat(Animal):\n",
        "    def make_sound(self):\n",
        "        print(\"Meow!\")\n",
        "\n",
        "def animal_sounds(animal):\n",
        "    animal.make_sound()\n",
        "\n",
        "dog = Dog()\n",
        "cat = Cat()\n",
        "\n",
        "animal_sounds(dog) # Output: \"Woof!\"\n",
        "animal_sounds(cat) # Output: \"Meow!\"\n"
      ]
    },
    {
      "cell_type": "markdown",
      "source": [
        "In this example, we have a base class Animal with a method make_sound that is not implemented. We then have two subclasses, Dog and Cat, which both inherit from Animal and override the make_sound method with their own implementation.\n",
        "\n",
        "We also have a function animal_sounds that takes an Animal object as its argument and calls its make_sound method. This function can be called with objects of any subclass of Animal, and the appropriate sound will be made based on the actual type of the object.\n",
        "\n",
        "Thus, the code demonstrates polymorphism in action, as objects of different classes (i.e., Dog and Cat) are being treated as if they were of the same class (Animal) and can be used interchangeably."
      ],
      "metadata": {
        "id": "Kh7iC9w257PV"
      }
    },
    {
      "cell_type": "markdown",
      "source": [
        "# **Practice for you** \n",
        "\n",
        "You can practice `super` function as well as overloading the child's version of a method.\n",
        "\n",
        "- Using **super function** in method overriding to replicate the parent's version of the method. \n",
        "\n",
        "\n",
        "Assume A is given. A has a method `breakfast`.\n",
        "\n",
        "You do:\n",
        "\n",
        "- Make a class B which inherits A. A is parent, B is child.\n",
        "- Besides the actions in A's breakfast, B requires special treats. So, make a child version of `breakfast`, B's breakfast, to overload A's breakfast, i.e., enabling `more peculiar behaviors for the child`.\n",
        "\n",
        "- In B's breakfast: to replicate A's breakfast, use the expression `super().breakfast(food_list)` to invoke A's breakfast. After that, you can write special treats which are only for B.\n",
        "\n",
        "See the following code for Class A.\n",
        "\n"
      ],
      "metadata": {
        "id": "koV6E7O06ybv"
      }
    },
    {
      "cell_type": "code",
      "source": [
        "from datetime import datetime\n",
        "\n",
        "# parent\n",
        "class A:\n",
        "  line = '\\n'\n",
        "  __level_hungry = None\n",
        "\n",
        "  def __init__(self):\n",
        "    print(f'initializing a new instance of {self.__class__.__name__}')\n",
        "    return \n",
        "\n",
        "  def get_state(self):\n",
        "    hour = datetime.now().hour \n",
        "    return f'{self.line}state at {hour}: {self.__dict__}'  \n",
        "\n",
        "  def set_level_hungry(self, level):\n",
        "    self.__level_hungry = level  \n",
        "\n",
        "  def breakfast(self, food_list):\n",
        "    print(\"having breakfast ...\", end=\"\")\n",
        "    for f in food_list:\n",
        "      print(f, end=\" \")\n",
        "    # change level of hungry\n",
        "    self.set_level_hungry(3) \n",
        "    return   \n",
        "\n",
        "# test A\n",
        "a = A()\n",
        "print(a.get_state()) # check state\n",
        "\n",
        "# have breakfast\n",
        "a.breakfast(['water', 'egg', 'coffee', 'milk'])\n",
        "print(a.get_state()) # check state"
      ],
      "metadata": {
        "colab": {
          "base_uri": "https://localhost:8080/"
        },
        "id": "9Pg1ibrzFLe-",
        "outputId": "f3239c95-3b39-4d0e-c1d5-9f7fdbebe5fc"
      },
      "execution_count": 36,
      "outputs": [
        {
          "output_type": "stream",
          "name": "stdout",
          "text": [
            "initializing a new instance of A\n",
            "\n",
            "state at 17: {}\n",
            "having breakfast ...water egg coffee milk \n",
            "state at 17: {'_A__level_hungry': 3}\n"
          ]
        }
      ]
    }
  ]
}