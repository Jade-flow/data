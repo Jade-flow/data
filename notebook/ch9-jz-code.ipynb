{
  "cells": [
    {
      "cell_type": "markdown",
      "metadata": {
        "id": "view-in-github",
        "colab_type": "text"
      },
      "source": [
        "<a href=\"https://colab.research.google.com/github/remjw/data/blob/master/notebook/ch9-jz-code.ipynb\" target=\"_parent\"><img src=\"https://colab.research.google.com/assets/colab-badge.svg\" alt=\"Open In Colab\"/></a>"
      ]
    },
    {
      "cell_type": "code",
      "source": [
        "with open('encode.txt', 'w') as f:\n",
        "  f.write('''Two roads diverged in a yellow wood\n",
        "And sorry I could not travel both\n",
        "And be one traveler long I stood\n",
        "And looked down one as far as I could\n",
        "To where it bent in the undergrowth\n",
        "''')\n",
        "\n",
        "with open('encode.txt', 'r') as f:\n",
        "  print(f.read())  \n"
      ],
      "metadata": {
        "colab": {
          "base_uri": "https://localhost:8080/"
        },
        "id": "UAKTX8txeqFZ",
        "outputId": "7a881671-9629-4106-9ae4-67fdaddbc9f4"
      },
      "execution_count": 3,
      "outputs": [
        {
          "output_type": "stream",
          "name": "stdout",
          "text": [
            "Two roads diverged in a yellow wood\n",
            "And sorry I could not travel both\n",
            "And be one traveler long I stood\n",
            "And looked down one as far as I could\n",
            "To where it bent in the undergrowth\n",
            "\n"
          ]
        }
      ]
    },
    {
      "cell_type": "code",
      "execution_count": 6,
      "metadata": {
        "colab": {
          "base_uri": "https://localhost:8080/"
        },
        "id": "oFgdHLRVL3ky",
        "outputId": "fdcf857f-07d6-46cf-e2e7-62c7f3538c63"
      },
      "outputs": [
        {
          "output_type": "stream",
          "name": "stdout",
          "text": [
            "\n",
            "encode.txt has been encoded and saved to encoded.txt\n",
            "/`[ <[@%> %)~^<*^% )} @ :^==[` `[[%\n",
            "@}% >[<<: ) $[?=% }[/ /<@~^= #[/(\n",
            "@}% #^ [}^ /<@~^=^< =[}* ) >/[[%\n",
            "@}% =[[-^% %[`} [}^ @> &@< @> ) $[?=%\n",
            "/[ `(^<^ )/ #^}/ )} /(^ ?}%^<*<[`/(\n",
            "\n"
          ]
        }
      ],
      "source": [
        "\n",
        "# Dictionary to assign \"codes\" to each letter/number\n",
        "symbol_dict = {\n",
        "    \"A\": \"@\",\n",
        "    \"B\": \"#\",\n",
        "    \"C\": \"$\",\n",
        "    \"D\": \"%\",\n",
        "    \"E\": \"^\",\n",
        "    \"F\": \"&\",\n",
        "    \"G\": \"*\",\n",
        "    \"H\": \"(\",\n",
        "    \"I\": \")\",\n",
        "    \"J\": \"+\",\n",
        "    \"K\": \"-\",\n",
        "    \"L\": \"=\",\n",
        "    \"M\": \"{\",\n",
        "    \"N\": \"}\",\n",
        "    \"O\": \"[\",\n",
        "    \"P\": \"]\",\n",
        "    \"Q\": \"|\",\n",
        "    \"R\": \"<\",\n",
        "    \"S\": \">\",\n",
        "    \"T\": \"/\",\n",
        "    \"U\": \"?\",\n",
        "    \"V\": \"~\",\n",
        "    \"W\": \"`\",\n",
        "    \"X\": \"_\",\n",
        "    \"Y\": \":\",\n",
        "    \"Z\": \";\"\n",
        "}\n",
        "\n",
        "# Open the input and output files, generate output file if needed, and read contents of input\n",
        "with open('encode.txt', 'r') as encode_file, open('encoded.txt', 'w') as encoded_file:\n",
        "    # Read the contents of the input file\n",
        "    contents = encode_file.read()\n",
        "    \n",
        "    # Encrypt the contents using symbol_dict\n",
        "    # List to hold encrypted text as program loops through each character.\n",
        "    encrypted_contents = ''\n",
        "    # I'm using my string/dictionary in upper case only as using more required multiple symbols per entry\n",
        "    # Decoding this proved beyond what I could seem to get working, so my decoded text was not correct.\n",
        "    for char in contents.upper():\n",
        "        if char in symbol_dict: # Convert character to symbol and store to list\n",
        "            encrypted_contents += symbol_dict[char]\n",
        "        else:                   # If character isn't found in symbol_dict, just adds the character preventing errors \n",
        "            encrypted_contents += char\n",
        "    \n",
        "    # Write the encrypted contents to the output file\n",
        "    encoded_file.write(encrypted_contents)\n",
        "    print()\n",
        "    print(\"encode.txt has been encoded and saved to encoded.txt\")\n",
        "\n",
        "with open('encoded.txt', 'r') as f:\n",
        "      print(f.read()) "
      ]
    },
    {
      "cell_type": "code",
      "source": [
        "# decrypt encoded.txt\n",
        "\n",
        "# Open the encoded file, read its contents and decode the text\n",
        "with open('encoded.txt', 'r') as encoded_file:\n",
        "    # Read the contents of the encoded file\n",
        "    contents = encoded_file.read()\n",
        "\n",
        "    # Decrypt the contents using symbol_dict\n",
        "    # List to hold decrypted text as program loops through each character.\n",
        "    decrypted_contents = ''\n",
        "    for char in contents:\n",
        "        # Loop through the dictionary to find the corresponding key for the symbol\n",
        "        for key, value in symbol_dict.items():\n",
        "            if value == char:\n",
        "                decrypted_contents += key\n",
        "                break  # Breaks loop once the key is found, to prevent unnecessary iterations\n",
        "\n",
        "        else:  # If symbol is not found, just adds the symbol to the decrypted_contents\n",
        "            decrypted_contents += char\n",
        "\n",
        "    # Print the decrypted contents to the screen\n",
        "    print()\n",
        "    print(f\"Decrypted contents: {decrypted_contents}\")"
      ],
      "metadata": {
        "colab": {
          "base_uri": "https://localhost:8080/"
        },
        "id": "SbHs6tTpfcWS",
        "outputId": "4ba23295-b180-4ee4-8c12-f24232eecd48"
      },
      "execution_count": 8,
      "outputs": [
        {
          "output_type": "stream",
          "name": "stdout",
          "text": [
            "\n",
            "Decrypted contents: TWO ROADS DIVERGED IN A YELLOW WOOD\n",
            "AND SORRY I COULD NOT TRAVEL BOTH\n",
            "AND BE ONE TRAVELER LONG I STOOD\n",
            "AND LOOKED DOWN ONE AS FAR AS I COULD\n",
            "TO WHERE IT BENT IN THE UNDERGROWTH\n",
            "\n"
          ]
        }
      ]
    }
  ],
  "metadata": {
    "kernelspec": {
      "display_name": "Python 3",
      "language": "python",
      "name": "python3"
    },
    "language_info": {
      "codemirror_mode": {
        "name": "ipython",
        "version": 3
      },
      "file_extension": ".py",
      "mimetype": "text/x-python",
      "name": "python",
      "nbconvert_exporter": "python",
      "pygments_lexer": "ipython3",
      "version": "3.6.5"
    },
    "colab": {
      "provenance": [],
      "include_colab_link": true
    }
  },
  "nbformat": 4,
  "nbformat_minor": 0
}