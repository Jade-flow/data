{
  "nbformat": 4,
  "nbformat_minor": 0,
  "metadata": {
    "colab": {
      "provenance": [],
      "authorship_tag": "ABX9TyNNNJYyk2YqH5W6MawrXAV4",
      "include_colab_link": true
    },
    "kernelspec": {
      "name": "python3",
      "display_name": "Python 3"
    },
    "language_info": {
      "name": "python"
    }
  },
  "cells": [
    {
      "cell_type": "markdown",
      "metadata": {
        "id": "view-in-github",
        "colab_type": "text"
      },
      "source": [
        "<a href=\"https://colab.research.google.com/github/remjw/data/blob/master/notebook/ch9_dict_project.ipynb\" target=\"_parent\"><img src=\"https://colab.research.google.com/assets/colab-badge.svg\" alt=\"Open In Colab\"/></a>"
      ]
    },
    {
      "cell_type": "markdown",
      "source": [
        "## Project 1\n",
        "\n",
        "_Based on Revel Project 1_\n",
        "\n",
        "Write a program that \n",
        "\n",
        "1. creates a dictionary `rooms` containing five course numbers and room numbers of the rooms where the courses meet. \n",
        "2. lets the user enter a course number, then it should display the course's room number. \n",
        "3. uses `csv.DictWriter` to export the dictionary to _CSV_ file.\n",
        "4. serialize `rooms` to a stream of bytes by `pickle.dump`, save it to a file `rooms.dat`\n",
        "5. load data from `rooms.dat` by `pickle.load`\n",
        "\n",
        "\n",
        "\n"
      ],
      "metadata": {
        "id": "SQ4mLLSWou4R"
      }
    },
    {
      "cell_type": "code",
      "source": [
        "# Load dependencies\n",
        "import csv, pickle, os"
      ],
      "metadata": {
        "id": "NFJt4hVjwjjp"
      },
      "execution_count": null,
      "outputs": []
    },
    {
      "cell_type": "code",
      "source": [
        "# 1. create a dict\n",
        "rooms = {'CS101':3004, 'CS102':4501, 'CS103':6755, 'NT110':1244, 'CM241':1411}\n",
        "\n",
        "# 2. search room by course key \n",
        "course = 'CS201'\n",
        "if course in rooms:\n",
        "    print(rooms[course])\n",
        "else:\n",
        "    print(f'{course} is not available.')\n",
        "\n",
        "course = 'CS101'\n",
        "if course in rooms:\n",
        "    print(f'{course} meets in Room {rooms[course]}')\n",
        "else:\n",
        "    print(f'{course} is not available.')\n",
        "\n",
        "# 3. export dict to csv\n",
        "#proj_folder,sub_folder,filename = os.getcwd(),'dict_set','rooms.csv'\n",
        "#outfile = os.path.join(proj_folder, sub_folder, filename)\n",
        "\n",
        "outfile = 'rooms.csv'\n",
        "# set column names to course numbers\n",
        "col_names = [key for key in rooms]\n",
        "# file write\n",
        "try: \n",
        "  with open(outfile, 'w', encoding='utf-8', errors='ignore') as f:\n",
        "      writer = csv.DictWriter(f, fieldnames=col_names)\n",
        "      writer.writeheader() # write col_names as table header\n",
        "      writer.writerow(rooms) # write one row\n",
        "      print(f'You can access data in: {outfile}')\n",
        "except Exception as e:\n",
        "  print(f'file write failed')\n",
        "  "
      ],
      "metadata": {
        "colab": {
          "base_uri": "https://localhost:8080/"
        },
        "id": "n_atpUjJowfO",
        "outputId": "90ad7d46-0371-4b30-9048-7d94902ac2c7"
      },
      "execution_count": 9,
      "outputs": [
        {
          "output_type": "stream",
          "name": "stdout",
          "text": [
            "CS201 is not available.\n",
            "CS101 meets in Room 3004\n",
            "You can access data in: rooms.csv\n"
          ]
        }
      ]
    },
    {
      "cell_type": "code",
      "source": [
        "# 4. Pickle rooms\n",
        "import pickle\n",
        "with open('rooms.dat', 'wb') as f:\n",
        "  pickle.dump(rooms, f)"
      ],
      "metadata": {
        "id": "bHR3rgznrXhp"
      },
      "execution_count": 11,
      "outputs": []
    },
    {
      "cell_type": "code",
      "source": [
        "# 5. Unpickle rooms.dat\n",
        "with open('rooms.dat', 'rb') as f:\n",
        "  rooms_2 = pickle.load(f)\n",
        "\n",
        "print(rooms_2)  "
      ],
      "metadata": {
        "colab": {
          "base_uri": "https://localhost:8080/"
        },
        "id": "LTFSASG5wQaO",
        "outputId": "01538de6-6d67-4bd5-cfbd-a252e8aee9b4"
      },
      "execution_count": 14,
      "outputs": [
        {
          "output_type": "stream",
          "name": "stdout",
          "text": [
            "{'CS101': 3004, 'CS102': 4501, 'CS103': 6755, 'NT110': 1244, 'CM241': 1411}\n"
          ]
        }
      ]
    },
    {
      "cell_type": "markdown",
      "source": [
        "### Project 2\n",
        "\n",
        "Define a funcion `count_vowels` to \n",
        "\n",
        "- take a string as an argument\n",
        "- count each vowel (a, e, i, o and u) in the string\n",
        "- store vowels and their counts in a dicionary\n",
        "- return the dictionary\n",
        "\n",
        "Write a test program to test the function."
      ],
      "metadata": {
        "id": "fLJJcU3LxlVB"
      }
    },
    {
      "cell_type": "code",
      "source": [],
      "metadata": {
        "id": "OTezfplhyFOX"
      },
      "execution_count": null,
      "outputs": []
    }
  ]
}