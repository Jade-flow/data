{
  "nbformat": 4,
  "nbformat_minor": 0,
  "metadata": {
    "colab": {
      "provenance": [],
      "authorship_tag": "ABX9TyPhm8HpDfsC6UyJ0Fje4842",
      "include_colab_link": true
    },
    "kernelspec": {
      "name": "python3",
      "display_name": "Python 3"
    },
    "language_info": {
      "name": "python"
    }
  },
  "cells": [
    {
      "cell_type": "markdown",
      "metadata": {
        "id": "view-in-github",
        "colab_type": "text"
      },
      "source": [
        "<a href=\"https://colab.research.google.com/github/remjw/data/blob/master/notebook/revel-decisions.ipynb\" target=\"_parent\"><img src=\"https://colab.research.google.com/assets/colab-badge.svg\" alt=\"Open In Colab\"/></a>"
      ]
    },
    {
      "cell_type": "markdown",
      "source": [
        "Kathryn teaches a science class and her students are required to take three tests. She wants to write a program that her students can use to calculate their average test score. She also wants the program to congratulate the student enthusiastically if the average is greater than 95. Here is the algorithm in pseudocode:\n",
        "\n",
        "\n",
        "1.   Get the first test score\n",
        "1. Get the second test score\n",
        "1. Get the third test score\n",
        "1. Calculate the average\n",
        "1. Display the average\n",
        "1. If the average is greater than 95: Congratulate the user"
      ],
      "metadata": {
        "id": "C1Qab7NIrC_N"
      }
    },
    {
      "cell_type": "code",
      "execution_count": null,
      "metadata": {
        "id": "hh6JXFnSqoYi"
      },
      "outputs": [],
      "source": []
    },
    {
      "cell_type": "markdown",
      "source": [
        "The colors red, blue, and yellow are known as the primary colors because they cannot be made by mixing\n",
        "other colors. When you mix two primary colors, you get a secondary color:\n",
        "\n",
        "- When you mix red and blue, you get purple.\n",
        "- When you mix red and yellow, you get orange.\n",
        "- When you mix blue and yellow, you get green.\n",
        "\n",
        "Write a program that prompts the user to enter the names of two primary colors, one at a time. If the user\n",
        "enters anything other than \"red,\" \"blue,\" or \"yellow,\" the program should print \"You didn't input two\n",
        "primary colors.\" Otherwise, it should print a message in the following format: \"When you mix red and blue,\n",
        "you get purple.\" (Assuming the user entered \"red\" and \"blue”.)\n",
        "\n",
        "Look carefully at the following sample runs of the program. In particular, notice the wording of the\n",
        "messages and the placement of spaces, colons, and punctuation. Your program's output must match this."
      ],
      "metadata": {
        "id": "ANVxXrId2TPh"
      }
    }
  ]
}