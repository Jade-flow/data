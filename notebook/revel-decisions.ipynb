{
  "nbformat": 4,
  "nbformat_minor": 0,
  "metadata": {
    "colab": {
      "provenance": [],
      "authorship_tag": "ABX9TyNNaqV4Kj/WzB2W5bMBg3/L",
      "include_colab_link": true
    },
    "kernelspec": {
      "name": "python3",
      "display_name": "Python 3"
    },
    "language_info": {
      "name": "python"
    }
  },
  "cells": [
    {
      "cell_type": "markdown",
      "metadata": {
        "id": "view-in-github",
        "colab_type": "text"
      },
      "source": [
        "<a href=\"https://colab.research.google.com/github/remjw/data/blob/master/notebook/revel-decisions.ipynb\" target=\"_parent\"><img src=\"https://colab.research.google.com/assets/colab-badge.svg\" alt=\"Open In Colab\"/></a>"
      ]
    },
    {
      "cell_type": "markdown",
      "source": [
        "Kathryn teaches a science class and her students are required to take three tests. She wants to write a program that her students can use to calculate their average test score. She also wants the program to congratulate the student enthusiastically if the average is greater than 95. Here is the algorithm in pseudocode:\n",
        "\n",
        "\n",
        "1.   Get the first test score\n",
        "1. Get the second test score\n",
        "1. Get the third test score\n",
        "1. Calculate the average\n",
        "1. Display the average\n",
        "1. If the average is greater than 95: Congratulate the user"
      ],
      "metadata": {
        "id": "C1Qab7NIrC_N"
      }
    },
    {
      "cell_type": "code",
      "execution_count": 3,
      "metadata": {
        "id": "hh6JXFnSqoYi",
        "outputId": "b559eea1-e807-43c6-ce79-b1644452dc77",
        "colab": {
          "base_uri": "https://localhost:8080/"
        }
      },
      "outputs": [
        {
          "output_type": "stream",
          "name": "stdout",
          "text": [
            "How many steps did you walk today? 0\n",
            "No worries. Still time to get some steps in!\n"
          ]
        }
      ],
      "source": [
        "A_STEPS = 10000\n",
        "B_STEPS = 8000\n",
        "C_STEPS = 6000\n",
        "D_STEPS = 4000\n",
        "\n",
        "numsteps = int(input('How many steps did you walk today? '))\n",
        "\n",
        "if numsteps >= A_STEPS:\n",
        "   print('Great job!')\n",
        "# Fillin the missing code here\n",
        "elif numsteps >= B_STEPS:\n",
        "   print('Good work! Just a few more left to go.')\n",
        "elif numsteps >= C_STEPS:\n",
        "   print('Nice! More than halfway there!')\n",
        "elif numsteps >= D_STEPS:\n",
        "   print('Good start! Keep active the rest of the day!')\n",
        "# Fill in the missing code here\n",
        "else:\n",
        "   print('No worries. Still time to get some steps in!')"
      ]
    },
    {
      "cell_type": "markdown",
      "source": [
        "The colors red, blue, and yellow are known as the primary colors because they cannot be made by mixing\n",
        "other colors. When you mix two primary colors, you get a secondary color:\n",
        "\n",
        "- When you mix red and blue, you get purple.\n",
        "- When you mix red and yellow, you get orange.\n",
        "- When you mix blue and yellow, you get green.\n",
        "\n",
        "Write a program that prompts the user to enter the names of two primary colors, one at a time. If the user\n",
        "enters anything other than \"red,\" \"blue,\" or \"yellow,\" the program should print \"You didn't input two\n",
        "primary colors.\" Otherwise, it should print a message in the following format: \"When you mix red and blue,\n",
        "you get purple.\" (Assuming the user entered \"red\" and \"blue”.)\n",
        "\n",
        "Look carefully at the following sample runs of the program. In particular, notice the wording of the\n",
        "messages and the placement of spaces, colons, and punctuation. Your program's output must match this."
      ],
      "metadata": {
        "id": "ANVxXrId2TPh"
      }
    },
    {
      "cell_type": "code",
      "source": [
        "number = int(input(\"enter an integer: \"))\n",
        "if number == 1: \n",
        "  print(\"is 1\")\n",
        "elif number == 2:\n",
        "  print(\"is 2\")\n",
        "elif number == 3:\n",
        "  print(\"is 3\")\n",
        "else:\n",
        "  print(\"unknown\")"
      ],
      "metadata": {
        "id": "NJWAryMcvykD",
        "outputId": "94d9902b-c471-4cd5-f4a5-07dca6e975b4",
        "colab": {
          "base_uri": "https://localhost:8080/"
        }
      },
      "execution_count": 5,
      "outputs": [
        {
          "output_type": "stream",
          "name": "stdout",
          "text": [
            "enter an integer: 2\n",
            "is 2\n"
          ]
        }
      ]
    },
    {
      "cell_type": "code",
      "source": [
        "# if x is in the range of [10, 20]  10 <= x <= 20\n",
        "x = 15\n",
        "if  20 >= x >= 10: # chain\n",
        "  print('x is in the range.')"
      ],
      "metadata": {
        "id": "TY7_OUHdyJTJ",
        "outputId": "60eef936-b483-4310-fbfa-6f691b7a9945",
        "colab": {
          "base_uri": "https://localhost:8080/"
        }
      },
      "execution_count": 13,
      "outputs": [
        {
          "output_type": "stream",
          "name": "stdout",
          "text": [
            "x is in the range.\n"
          ]
        }
      ]
    }
  ]
}