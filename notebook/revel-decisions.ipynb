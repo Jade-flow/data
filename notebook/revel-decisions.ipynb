{
  "nbformat": 4,
  "nbformat_minor": 0,
  "metadata": {
    "colab": {
      "provenance": [],
      "authorship_tag": "ABX9TyNyc0+tV0otpv3oWttekssF",
      "include_colab_link": true
    },
    "kernelspec": {
      "name": "python3",
      "display_name": "Python 3"
    },
    "language_info": {
      "name": "python"
    }
  },
  "cells": [
    {
      "cell_type": "markdown",
      "metadata": {
        "id": "view-in-github",
        "colab_type": "text"
      },
      "source": [
        "<a href=\"https://colab.research.google.com/github/remjw/data/blob/master/Revel-decisions.ipynb\" target=\"_parent\"><img src=\"https://colab.research.google.com/assets/colab-badge.svg\" alt=\"Open In Colab\"/></a>"
      ]
    },
    {
      "cell_type": "markdown",
      "source": [
        "Kathryn teaches a science class and her students are required to take three tests. She wants to write a program that her students can use to calculate their average test score. She also wants the program to congratulate the student enthusiastically if the average is greater than 95. Here is the algorithm in pseudocode:\n",
        "\n",
        "\n",
        "1.   Get the first test score\n",
        "1. Get the second test score\n",
        "1. Get the third test score\n",
        "1. Calculate the average\n",
        "1. Display the average\n",
        "1. If the average is greater than 95: Congratulate the user"
      ],
      "metadata": {
        "id": "C1Qab7NIrC_N"
      }
    },
    {
      "cell_type": "code",
      "execution_count": null,
      "metadata": {
        "id": "hh6JXFnSqoYi"
      },
      "outputs": [],
      "source": []
    }
  ]
}
