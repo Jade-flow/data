{
  "cells": [
    {
      "cell_type": "markdown",
      "metadata": {
        "id": "view-in-github",
        "colab_type": "text"
      },
      "source": [
        "<a href=\"https://colab.research.google.com/github/remjw/data/blob/master/notebook/revel-dictionarySet-proj2-modular.ipynb\" target=\"_parent\"><img src=\"https://colab.research.google.com/assets/colab-badge.svg\" alt=\"Open In Colab\"/></a>"
      ]
    },
    {
      "cell_type": "markdown",
      "source": [
        "### Revel Ch9 Project 2 with the Modular Programming Approach\n",
        "\n",
        "- Generalize code while maxmizing customization \n",
        "- Configure user-dependent data by function parameters\n",
        "- Minimalize modifications needed to make the program fit new cases\n",
        "- *Write once run anywhere/everywhere*"
      ],
      "metadata": {
        "id": "NiI7uY8mjXEl"
      },
      "id": "NiI7uY8mjXEl"
    },
    {
      "cell_type": "code",
      "source": [
        "# global variables & constants\n",
        "room = {'CS101' : '3004', 'CS102' : '4501', 'CS103' : '6755', 'NT110' : \n",
        "'1244', 'CM241' : '1411'}\n",
        "instructor = {'CS101' : 'Haynes', 'CS102' : 'Alvarado', 'CS103' : 'Rich', \n",
        "'NT110' : 'Burke', 'CM241' : 'Lee'}\n",
        "time = {'CS101' : '8:00am', 'CS102' : '9:00am', 'CS103' : '10:00am', 'NT110' : \n",
        "'11:00am', 'CM241' : '1:00pm'}\n",
        "\n",
        "class_keys = ['Class_Num', 'Room', 'Instructor', 'Time']\n",
        "\n",
        "not_found_msg = \"Not Found\"\n",
        "again_prompt = 'Would you like to look up another class? (y/n): '\n",
        "ending_remark = 'Good luck for the upcoming semester!'\n",
        "\n",
        "def main():\n",
        "    query = 'Enter a class name (in all capital letters, ex. CS101):'\n",
        "    report = search(query)\n",
        "    display(report)\n",
        "    again()\n",
        "\n",
        "def search(query):\n",
        "    course_num = input(query)\n",
        "    x = room.get(course_num, not_found_msg)\n",
        "    y = instructor.get(course_num, not_found_msg)\n",
        "    z = time.get(course_num, not_found_msg)\n",
        "    return dict(zip(class_keys,[course_num,x,y,z]))\n",
        "\n",
        "def display(report, title=\"The Class Info.\"):\n",
        "  print(title)\n",
        "  for k, v in report.items():\n",
        "    print(f'\\t{k} : {v}')\n",
        "\n",
        "def again(prompt=again_prompt):\n",
        "    another = input(again_prompt).lower()\n",
        "    if another == 'y':\n",
        "        main()\n",
        "    else:\n",
        "        print(ending_remark)\n",
        "\n",
        "if __name__ == '__main__':\n",
        "    main()"
      ],
      "metadata": {
        "colab": {
          "base_uri": "https://localhost:8080/"
        },
        "id": "gn8gTjCkh7ao",
        "outputId": "75b25f96-d669-4b78-b175-241699348bc4"
      },
      "id": "gn8gTjCkh7ao",
      "execution_count": 3,
      "outputs": [
        {
          "output_type": "stream",
          "name": "stdout",
          "text": [
            "Enter a class name (in all capital letters, ex. CS101):CS101\n",
            "The Class Info.\n",
            "\tClass_Num : CS101\n",
            "\tRoom : 3004\n",
            "\tInstructor : Haynes\n",
            "\tTime : 8:00am\n",
            "Would you like to look up another class? (y/n): n\n",
            "Good luck for the upcoming semester!\n"
          ]
        }
      ]
    }
  ],
  "metadata": {
    "kernelspec": {
      "display_name": "Python 3 (ipykernel)",
      "language": "python",
      "name": "python3"
    },
    "language_info": {
      "codemirror_mode": {
        "name": "ipython",
        "version": 3
      },
      "file_extension": ".py",
      "mimetype": "text/x-python",
      "name": "python",
      "nbconvert_exporter": "python",
      "pygments_lexer": "ipython3",
      "version": "3.9.12"
    },
    "colab": {
      "provenance": [],
      "include_colab_link": true
    }
  },
  "nbformat": 4,
  "nbformat_minor": 5
}