{
  "cells": [
    {
      "cell_type": "markdown",
      "metadata": {
        "id": "view-in-github",
        "colab_type": "text"
      },
      "source": [
        "<a href=\"https://colab.research.google.com/github/remjw/data/blob/master/notebook/running_case_class_inheritance.ipynb\" target=\"_parent\"><img src=\"https://colab.research.google.com/assets/colab-badge.svg\" alt=\"Open In Colab\"/></a>"
      ]
    },
    {
      "cell_type": "markdown",
      "metadata": {
        "id": "MOu2_NQ4ou_q"
      },
      "source": [
        "## A Running Example for Classes & Inheritance in Python\n",
        "\n",
        "**Object-oriented paradigm** (OOP) is one methedology used in software development. With the OOP, software consists of `classes` and `interfaces`; classes consists of `attributes` and `methods`.\n",
        "\n",
        "- **A class is a data structure which encapsulates both variables (attributes) and functions (methods) within a single object.**\n",
        "- An object represents an `entity` in the real world that can be distinctly identified. _For example, a student, a desk, a circle, a button, and even a loan can all be viewed as objects. An object has a unique identity, state, and behaviors_.\n",
        "- **What is the object?** The **state** of an object is determined by the values of a set of data attributes at any given moment.\n",
        "- **What can the object do?** The **behavior** of an object is defined by a set of methods.\n",
        "\n",
        "**Inheritance**\n",
        "\n",
        "In designing objects in information sytems, determining relationships between objects is a skill which a designer or analyst must master. One common relationship type is the **Generalization/Specification** type. The type defines a **hierarchy** which consists of a superclass and one or more subclasses. \n",
        "\n",
        "**A subclass inherits everything from its superclass**, which is referred to as inheritance in the object-orientation methodology and object-oriented programming. \n",
        "\n",
        "_With inheritance, the superclass's attributes do not have to be repeated in each of its subclasses. By default, each subclass inherits everything from its superclass._"
      ]
    },
    {
      "cell_type": "markdown",
      "metadata": {
        "id": "nVjYG2YnK6J4"
      },
      "source": [
        "### 1. Person Class"
      ]
    },
    {
      "cell_type": "code",
      "execution_count": null,
      "metadata": {
        "id": "J-jlv2ewqsGg"
      },
      "outputs": [],
      "source": [
        "# Define the Person class (superclass)\n",
        "import datetime\n",
        "class Person:\n",
        "  def __init__(self, fname, lname, dob): #constructor\n",
        "    self.firstname = fname\n",
        "    self.lastname = lname\n",
        "    self.dob = dob\n",
        "\n",
        "  def __str__(self): # override default __str__ method\n",
        "    return f'type {self.__class__.__name__.upper()}: {self.firstname} {self.lastname}, {self.dob}'"
      ]
    },
    {
      "cell_type": "markdown",
      "metadata": {
        "id": "ZAGG6Gk0ZfwH"
      },
      "source": [
        "### Magic name🐾\n",
        "\n",
        "`__str__` is a method that returns the string representation of the object. This method is silently called when `print()` or `str()`. \n",
        "\n",
        "To make a custom return, override `__str__` method."
      ]
    },
    {
      "cell_type": "markdown",
      "metadata": {
        "id": "z1N6E4R4LIL4"
      },
      "source": [
        "## 2. Instantiate (Construct a new instance of Person)\n",
        "\n",
        "- Create a new instance of Person\n",
        "- Compare three print statements"
      ]
    },
    {
      "cell_type": "code",
      "execution_count": null,
      "metadata": {
        "id": "UhFybIUfLHYw",
        "colab": {
          "base_uri": "https://localhost:8080/"
        },
        "outputId": "0d73c65e-bbe4-416c-84de-75a7b4dc8d75"
      },
      "outputs": [
        {
          "output_type": "stream",
          "name": "stdout",
          "text": [
            "type PERSON: John Mark, 12/1/2001\n",
            "type PERSON: John Mark, 12/1/2001\n",
            "{'firstname': 'John', 'lastname': 'Mark', 'dob': '12/1/2001'}\n"
          ]
        }
      ],
      "source": [
        "# Instantiate: Create an instance of Person, and then call tostring method:\n",
        "x = Person(\"John\", \"Mark\", \"12/1/2001\")\n",
        "\n",
        "# default call __str__ method to return object ID string\n",
        "print(x) \n",
        "print(str(x))\n",
        "\n",
        "# print as a dict\n",
        "print(x.__dict__)"
      ]
    },
    {
      "cell_type": "markdown",
      "metadata": {
        "id": "q8xSdmaFL4O5"
      },
      "source": [
        "## 3. Student (subclass) inherits from Person class"
      ]
    },
    {
      "cell_type": "code",
      "execution_count": null,
      "metadata": {
        "id": "AXHfAzG3KeZy"
      },
      "outputs": [],
      "source": [
        "#Define the Student class (a subclass inherits everything from its superclass)\n",
        "class Student(Person): \n",
        "  def __init__(self, fname, lname, dob, phone_number):\n",
        "    super().__init__(fname, lname, dob) \n",
        "    self.phone_number = phone_number\n",
        "\n",
        "  def __str__(self):\n",
        "    # return object in dict format\n",
        "    return f\"{self.__dict__}\""
      ]
    },
    {
      "cell_type": "markdown",
      "metadata": {
        "id": "cmTPsUfJNjSI"
      },
      "source": [
        "### 4. Add New Student instances"
      ]
    },
    {
      "cell_type": "code",
      "execution_count": null,
      "metadata": {
        "id": "vF_7EOZbNju4",
        "colab": {
          "base_uri": "https://localhost:8080/"
        },
        "outputId": "c71b1015-3fa1-4e4a-dd40-a75ca783b4d3"
      },
      "outputs": [
        {
          "output_type": "stream",
          "name": "stdout",
          "text": [
            "{'firstname': 'Mike', 'lastname': 'Olsen', 'dob': '12/1/2001', 'phone_number': '123456789'}\n",
            "{'firstname': 'Joker', 'lastname': 'Lee', 'dob': '12/2/2001', 'phone_number': '123456789'}\n",
            "{'firstname': 'Swan', 'lastname': 'Alter', 'dob': '12/3/2001', 'phone_number': '123456789'}\n"
          ]
        }
      ],
      "source": [
        "#Create new Student \n",
        "s1 = Student(\"Mike\", \"Olsen\", \"12/1/2001\", \"123456789\")\n",
        "print(s1)\n",
        "\n",
        "#Create new Student \n",
        "s2 = Student(\"Joker\", \"Lee\", \"12/2/2001\", \"123456789\")\n",
        "print(s2)\n",
        "\n",
        "#Create new Student\n",
        "s3 = Student(\"Swan\", \"Alter\", \"12/3/2001\", \"123456789\")\n",
        "print(s3)"
      ]
    },
    {
      "cell_type": "markdown",
      "metadata": {
        "id": "GejVem23OGAA"
      },
      "source": [
        "### 5. Store Student instances in a List"
      ]
    },
    {
      "cell_type": "code",
      "execution_count": null,
      "metadata": {
        "id": "gy85dK6OOQLn",
        "colab": {
          "base_uri": "https://localhost:8080/"
        },
        "outputId": "38728b24-1092-45de-92cb-edbbac8e404f"
      },
      "outputs": [
        {
          "output_type": "stream",
          "name": "stdout",
          "text": [
            "{'firstname': 'Mike', 'lastname': 'Olsen', 'dob': '12/1/2001', 'phone_number': '123456789'}\n",
            "Mike\n",
            "123456789\n"
          ]
        }
      ],
      "source": [
        "# Group\n",
        "students = []\n",
        "students.append(s1)\n",
        "students.append(s2)\n",
        "students.append(s3)\n",
        "\n",
        "print(students[0])\n",
        "print(students[0].firstname)\n",
        "print(students[0].phone_number)"
      ]
    },
    {
      "cell_type": "code",
      "execution_count": null,
      "metadata": {
        "id": "S3LuVv7zQ-Nw",
        "colab": {
          "base_uri": "https://localhost:8080/"
        },
        "outputId": "5167a3bd-cf61-4768-c402-763b9afbe37c"
      },
      "outputs": [
        {
          "output_type": "stream",
          "name": "stdout",
          "text": [
            "{'firstname': 'Mike', 'lastname': 'Olsen', 'dob': '12/1/2001', 'phone_number': '123456789'}\n",
            "{'firstname': 'Joker', 'lastname': 'Lee', 'dob': '12/2/2001', 'phone_number': '123456789'}\n",
            "{'firstname': 'Swan', 'lastname': 'Alter', 'dob': '12/3/2001', 'phone_number': '123456789'}\n"
          ]
        }
      ],
      "source": [
        "# Loop \n",
        "for student in students:\n",
        "  print(student)"
      ]
    },
    {
      "cell_type": "code",
      "execution_count": null,
      "metadata": {
        "id": "ICLKyQGdRLzH",
        "colab": {
          "base_uri": "https://localhost:8080/"
        },
        "outputId": "adb0189e-9a66-4c5b-ae50-b5b0ee690c24"
      },
      "outputs": [
        {
          "output_type": "stream",
          "name": "stdout",
          "text": [
            "{'firstname': 'Swan', 'lastname': 'Apple', 'dob': '12/5/2001', 'phone_number': '123456789'}\n",
            "4\n"
          ]
        }
      ],
      "source": [
        "# Add a new student to list\n",
        "new_s = Student(\"Swan\", \"Apple\", \"12/5/2001\", \"123456789\")\n",
        "students.append(new_s)\n",
        "\n",
        "print(students[-1])\n",
        "print(len(students))"
      ]
    },
    {
      "cell_type": "code",
      "execution_count": null,
      "metadata": {
        "id": "LmcQrf9uSFN2",
        "colab": {
          "base_uri": "https://localhost:8080/"
        },
        "outputId": "5ac826ea-d9cb-4f9f-cb17-3ee1f22fec5d"
      },
      "outputs": [
        {
          "output_type": "stream",
          "name": "stdout",
          "text": [
            "{'firstname': 'Mike', 'lastname': 'Olsen', 'dob': '12/1/2001', 'phone_number': '123456789'}\n",
            "{'firstname': 'Joker', 'lastname': 'Lee', 'dob': '12/2/2001', 'phone_number': '123456789'}\n",
            "{'firstname': 'Swan', 'lastname': 'Alter', 'dob': '12/3/2001', 'phone_number': '123456789'}\n",
            "{'firstname': 'Swan', 'lastname': 'Apple', 'dob': '12/5/2001', 'phone_number': '123456789'}\n",
            "False\n"
          ]
        }
      ],
      "source": [
        "# List all students\n",
        "for student in students:\n",
        "  print(student)\n",
        "# \n",
        "num_students = len(students)\n",
        "\n",
        "# pop last student\n",
        "students.pop(-1)\n",
        "\n",
        "# any student whose firstname is Apple\n",
        "print('Apple' in [s.firstname for s in students])"
      ]
    },
    {
      "cell_type": "markdown",
      "metadata": {
        "id": "RKA2NgN0XHZ_"
      },
      "source": [
        "## 6. Private Attributes \n",
        "\n",
        "**Double leading underscore in a variable's name** indicates the attribute is private. Then accessor and mutator methods must be created in order to update a private attribute.\n",
        "\n",
        "```python\n",
        "  def __init__(self, fname, lname):\n",
        "        self.__firstname = fname\n",
        "        self.__lastname = lname\n",
        "```\n",
        "\n",
        "Attribute `__firstname` is not accessible outside class Person.\n",
        "\n",
        "Attribute `__firstname` can not be overwritten in the subclasses of Person."
      ]
    },
    {
      "cell_type": "markdown",
      "metadata": {
        "id": "jwXWlrf1Y0H1"
      },
      "source": [
        "### Getter to access values"
      ]
    },
    {
      "cell_type": "code",
      "execution_count": null,
      "metadata": {
        "id": "u_wZ1BYeX2at"
      },
      "outputs": [],
      "source": [
        "def getFirstName(self):\n",
        "  return self.__firstname\n",
        "\n",
        "def getLastName(self):\n",
        "  return self.__lastname"
      ]
    },
    {
      "cell_type": "markdown",
      "metadata": {
        "id": "nmb-haWsY2sk"
      },
      "source": [
        "### Setter to mutate values"
      ]
    },
    {
      "cell_type": "code",
      "execution_count": null,
      "metadata": {
        "id": "2ngCeC5OY3Ks"
      },
      "outputs": [],
      "source": [
        "def setFirstName(self, fname):\n",
        "  self.__firstname = fname\n",
        "\n",
        "def setLastName(self, lname):\n",
        "  self.__lastname = lname"
      ]
    },
    {
      "cell_type": "markdown",
      "metadata": {
        "id": "v-54E1xFeK6c"
      },
      "source": [
        "## 7. New Person Class and Student Class"
      ]
    },
    {
      "cell_type": "code",
      "execution_count": 1,
      "metadata": {
        "id": "ANnB4ZMDeLS8"
      },
      "outputs": [],
      "source": [
        "# New Person class (superclass)\n",
        "class Person:\n",
        "  def __init__(self, fname, lname, dob): # constructor\n",
        "    self.__firstname = fname\n",
        "    self.__lastname = lname\n",
        "    self.__dob = dob\n",
        "  \n",
        "  def getFirstName(self): # getter\n",
        "    return self.__firstname\n",
        "\n",
        "  def getLastName(self):\n",
        "    return self.__lastname\n",
        "  \n",
        "  def getDob(self): \n",
        "    return self.__dob\n",
        "  \n",
        "  def setFirstName(self, fname): # setter\n",
        "    self.__firstname = fname\n",
        "\n",
        "  def setLastName(self, lname):\n",
        "    self.__lastname = lname\n",
        "  \n",
        "  def setDob(self, dob):\n",
        "    self.__dob = dob\n",
        "\n",
        "  def __str__(self): # override\n",
        "    return f'{self.__class__.__name__}: {self.__dict__}'\n",
        "\n",
        "# New Student subclass\n",
        "class Student(Person): \n",
        "  def __init__(self, fname, lname, dob, phone_number):\n",
        "    super().__init__(fname, lname, dob) \n",
        "    self.__phone_number = phone_number\n",
        "\n",
        "  def setPhoneNumber(self, phone_number): # setter\n",
        "    self.__phone_number = phone_number\n",
        "\n",
        "  def __str__(self):\n",
        "    # return object in dict format\n",
        "    return f\"{self.__dict__}\"\n"
      ]
    },
    {
      "cell_type": "code",
      "execution_count": null,
      "metadata": {
        "id": "Vhlf2XVHesSc"
      },
      "outputs": [],
      "source": [
        "s = Student(\"Swan\", \"Apple\", \"12/5/2001\", \"123456789\")\n",
        "print(s.firstname) \n",
        "# raise AttributeError: 'Student' object has no attribute 'firstname'"
      ]
    },
    {
      "cell_type": "code",
      "source": [
        "# firstname is private, must use getter to access\n",
        "print(s.getFirstName())\n",
        "\n",
        "# use setter to mutate\n",
        "s.setFirstName('Tiger')\n",
        "\n",
        "# confirm name change\n",
        "print(s.getFirstName())"
      ],
      "metadata": {
        "colab": {
          "base_uri": "https://localhost:8080/"
        },
        "id": "B9jL2_QXRhC0",
        "outputId": "e68dbb02-d052-4aea-bde5-fb85a56e14d8"
      },
      "execution_count": 3,
      "outputs": [
        {
          "output_type": "stream",
          "name": "stdout",
          "text": [
            "Swan\n",
            "Tiger\n"
          ]
        }
      ]
    },
    {
      "cell_type": "markdown",
      "metadata": {
        "id": "e49ASy-tRd_P"
      },
      "source": [
        "## 8. Practice\n",
        "\n",
        "A Python's class `QuadEquaSolver is given to solve the following quadratic equation with user's input for the three parameters a, b and c.\n",
        "\n",
        "$$\n",
        "r_1 = \\frac{-b + \\sqrt{b^2 - 4ac}}{2a}\n",
        "$$\n",
        "\n",
        "$$\n",
        "r_2 = \\frac{-b - \\sqrt{b^2 - 4ac}}{2a}\n",
        "$$\n",
        "\n",
        "a, b and c are **public attributes**. "
      ]
    },
    {
      "cell_type": "code",
      "execution_count": null,
      "metadata": {
        "id": "auazSwvRVCyu"
      },
      "outputs": [],
      "source": [
        "from math import sqrt\n",
        "\n",
        "class QuadEquaSolver:\n",
        "    def __init__(self, a, b, c):\n",
        "        self.a = a\n",
        "        self.b = b\n",
        "        self.c = c\n",
        "    \n",
        "    def getDiscriminant(self):\n",
        "        return self.b * self.b - 4 * self.a * self.c\n",
        "\n",
        "    def getRoot1(self):\n",
        "        return (-self.b + sqrt(self.getDiscriminant())) / (2 * self.a)\n",
        "\n",
        "    def getRoot2(self):\n",
        "        return (-self.b - sqrt(self.getDiscriminant())) / (2 * self.a)\n",
        "        "
      ]
    },
    {
      "cell_type": "code",
      "execution_count": null,
      "metadata": {
        "id": "TYueMwTZh2h-",
        "colab": {
          "base_uri": "https://localhost:8080/"
        },
        "outputId": "f935fdb5-358f-40ba-9e96-7b8399dacc2a"
      },
      "outputs": [
        {
          "output_type": "stream",
          "name": "stdout",
          "text": [
            "Enter a, b, c: 2 4 1\n",
            "The roots are -0.2928932188134524 and -1.7071067811865475\n"
          ]
        }
      ],
      "source": [
        "# Test class\n",
        "# case 1: enter 1 2 3 no root\n",
        "# case 2: enter 2 4 1 two roots 1.0 and -3.0\n",
        "# case 3: enter 4 4 1 one root -0.5\n",
        "\n",
        "a, b, c = [ int(x) for x in input(\"Enter a, b, c: \").split() ]\n",
        "\n",
        "qe_solver = QuadEquaSolver(a, b, c)\n",
        "\n",
        "discriminant = qe_solver.getDiscriminant()\n",
        "\n",
        "if discriminant < 0:\n",
        "  print(f'discriminant={discriminant} < 0: The equation has no root.')\n",
        "elif discriminant == 0:\n",
        "  print(\"The root is\", qe_solver.getRoot1())\n",
        "else: # (discriminant >= 0)\n",
        "  print(\"The roots are\", qe_solver.getRoot1(), \"and\", qe_solver.getRoot2())"
      ]
    },
    {
      "cell_type": "markdown",
      "metadata": {
        "id": "LHCJod0Qiwq1"
      },
      "source": [
        "### Augment the class to meet the following two requirements:\n",
        "\n",
        "1. `ZeroDivisionError`: division by zero\n",
        "\n",
        "When `a = 0`, it will produce **division by zero** error. \n",
        "\n",
        "```python\n",
        "qe_solver = QuadEquaSolver(0, 2, 3)\n",
        "qe_solver.getRoot1()\n",
        "```\n",
        "\n",
        "Modify `quadEquaSolver` class to handle an zero input for parameter `a` ⛳ \n",
        "\n",
        "When `ZeroDivisionError` has been raised, the class should `print a friendly message` to let user know the cause of termination. \n",
        "\n",
        "2. Merge `getRoot1` and `getRoot2` in one method `getRoot`\n",
        "\n",
        "Test run the modified class.\n"
      ]
    }
  ],
  "metadata": {
    "colab": {
      "provenance": [],
      "toc_visible": true,
      "include_colab_link": true
    },
    "kernelspec": {
      "display_name": "Python 3",
      "name": "python3"
    },
    "language_info": {
      "name": "python"
    }
  },
  "nbformat": 4,
  "nbformat_minor": 0
}