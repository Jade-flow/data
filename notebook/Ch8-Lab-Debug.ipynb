{
  "nbformat": 4,
  "nbformat_minor": 0,
  "metadata": {
    "colab": {
      "provenance": [],
      "authorship_tag": "ABX9TyOD6KzYrMgdaSxm/UQqNF9n",
      "include_colab_link": true
    },
    "kernelspec": {
      "name": "python3",
      "display_name": "Python 3"
    },
    "language_info": {
      "name": "python"
    }
  },
  "cells": [
    {
      "cell_type": "markdown",
      "metadata": {
        "id": "view-in-github",
        "colab_type": "text"
      },
      "source": [
        "<a href=\"https://colab.research.google.com/github/remjw/data/blob/master/notebook/Ch8-Lab-Debug.ipynb\" target=\"_parent\"><img src=\"https://colab.research.google.com/assets/colab-badge.svg\" alt=\"Open In Colab\"/></a>"
      ]
    },
    {
      "cell_type": "code",
      "source": [
        "\"\"\"## Revel Auto-graded 1 ☎️\n",
        "\n",
        "### Revel Answer\n",
        "\"\"\"\n",
        "\n",
        "def translate_phone_number(phone_number):\n",
        "    translated_number = \"\"\n",
        "    for char in phone_number:\n",
        "        if char.isdigit():\n",
        "            translated_number += char\n",
        "        else:\n",
        "            char = char.upper()\n",
        "            if char == 'A' or char == 'B' or char == 'C':\n",
        "                translated_number += '2'\n",
        "            elif char == 'D' or char == 'E' or char == 'F':\n",
        "                translated_number += '3'\n",
        "            elif char == 'G' or char == 'H' or char == 'I':\n",
        "                translated_number += '4'\n",
        "            elif char == 'J' or char == 'K' or char == 'L':\n",
        "                translated_number += '5'\n",
        "            elif char == 'M' or char == 'N' or char == 'O':\n",
        "                translated_number += '6'\n",
        "            elif char == 'P' or char == 'Q' or char == 'R' or char == 'S':\n",
        "                translated_number += '7'\n",
        "            elif char == 'T' or char == 'U' or char == 'V':\n",
        "                translated_number += '8'\n",
        "            elif char == 'W' or char == 'X' or char == 'Y' or char == 'Z':\n",
        "                translated_number += '9'\n",
        "    return translated_number\n",
        "\n",
        "phone_number = input(\"Enter a phone number to be translated:\")\n",
        "translated_number = translate_phone_number(phone_number)\n",
        "print(translated_number)\n",
        "\n",
        "\n",
        "\n",
        "\n",
        "\n",
        "\n",
        "\n",
        "\n"
      ],
      "metadata": {
        "id": "S3406nZwSbGw"
      },
      "execution_count": null,
      "outputs": []
    },
    {
      "cell_type": "code",
      "source": [],
      "metadata": {
        "id": "J9tITZZ0SwzB"
      },
      "execution_count": null,
      "outputs": []
    },
    {
      "cell_type": "code",
      "source": [],
      "metadata": {
        "id": "84yXGLzqTAmM"
      },
      "execution_count": null,
      "outputs": []
    },
    {
      "cell_type": "code",
      "source": [],
      "metadata": {
        "id": "fy0TQm9NTAqV"
      },
      "execution_count": null,
      "outputs": []
    },
    {
      "cell_type": "code",
      "source": [],
      "metadata": {
        "id": "F5D2yyNLTAu-"
      },
      "execution_count": null,
      "outputs": []
    },
    {
      "cell_type": "markdown",
      "source": [
        "## 2. Revel Auto-graded 2 ⚧ \n",
        "\n",
        "Parse sentenses from given string. Capitalize each sentence.\n",
        "\n",
        "Two function alternatives:\n",
        "\n",
        "- `capitalize00` function: Operate directly with String using Slicing operators \n",
        "- `capitalize01` function: Make a List copy of String, then modify the list elements.\n",
        "\n"
      ],
      "metadata": {
        "id": "7PYSx9v7UsGV"
      }
    },
    {
      "cell_type": "code",
      "source": [
        "# capitalize00 function: work with string\n",
        "# Revel expects string Slicing operators\n",
        "\n",
        "def capitalize00(paper):\n",
        "  '''parse sentences by .,?, !\n",
        "  capitalize each sentence'''\n",
        "\n",
        "  delimits = ['.', '?', '!']\n",
        "  for i in range(len(paper)):\n",
        "    if i == 0: \n",
        "      paper = paper[0].upper() + paper[1:]\n",
        "    elif paper[i] in delimits and i != len(paper) - 1:\n",
        "      paper = paper[:i+2] + paper[i+2].upper() + paper[i+3:]\n",
        "\n",
        "  return paper\n",
        "    \n",
        "  \n",
        "def main():\n",
        "  paper = 'hello. my name is tree. what is your name?'\n",
        "  print(capitalize00(paper))\n",
        "\n",
        "if __name__ == '__main__':\n",
        "  main()\n"
      ],
      "metadata": {
        "id": "c45ad2JXSxA0"
      },
      "execution_count": null,
      "outputs": []
    },
    {
      "cell_type": "code",
      "source": [
        "# capitalize01: work with list\n",
        "def capitalize01(paper):\n",
        "  '''create a list from paper string, \n",
        "  loop chars by index\n",
        "  if char is a delimitor, set char at i+2 to uppercase\n",
        "  join all chars to string'''\n",
        "\n",
        "  delimits = ['.', '?', '!']\n",
        "  output = list(paper)\n",
        "\n",
        "  for i in range(len(paper)):\n",
        "    if i == 0: \n",
        "      output[0] = paper[0].upper() \n",
        "    elif paper[i] in delimits and i != len(paper) - 1:\n",
        "      output[i+2]= paper[i+2].upper()\n",
        "\n",
        "  return ''.join(output)\n",
        "\n",
        "def main():\n",
        "  paper = 'hello. my name is tree. what is your name?'\n",
        "  print(capitalize01(paper))\n",
        "\n",
        "if __name__ == '__main__':\n",
        "  main()"
      ],
      "metadata": {
        "id": "riCqMLcBSxGi"
      },
      "execution_count": null,
      "outputs": []
    }
  ]
}