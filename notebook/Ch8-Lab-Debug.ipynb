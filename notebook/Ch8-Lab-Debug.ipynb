{
  "nbformat": 4,
  "nbformat_minor": 0,
  "metadata": {
    "colab": {
      "provenance": [],
      "include_colab_link": true
    },
    "kernelspec": {
      "name": "python3",
      "display_name": "Python 3"
    },
    "language_info": {
      "name": "python"
    }
  },
  "cells": [
    {
      "cell_type": "markdown",
      "metadata": {
        "id": "view-in-github",
        "colab_type": "text"
      },
      "source": [
        "<a href=\"https://colab.research.google.com/github/remjw/data/blob/master/notebook/Ch8-Lab-Debug.ipynb\" target=\"_parent\"><img src=\"https://colab.research.google.com/assets/colab-badge.svg\" alt=\"Open In Colab\"/></a>"
      ]
    },
    {
      "cell_type": "markdown",
      "source": [
        "## Debug 1: Revel Auto-graded 1 ☎️"
      ],
      "metadata": {
        "id": "TVAXJ_04YJb5"
      }
    },
    {
      "cell_type": "code",
      "source": [
        "# translate() takes an input in the format of XXX-XXX-XXXX, like 555-get-food,\n",
        "# return the phone number 555-438-3663\n",
        "# DEBUG translate() function\n",
        "# two missing statements, and five bugs\n",
        "\n",
        "def translate(phone_number):\n",
        "\n",
        "    for char in phone_number:\n",
        "        if char.isdigit():\n",
        "            translated_number += char\n",
        "        else:\n",
        "\n",
        "            if char == 'A' and char == 'B' and char == 'C':\n",
        "                translated_number += '2'\n",
        "            elif char == 'D' and char == 'E' and char == 'F':\n",
        "                translated_number += '3'\n",
        "            elif char == 'G' or char == 'H' or char == 'I':\n",
        "                translated_number += '4'\n",
        "            elif char == 'J' or char == 'K' or char == 'L':\n",
        "                translated_number += '5'\n",
        "            elif char == 'M' or char == 'N' or char == 'O':\n",
        "                translated_number += '6'\n",
        "            elif char == 'P' or char == 'Q' or char == 'R' or char == 'S':\n",
        "                translated_number += '7'\n",
        "            elif char in ('T', 'U', 'V'):\n",
        "                translated_number += '8'\n",
        "            elif char in ('W', 'X', 'Y', 'Z'):\n",
        "                translated_number += 9\n",
        "\n",
        "    return translated_number\n",
        "\n",
        "phone_number = '555-get-food'\n",
        "translated_number = translate(phone_number)\n",
        "print(translated_number) # 555-438-3663\n",
        "\n"
      ],
      "metadata": {
        "id": "S3406nZwSbGw"
      },
      "execution_count": null,
      "outputs": []
    },
    {
      "cell_type": "markdown",
      "source": [
        "## 2. Revel Auto-graded 2 🔠\n",
        "\n",
        "Capitalize each sentence in a given String. There are two function alternatives.\n",
        "\n",
        "- `capitalize00` function: Operate directly with String using `Slice operator` and string concatenation by `f-string` or `+` operator.\n",
        "- `capitalize01` function: Operate indirectly with `a List copy of String`.  Modify the list. Call `String.join method` to create a new String from the modified list.\n",
        "\n",
        "Both functions should take a text and return the text having all sentences are capitalized. For instance, assume the text `'hello. my name is Fortran. what is your name?'`. Call the function with the text. It returns `'Hello. My name is Fortran. What is your name?'`"
      ],
      "metadata": {
        "id": "7PYSx9v7UsGV"
      }
    },
    {
      "cell_type": "markdown",
      "source": [
        "## 2.1 Debug 2: `capitalize00(paper)` - 3 BUGS"
      ],
      "metadata": {
        "id": "M8RaTmlZZmn-"
      }
    },
    {
      "cell_type": "code",
      "source": [
        "'''Operate directly with String using `Slice operator`,\n",
        "string concatenation using `f-string` or `+` operator.\n",
        "'''\n",
        "\n",
        "# DEBUG: 3 BUGS\n",
        "\n",
        "def capitalize00(paper):\n",
        "  '''parse sentences by .,?, !\n",
        "  capitalize each sentence\n",
        "  '''\n",
        "\n",
        "  delimits = ['.', '?', '!']\n",
        "\n",
        "  for i in range(len(paper)):\n",
        "    if i == 0:\n",
        "      paper = paper[1].upper() + paper[1:]\n",
        "    elif paper[i] in delimits and i != len(paper):\n",
        "      paper = paper[:i+2] + paper[i+2].upper() + paper[i+2:]\n",
        "\n",
        "  return paper\n",
        "\n",
        "\n",
        "def main():\n",
        "  paper = 'hello. my name is tree. what is your name?'\n",
        "  print(capitalize00(paper))\n",
        "\n",
        "if __name__ == '__main__':\n",
        "  main()\n"
      ],
      "metadata": {
        "id": "c45ad2JXSxA0",
        "outputId": "8708e336-9a2e-447c-ce46-c1686ec2ffa9",
        "colab": {
          "base_uri": "https://localhost:8080/"
        }
      },
      "execution_count": 2,
      "outputs": [
        {
          "output_type": "stream",
          "name": "stdout",
          "text": [
            "Eello. Mmy name is tree. Wwhat is your name?\n"
          ]
        }
      ]
    },
    {
      "cell_type": "markdown",
      "source": [
        "## 2.2 Debug 3: `capitalize01(paper)` 2 BUGS"
      ],
      "metadata": {
        "id": "2uvZ4VNiamLn"
      }
    },
    {
      "cell_type": "code",
      "source": [
        "'''Operate indirectly with `a List copy of String`.\n",
        "Modify the list.\n",
        "Call `String.join method` to create a new String from the modified list.\n",
        "- 2 bugs\n",
        "'''\n",
        "\n",
        "def capitalize01(paper):\n",
        "  '''Create list from paper\n",
        "  loop:\n",
        "    Loop chars by index\n",
        "    If char is in the delimit, set (i+2)th element to uppercase\n",
        "  post-loop:\n",
        "    Join all chars to string\n",
        "  '''\n",
        "\n",
        "  delimits = ['.', '?', '!']\n",
        "  output = list(paper)\n",
        "\n",
        "  for i in range(len(paper)):\n",
        "    if i == 0:\n",
        "      output[0] = paper[0].upper()\n",
        "    elif paper[i] in delimits and i != len(paper):\n",
        "      output[i+1] = paper[i+1].upper()\n",
        "\n",
        "  return ''.join(output)\n",
        "\n",
        "def main():\n",
        "  paper = 'hello. my name is tree. what is your name?'\n",
        "  print(capitalize01(paper))\n",
        "\n",
        "if __name__ == '__main__':\n",
        "  main()"
      ],
      "metadata": {
        "id": "riCqMLcBSxGi"
      },
      "execution_count": null,
      "outputs": []
    }
  ]
}