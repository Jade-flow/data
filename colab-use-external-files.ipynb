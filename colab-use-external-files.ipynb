{
  "nbformat": 4,
  "nbformat_minor": 0,
  "metadata": {
    "colab": {
      "provenance": [],
      "mount_file_id": "1nowwZuHhFw21OCJ9B5Uf3R8kLGyDgPv2",
      "authorship_tag": "ABX9TyNiklMsILbMVoouen7VhAFu",
      "include_colab_link": true
    },
    "kernelspec": {
      "name": "python3",
      "display_name": "Python 3"
    },
    "language_info": {
      "name": "python"
    }
  },
  "cells": [
    {
      "cell_type": "markdown",
      "metadata": {
        "id": "view-in-github",
        "colab_type": "text"
      },
      "source": [
        "<a href=\"https://colab.research.google.com/github/remjw/data/blob/master/colab-use-external-files.ipynb\" target=\"_parent\"><img src=\"https://colab.research.google.com/assets/colab-badge.svg\" alt=\"Open In Colab\"/></a>"
      ]
    },
    {
      "cell_type": "code",
      "source": [
        "#@title\n",
        "from IPython.display import YouTubeVideo\n",
        "display(YouTubeVideo(\"FlPIy6f_v48\"))"
      ],
      "metadata": {
        "id": "nTS4trxLy1BN",
        "outputId": "cc0b4348-84dc-4577-f657-6d67e4e8b1a3",
        "colab": {
          "base_uri": "https://localhost:8080/",
          "height": 322
        }
      },
      "execution_count": null,
      "outputs": [
        {
          "output_type": "display_data",
          "data": {
            "text/plain": [
              "<IPython.lib.display.YouTubeVideo at 0x7fa588c27d90>"
            ],
            "text/html": [
              "\n",
              "        <iframe\n",
              "            width=\"400\"\n",
              "            height=\"300\"\n",
              "            src=\"https://www.youtube.com/embed/FlPIy6f_v48\"\n",
              "            frameborder=\"0\"\n",
              "            allowfullscreen\n",
              "            \n",
              "        ></iframe>\n",
              "        "
            ]
          },
          "metadata": {}
        }
      ]
    },
    {
      "cell_type": "code",
      "source": [
        "# get current working directory\n",
        "import os\n",
        "os.getcwd()"
      ],
      "metadata": {
        "colab": {
          "base_uri": "https://localhost:8080/",
          "height": 36
        },
        "id": "LkvVtOkJu4IK",
        "outputId": "4aada481-02ec-4672-e6d2-de50fddc6c72"
      },
      "execution_count": null,
      "outputs": [
        {
          "output_type": "execute_result",
          "data": {
            "text/plain": [
              "'/content'"
            ],
            "application/vnd.google.colaboratory.intrinsic+json": {
              "type": "string"
            }
          },
          "metadata": {},
          "execution_count": 1
        }
      ]
    },
    {
      "cell_type": "markdown",
      "source": [
        "# 1. Upload Local File for Read, Write, Import"
      ],
      "metadata": {
        "id": "uwhAEkqM27JD"
      }
    },
    {
      "cell_type": "code",
      "source": [
        "# upload a local file from your computer to colab\n",
        "from google.colab import files\n",
        "uploaded = files.upload()"
      ],
      "metadata": {
        "id": "9a36UGPyvPdo"
      },
      "execution_count": null,
      "outputs": []
    },
    {
      "cell_type": "code",
      "source": [
        "# display the file\n",
        "with open('futurevalue.py', 'r') as f:\n",
        "  content_string = f.read()\n",
        "\n",
        "print(content_string)"
      ],
      "metadata": {
        "id": "bYa9L2tw3BOD"
      },
      "execution_count": null,
      "outputs": []
    },
    {
      "cell_type": "code",
      "source": [
        "# import the file as a Python module in Colab\n",
        "import futurevalue\n",
        "\n",
        "futurevalue.main()\n",
        "futurevalue.compute_FutureVal(100, 0.001, 6)"
      ],
      "metadata": {
        "id": "p23UJuoB9VqA"
      },
      "execution_count": null,
      "outputs": []
    },
    {
      "cell_type": "code",
      "source": [
        "import futurevalue2\n",
        "\n",
        "futurevalue2.report(100)"
      ],
      "metadata": {
        "id": "GBT55FhEBJh5"
      },
      "execution_count": null,
      "outputs": []
    },
    {
      "cell_type": "markdown",
      "source": [
        "# 2. Import File from your Google Drive\n",
        "\n",
        "1. Mount Google Drive\n",
        "1. Add google drive directory to colab path\n",
        "1. Create a new folder in `Colab Notebooks` folder in Google Drive\n",
        "1. Upload your module (.py script file) to the folder\n",
        "\n",
        "```\n",
        "# mount Google Drive (G-Drive)\n",
        "from google.colab import drive\n",
        "drive.mount('/content/drive')\n",
        "# Go to your G-Drive. Find `Colab Notebook` folder. You may create a new folder there for your own Python moduels.\n",
        "# Then back to Colab, add the folder to Colab Path\n",
        "import os\n",
        "from pathlib import Path\n",
        "import sys\n",
        "sys.path.insert(0,'/content/drive/MyDrive/Colab Notebooks/my-modules')\n",
        "# Now, you can import any module from that folder in Python cells\n",
        "```\n"
      ],
      "metadata": {
        "id": "SQ5_bZLg2yjM"
      }
    },
    {
      "cell_type": "code",
      "source": [
        "# Mount: Accessing Google Drive from Google Colab\n",
        "from google.colab import drive\n",
        "drive.mount('/content/drive')"
      ],
      "metadata": {
        "id": "XBsAO2JOwZP_"
      },
      "execution_count": null,
      "outputs": []
    },
    {
      "cell_type": "code",
      "source": [
        "# This step is optional: create new folder in mounted drive\n",
        "import os\n",
        "from pathlib import Path\n",
        "# creating a new directory if not exists\n",
        "new_folder = \"/content/drive/MyDrive/Colab Notebooks/my-modules\"\n",
        "Path(new_folder).mkdir(parents=True, exist_ok=True)\n",
        "\n",
        "# verify that the new folder created\n",
        "print(os.path.exists(new_folder))"
      ],
      "metadata": {
        "id": "bNZVcj5C30uE"
      },
      "execution_count": null,
      "outputs": []
    },
    {
      "cell_type": "code",
      "source": [
        "# Now you can import a module from your Google Drive directory\n",
        "import _name_of_your_module_"
      ],
      "metadata": {
        "id": "v88i3zdwLAmb"
      },
      "execution_count": null,
      "outputs": []
    },
    {
      "cell_type": "code",
      "source": [
        "# add your google drive directory to colab path\n",
        "\n",
        "import sys\n",
        "sys.path.insert(0,'/content/drive/MyDrive/Colab Notebooks')\n",
        "sys.path.insert(0,'/content/drive/MyDrive/Colab Notebooks/my-modules')\n",
        "\n",
        "for p in sys.path:\n",
        "  print(p)"
      ],
      "metadata": {
        "colab": {
          "base_uri": "https://localhost:8080/"
        },
        "id": "fM15SiXs0UxH",
        "outputId": "91ee2f5d-74d7-4c44-87d3-f2874eff9aa2"
      },
      "execution_count": null,
      "outputs": [
        {
          "output_type": "stream",
          "name": "stdout",
          "text": [
            "/content/drive/MyDrive/Colab Notebooks/my-modules\n",
            "/content/drive/MyDrive/Colab Notebooks\n",
            "/content\n",
            "/env/python\n",
            "/usr/lib/python39.zip\n",
            "/usr/lib/python3.9\n",
            "/usr/lib/python3.9/lib-dynload\n",
            "\n",
            "/usr/local/lib/python3.9/dist-packages\n",
            "/usr/lib/python3/dist-packages\n",
            "/usr/local/lib/python3.9/dist-packages/IPython/extensions\n",
            "/root/.ipython\n"
          ]
        }
      ]
    },
    {
      "cell_type": "markdown",
      "source": [],
      "metadata": {
        "id": "rPNLwvnelqLw"
      }
    },
    {
      "cell_type": "markdown",
      "source": [
        "# 3. Downloading files from the web using Linux wget command\n",
        "\n",
        "Since Google Colab lets you do everything which you can in a locally hosted Jupyter Notebook, you can also use Linux shell command like ls, dir, pwd, cd etc using !.\n",
        "\n",
        "Among those available Linux commands, the wget allows you to download files using HTTP, HTTPS, and FTP protocols.\n",
        "\n",
        "In its simplest form, when used without any option, wget will download the resource specified in the URL to the current directory. "
      ],
      "metadata": {
        "id": "sw0xTB2XmD19"
      }
    },
    {
      "cell_type": "code",
      "source": [
        "# For instance, get data file by its URL to current colab working directory\n",
        "!wget https://raw.githubusercontent.com/remjw/data/master/py_programming_data/steps.txt"
      ],
      "metadata": {
        "id": "mowm1F5SkzSO",
        "outputId": "e7efacc6-17ae-4de0-fea7-a37b9988cc97",
        "colab": {
          "base_uri": "https://localhost:8080/"
        }
      },
      "execution_count": 4,
      "outputs": [
        {
          "output_type": "stream",
          "name": "stdout",
          "text": [
            "--2023-04-24 14:09:09--  https://raw.githubusercontent.com/remjw/data/master/py_programming_data/steps.txt\n",
            "Resolving raw.githubusercontent.com (raw.githubusercontent.com)... 185.199.108.133, 185.199.109.133, 185.199.110.133, ...\n",
            "Connecting to raw.githubusercontent.com (raw.githubusercontent.com)|185.199.108.133|:443... connected.\n",
            "HTTP request sent, awaiting response... 200 OK\n",
            "Length: 2181 (2.1K) [text/plain]\n",
            "Saving to: ‘steps.txt’\n",
            "\n",
            "\rsteps.txt             0%[                    ]       0  --.-KB/s               \rsteps.txt           100%[===================>]   2.13K  --.-KB/s    in 0s      \n",
            "\n",
            "2023-04-24 14:09:09 (21.6 MB/s) - ‘steps.txt’ saved [2181/2181]\n",
            "\n"
          ]
        }
      ]
    },
    {
      "cell_type": "code",
      "source": [
        "# Then access, import file by its name\n",
        "with open('steps.txt', 'r') as f:\n",
        "  lines = f.read()\n",
        "print(lines)"
      ],
      "metadata": {
        "id": "gaBAb_qFmd5w"
      },
      "execution_count": null,
      "outputs": []
    },
    {
      "cell_type": "markdown",
      "source": [
        "# 4. Import Data from Github\n",
        "\n",
        "Click on the data file in the Github repository, then click the “Raw” button. Copy the raw data link and pass it to the function that can take a URL. \n",
        "\n"
      ],
      "metadata": {
        "id": "kqs0V67xh7EK"
      }
    },
    {
      "cell_type": "code",
      "source": [
        "# For instance, pass a raw CSV URL to Pandas read_csv():\n",
        "import pandas as pd\n",
        "df = pd.read_csv('https://raw.githubusercontent.com/remjw/data/master/py_programming_data/steps.txt')\n",
        "print(df)"
      ],
      "metadata": {
        "id": "6Rf7zxIvh-LH",
        "outputId": "73385786-f4d0-490c-f3e0-5828baf201f2",
        "colab": {
          "base_uri": "https://localhost:8080/"
        }
      },
      "execution_count": 2,
      "outputs": [
        {
          "output_type": "stream",
          "name": "stdout",
          "text": [
            "      1102\n",
            "0     9236\n",
            "1    10643\n",
            "2     2376\n",
            "3     6815\n",
            "4    10394\n",
            "..     ...\n",
            "359   7927\n",
            "360   1703\n",
            "361   5034\n",
            "362   7042\n",
            "363   4292\n",
            "\n",
            "[364 rows x 1 columns]\n"
          ]
        }
      ]
    }
  ]
}