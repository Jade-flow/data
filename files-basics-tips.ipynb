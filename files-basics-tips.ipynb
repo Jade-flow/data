{
  "nbformat": 4,
  "nbformat_minor": 0,
  "metadata": {
    "colab": {
      "provenance": [],
      "authorship_tag": "ABX9TyNtpGQObHyE0XGlsJ+vC2Wg",
      "include_colab_link": true
    },
    "kernelspec": {
      "name": "python3",
      "display_name": "Python 3"
    },
    "language_info": {
      "name": "python"
    }
  },
  "cells": [
    {
      "cell_type": "markdown",
      "metadata": {
        "id": "view-in-github",
        "colab_type": "text"
      },
      "source": [
        "<a href=\"https://colab.research.google.com/github/remjw/data/blob/master/files-basics-tips.ipynb\" target=\"_parent\"><img src=\"https://colab.research.google.com/assets/colab-badge.svg\" alt=\"Open In Colab\"/></a>"
      ]
    },
    {
      "cell_type": "code",
      "source": [
        "# get scores.txt\n",
        "!wget https://raw.githubusercontent.com/remjw/data/master/py_programming_data/scores.txt"
      ],
      "metadata": {
        "id": "xkqcdJFBIbyj"
      },
      "execution_count": null,
      "outputs": []
    },
    {
      "cell_type": "code",
      "source": [
        "# way 1: Without using WITH statement & Walrus operator\n",
        "f = open('scores.txt', 'r')\n",
        "running_sum = 0\n",
        "\n",
        "value = f.readline()\n",
        "while value != '':\n",
        "  print(f'__read {value}')\n",
        "  running_sum += float(value)\n",
        "  value = f.readline()\n",
        "\n",
        "print(f'{running_sum:.5f}')\n",
        "f.close()\n"
      ],
      "metadata": {
        "colab": {
          "base_uri": "https://localhost:8080/"
        },
        "id": "AXAf1Z0QKIEZ",
        "outputId": "b701a7df-0eca-4df8-b2ae-d7fd1e73512d"
      },
      "execution_count": 16,
      "outputs": [
        {
          "output_type": "stream",
          "name": "stdout",
          "text": [
            "__read 80\n",
            "\n",
            "__read 78.9\n",
            "\n",
            "__read 88.5\n",
            "\n",
            "__read 92\n",
            "\n",
            "__read 67\n",
            "\n",
            "406.40000\n"
          ]
        }
      ]
    },
    {
      "cell_type": "markdown",
      "source": [
        "# Using WITH statement & Walrus operator"
      ],
      "metadata": {
        "id": "AXL8e8KgK72K"
      }
    },
    {
      "cell_type": "code",
      "execution_count": 13,
      "metadata": {
        "colab": {
          "base_uri": "https://localhost:8080/"
        },
        "id": "wuBiDSshAeel",
        "outputId": "e9f8a5a9-17f9-4ce3-a1e8-6fc9da2dd258"
      },
      "outputs": [
        {
          "output_type": "stream",
          "name": "stdout",
          "text": [
            "__read 80\n",
            "\n",
            "__read 78.9\n",
            "\n",
            "__read 88.5\n",
            "\n",
            "__read 92\n",
            "\n",
            "__read 67\n",
            "\n",
            "406.40000\n"
          ]
        }
      ],
      "source": [
        "# use with statement & walrus operator\n",
        "\n",
        "with open('scores.txt', 'r') as f:\n",
        "  running_sum = 0\n",
        "  while (value := f.readline()) != '':\n",
        "    print(f'__read {value}')\n",
        "    running_sum += float(value)\n",
        "  # end-while\n",
        "  print(f'{running_sum:.5f}')\n",
        "# end-with"
      ]
    },
    {
      "cell_type": "code",
      "source": [
        "# use with statement, walrus operator, String.strip\n",
        "\n",
        "with open('scores.txt', 'r') as f:\n",
        "  running_sum = 0\n",
        "  while (value := f.readline().strip()) != '':\n",
        "    print(f'__read {value}')\n",
        "    running_sum += float(value)\n",
        "  print(f'{running_sum:.5f}')"
      ],
      "metadata": {
        "colab": {
          "base_uri": "https://localhost:8080/"
        },
        "id": "BubXATH2JZaz",
        "outputId": "8014ab01-2ed2-49a1-d19f-0dc489f203ca"
      },
      "execution_count": 14,
      "outputs": [
        {
          "output_type": "stream",
          "name": "stdout",
          "text": [
            "__read 80\n",
            "__read 78.9\n",
            "__read 88.5\n",
            "__read 92\n",
            "__read 67\n",
            "406.40000\n"
          ]
        }
      ]
    },
    {
      "cell_type": "markdown",
      "source": [
        "# Read & Write in one WITH statement"
      ],
      "metadata": {
        "id": "7-QKuqaHLdtR"
      }
    },
    {
      "cell_type": "code",
      "source": [
        "with open('scores.txt', 'r') as infile, open('output.txt', 'w') as outfile:\n",
        "  running_sum = 0\n",
        "  while (value := infile.readline().strip()) != '':\n",
        "    print(f'__read {value}')\n",
        "    running_sum += float(value)\n",
        "  # end-while\n",
        "  print(f'{running_sum:.5f}')\n",
        "  # write\n",
        "  outfile.write(f'{running_sum:.5f}')\n"
      ],
      "metadata": {
        "colab": {
          "base_uri": "https://localhost:8080/"
        },
        "id": "GgFFT4PhLl2T",
        "outputId": "ebb6e8e7-126d-4e7b-8e20-f0c1361804c6"
      },
      "execution_count": 20,
      "outputs": [
        {
          "output_type": "stream",
          "name": "stdout",
          "text": [
            "__read 80\n",
            "__read 78.9\n",
            "__read 88.5\n",
            "__read 92\n",
            "__read 67\n",
            "406.40000\n"
          ]
        }
      ]
    },
    {
      "cell_type": "markdown",
      "source": [
        "# Keyboard Input & Write to File"
      ],
      "metadata": {
        "id": "_IQJ60g5O5eJ"
      }
    },
    {
      "cell_type": "code",
      "source": [
        "# Rewrite Ch6 write_sales.py\n",
        "\n",
        "# block 1: read days from keyboard\n",
        "while True:\n",
        "  try:\n",
        "    days = int(input(\"How many days? \"))\n",
        "    print(days)\n",
        "    break\n",
        "  except Exception as e:\n",
        "    print(f'{e.__class__.__name__}')\n",
        "\n",
        "# block 2 write from keyboard to file\n",
        "with open('output.txt', 'w') as outfile:\n",
        "  for day in range(days):\n",
        "    next = float(input(f\"Enter the sales for day {day}\"))\n",
        "    outfile.write(f'{next}\\n')\n",
        "\n",
        "# block 3 verify output\n",
        "with open('output.txt', 'r') as f:\n",
        "  print(f.read())"
      ],
      "metadata": {
        "colab": {
          "base_uri": "https://localhost:8080/"
        },
        "id": "sILw_MmMPCfj",
        "outputId": "a787ac4f-f851-4b38-d113-7647c20ab63b"
      },
      "execution_count": 4,
      "outputs": [
        {
          "output_type": "stream",
          "name": "stdout",
          "text": [
            "How many days? 2\n",
            "2\n",
            "Enter the sales for day 012.4\n",
            "Enter the sales for day 15.6\n",
            "12.4\n",
            "5.6\n",
            "\n"
          ]
        }
      ]
    }
  ]
}