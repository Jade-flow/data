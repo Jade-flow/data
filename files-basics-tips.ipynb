{
  "nbformat": 4,
  "nbformat_minor": 0,
  "metadata": {
    "colab": {
      "provenance": [],
      "include_colab_link": true
    },
    "kernelspec": {
      "name": "python3",
      "display_name": "Python 3"
    },
    "language_info": {
      "name": "python"
    }
  },
  "cells": [
    {
      "cell_type": "markdown",
      "metadata": {
        "id": "view-in-github",
        "colab_type": "text"
      },
      "source": [
        "<a href=\"https://colab.research.google.com/github/remjw/data/blob/master/files-basics-tips.ipynb\" target=\"_parent\"><img src=\"https://colab.research.google.com/assets/colab-badge.svg\" alt=\"Open In Colab\"/></a>"
      ]
    },
    {
      "cell_type": "code",
      "source": [
        "#@title\n",
        "from IPython.display import YouTubeVideo\n",
        "display(YouTubeVideo(\"8QE6GGFPbBk\"))"
      ],
      "metadata": {
        "id": "rScYEgPY1aI-",
        "outputId": "e2510f69-04dc-499a-bc11-1e90824e4269",
        "colab": {
          "base_uri": "https://localhost:8080/",
          "height": 322
        }
      },
      "execution_count": null,
      "outputs": [
        {
          "output_type": "display_data",
          "data": {
            "text/plain": [
              "<IPython.lib.display.YouTubeVideo at 0x7f1e8d494ee0>"
            ],
            "text/html": [
              "\n",
              "        <iframe\n",
              "            width=\"400\"\n",
              "            height=\"300\"\n",
              "            src=\"https://www.youtube.com/embed/Ypkew6UiiXI\"\n",
              "            frameborder=\"0\"\n",
              "            allowfullscreen\n",
              "            \n",
              "        ></iframe>\n",
              "        "
            ],
            "image/jpeg": "[encoded data removed]"
          },
          "metadata": {}
        }
      ]
    },
    {
      "cell_type": "markdown",
      "source": [
        "# 1. Unknown Number of Lines? First-try \n",
        "\n"
      ],
      "metadata": {
        "id": "hoPg0k28UBnA"
      }
    },
    {
      "cell_type": "code",
      "source": [
        "# get scores.txt\n",
        "!wget https://raw.githubusercontent.com/remjw/data/master/py_programming_data/scores.txt"
      ],
      "metadata": {
        "id": "xkqcdJFBIbyj"
      },
      "execution_count": null,
      "outputs": []
    },
    {
      "cell_type": "code",
      "source": [
        "# way 1: Without using WITH statement & Walrus operator\n",
        "f = open('scores.txt', 'r')\n",
        "running_sum = 0\n",
        "\n",
        "value = f.readline()\n",
        "while value != '':\n",
        "  print(f'__read {value}')\n",
        "  running_sum += float(value)\n",
        "  value = f.readline()\n",
        "\n",
        "print(f'{running_sum:.5f}')\n",
        "f.close()\n"
      ],
      "metadata": {
        "colab": {
          "base_uri": "https://localhost:8080/"
        },
        "id": "AXAf1Z0QKIEZ",
        "outputId": "b701a7df-0eca-4df8-b2ae-d7fd1e73512d"
      },
      "execution_count": null,
      "outputs": [
        {
          "output_type": "stream",
          "name": "stdout",
          "text": [
            "__read 80\n",
            "\n",
            "__read 78.9\n",
            "\n",
            "__read 88.5\n",
            "\n",
            "__read 92\n",
            "\n",
            "__read 67\n",
            "\n",
            "406.40000\n"
          ]
        }
      ]
    },
    {
      "cell_type": "markdown",
      "source": [
        "# 2. Using WITH statement & Walrus operator"
      ],
      "metadata": {
        "id": "AXL8e8KgK72K"
      }
    },
    {
      "cell_type": "code",
      "execution_count": null,
      "metadata": {
        "colab": {
          "base_uri": "https://localhost:8080/"
        },
        "id": "wuBiDSshAeel",
        "outputId": "e9f8a5a9-17f9-4ce3-a1e8-6fc9da2dd258"
      },
      "outputs": [
        {
          "output_type": "stream",
          "name": "stdout",
          "text": [
            "__read 80\n",
            "\n",
            "__read 78.9\n",
            "\n",
            "__read 88.5\n",
            "\n",
            "__read 92\n",
            "\n",
            "__read 67\n",
            "\n",
            "406.40000\n"
          ]
        }
      ],
      "source": [
        "# use with statement & walrus operator\n",
        "\n",
        "with open('scores.txt', 'r') as f:\n",
        "  running_sum = 0\n",
        "  while (value := f.readline()) != '':\n",
        "    print(f'__read {value}')\n",
        "    running_sum += float(value)\n",
        "  # end-while\n",
        "  print(f'{running_sum:.5f}')\n",
        "# end-with"
      ]
    },
    {
      "cell_type": "code",
      "source": [
        "# use with statement, walrus operator, String.strip\n",
        "\n",
        "with open('scores.txt', 'r') as f:\n",
        "  running_sum = 0\n",
        "  while (value := f.readline().strip()) != '':\n",
        "    print(f'__read {value}')\n",
        "    running_sum += float(value)\n",
        "  print(f'{running_sum:.5f}')"
      ],
      "metadata": {
        "colab": {
          "base_uri": "https://localhost:8080/"
        },
        "id": "BubXATH2JZaz",
        "outputId": "8014ab01-2ed2-49a1-d19f-0dc489f203ca"
      },
      "execution_count": null,
      "outputs": [
        {
          "output_type": "stream",
          "name": "stdout",
          "text": [
            "__read 80\n",
            "__read 78.9\n",
            "__read 88.5\n",
            "__read 92\n",
            "__read 67\n",
            "406.40000\n"
          ]
        }
      ]
    },
    {
      "cell_type": "markdown",
      "source": [
        "# 3. Read & Write in one WITH statement"
      ],
      "metadata": {
        "id": "7-QKuqaHLdtR"
      }
    },
    {
      "cell_type": "code",
      "source": [
        "with open('scores.txt', 'r') as infile, open('output.txt', 'w') as outfile:\n",
        "  running_sum = 0\n",
        "  while (value := infile.readline().strip()) != '':\n",
        "    print(f'__read {value}')\n",
        "    running_sum += float(value)\n",
        "  # end-while\n",
        "  print(f'{running_sum:.5f}')\n",
        "  # write\n",
        "  outfile.write(f'{running_sum:.5f}')\n"
      ],
      "metadata": {
        "colab": {
          "base_uri": "https://localhost:8080/"
        },
        "id": "GgFFT4PhLl2T",
        "outputId": "ebb6e8e7-126d-4e7b-8e20-f0c1361804c6"
      },
      "execution_count": null,
      "outputs": [
        {
          "output_type": "stream",
          "name": "stdout",
          "text": [
            "__read 80\n",
            "__read 78.9\n",
            "__read 88.5\n",
            "__read 92\n",
            "__read 67\n",
            "406.40000\n"
          ]
        }
      ]
    },
    {
      "cell_type": "markdown",
      "source": [
        "# 4. Revel **Copy from File A to File B**\n",
        "\n",
        "A file named data1.txt contains an unknown number of lines, each consisting of a single integer. Write some code that creates a file named data2.txt and copies all the lines of data1.txt to data2.txt."
      ],
      "metadata": {
        "id": "QiS9b28bfUpA"
      }
    },
    {
      "cell_type": "code",
      "source": [
        "# create data1.txt\n",
        "with open('data1.txt', 'w') as f:\n",
        "  for i in range(9):\n",
        "    f.write(f'{i}\\n')"
      ],
      "metadata": {
        "id": "-F2w53l3hPXW"
      },
      "execution_count": null,
      "outputs": []
    },
    {
      "cell_type": "code",
      "source": [
        "# Do:\n",
        "fa, fb = 'data1.txt', 'data2.txt'\n",
        "with open(fa, 'r') as infile, open(fb, 'w') as outfile:\n",
        "  while ( line := infile.readline() ) != '':\n",
        "    outfile.write(f'{line}')"
      ],
      "metadata": {
        "id": "JhoBgRWgffWm"
      },
      "execution_count": null,
      "outputs": []
    },
    {
      "cell_type": "code",
      "source": [
        "# alternative\n",
        "\n",
        "fa, fb = 'data1.txt', 'data2.txt'\n",
        "with open(fa, 'r') as infile, open(fb, 'w') as outfile:\n",
        "    outfile.write(infile.read())"
      ],
      "metadata": {
        "id": "bztW8dbWjbyQ"
      },
      "execution_count": null,
      "outputs": []
    },
    {
      "cell_type": "markdown",
      "source": [
        "# 5. Revel **categorize numbers**\n",
        "\n",
        "A file named `data.txt` contains an unknown number of lines, each consisting of a single integer.\n",
        "\n",
        "Write a program that creates the following three files:\n",
        "- dataplus.txt\n",
        "- dataminus.txt\n",
        "- zeros.txt\n",
        "\n",
        "The program should read each line of the `data.txt` file and perform the following:\n",
        "\n",
        "1. If the line contains a positive number, that number should be written to the `dataplus.txt` file.\n",
        "2. If the line contains a negative number, that number should be written to the `dataminus.txt` file.\n",
        "3. If the line contains the value 0, do not write the value to a file. Instead, keep a count of the number of times 0 is read from the `data.txt` file.\n",
        "4. After all the lines have been read from the data.txt file, the program should write the `count of zeros to the zeros.txt` file."
      ],
      "metadata": {
        "id": "JlfREbr4lwdc"
      }
    },
    {
      "cell_type": "code",
      "source": [
        "# create a sample for data.txt\n",
        "import random\n",
        "numbers = [2,3,0,-2,-3,0,0] #random.sample(range(-10, 11), k=20)\n",
        "\n",
        "with open('data.txt', 'w') as f:\n",
        "  for x in numbers:\n",
        "    f.write(f'{x}\\n')"
      ],
      "metadata": {
        "id": "1qNJAUAWpji6"
      },
      "execution_count": null,
      "outputs": []
    },
    {
      "cell_type": "code",
      "source": [
        "f, fplus, fminus, fzero = \"data.txt\", \"dataplus.txt\", \"dataminus.txt\", \"zeros.txt\"\n",
        "\n",
        "with open(f, 'r') as f0, open(fplus, 'w') as f1, open(fminus, 'w') as f2, open(fzero, 'w') as f3:\n",
        "  zeros = 0\n",
        "  while ( line := f0.readline() ) != '':\n",
        "    x = int(line) \n",
        "    if x == 0:\n",
        "      zeros += 1\n",
        "    elif x > 0: \n",
        "      f1.write(f'{x}\\n')\n",
        "    else: \n",
        "      f2.write(f'{x}\\n')\n",
        "  # end-while\n",
        "  f3.write(f'{zeros}')\n",
        "\n"
      ],
      "metadata": {
        "id": "iZlReBN4myJW"
      },
      "execution_count": null,
      "outputs": []
    },
    {
      "cell_type": "markdown",
      "source": [
        "# 4. Keyboard Input & Write to File"
      ],
      "metadata": {
        "id": "_IQJ60g5O5eJ"
      }
    },
    {
      "cell_type": "code",
      "source": [
        "# Rewrite Ch6 write_sales.py\n",
        "\n",
        "# block 1: read days from keyboard\n",
        "while True:\n",
        "  try:\n",
        "    days = int(input(\"How many days? \"))\n",
        "    print(days)\n",
        "    break\n",
        "  except Exception as e:\n",
        "    print(f'{e.__class__.__name__}')\n",
        "\n",
        "# block 2 data entry: write from keyboard to file\n",
        "with open('output.txt', 'w') as outfile:\n",
        "  for day in range(days):\n",
        "    next = float(input(f\"Enter the sales for day {day}\"))\n",
        "    outfile.write(f'{next}\\n')\n",
        "\n",
        "# block 3 verify output\n",
        "with open('output.txt', 'r') as f:\n",
        "  print(f.read())"
      ],
      "metadata": {
        "colab": {
          "base_uri": "https://localhost:8080/"
        },
        "id": "sILw_MmMPCfj",
        "outputId": "a787ac4f-f851-4b38-d113-7647c20ab63b"
      },
      "execution_count": null,
      "outputs": [
        {
          "output_type": "stream",
          "name": "stdout",
          "text": [
            "How many days? 2\n",
            "2\n",
            "Enter the sales for day 012.4\n",
            "Enter the sales for day 15.6\n",
            "12.4\n",
            "5.6\n",
            "\n"
          ]
        }
      ]
    },
    {
      "cell_type": "markdown",
      "source": [
        "# ( 5. Modularize? )\n"
      ],
      "metadata": {
        "id": "gLV4KYnzUOW5"
      }
    },
    {
      "cell_type": "code",
      "source": [
        "def repeat_until(do=input, prompt=\"Enter a number: \", convert=int):\n",
        "  while True:\n",
        "    try:\n",
        "      return convert(do(prompt))\n",
        "    except KeyboardInterrupt:\n",
        "      # In colab: press STOP button to the left of cell.\n",
        "      print(\"CTRL-C was pressed. Quit now...\")\n",
        "      return None\n",
        "    except Exception as e:\n",
        "      print(f'{e.__class__.__name__}')\n",
        "\n",
        "# test fun\n",
        "#repeat_until(prompt=\"How many days? \")\n",
        "\n",
        "# test fun\n",
        "repeat_until(prompt=\"Enter the sales for day \", convert=float)\n"
      ],
      "metadata": {
        "id": "AkpM80sOUNTv",
        "outputId": "416e33b6-8858-4ceb-f657-51bf6d8085d7",
        "colab": {
          "base_uri": "https://localhost:8080/"
        }
      },
      "execution_count": null,
      "outputs": [
        {
          "name": "stdout",
          "output_type": "stream",
          "text": [
            "Enter the sales for day \n",
            "ValueError\n",
            "Enter the sales for day a\n",
            "ValueError\n",
            "Enter the sales for day 12.3\n"
          ]
        },
        {
          "output_type": "execute_result",
          "data": {
            "text/plain": [
              "12.3"
            ]
          },
          "metadata": {},
          "execution_count": 6
        }
      ]
    },
    {
      "cell_type": "code",
      "source": [
        "# block 1\n",
        "days = repeat_until(prompt=\"How many days? \")\n",
        "# block 2\n",
        "with open('output.txt', 'w') as outfile:\n",
        "  for day in range(days):\n",
        "    next = repeat_until(prompt=f'Enter the sales for day {day} ', convert=float)\n",
        "    outfile.write(f'{next}\\n')\n",
        "# block 3\n",
        "with open('output.txt', 'r') as f:\n",
        "  print(f.read())"
      ],
      "metadata": {
        "id": "1V8mhhMRYcJS",
        "outputId": "5d39b679-8276-420a-9e2a-0734ea126ecc",
        "colab": {
          "base_uri": "https://localhost:8080/"
        }
      },
      "execution_count": null,
      "outputs": [
        {
          "output_type": "stream",
          "name": "stdout",
          "text": [
            "How many days? 1\n",
            "Enter the sales for day 0 34\n",
            "34.0\n",
            "\n"
          ]
        }
      ]
    }
  ]
}