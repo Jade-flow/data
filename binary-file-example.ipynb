{
  "nbformat": 4,
  "nbformat_minor": 0,
  "metadata": {
    "colab": {
      "provenance": [],
      "authorship_tag": "ABX9TyNT9yaJUEytp0FNCo/K0Wsl",
      "include_colab_link": true
    },
    "kernelspec": {
      "name": "python3",
      "display_name": "Python 3"
    },
    "language_info": {
      "name": "python"
    }
  },
  "cells": [
    {
      "cell_type": "markdown",
      "metadata": {
        "id": "view-in-github",
        "colab_type": "text"
      },
      "source": [
        "<a href=\"https://colab.research.google.com/github/remjw/data/blob/master/binary-file-example.ipynb\" target=\"_parent\"><img src=\"https://colab.research.google.com/assets/colab-badge.svg\" alt=\"Open In Colab\"/></a>"
      ]
    },
    {
      "cell_type": "code",
      "source": [
        "# txt file by readable characters\n",
        "data = [15, 24, 255]\n",
        "\n",
        "with open('data.txt', 'w') as f:\n",
        "  f.write(str(data))\n",
        "\n",
        "with open('data.txt', 'r') as f:\n",
        "  print(f.read())"
      ],
      "metadata": {
        "id": "Dfl-WGS9j6hz",
        "outputId": "b7ff7ad4-28ce-48cf-d2d9-3faf86311613",
        "colab": {
          "base_uri": "https://localhost:8080/"
        }
      },
      "execution_count": 11,
      "outputs": [
        {
          "output_type": "stream",
          "name": "stdout",
          "text": [
            "[15, 24, 255]\n"
          ]
        }
      ]
    },
    {
      "cell_type": "code",
      "execution_count": 12,
      "metadata": {
        "id": "pIz6cUO9jOq0",
        "outputId": "007ccf3b-9a5c-4f38-bb6d-bc11c7589511",
        "colab": {
          "base_uri": "https://localhost:8080/"
        }
      },
      "outputs": [
        {
          "output_type": "stream",
          "name": "stdout",
          "text": [
            "b'\\x0f\\x18\\xff'\n",
            "<class 'bytes'> b'\\x0f\\x18\\xff'\n"
          ]
        }
      ],
      "source": [
        "# https://www.futurelearn.com/info/courses/programming-103-data/\n",
        "\n",
        "data = [15, 24, 255]\n",
        "\n",
        "# convert to binary\n",
        "buffer = bytes(data)\n",
        "print(buffer)\n",
        "\n",
        "# binary write\n",
        "with open(\"binary.txt\", \"bw\") as f:\n",
        "  f.write(buffer)\n",
        "# read binary\n",
        "with open('binary.txt', 'rb') as f:\n",
        "  content = f.read()\n",
        "\n",
        "print(type(content), content)\n"
      ]
    },
    {
      "cell_type": "markdown",
      "source": [
        "* base-2 (binary) 0 - 1\n",
        "\n",
        "* base-10 (decimal) 0 - 9\n",
        "\n",
        "* base-16 (hexadecimal): 0 - 9, a - f to denote 10-15\n",
        "\n",
        "\\x0f = $15\\times16^0$ = 15\n",
        "\n",
        "\\x18 = $1\\times16^1 + 8\\times16^0$ = 24\n",
        "\n",
        "\\xff = $15\\times16^1 + 15\\times16^0$ = 255"
      ],
      "metadata": {
        "id": "dMS0hXxqmQv4"
      }
    }
  ]
}