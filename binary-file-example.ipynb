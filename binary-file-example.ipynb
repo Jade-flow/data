{
  "nbformat": 4,
  "nbformat_minor": 0,
  "metadata": {
    "colab": {
      "provenance": [],
      "authorship_tag": "ABX9TyNGcMIPcEjonEoMNo2AIXSt",
      "include_colab_link": true
    },
    "kernelspec": {
      "name": "python3",
      "display_name": "Python 3"
    },
    "language_info": {
      "name": "python"
    }
  },
  "cells": [
    {
      "cell_type": "markdown",
      "metadata": {
        "id": "view-in-github",
        "colab_type": "text"
      },
      "source": [
        "<a href=\"https://colab.research.google.com/github/remjw/data/blob/master/binary-file-example.ipynb\" target=\"_parent\"><img src=\"https://colab.research.google.com/assets/colab-badge.svg\" alt=\"Open In Colab\"/></a>"
      ]
    },
    {
      "cell_type": "markdown",
      "source": [
        "# Text File versus Binary File"
      ],
      "metadata": {
        "id": "VQuyXP9jod8G"
      }
    },
    {
      "cell_type": "markdown",
      "source": [
        "## Numerical Values"
      ],
      "metadata": {
        "id": "8SUY__yMx3C1"
      }
    },
    {
      "cell_type": "code",
      "source": [
        "# a txt file holds readable characters encoded in ascii or unicode\n",
        "data = [15, 24, 255]\n",
        "\n",
        "with open('data.txt', 'w') as f:\n",
        "  f.write(str(data))\n",
        "\n",
        "with open('data.txt', 'r') as f:\n",
        "  print(f.read())"
      ],
      "metadata": {
        "colab": {
          "base_uri": "https://localhost:8080/"
        },
        "id": "Dfl-WGS9j6hz",
        "outputId": "b7ff7ad4-28ce-48cf-d2d9-3faf86311613"
      },
      "execution_count": null,
      "outputs": [
        {
          "output_type": "stream",
          "name": "stdout",
          "text": [
            "[15, 24, 255]\n"
          ]
        }
      ]
    },
    {
      "cell_type": "code",
      "execution_count": null,
      "metadata": {
        "id": "pIz6cUO9jOq0",
        "colab": {
          "base_uri": "https://localhost:8080/"
        },
        "outputId": "007ccf3b-9a5c-4f38-bb6d-bc11c7589511"
      },
      "outputs": [
        {
          "output_type": "stream",
          "name": "stdout",
          "text": [
            "b'\\x0f\\x18\\xff'\n",
            "<class 'bytes'> b'\\x0f\\x18\\xff'\n"
          ]
        }
      ],
      "source": [
        "# a binary file stores content in bytes (8 binary bits / 2 hexadecimal bits)\n",
        "\n",
        "data = [15, 24, 255]\n",
        "\n",
        "# convert to bytes\n",
        "buffer = bytes(data)\n",
        "print(buffer)\n",
        "\n",
        "# binary write\n",
        "with open(\"binary.txt\", \"bw\") as f:\n",
        "  f.write(buffer)\n",
        "\n",
        "# read binary\n",
        "with open('binary.txt', 'rb') as f:\n",
        "  content = f.read()\n",
        "\n",
        "print(type(content), content)"
      ]
    },
    {
      "cell_type": "markdown",
      "source": [
        "## Number Bases\n",
        "\n",
        "* base-2 (binary) 0 - 1\n",
        "\n",
        "* base-10 (decimal) 0 - 9\n",
        "\n",
        "* base-16 (hexadecimal): 0 - 9, a - f to denote 10-15\n",
        "\n",
        "\\x0f = $15\\times16^0$ = 15\n",
        "\n",
        "\\x18 = $1\\times16^1 + 8\\times16^0$ = 24\n",
        "\n",
        "\\xff = $15\\times16^1 + 15\\times16^0$ = 255"
      ],
      "metadata": {
        "id": "dMS0hXxqmQv4"
      }
    },
    {
      "cell_type": "markdown",
      "source": [
        "## bytes to hex to decimal"
      ],
      "metadata": {
        "id": "RuDNz7TcwChl"
      }
    },
    {
      "cell_type": "code",
      "source": [
        "to_hex = b'\\x0f'.hex()\n",
        "print(to_hex)\n",
        "\n",
        "to_decimal = int(b'\\x0f'.hex(), 16)\n",
        "print(to_decimal)\n"
      ],
      "metadata": {
        "colab": {
          "base_uri": "https://localhost:8080/"
        },
        "id": "Epp6PtuTu-mq",
        "outputId": "01d80bb2-d3f3-43cb-9847-56e0bd3debf9"
      },
      "execution_count": 31,
      "outputs": [
        {
          "output_type": "stream",
          "name": "stdout",
          "text": [
            "0f\n",
            "15\n"
          ]
        }
      ]
    },
    {
      "cell_type": "markdown",
      "source": [
        "# Characters"
      ],
      "metadata": {
        "id": "QF1vNgdRxT9N"
      }
    },
    {
      "cell_type": "code",
      "source": [
        "# char to ascii\n",
        "ord('a'), ord('A'), ord('\\n'), ord(' ')"
      ],
      "metadata": {
        "id": "vc4fNGzSy1gD",
        "outputId": "d666d430-b4b0-424a-f3d4-a185207cb791",
        "colab": {
          "base_uri": "https://localhost:8080/"
        }
      },
      "execution_count": 39,
      "outputs": [
        {
          "output_type": "execute_result",
          "data": {
            "text/plain": [
              "(97, 65, 10, 32)"
            ]
          },
          "metadata": {},
          "execution_count": 39
        }
      ]
    },
    {
      "cell_type": "code",
      "source": [
        "# ascii to char\n",
        "chr(97), chr(65), chr(10), chr(32)"
      ],
      "metadata": {
        "id": "CVhvTynM6nTB",
        "outputId": "9791ed64-26f7-4d34-9575-4e3db5945ab0",
        "colab": {
          "base_uri": "https://localhost:8080/"
        }
      },
      "execution_count": 71,
      "outputs": [
        {
          "output_type": "execute_result",
          "data": {
            "text/plain": [
              "('a', 'A', '\\n', ' ')"
            ]
          },
          "metadata": {},
          "execution_count": 71
        }
      ]
    },
    {
      "cell_type": "code",
      "source": [
        "# ascii in byte\n",
        "bin(ord('a')), bin(ord('A')), bin(ord('\\n')), bin(ord(' '))"
      ],
      "metadata": {
        "id": "s92ohGLG58cR",
        "outputId": "cb7cb6b3-93bb-4aff-fc93-973939609d6c",
        "colab": {
          "base_uri": "https://localhost:8080/"
        }
      },
      "execution_count": 68,
      "outputs": [
        {
          "output_type": "execute_result",
          "data": {
            "text/plain": [
              "('0b1100001', '0b1000001', '0b1010', '0b100000')"
            ]
          },
          "metadata": {},
          "execution_count": 68
        }
      ]
    },
    {
      "cell_type": "code",
      "source": [
        "# convert byte to a string of 0s and 1s\n",
        "bin(ord('a'))[2:].zfill(8)"
      ],
      "metadata": {
        "id": "wDx7NKnR6S-P",
        "outputId": "e670b46a-eec4-45e5-951b-e7427a7e7b12",
        "colab": {
          "base_uri": "https://localhost:8080/",
          "height": 37
        }
      },
      "execution_count": 69,
      "outputs": [
        {
          "output_type": "execute_result",
          "data": {
            "text/plain": [
              "'01100001'"
            ],
            "application/vnd.google.colaboratory.intrinsic+json": {
              "type": "string"
            }
          },
          "metadata": {},
          "execution_count": 69
        }
      ]
    },
    {
      "cell_type": "code",
      "source": [
        "#  chars to byte string\n",
        "def chars_to_binary(chars):\n",
        "  return ''.join([ bin(ord(c))[2:].zfill(8) for c in chars])\n",
        "\n",
        "# Take a string of 1s and 0s as ascii codes. \n",
        "# Decode to chars\n",
        "def binary_to_chars(bits):\n",
        "  # recursion\n",
        "  if len(bits) % 8 != 0 : \n",
        "    return None\n",
        "  elif len(bits) == 8:\n",
        "    return chr(int(bits, 2))\n",
        "  else:\n",
        "    first_char = binary_to_chars(bits[0:8])\n",
        "    rest = binary_to_chars(bits[8:])\n",
        "    return ''.join([first_char, rest])"
      ],
      "metadata": {
        "id": "Mg1ArFIuxYy-"
      },
      "execution_count": 73,
      "outputs": []
    },
    {
      "cell_type": "code",
      "source": [
        "# Test run \n",
        "\n",
        "raw = \"abc\"\n",
        "# to bytes\n",
        "binary_string = chars_to_binary(raw)\n",
        "print(type(binary_string), binary_string)\n",
        "\n",
        "# write\n",
        "with open(\"binary.txt\", \"w\") as f:\n",
        "  f.write(binary_string)\n",
        "\n",
        "# read\n",
        "with open('binary.txt', 'r') as f:\n",
        "  content = f.read()\n",
        "\n",
        "print(type(content), content)\n",
        "\n",
        "binary_to_chars(content)"
      ],
      "metadata": {
        "id": "BQsdhQlj5mq9",
        "outputId": "6a6e4952-9d32-4df4-f74f-da1983c56a5a",
        "colab": {
          "base_uri": "https://localhost:8080/",
          "height": 71
        }
      },
      "execution_count": 72,
      "outputs": [
        {
          "output_type": "stream",
          "name": "stdout",
          "text": [
            "<class 'str'> 011000010110001001100011\n",
            "<class 'str'> 011000010110001001100011\n"
          ]
        },
        {
          "output_type": "execute_result",
          "data": {
            "text/plain": [
              "'abc'"
            ],
            "application/vnd.google.colaboratory.intrinsic+json": {
              "type": "string"
            }
          },
          "metadata": {},
          "execution_count": 72
        }
      ]
    }
  ]
}