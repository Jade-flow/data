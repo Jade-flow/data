{
  "nbformat": 4,
  "nbformat_minor": 0,
  "metadata": {
    "colab": {
      "provenance": [],
      "authorship_tag": "ABX9TyNzkqYTqjsV0D6MuX1ieGps",
      "include_colab_link": true
    },
    "kernelspec": {
      "name": "python3",
      "display_name": "Python 3"
    },
    "language_info": {
      "name": "python"
    }
  },
  "cells": [
    {
      "cell_type": "markdown",
      "metadata": {
        "id": "view-in-github",
        "colab_type": "text"
      },
      "source": [
        "<a href=\"https://colab.research.google.com/github/remjw/data/blob/master/py_programming_data/generate-random-ints.ipynb\" target=\"_parent\"><img src=\"https://colab.research.google.com/assets/colab-badge.svg\" alt=\"Open In Colab\"/></a>"
      ]
    },
    {
      "cell_type": "code",
      "execution_count": 3,
      "metadata": {
        "id": "ytAZ-N6Z8jwe"
      },
      "outputs": [],
      "source": [
        "import random, numpy as np\n",
        "\n",
        "x = [random.randint(-100, 0) for _ in range(40)]\n",
        "x.extend([random.randint(-0, 100) for _ in range(40)])\n",
        "x.extend([0] * 20)\n",
        "\n",
        "ind = list(range(0,100))\n",
        "np.random.shuffle(ind)\n",
        "x = [ x[i] for i in ind]\n",
        "\n",
        "with open('numbers.txt', 'w') as f:\n",
        "  for v in x:\n",
        "    f.write(f'{v}\\n')"
      ]
    },
    {
      "cell_type": "code",
      "source": [
        "with open('numbers.txt', 'r') as f:\n",
        "  print(f.read())\n",
        "  "
      ],
      "metadata": {
        "colab": {
          "base_uri": "https://localhost:8080/"
        },
        "id": "X-zSCNmW8mZT",
        "outputId": "bdc84594-1328-4de9-a2ae-b5e4d28e94c8"
      },
      "execution_count": 4,
      "outputs": [
        {
          "output_type": "stream",
          "name": "stdout",
          "text": [
            "-32\n",
            "54\n",
            "0\n",
            "54\n",
            "3\n",
            "-96\n",
            "1\n",
            "0\n",
            "-88\n",
            "59\n",
            "-43\n",
            "48\n",
            "-98\n",
            "29\n",
            "0\n",
            "72\n",
            "-88\n",
            "-69\n",
            "8\n",
            "-13\n",
            "-61\n",
            "17\n",
            "31\n",
            "43\n",
            "84\n",
            "65\n",
            "-29\n",
            "0\n",
            "-22\n",
            "0\n",
            "65\n",
            "0\n",
            "82\n",
            "43\n",
            "-88\n",
            "43\n",
            "56\n",
            "-1\n",
            "15\n",
            "29\n",
            "10\n",
            "-83\n",
            "0\n",
            "58\n",
            "0\n",
            "-46\n",
            "0\n",
            "-9\n",
            "19\n",
            "99\n",
            "0\n",
            "-25\n",
            "30\n",
            "-14\n",
            "-53\n",
            "0\n",
            "53\n",
            "0\n",
            "-79\n",
            "15\n",
            "0\n",
            "43\n",
            "-29\n",
            "-28\n",
            "0\n",
            "28\n",
            "33\n",
            "0\n",
            "-88\n",
            "-79\n",
            "-63\n",
            "-2\n",
            "-77\n",
            "98\n",
            "77\n",
            "54\n",
            "-29\n",
            "-5\n",
            "-43\n",
            "68\n",
            "-65\n",
            "-16\n",
            "70\n",
            "0\n",
            "93\n",
            "0\n",
            "10\n",
            "0\n",
            "-81\n",
            "-98\n",
            "-21\n",
            "83\n",
            "0\n",
            "-2\n",
            "-63\n",
            "-52\n",
            "-80\n",
            "43\n",
            "-45\n",
            "0\n",
            "\n"
          ]
        }
      ]
    }
  ]
}