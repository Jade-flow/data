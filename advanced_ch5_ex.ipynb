{
  "nbformat": 4,
  "nbformat_minor": 0,
  "metadata": {
    "colab": {
      "provenance": [],
      "authorship_tag": "ABX9TyO0uzc7+y4tRKnsRbH8/Lxw",
      "include_colab_link": true
    },
    "kernelspec": {
      "name": "python3",
      "display_name": "Python 3"
    },
    "language_info": {
      "name": "python"
    }
  },
  "cells": [
    {
      "cell_type": "markdown",
      "metadata": {
        "id": "view-in-github",
        "colab_type": "text"
      },
      "source": [
        "<a href=\"https://colab.research.google.com/github/remjw/data/blob/master/advanced_ch5_ex.ipynb\" target=\"_parent\"><img src=\"https://colab.research.google.com/assets/colab-badge.svg\" alt=\"Open In Colab\"/></a>"
      ]
    },
    {
      "cell_type": "markdown",
      "source": [
        "5.3 Given a list of heights in inches, the code maps the list to a list of tuples containing original height values and their corresponding values in meters. There are 0.0254 meters per inch. For example,  the height 69 inches in the given list should be mapped to a tuple (69, 1.7526) in the new list. "
      ],
      "metadata": {
        "id": "WO2_hYSzvHe4"
      }
    },
    {
      "cell_type": "code",
      "execution_count": null,
      "metadata": {
        "colab": {
          "base_uri": "https://localhost:8080/"
        },
        "id": "ExLbMJHIup6Z",
        "outputId": "7154e8cb-06d2-4c9e-e85d-e4a27e0bc456"
      },
      "outputs": [
        {
          "output_type": "execute_result",
          "data": {
            "text/plain": [
              "[(69, 1.7526), (77, 1.9558), (54, 1.3716)]"
            ]
          },
          "metadata": {},
          "execution_count": 6
        }
      ],
      "source": [
        "# 1. using list comprehension\n",
        "[ (x, x * 0.0254) for x in [69, 77, 54] ]"
      ]
    },
    {
      "cell_type": "code",
      "source": [
        "# 2. using map function \n",
        "list( map(lambda x: (x, x * 0.0254), [69, 77, 54]) ) "
      ],
      "metadata": {
        "colab": {
          "base_uri": "https://localhost:8080/"
        },
        "id": "SZ0w8W0-v_pA",
        "outputId": "2fdb479d-345e-4b6a-bc72-2307446ebae7"
      },
      "execution_count": null,
      "outputs": [
        {
          "output_type": "execute_result",
          "data": {
            "text/plain": [
              "[(69, 1.7526), (77, 1.9558), (54, 1.3716)]"
            ]
          },
          "metadata": {},
          "execution_count": 9
        }
      ]
    },
    {
      "cell_type": "markdown",
      "source": [
        "5.4 Create a 2-by-3 list, then use a nested loop to:\n",
        "\n",
        "- Set each element's value to an integer indicating the order in which it was processed by the nested loop.\n",
        "\n",
        "- Display the elements in tabular format. Use column indexes as headings across the top, and the row indices to the left of each row."
      ],
      "metadata": {
        "id": "vyNwNHVNxArZ"
      }
    },
    {
      "cell_type": "code",
      "source": [
        "N_row, N_col = 2, 3\n",
        "X = [[0 for i in range(N_col)] for j in range(N_row)]\n",
        "\n",
        "order = 0\n",
        "for i in range(N_row):\n",
        "  for j in range(N_col):\n",
        "    order += 1\n",
        "    X[i][j] = order\n",
        "\n",
        "# display\n",
        "for j in range(N_col):\n",
        "  print(f'\\t[{j}]', end='') \n",
        "\n",
        "for i in range(N_row):\n",
        "  print()\n",
        "  print(f'[{i}]', end='')\n",
        "  for j in range(N_col):\n",
        "    print(f'\\t {X[i][j]}', end='') \n"
      ],
      "metadata": {
        "id": "sxDnRHdZxaz2",
        "outputId": "f1947cf9-3b6f-4a5e-d38d-e383a59418d1",
        "colab": {
          "base_uri": "https://localhost:8080/"
        }
      },
      "execution_count": null,
      "outputs": [
        {
          "output_type": "stream",
          "name": "stdout",
          "text": [
            "\t[0]\t[1]\t[2]\n",
            "[0]\t 1\t 2\t 3\n",
            "[1]\t 4\t 5\t 6"
          ]
        }
      ]
    },
    {
      "cell_type": "markdown",
      "source": [
        "### 5.5 Slicing"
      ],
      "metadata": {
        "id": "Xcu1i5FG5_02"
      }
    },
    {
      "cell_type": "code",
      "source": [
        "# create alphabet set in a string\n",
        "alphabet = ''.join([ chr(c) for c in range(97, 123)])\n",
        "alphabet"
      ],
      "metadata": {
        "id": "wN9iOWRT6dWP",
        "outputId": "b2f49cb1-2a97-43d3-e0b0-b9610d2e077c",
        "colab": {
          "base_uri": "https://localhost:8080/",
          "height": 36
        }
      },
      "execution_count": null,
      "outputs": [
        {
          "output_type": "execute_result",
          "data": {
            "text/plain": [
              "'abcdefghijklmnopqrstuvwxyz'"
            ],
            "application/vnd.google.colaboratory.intrinsic+json": {
              "type": "string"
            }
          },
          "metadata": {},
          "execution_count": 19
        }
      ]
    },
    {
      "cell_type": "code",
      "source": [
        "#a : the first half using start:end\n",
        "mid = int(len(alphabet)/2)\n",
        "print(alphabet[0:mid])"
      ],
      "metadata": {
        "id": "wfk-WJLM6ENJ",
        "outputId": "5ddab247-abfe-41aa-885e-eeaa67fe10d0",
        "colab": {
          "base_uri": "https://localhost:8080/"
        }
      },
      "execution_count": null,
      "outputs": [
        {
          "output_type": "stream",
          "name": "stdout",
          "text": [
            "abcdefghijklm\n"
          ]
        }
      ]
    },
    {
      "cell_type": "code",
      "source": [
        "#b: 1st half using end index only\n",
        "print(alphabet[:mid])"
      ],
      "metadata": {
        "id": "QDbUQASC7GEj",
        "outputId": "ab020e29-dcc4-490c-d7fe-d0376303dc8c",
        "colab": {
          "base_uri": "https://localhost:8080/"
        }
      },
      "execution_count": null,
      "outputs": [
        {
          "output_type": "stream",
          "name": "stdout",
          "text": [
            "abcdefghijklm\n"
          ]
        }
      ]
    },
    {
      "cell_type": "code",
      "source": [
        "#c: 2nd half using start:end\n",
        "end = len(alphabet)\n",
        "print(alphabet[mid:end])\n",
        "#d: using start only\n",
        "print(alphabet[mid:])"
      ],
      "metadata": {
        "id": "dvFRZpbW7xJc",
        "outputId": "5e9ef459-9b46-4359-a326-f849f7705923",
        "colab": {
          "base_uri": "https://localhost:8080/"
        }
      },
      "execution_count": null,
      "outputs": [
        {
          "output_type": "stream",
          "name": "stdout",
          "text": [
            "nopqrstuvwxyz\n",
            "nopqrstuvwxyz\n"
          ]
        }
      ]
    },
    {
      "cell_type": "code",
      "source": [
        "#e: Every 2nd letter starting with 'a'\n",
        "print(alphabet[::2])\n",
        "# every 2nd letter starting with 'c'\n",
        "print(alphabet[2::2])"
      ],
      "metadata": {
        "id": "bFlIWvmC8GGz",
        "outputId": "66057de9-705d-4fd3-84a1-dccfbab1c870",
        "colab": {
          "base_uri": "https://localhost:8080/"
        }
      },
      "execution_count": null,
      "outputs": [
        {
          "output_type": "stream",
          "name": "stdout",
          "text": [
            "acegikmoqsuwy\n",
            "cegikmoqsuwy\n"
          ]
        }
      ]
    },
    {
      "cell_type": "code",
      "source": [
        "#f: entire string in reverse\n",
        "print(alphabet[::-1])"
      ],
      "metadata": {
        "id": "1-cUAgL38N_K"
      },
      "execution_count": null,
      "outputs": []
    },
    {
      "cell_type": "code",
      "source": [
        "#g: Every 3rd letter of the string starting with 'b'\n",
        "print(alphabet[1::3])\n",
        "\n",
        "#g: Every 3rd letter of the string in reverse starting with 'z'\n",
        "print(alphabet[::-3])"
      ],
      "metadata": {
        "id": "RewqHU7R8hxv",
        "outputId": "9eb98b11-5f0d-4e6c-98b2-505f580682dd",
        "colab": {
          "base_uri": "https://localhost:8080/"
        }
      },
      "execution_count": null,
      "outputs": [
        {
          "output_type": "stream",
          "name": "stdout",
          "text": [
            "behknqtwz\n",
            "zwtqnkheb\n"
          ]
        }
      ]
    },
    {
      "cell_type": "markdown",
      "source": [
        "### 5.6 Function Returning Tuples\n",
        "\n",
        "Define a function `rotate` that receives three arguments and returns a tuple in which the first argument is at index 1, the second argument is at index 2, and the third argument is at index 0. Define variables a, b and c containing 'Doug', 22 and 1984. Then call the functions three times. For each call, unpack its result into a, b and c, then display their values."
      ],
      "metadata": {
        "id": "Uk-Yn4Ir9t0e"
      }
    },
    {
      "cell_type": "code",
      "source": [
        "def rotate(a, b, c):\n",
        "  return (c, a, b)\n",
        "\n",
        "a, b, c = 'Doug', 22, 1984\n",
        "\n",
        "a, b, c = rotate(a, b, c)\n",
        "print(a, b, c)\n",
        "a, b, c = rotate(a, b, c)\n",
        "print(a, b, c)\n",
        "a, b, c = rotate(a, b, c)\n",
        "print(a, b, c)"
      ],
      "metadata": {
        "id": "AKxeO6pZ-Paa",
        "outputId": "e377b9c1-9ffe-4024-9bf9-f9597a0c16b7",
        "colab": {
          "base_uri": "https://localhost:8080/"
        }
      },
      "execution_count": null,
      "outputs": [
        {
          "output_type": "stream",
          "name": "stdout",
          "text": [
            "1984 Doug 22\n",
            "22 1984 Doug\n",
            "Doug 22 1984\n"
          ]
        }
      ]
    },
    {
      "cell_type": "markdown",
      "source": [
        "### 5.7 Eliminate Duplicate\n",
        "\n",
        "1. Create a function that receives a list and returns a (possibly shorter) list containing only the unique values. Test your function with a list of numbers and a list of strings."
      ],
      "metadata": {
        "id": "T1U07eDQ_S4b"
      }
    },
    {
      "cell_type": "code",
      "source": [
        "def remove_duplicate(X):\n",
        "  C = []\n",
        "  for x in X:\n",
        "    if x not in C: \n",
        "      C.append(x)\n",
        "  return C\n",
        "\n",
        "# test fun\n",
        "A = [3,9,0,0,9,7,3,0,-1]\n",
        "print(remove_duplicate(A))\n",
        "\n",
        "B = list(['apple']*3 + ['kiwi']*2 + ['a', 'z'])\n",
        "print(remove_duplicate(B))"
      ],
      "metadata": {
        "id": "9ZX0oDTt_jmf",
        "outputId": "ca1a21d6-30c3-4673-ba85-a96925bfd0ff",
        "colab": {
          "base_uri": "https://localhost:8080/"
        }
      },
      "execution_count": null,
      "outputs": [
        {
          "output_type": "stream",
          "name": "stdout",
          "text": [
            "[3, 9, 0, 7, -1]\n",
            "['apple', 'kiwi', 'a', 'z']\n"
          ]
        }
      ]
    },
    {
      "cell_type": "markdown",
      "source": [
        "2. Create a function that receives a list and returns a (possibly shorter) list containing only the **unique values in sorted order**. Test your function with a list of numbers and a list of strings."
      ],
      "metadata": {
        "id": "MQ8NbjS5AuIn"
      }
    },
    {
      "cell_type": "code",
      "source": [
        "def get_unique_asc(X):\n",
        "  '''take a numeric list X\n",
        "  return a list C having its unique values in ascending order\n",
        "  '''\n",
        "  # get distincts \n",
        "  C = []\n",
        "  for x in X:\n",
        "    if x not in C: \n",
        "      C.append(x)\n",
        "  return sorted(C) # descending: sorted(C,reverse=1)\n",
        "\n",
        "  # test fun\n",
        "A = [3,9,0,0,9,7,3,0,-1]\n",
        "print(get_unique_asc(A))\n",
        "\n",
        "B = list(['apple']*3 + ['kiwi']*2 + ['a', 'z'])\n",
        "print(get_unique_asc(B))"
      ],
      "metadata": {
        "id": "K5NU1Gc6Awd0",
        "outputId": "9c6ee304-d53d-464a-b52a-f864788a5822",
        "colab": {
          "base_uri": "https://localhost:8080/"
        }
      },
      "execution_count": null,
      "outputs": [
        {
          "output_type": "stream",
          "name": "stdout",
          "text": [
            "[9, 7, 3, 0, -1]\n",
            "['z', 'kiwi', 'apple', 'a']\n"
          ]
        }
      ]
    },
    {
      "cell_type": "markdown",
      "source": [
        "### 5.9 Palindrome Tester\n",
        "\n",
        "A string that reads the same backward as forward, like 'radar' is a palindrome. Write a function is_palindrome that takes a string and return True if it is a palindrome and False otherwise. **Your function should ignore case sensitiviety, spaces and punctuation.**\n",
        "\n",
        "The String's `isspace() method` returns True if there are only whitespace characters in the string"
      ],
      "metadata": {
        "id": "SLTurnssEssP"
      }
    },
    {
      "cell_type": "code",
      "source": [
        "# get punctuation list\n",
        "import string\n",
        "PUNC = string.punctuation\n",
        "print(PUNC)"
      ],
      "metadata": {
        "id": "cZLR_Wy5G0QA",
        "outputId": "c3c994f1-9427-4549-ab67-4f5af37f6537",
        "colab": {
          "base_uri": "https://localhost:8080/"
        }
      },
      "execution_count": null,
      "outputs": [
        {
          "output_type": "stream",
          "name": "stdout",
          "text": [
            "!\"#$%&'()*+,-./:;<=>?@[\\]^_`{|}~\n"
          ]
        }
      ]
    },
    {
      "cell_type": "code",
      "source": [
        "def is_palindrome(word):\n",
        "  # clean\n",
        "  S = list()\n",
        "  for c in word.lower():\n",
        "    if c not in PUNC and c.isspace()==False:\n",
        "      S.append(c)\n",
        "\n",
        "  # test\n",
        "  # return S == S[::-1]\n",
        "  N = len(S)\n",
        "  left, right = 0, N-1\n",
        "  while left < right and S[left] == S[right]:\n",
        "    left += 1\n",
        "    right -= 1\n",
        "\n",
        "  if left >= right:\n",
        "    return True  \n",
        "  else: \n",
        "    return False\n",
        "\n",
        "test_input = ['--Rad ar..','Ray', 'mad*am', '_madam_', '*1 **', '123', '1991']      \n",
        "for e in test_input:\n",
        "  print(is_palindrome(e))\n"
      ],
      "metadata": {
        "id": "3gRc7e2IFPxU",
        "outputId": "b34eb670-63aa-4033-dd96-3204dcc94e63",
        "colab": {
          "base_uri": "https://localhost:8080/"
        }
      },
      "execution_count": null,
      "outputs": [
        {
          "output_type": "stream",
          "name": "stdout",
          "text": [
            "True\n",
            "False\n",
            "True\n",
            "True\n",
            "True\n",
            "False\n",
            "True\n"
          ]
        }
      ]
    },
    {
      "cell_type": "markdown",
      "source": [
        "### 5.12 Telephone number word generator\n",
        "\n",
        "Given a 7-digit number, returns every possible seven-letter word combination according to the given mapping rules:\n",
        "\n",
        "```\n",
        "2:('A', 'B', 'C')\n",
        "3:('D', 'E', 'F')\n",
        "4:('G', 'H', 'I')\n",
        "5:('J', 'K', 'L') \n",
        "6:('M', 'N', 'O') \n",
        "7:('P', 'R', 'S') \n",
        "8:('T', 'U', 'V') \n",
        "9:('W', 'X', 'Y')\n",
        "```\n",
        "\n",
        "For example, `244-3282` has a combination `BIGDATA`. Each phone number has 2,187 ($3^7$) combinations. \n",
        "\n",
        "Avoid phone numbers with the digits 0 and 1 (no associated letters) which will raise `KeyError`."
      ],
      "metadata": {
        "id": "WEdTYIDYLAQX"
      }
    },
    {
      "cell_type": "code",
      "source": [
        "# Mapping table in associated array\n",
        "DIGITS = [2, 3, 4, 5, 6, 7, 8, 9]\n",
        "LETTERS =[ # a list of tuples\n",
        "('A', 'B', 'C'),\n",
        "('D', 'E', 'F'),\n",
        "('G', 'H', 'I'),\n",
        "('J', 'K', 'L'),\n",
        "('M', 'N', 'O'), \n",
        "('P', 'R', 'S'),\n",
        "('T', 'U', 'V'), \n",
        "('W', 'X', 'Y')\n",
        "]\n",
        "\n",
        "def generate_words(phone):\n",
        "  # 1. remove -\n",
        "  phone = phone.replace('-', '')\n",
        "  print(phone)\n",
        "  # 2. collect all 7 letter sets in order\n",
        "  letter_set = []\n",
        "  try:\n",
        "    for d in phone:\n",
        "      ind = DIGITS.index(int(d))\n",
        "      letter_set.append(LETTERS[ind])  \n",
        "  except KeyError as e:\n",
        "    print('The app does not take a number with the digits 0 and 1.')\n",
        "    return\n",
        "  # print 7 letter sets\n",
        "  print(letter_set)\n",
        "\n",
        "  # 3. use generator expression (lazy evaluation)\n",
        "  words = ( # makes an iterable generator object\n",
        "      ''.join([w0, w1, w2, w3, w4, w5, w6])\n",
        "      for w0 in letter_set[0]\n",
        "      for w1 in letter_set[1]\n",
        "      for w2 in letter_set[2]\n",
        "      for w3 in letter_set[3]\n",
        "      for w4 in letter_set[4]\n",
        "      for w5 in letter_set[5]\n",
        "      for w6 in letter_set[6]\n",
        "  )\n",
        "  return words \n",
        "  \n",
        "\n",
        "# test run\n",
        "words = generate_words('244-3282')\n",
        "result = list(words)\n",
        "first, last = 0, 2186\n",
        "print(result[0], result[last])\n",
        "# print first 10 words\n",
        "i = 0\n",
        "for w in result:\n",
        "  i += 1\n",
        "  if i < 10:\n",
        "    print(w)\n",
        "  "
      ],
      "metadata": {
        "id": "V5ComK84ONXm",
        "outputId": "47ea2b46-ac40-40cd-b457-3837888dcd63",
        "colab": {
          "base_uri": "https://localhost:8080/"
        }
      },
      "execution_count": 99,
      "outputs": [
        {
          "output_type": "stream",
          "name": "stdout",
          "text": [
            "2443282\n",
            "[('A', 'B', 'C'), ('G', 'H', 'I'), ('G', 'H', 'I'), ('D', 'E', 'F'), ('A', 'B', 'C'), ('T', 'U', 'V'), ('A', 'B', 'C')]\n",
            "AGGDATA CIIFCVC\n",
            "AGGDATA\n",
            "AGGDATB\n",
            "AGGDATC\n",
            "AGGDAUA\n",
            "AGGDAUB\n",
            "AGGDAUC\n",
            "AGGDAVA\n",
            "AGGDAVB\n",
            "AGGDAVC\n"
          ]
        }
      ]
    },
    {
      "cell_type": "markdown",
      "source": [
        "Using Dictionary"
      ],
      "metadata": {
        "id": "4XcX1jDCOO2P"
      }
    },
    {
      "cell_type": "code",
      "source": [
        "# Mapping table in a dictionary \n",
        "LOOKUP = {\n",
        "2:('A', 'B', 'C'),\n",
        "3:('D', 'E', 'F'),\n",
        "4:('G', 'H', 'I'),\n",
        "5:('J', 'K', 'L'),\n",
        "6:('M', 'N', 'O'), \n",
        "7:('P', 'R', 'S'),\n",
        "8:('T', 'U', 'V'), \n",
        "9:('W', 'X', 'Y'),\n",
        "}\n"
      ],
      "metadata": {
        "id": "pwLRuBk3M4fS"
      },
      "execution_count": null,
      "outputs": []
    }
  ]
}