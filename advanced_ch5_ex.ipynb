{
  "nbformat": 4,
  "nbformat_minor": 0,
  "metadata": {
    "colab": {
      "provenance": [],
      "authorship_tag": "ABX9TyOJJauHNFvm1ZttcEstSONK",
      "include_colab_link": true
    },
    "kernelspec": {
      "name": "python3",
      "display_name": "Python 3"
    },
    "language_info": {
      "name": "python"
    }
  },
  "cells": [
    {
      "cell_type": "markdown",
      "metadata": {
        "id": "view-in-github",
        "colab_type": "text"
      },
      "source": [
        "<a href=\"https://colab.research.google.com/github/remjw/data/blob/master/advanced_ch5_ex.ipynb\" target=\"_parent\"><img src=\"https://colab.research.google.com/assets/colab-badge.svg\" alt=\"Open In Colab\"/></a>"
      ]
    },
    {
      "cell_type": "markdown",
      "source": [
        "5.3 Given a list of heights in inches, the code maps the list to a list of tuples containing original height values and their corresponding values in meters. There are 0.0254 meters per inch. For example,  the height 69 inches in the given list should be mapped to a tuple (69, 1.7526) in the new list. "
      ],
      "metadata": {
        "id": "WO2_hYSzvHe4"
      }
    },
    {
      "cell_type": "code",
      "execution_count": null,
      "metadata": {
        "colab": {
          "base_uri": "https://localhost:8080/"
        },
        "id": "ExLbMJHIup6Z",
        "outputId": "7154e8cb-06d2-4c9e-e85d-e4a27e0bc456"
      },
      "outputs": [
        {
          "output_type": "execute_result",
          "data": {
            "text/plain": [
              "[(69, 1.7526), (77, 1.9558), (54, 1.3716)]"
            ]
          },
          "metadata": {},
          "execution_count": 6
        }
      ],
      "source": [
        "# 1. using list comprehension\n",
        "[ (x, x * 0.0254) for x in [69, 77, 54] ]"
      ]
    },
    {
      "cell_type": "code",
      "source": [
        "# 2. using map function \n",
        "list( map(lambda x: (x, x * 0.0254), [69, 77, 54]) ) "
      ],
      "metadata": {
        "colab": {
          "base_uri": "https://localhost:8080/"
        },
        "id": "SZ0w8W0-v_pA",
        "outputId": "2fdb479d-345e-4b6a-bc72-2307446ebae7"
      },
      "execution_count": null,
      "outputs": [
        {
          "output_type": "execute_result",
          "data": {
            "text/plain": [
              "[(69, 1.7526), (77, 1.9558), (54, 1.3716)]"
            ]
          },
          "metadata": {},
          "execution_count": 9
        }
      ]
    },
    {
      "cell_type": "markdown",
      "source": [
        "5.4 Create a 2-by-3 list, then use a nested loop to:\n",
        "\n",
        "- Set each element's value to an integer indicating the order in which it was processed by the nested loop.\n",
        "\n",
        "- Display the elements in tabular format. Use column indexes as headings across the top, and the row indices to the left of each row."
      ],
      "metadata": {
        "id": "vyNwNHVNxArZ"
      }
    },
    {
      "cell_type": "code",
      "source": [
        "N_row, N_col = 2, 3\n",
        "X = [[0 for i in range(N_col)] for j in range(N_row)]\n",
        "\n",
        "order = 0\n",
        "for i in range(N_row):\n",
        "  for j in range(N_col):\n",
        "    order += 1\n",
        "    X[i][j] = order\n",
        "\n",
        "# display\n",
        "for j in range(N_col):\n",
        "  print(f'\\t[{j}]', end='') \n",
        "\n",
        "for i in range(N_row):\n",
        "  print()\n",
        "  print(f'[{i}]', end='')\n",
        "  for j in range(N_col):\n",
        "    print(f'\\t {X[i][j]}', end='') \n"
      ],
      "metadata": {
        "id": "sxDnRHdZxaz2",
        "outputId": "f1947cf9-3b6f-4a5e-d38d-e383a59418d1",
        "colab": {
          "base_uri": "https://localhost:8080/"
        }
      },
      "execution_count": 14,
      "outputs": [
        {
          "output_type": "stream",
          "name": "stdout",
          "text": [
            "\t[0]\t[1]\t[2]\n",
            "[0]\t 1\t 2\t 3\n",
            "[1]\t 4\t 5\t 6"
          ]
        }
      ]
    }
  ]
}