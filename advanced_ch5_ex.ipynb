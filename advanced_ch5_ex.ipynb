{
  "nbformat": 4,
  "nbformat_minor": 0,
  "metadata": {
    "colab": {
      "provenance": [],
      "authorship_tag": "ABX9TyPnyri9ECtcPlBCDSVTfIv5",
      "include_colab_link": true
    },
    "kernelspec": {
      "name": "python3",
      "display_name": "Python 3"
    },
    "language_info": {
      "name": "python"
    }
  },
  "cells": [
    {
      "cell_type": "markdown",
      "metadata": {
        "id": "view-in-github",
        "colab_type": "text"
      },
      "source": [
        "<a href=\"https://colab.research.google.com/github/remjw/data/blob/master/advanced_ch5_ex.ipynb\" target=\"_parent\"><img src=\"https://colab.research.google.com/assets/colab-badge.svg\" alt=\"Open In Colab\"/></a>"
      ]
    },
    {
      "cell_type": "markdown",
      "source": [
        "5.3 Given a list of heights in inches, the code maps the list to a list of tuples containing original height values and their corresponding values in meters. There are 0.0254 meters per inch. For example,  the height 69 inches in the given list should be mapped to a tuple (69, 1.7526) in the new list. "
      ],
      "metadata": {
        "id": "WO2_hYSzvHe4"
      }
    },
    {
      "cell_type": "code",
      "execution_count": 6,
      "metadata": {
        "colab": {
          "base_uri": "https://localhost:8080/"
        },
        "id": "ExLbMJHIup6Z",
        "outputId": "7154e8cb-06d2-4c9e-e85d-e4a27e0bc456"
      },
      "outputs": [
        {
          "output_type": "execute_result",
          "data": {
            "text/plain": [
              "[(69, 1.7526), (77, 1.9558), (54, 1.3716)]"
            ]
          },
          "metadata": {},
          "execution_count": 6
        }
      ],
      "source": [
        "# 1. using list comprehension\n",
        "[ (x, x * 0.0254) for x in [69, 77, 54] ]"
      ]
    },
    {
      "cell_type": "code",
      "source": [
        "# 2. using map function \n",
        "list( map(lambda x: (x, x * 0.0254), [69, 77, 54]) ) "
      ],
      "metadata": {
        "colab": {
          "base_uri": "https://localhost:8080/"
        },
        "id": "SZ0w8W0-v_pA",
        "outputId": "2fdb479d-345e-4b6a-bc72-2307446ebae7"
      },
      "execution_count": 9,
      "outputs": [
        {
          "output_type": "execute_result",
          "data": {
            "text/plain": [
              "[(69, 1.7526), (77, 1.9558), (54, 1.3716)]"
            ]
          },
          "metadata": {},
          "execution_count": 9
        }
      ]
    }
  ]
}