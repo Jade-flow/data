{
  "nbformat": 4,
  "nbformat_minor": 0,
  "metadata": {
    "colab": {
      "provenance": [],
      "authorship_tag": "ABX9TyMcpRaMQGmrao41Eow/Rppx",
      "include_colab_link": true
    },
    "kernelspec": {
      "name": "python3",
      "display_name": "Python 3"
    },
    "language_info": {
      "name": "python"
    }
  },
  "cells": [
    {
      "cell_type": "markdown",
      "metadata": {
        "id": "view-in-github",
        "colab_type": "text"
      },
      "source": [
        "<a href=\"https://colab.research.google.com/github/remjw/data/blob/master/data/more-on-inheritance-syntax.ipynb\" target=\"_parent\"><img src=\"https://colab.research.google.com/assets/colab-badge.svg\" alt=\"Open In Colab\"/></a>"
      ]
    },
    {
      "cell_type": "markdown",
      "source": [
        "# **More on OOP Concepts: Inheritance & Polymorphism**\n",
        "\n"
      ],
      "metadata": {
        "id": "JtNOQ5v7Q6Q6"
      }
    },
    {
      "cell_type": "markdown",
      "source": [
        "## **What an empty Python's class object has?**\n",
        "\n",
        "- Define an empty class A. \n",
        "- Access its (hidden) `__dict__ attribute`. \n",
        "- It displays a dictionary of all the A's **writable attributes**."
      ],
      "metadata": {
        "id": "we_vIVrkkpzr"
      }
    },
    {
      "cell_type": "code",
      "source": [
        "class A:\n",
        "  pass\n",
        "\n",
        "\n",
        "print(A.__dict__)"
      ],
      "metadata": {
        "colab": {
          "base_uri": "https://localhost:8080/"
        },
        "id": "1SabW8uMkiFe",
        "outputId": "dcf2a643-3d7f-4dbb-9f59-03f4dac695d5"
      },
      "execution_count": 63,
      "outputs": [
        {
          "output_type": "execute_result",
          "data": {
            "text/plain": [
              "mappingproxy({'__module__': '__main__',\n",
              "              '__dict__': <attribute '__dict__' of 'A' objects>,\n",
              "              '__weakref__': <attribute '__weakref__' of 'A' objects>,\n",
              "              '__doc__': None})"
            ]
          },
          "metadata": {},
          "execution_count": 63
        }
      ]
    },
    {
      "cell_type": "markdown",
      "source": [
        "## In Python, **a child inherits everything from its parent.**\n",
        "\n",
        "**Everything means every attribute and every method.**\n",
        "\n",
        "See A and B defined in the cell below. \n",
        "- A and B are two types of model (entity, object, category, cookie cutter, template, blueprint, machine, device, and so on).\n",
        "- A has a public, global attribute `delimit`, line break character for print\n",
        "- A customizes (*overrides*) the Python's default contructor `__init__` and `__str__` method for a class object.\n",
        "- B inherits A. \n",
        "- B literally is ***empty***; it does not define anything itself. \n",
        "- In this case, B is simply a *replicate of A*."
      ],
      "metadata": {
        "id": "25-A_GdnN9iP"
      }
    },
    {
      "cell_type": "code",
      "source": [
        "from datetime import datetime\n",
        "\n",
        "# parent\n",
        "class A:\n",
        "  \n",
        "  line = '\\n'\n",
        "\n",
        "  def __init__(self):\n",
        "    print(f'{self.line}{datetime.now()}: initializing a new instance of {self.__class__.__name__}')\n",
        "    return \n",
        "\n",
        "  def __str__(self): # return object in dict format\n",
        "    return f\"{self.line}{datetime.now()}: state {self.__dict__}\" \n",
        "\n",
        "# child\n",
        "class B(A):\n",
        "  pass\n",
        "\n",
        "# test A\n",
        "a = A()\n",
        "print(a)\n",
        "\n",
        "# test B\n",
        "b = B()\n",
        "print(b)"
      ],
      "metadata": {
        "colab": {
          "base_uri": "https://localhost:8080/"
        },
        "id": "LsFkG7TTN77h",
        "outputId": "157f5385-b402-495e-99ce-581107f3ab67"
      },
      "execution_count": 59,
      "outputs": [
        {
          "output_type": "stream",
          "name": "stdout",
          "text": [
            "\n",
            "2023-04-07 16:22:32.888245: initializing a new instance of A\n",
            "\n",
            "2023-04-07 16:22:32.890219: state {}\n",
            "\n",
            "2023-04-07 16:22:32.891867: initializing a new instance of B\n",
            "\n",
            "2023-04-07 16:22:32.892544: state {}\n"
          ]
        }
      ]
    },
    {
      "cell_type": "markdown",
      "source": [
        "# **Writable Attributes**\n",
        "\n",
        "**`A.line` is not included in the hidden `__dict__` attribute object of `A`.** The reason is the **`__dict__` attribute only includes the object's writable attribtues.**\n",
        "\n"
      ],
      "metadata": {
        "id": "swCYmTR7iQDf"
      }
    },
    {
      "cell_type": "code",
      "source": [
        "# To list all the default properties of Python' class object type\n",
        "A.__dict__"
      ],
      "metadata": {
        "colab": {
          "base_uri": "https://localhost:8080/"
        },
        "id": "BAlybpYbiO4Q",
        "outputId": "14010093-91a4-4ce6-8540-d9dbdf981656"
      },
      "execution_count": 62,
      "outputs": [
        {
          "output_type": "execute_result",
          "data": {
            "text/plain": [
              "mappingproxy({'__module__': '__main__',\n",
              "              'line': '\\n',\n",
              "              '__init__': <function __main__.A.__init__(self)>,\n",
              "              '__str__': <function __main__.A.__str__(self)>,\n",
              "              '__dict__': <attribute '__dict__' of 'A' objects>,\n",
              "              '__weakref__': <attribute '__weakref__' of 'A' objects>,\n",
              "              '__doc__': None})"
            ]
          },
          "metadata": {},
          "execution_count": 62
        }
      ]
    },
    {
      "cell_type": "markdown",
      "source": [
        "## Next, make B1.\n",
        "\n",
        "See the code cell below the text.\n",
        "\n",
        "- B1 inherits A.\n",
        "- B1 has its own attributes:\n",
        "    - Two public attributes `alpha` and `theta` are initially set to null. This implies they are **optional attributes**.\n",
        "    - The public attribute `star` is defined in the constructor as required in instantiating a new instance. This implies it is **mandatory attribute**.\n",
        "\n",
        "\n",
        "- B1 has its own peculiar method `set_star_location` as the setters for `alpha` and `theta`.\n",
        "\n",
        "- B1 extends its parent version of the constructor `__init__`, initialize the `star` attribute. This is referred to as method overloading or overriding, which implements *Polymorphism*.\n",
        "\n",
        "**Pay attention to the use of `super` function here:**\n",
        "\n",
        "> Using `super function` in method overriding to replicate the parent's version of the method.\n",
        "\n",
        "> In B1's constructor: to replicate A's constructor, use the expression \n",
        "\n",
        "`super().__init__()` \n",
        "\n",
        "to invoke A's constructor. After that, we can define attributes and write any special actions which should be done when initializing a new instance of B1.\n"
      ],
      "metadata": {
        "id": "O8I3IcNPWKTQ"
      }
    },
    {
      "cell_type": "code",
      "source": [
        "# child\n",
        "class B1(A):\n",
        "\n",
        "  alpha, theta = None, None # optional attributes\n",
        " \n",
        "  \n",
        "  def __init__(self, star):\n",
        "    super().__init__()\n",
        "    print(f'B1 has to do more for each new instance...')\n",
        "    self.star = star # mandatory attribute\n",
        "    return\n",
        "\n",
        "  def get_star_state(self):\n",
        "    return f'{self.delimit} {self.__str__()}'  \n",
        "  \n",
        "  def set_star_location(self): # setter\n",
        "    self.alpha, self.theta = [ \n",
        "        float(v) \n",
        "        for v in input(\"\\nEnter the location (separate two numbers by space):\").split() \n",
        "        ]\n",
        "    print(self.get_star_state())\n",
        "    return\n",
        "\n",
        "\n",
        "# test B1\n",
        "b1 = B1('the Sun')\n",
        "state0 = b1.get_star_state()\n",
        "print(state0)\n",
        "\n",
        "b1.set_star_location()\n",
        "state1 = b1.get_star_state()\n",
        "print(state1)\n"
      ],
      "metadata": {
        "colab": {
          "base_uri": "https://localhost:8080/"
        },
        "id": "CugB6TIZTfhN",
        "outputId": "eeeb0d63-cd56-4594-c656-0db3f9853b26"
      },
      "execution_count": 56,
      "outputs": [
        {
          "output_type": "stream",
          "name": "stdout",
          "text": [
            "2023-04-07 16:14:56.400580: initializing a new instance of B1\n",
            "B1 has to do more for each new instance...\n",
            "\n",
            " 2023-04-07 16:14:56.404884: state {'star': 'the Sun'}\n",
            "\n",
            "Enter the location (separate two numbers by space):7 8\n",
            "\n",
            " 2023-04-07 16:15:28.130071: state {'star': 'the Sun', 'alpha': 7.0, 'theta': 8.0}\n",
            "\n",
            " 2023-04-07 16:15:28.131186: state {'star': 'the Sun', 'alpha': 7.0, 'theta': 8.0}\n"
          ]
        }
      ]
    },
    {
      "cell_type": "markdown",
      "source": [
        "# **What did ChatGPT tell me this morning?**\n",
        "\n",
        "Polymorphism is the ability of **objects to take on different forms and behave in different ways based on the context in which they are used**. In object-oriented programming, polymorphism allows objects of different classes to be treated as if they were of the same class, allowing code to be written that can work with objects of multiple types without needing to know their specific type in advance.\n",
        "\n",
        "In Python, polymorphism can be achieved through the **use of inheritance** and **method overriding**. Method overriding allows a subclass to provide a different implementation of a method that is already defined in its superclass. This allows the same method name to be used for different classes, with each class providing its own implementation.\n",
        "\n",
        "Here is an example:"
      ],
      "metadata": {
        "id": "8hyUf8sM5qaY"
      }
    },
    {
      "cell_type": "markdown",
      "source": [],
      "metadata": {
        "id": "ZsUvoQv36r4w"
      }
    },
    {
      "cell_type": "code",
      "execution_count": 1,
      "metadata": {
        "colab": {
          "base_uri": "https://localhost:8080/"
        },
        "id": "KZjh47Dc5pOx",
        "outputId": "e3ba1001-91bf-4a4e-8e5b-e12e92e2003c"
      },
      "outputs": [
        {
          "output_type": "stream",
          "name": "stdout",
          "text": [
            "Woof!\n",
            "Meow!\n"
          ]
        }
      ],
      "source": [
        "# (is it ruby code?) (the same as python code)\n",
        "\n",
        "class Animal:\n",
        "    def make_sound(self):\n",
        "        pass\n",
        "\n",
        "class Dog(Animal):\n",
        "    def make_sound(self):\n",
        "        print(\"Woof!\")\n",
        "\n",
        "class Cat(Animal):\n",
        "    def make_sound(self):\n",
        "        print(\"Meow!\")\n",
        "\n",
        "def animal_sounds(animal):\n",
        "    animal.make_sound()\n",
        "\n",
        "dog = Dog()\n",
        "cat = Cat()\n",
        "\n",
        "animal_sounds(dog) # Output: \"Woof!\"\n",
        "animal_sounds(cat) # Output: \"Meow!\"\n"
      ]
    },
    {
      "cell_type": "markdown",
      "source": [
        "In this example, we have a base class Animal with a method make_sound that is not implemented. We then have two subclasses, Dog and Cat, which both inherit from Animal and override the make_sound method with their own implementation.\n",
        "\n",
        "We also have a function animal_sounds that takes an Animal object as its argument and calls its make_sound method. This function can be called with objects of any subclass of Animal, and the appropriate sound will be made based on the actual type of the object.\n",
        "\n",
        "Thus, the code demonstrates polymorphism in action, as objects of different classes (i.e., Dog and Cat) are being treated as if they were of the same class (Animal) and can be used interchangeably."
      ],
      "metadata": {
        "id": "Kh7iC9w257PV"
      }
    },
    {
      "cell_type": "markdown",
      "source": [
        "## What I want to append here is about `super` function as well as overloading the child's version of a method.\n",
        "\n",
        "Regarding the terms for two roles in an inheritance relationship, I prefer ***parent*** and ***child*** than *superclass* and *subclass* \n",
        "\n",
        "- Using **super function** in method overriding to replicate the parent's version of the method. \n",
        "\n",
        "\n",
        "Assume \n",
        "\n",
        "- Make a class A. A has a method `breakfast`.\n",
        "- Make a class B which inherits A. \n",
        "- A is parent, B is child.\n",
        "- Besides the actions in A's breakfast, B requires special treats. So, make a child version of `breakfast`, B's breakfast, to overload A's breakfast, i.e., enabling `more peculiar behaviors for the child`.\n",
        "\n",
        "- In B's breakfast: to replicate A's breakfast, use the expression `super().breakfast(food_list)` to invoke A's breakfast. After that, you can write special treats which are only for B.\n",
        "\n",
        "See the following code.\n",
        "\n"
      ],
      "metadata": {
        "id": "koV6E7O06ybv"
      }
    },
    {
      "cell_type": "code",
      "source": [
        "from datetime import datetime\n",
        "\n",
        "# parent\n",
        "class A:\n",
        "  def __init__(self):\n",
        "    print(f'initializing a new instance of {self.__class__.__name__}')\n",
        "    return \n",
        "\n",
        "  def __str__(self): # return object in dict format\n",
        "    timestamp = datetime.now() \n",
        "    return f\"instance state at {timestamp} : {self.__dict__}\" \n",
        "\n",
        "  def breakfast(self, food_list):\n",
        "    print(\"having breakfast ...\", end=\"\")\n",
        "    for f in food_list:\n",
        "      print(f, end=\" \")\n",
        "    return   \n",
        "\n",
        "# test A\n",
        "a = A()\n",
        "print(a)\n",
        "a.breakfast(['water', 'egg', 'coffee', 'milk'])"
      ],
      "metadata": {
        "colab": {
          "base_uri": "https://localhost:8080/"
        },
        "id": "9Pg1ibrzFLe-",
        "outputId": "03235c6f-487d-45fa-d8d3-a9bfaecef374"
      },
      "execution_count": 15,
      "outputs": [
        {
          "output_type": "stream",
          "name": "stdout",
          "text": [
            "initializing a new instance of A\n",
            "instance state at 2023-04-07 14:36:00.864151 : {}\n",
            "having breakfast ...water egg coffee milk "
          ]
        }
      ]
    },
    {
      "cell_type": "code",
      "source": [
        "class Animal:\n",
        "    def make_sound(self):\n",
        "        pass\n",
        "\n",
        "class Dog(Animal):\n",
        "    def make_sound(self):\n",
        "        print(\"Woof!\")\n",
        "\n",
        "class Cat(Animal):\n",
        "    def make_sound(self):\n",
        "        print(\"Meow!\")\n",
        "\n",
        "def animal_sounds(animal):\n",
        "    animal.make_sound()\n",
        "\n",
        "dog = Dog()\n",
        "cat = Cat()\n",
        "\n",
        "animal_sounds(dog) # Output: \"Woof!\"\n",
        "animal_sounds(cat) # Output: \"Meow!\""
      ],
      "metadata": {
        "id": "e9IrtmYY-i2L"
      },
      "execution_count": null,
      "outputs": []
    }
  ]
}